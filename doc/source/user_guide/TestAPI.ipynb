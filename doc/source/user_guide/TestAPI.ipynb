{
 "cells": [
  {
   "cell_type": "markdown",
   "metadata": {},
   "source": [
    "# Quick Start"
   ]
  },
  {
   "cell_type": "code",
   "execution_count": 2,
   "metadata": {},
   "outputs": [],
   "source": [
    "from oda_api.api import DispatcherAPI\n",
    "from oda_api.plot_tools import OdaImage,OdaLightCurve\n",
    "from oda_api.data_products import BinaryData\n",
    "import os\n",
    "#%matplotlib notebook\n"
   ]
  },
  {
   "cell_type": "markdown",
   "metadata": {},
   "source": [
    "## Connection to the dispatcher "
   ]
  },
  {
   "cell_type": "markdown",
   "metadata": {},
   "source": [
    "### build the dispatcher object"
   ]
  },
  {
   "cell_type": "code",
   "execution_count": 3,
   "metadata": {},
   "outputs": [],
   "source": [
    "host='analyse-staging-1.2.reproducible.online'\n",
    "\n",
    "#locally stored token\n",
    "#cookies=dict(_oauth2_proxy=open(os.environ.get('HOME')+'/.oda-api-token').read().strip())\n",
    "\n",
    "#interactive usage \n",
    "if host=='analyse-staging-1.2.reproducible.online':\n",
    "    try:\n",
    "        token=raw_input() # token for restricted access server\n",
    "    except:\n",
    "        token=input() # token for restricted access server\n",
    "else:\n",
    "    token=''\n",
    "\n",
    "cookies=dict(_oauth2_proxy=token)\n",
    "disp=DispatcherAPI(host='analyse-staging-1.2.reproducible.online/dispatch-data',instrument='mock',cookies=cookies,protocol='https')\n"
   ]
  },
  {
   "cell_type": "code",
   "execution_count": 4,
   "metadata": {
    "scrolled": false
   },
   "outputs": [
    {
     "name": "stdout",
     "output_type": "stream",
     "text": [
      "isgri\n",
      "jemx\n",
      "polar\n",
      "spi_acs\n"
     ]
    }
   ],
   "source": [
    "instr_list=disp.get_instruments_list()\n",
    "for i in instr_list:\n",
    "    print (i)"
   ]
  },
  {
   "cell_type": "code",
   "execution_count": null,
   "metadata": {},
   "outputs": [],
   "source": []
  },
  {
   "cell_type": "markdown",
   "metadata": {},
   "source": [
    "### get the description of the instrument"
   ]
  },
  {
   "cell_type": "code",
   "execution_count": 5,
   "metadata": {},
   "outputs": [
    {
     "name": "stdout",
     "output_type": "stream",
     "text": [
      "\n",
      "--------------\n",
      "instrumet: isgri\n",
      "\n",
      "--------------\n",
      "query_name: src_query\n",
      " name: src_name,  value: test,  units: str, \n",
      " name: RA,  value: 0.0,  units: deg, \n",
      " name: DEC,  value: 0.0,  units: deg, \n",
      " name: T1,  value: 2001-12-11T00:00:00.000,  units: None, \n",
      " name: T2,  value: 2001-12-11T00:00:00.000,  units: None, \n",
      "\n",
      "--------------\n",
      "query_name: isgri_parameters\n",
      " name: user_catalog,  value: None,  units: str, \n",
      " name: scw_list,  value: [],  units: names_list, \n",
      " name: radius,  value: 5.0,  units: deg, \n",
      " name: max_pointings,  value: 50,  units: None, \n",
      " name: osa_version,  value: None,  units: str, \n",
      " name: E1_keV,  value: 10.0,  units: keV, \n",
      " name: E2_keV,  value: 40.0,  units: keV, \n",
      "\n",
      "--------------\n",
      "query_name: isgri_image_query\n",
      " product_name: isgri_image\n",
      " name: detection_threshold,  value: 0.0,  units: sigma, \n",
      " name: image_scale_min,  value: None,  units: None, \n",
      " name: image_scale_max,  value: None,  units: None, \n",
      "\n",
      "--------------\n",
      "query_name: isgri_spectrum_query\n",
      " product_name: isgri_spectrum\n",
      "\n",
      "--------------\n",
      "query_name: isgri_lc_query\n",
      " product_name: isgri_lc\n",
      " name: time_bin,  value: 1000.0,  units: sec, \n",
      "\n",
      "--------------\n",
      "query_name: spectral_fit_query\n",
      " product_name: spectral_fit\n",
      " name: xspec_model,  value: powerlaw,  units: str, \n",
      " name: ph_file_name,  value: ,  units: str, \n",
      " name: arf_file_name,  value: ,  units: str, \n",
      " name: rmf_file_name,  value: ,  units: str, \n"
     ]
    }
   ],
   "source": [
    "disp.get_instrument_description('isgri')"
   ]
  },
  {
   "cell_type": "markdown",
   "metadata": {},
   "source": [
    "### get the description of the product\n"
   ]
  },
  {
   "cell_type": "code",
   "execution_count": 6,
   "metadata": {},
   "outputs": [
    {
     "name": "stdout",
     "output_type": "stream",
     "text": [
      "--------------\n",
      "parameters for  product isgri_image and instrument isgri\n",
      "\n",
      "--------------\n",
      "instrumet: isgri\n",
      "\n",
      "--------------\n",
      "query_name: src_query\n",
      " name: src_name,  value: test,  units: str, \n",
      " name: RA,  value: 0.0,  units: deg, \n",
      " name: DEC,  value: 0.0,  units: deg, \n",
      " name: T1,  value: 2001-12-11T00:00:00.000,  units: None, \n",
      " name: T2,  value: 2001-12-11T00:00:00.000,  units: None, \n",
      "\n",
      "--------------\n",
      "query_name: isgri_parameters\n",
      " name: user_catalog,  value: None,  units: str, \n",
      " name: scw_list,  value: [],  units: names_list, \n",
      " name: radius,  value: 5.0,  units: deg, \n",
      " name: max_pointings,  value: 50,  units: None, \n",
      " name: osa_version,  value: None,  units: str, \n",
      " name: E1_keV,  value: 10.0,  units: keV, \n",
      " name: E2_keV,  value: 40.0,  units: keV, \n",
      "\n",
      "--------------\n",
      "query_name: isgri_image_query\n",
      " product_name: isgri_image\n",
      " name: detection_threshold,  value: 0.0,  units: sigma, \n",
      " name: image_scale_min,  value: None,  units: None, \n",
      " name: image_scale_max,  value: None,  units: None, \n"
     ]
    }
   ],
   "source": [
    "disp.get_product_description(instrument='isgri',product_name='isgri_image')"
   ]
  },
  {
   "cell_type": "markdown",
   "metadata": {},
   "source": [
    "### check query before submission\n",
    "we pass 'dry_run' to check if the request is correct without actually submitting it"
   ]
  },
  {
   "cell_type": "code",
   "execution_count": 7,
   "metadata": {},
   "outputs": [
    {
     "name": "stdout",
     "output_type": "stream",
     "text": [
      "waiting for remote response, please wait run_analysis http://10.194.169.161:32784\n",
      "\r\n",
      "\n",
      "query failed!\n",
      "Remote server message:-> failed: setting form parameters\n",
      "Remote server error_message-> ValueError(u\"Invalid character at col 0 in angle u'a'\",)\n",
      "Remote server debug_message-> \n"
     ]
    },
    {
     "ename": "SystemExit",
     "evalue": "RemoteException (line 47): Remote analysis exception",
     "traceback": [
      "An exception has occurred, use %tb to see the full traceback.\n",
      "\u001b[0;31mSystemExit\u001b[0m\u001b[0;31m:\u001b[0m RemoteException (line 47): Remote analysis exception\n"
     ],
     "output_type": "error"
    },
    {
     "name": "stderr",
     "output_type": "stream",
     "text": [
      "/Users/orion/anaconda3/lib/python3.7/site-packages/IPython/core/interactiveshell.py:3275: UserWarning: To exit: use 'exit', 'quit', or Ctrl-D.\n",
      "  warn(\"To exit: use 'exit', 'quit', or Ctrl-D.\", stacklevel=1)\n"
     ]
    }
   ],
   "source": [
    "data=disp.get_product(instrument='isgri',\n",
    "                      product='isgri_image',\n",
    "                      T1='2003-03-15T23:27:40.0',\n",
    "                      T2='2003-03-16T00:03:12.0',\n",
    "                      osa_version='OSA10.2',\n",
    "                      RA='a',\n",
    "                      DEC=-37.844167,\n",
    "                      detection_threshold=5.0,\n",
    "                      radius=15.,\n",
    "                      product_type='Real',\n",
    "                      dry_run=True)"
   ]
  },
  {
   "cell_type": "markdown",
   "metadata": {},
   "source": [
    "## Get ODA products\n",
    "now we skip the dry_run to actually get the products"
   ]
  },
  {
   "cell_type": "code",
   "execution_count": 8,
   "metadata": {
    "scrolled": false
   },
   "outputs": [
    {
     "name": "stdout",
     "output_type": "stream",
     "text": [
      "waiting for remote response, please wait run_analysis http://10.194.169.161:32784\n",
      "the job has been submitted on the remote server\n",
      " | the job is working remotely, please wait status=done - job_id=-6235342954244489107 \n",
      "\n",
      "query done succesfully!\n"
     ]
    }
   ],
   "source": [
    "data=disp.get_product(instrument='isgri',\n",
    "                      product='isgri_image',\n",
    "                      T1='2003-03-15T23:27:40.0',\n",
    "                      T2='2003-03-16T00:03:15.0',\n",
    "                      E1_keV=20.0,\n",
    "                      E2_keV=40.0,\n",
    "                      osa_version='OSA10.2',\n",
    "                      RA=255.986542,\n",
    "                      DEC=-37.844167,\n",
    "                      detection_threshold=5.0,\n",
    "                      radius=15.,\n",
    "                      product_type='Real')"
   ]
  },
  {
   "cell_type": "markdown",
   "metadata": {},
   "source": [
    "### the ODA data structure"
   ]
  },
  {
   "cell_type": "code",
   "execution_count": 9,
   "metadata": {},
   "outputs": [
    {
     "name": "stdout",
     "output_type": "stream",
     "text": [
      "mosaic_image_0 0\n",
      "dispatcher_catalog_1 1\n"
     ]
    }
   ],
   "source": [
    "data.show()"
   ]
  },
  {
   "cell_type": "markdown",
   "metadata": {},
   "source": [
    "you can acess memeber by name:"
   ]
  },
  {
   "cell_type": "code",
   "execution_count": 10,
   "metadata": {},
   "outputs": [
    {
     "data": {
      "text/plain": [
       "<oda_api.data_products.NumpyDataProduct at 0x1160e7f60>"
      ]
     },
     "execution_count": 10,
     "metadata": {},
     "output_type": "execute_result"
    }
   ],
   "source": [
    "data.mosaic_image_0"
   ]
  },
  {
   "cell_type": "markdown",
   "metadata": {},
   "source": [
    "or by position in the data list"
   ]
  },
  {
   "cell_type": "code",
   "execution_count": 11,
   "metadata": {},
   "outputs": [
    {
     "data": {
      "text/plain": [
       "<oda_api.data_products.NumpyDataProduct at 0x1160e7f60>"
      ]
     },
     "execution_count": 11,
     "metadata": {},
     "output_type": "execute_result"
    }
   ],
   "source": [
    "data._p_list[0]"
   ]
  },
  {
   "cell_type": "markdown",
   "metadata": {},
   "source": [
    "### the ODA catalog"
   ]
  },
  {
   "cell_type": "code",
   "execution_count": 12,
   "metadata": {},
   "outputs": [
    {
     "data": {
      "text/html": [
       "<i>Table length=4</i>\n",
       "<table id=\"table4665015936\" class=\"table-striped table-bordered table-condensed\">\n",
       "<thead><tr><th>meta_ID</th><th>src_names</th><th>significance</th><th>ra</th><th>dec</th><th>NEW_SOURCE</th><th>ISGRI_FLAG</th><th>FLAG</th><th>ERR_RAD</th></tr></thead>\n",
       "<thead><tr><th></th><th></th><th></th><th>deg</th><th>deg</th><th></th><th></th><th></th><th></th></tr></thead>\n",
       "<thead><tr><th>int64</th><th>str12</th><th>float64</th><th>float64</th><th>float64</th><th>int64</th><th>int64</th><th>int64</th><th>float64</th></tr></thead>\n",
       "<tr><td>67</td><td>OAO 1657-415</td><td>18.9650936126709</td><td>255.1972198486328</td><td>-41.653160095214844</td><td>-32768</td><td>2</td><td>0</td><td>0.00014000000373926014</td></tr>\n",
       "<tr><td>73</td><td>4U 1700-377</td><td>22.8853702545166</td><td>255.97720336914062</td><td>-37.83725357055664</td><td>-32768</td><td>2</td><td>0</td><td>0.0002800000074785203</td></tr>\n",
       "<tr><td>76</td><td>GX 349+2</td><td>14.08207893371582</td><td>256.4292297363281</td><td>-36.415679931640625</td><td>-32768</td><td>2</td><td>0</td><td>0.0002800000074785203</td></tr>\n",
       "<tr><td>128</td><td>GX 354-0</td><td>9.371565818786621</td><td>262.9886169433594</td><td>-33.828392028808594</td><td>-32768</td><td>2</td><td>0</td><td>0.0002800000074785203</td></tr>\n",
       "</table>"
      ],
      "text/plain": [
       "<Table length=4>\n",
       "meta_ID  src_names      significance   ...  FLAG        ERR_RAD        \n",
       "                                       ...                             \n",
       " int64     str12          float64      ... int64        float64        \n",
       "------- ------------ ----------------- ... ----- ----------------------\n",
       "     67 OAO 1657-415  18.9650936126709 ...     0 0.00014000000373926014\n",
       "     73  4U 1700-377  22.8853702545166 ...     0  0.0002800000074785203\n",
       "     76     GX 349+2 14.08207893371582 ...     0  0.0002800000074785203\n",
       "    128     GX 354-0 9.371565818786621 ...     0  0.0002800000074785203"
      ]
     },
     "execution_count": 12,
     "metadata": {},
     "output_type": "execute_result"
    }
   ],
   "source": [
    "data.dispatcher_catalog_1.table"
   ]
  },
  {
   "cell_type": "markdown",
   "metadata": {},
   "source": [
    "you can use astropy.table commands to modify the table of the catatlog http://docs.astropy.org/en/stable/table/modify_table.html"
   ]
  },
  {
   "cell_type": "markdown",
   "metadata": {},
   "source": [
    "to generate a catalog to pass to the dispatcher api"
   ]
  },
  {
   "cell_type": "code",
   "execution_count": 13,
   "metadata": {},
   "outputs": [],
   "source": [
    "api_cat=data.dispatcher_catalog_1.get_api_dictionary()"
   ]
  },
  {
   "cell_type": "code",
   "execution_count": 14,
   "metadata": {},
   "outputs": [
    {
     "data": {
      "text/plain": [
       "'{\"cat_frame\": \"fk5\", \"cat_coord_units\": \"deg\", \"cat_column_list\": [[67, 73, 76, 128], [\"OAO 1657-415\", \"4U 1700-377\", \"GX 349+2\", \"GX 354-0\"], [18.9650936126709, 22.8853702545166, 14.08207893371582, 9.371565818786621], [255.1972198486328, 255.97720336914062, 256.4292297363281, 262.9886169433594], [-41.653160095214844, -37.83725357055664, -36.415679931640625, -33.828392028808594], [-32768, -32768, -32768, -32768], [2, 2, 2, 2], [0, 0, 0, 0], [0.00014000000373926014, 0.0002800000074785203, 0.0002800000074785203, 0.0002800000074785203]], \"cat_column_names\": [\"meta_ID\", \"src_names\", \"significance\", \"ra\", \"dec\", \"NEW_SOURCE\", \"ISGRI_FLAG\", \"FLAG\", \"ERR_RAD\"], \"cat_column_descr\": [[\"meta_ID\", \"<i8\"], [\"src_names\", \"<U12\"], [\"significance\", \"<f8\"], [\"ra\", \"<f8\"], [\"dec\", \"<f8\"], [\"NEW_SOURCE\", \"<i8\"], [\"ISGRI_FLAG\", \"<i8\"], [\"FLAG\", \"<i8\"], [\"ERR_RAD\", \"<f8\"]], \"cat_lat_name\": \"dec\", \"cat_lon_name\": \"ra\"}'"
      ]
     },
     "execution_count": 14,
     "metadata": {},
     "output_type": "execute_result"
    }
   ],
   "source": [
    "api_cat"
   ]
  },
  {
   "cell_type": "code",
   "execution_count": 15,
   "metadata": {},
   "outputs": [
    {
     "name": "stdout",
     "output_type": "stream",
     "text": [
      "waiting for remote response, please wait run_analysis http://10.194.169.161:32784\n",
      "the job has been submitted on the remote server\n",
      " / the job is working remotely, please wait status=done - job_id=-101925144157579535  35  \n",
      "\n",
      "query done succesfully!\n"
     ]
    }
   ],
   "source": [
    "data=disp.get_product(instrument='isgri',\n",
    "                      product='isgri_image',\n",
    "                      T1='2003-03-15T23:27:40.0',\n",
    "                      T2='2003-03-16T00:03:15.0',\n",
    "                      E1_keV=20.0,\n",
    "                      E2_keV=40.0,\n",
    "                      osa_version='OSA10.2',\n",
    "                      RA=255.986542,\n",
    "                      DEC=-37.844167,\n",
    "                      detection_threshold=5.0,\n",
    "                      radius=15.,\n",
    "                      product_type='Real',\n",
    "                      selected_catalog=api_cat)"
   ]
  },
  {
   "cell_type": "markdown",
   "metadata": {},
   "source": [
    "you can explore the image with the following command"
   ]
  },
  {
   "cell_type": "code",
   "execution_count": 16,
   "metadata": {},
   "outputs": [
    {
     "name": "stdout",
     "output_type": "stream",
     "text": [
      "------------------------------\n",
      "name: mosaic_image\n",
      "meta_data dict_keys(['src_name', 'instrument', 'product', 'query_parameters'])\n",
      "number of data units 2\n",
      "------------------------------\n",
      "data uniti 0 ,name: Primary\n",
      "data uniti 1 ,name: ISGR-MOSA-IMA\n"
     ]
    }
   ],
   "source": [
    "data.mosaic_image_0.show()"
   ]
  },
  {
   "cell_type": "code",
   "execution_count": 17,
   "metadata": {},
   "outputs": [
    {
     "name": "stdout",
     "output_type": "stream",
     "text": [
      "------------------------------\n",
      "src_name : \n",
      "instrument : isgri\n",
      "product : mosaic\n",
      "query_parameters : [{\"query_name\": \"isgri_image_query\"}, {\"product_name\": \"isgri_image_query\"}, {\"units\": \"sigma\", \"name\": \"detection_threshold\", \"value\": \"5.0\"}, {\"units\": null, \"name\": \"image_scale_min\", \"value\": null}, {\"units\": null, \"name\": \"image_scale_max\", \"value\": null}]\n",
      "------------------------------\n"
     ]
    }
   ],
   "source": [
    "data.mosaic_image_0.show_meta()"
   ]
  },
  {
   "cell_type": "code",
   "execution_count": 23,
   "metadata": {},
   "outputs": [
    {
     "data": {
      "text/plain": [
       "array([[0., 0., 0., ..., 0., 0., 0.],\n",
       "       [0., 0., 0., ..., 0., 0., 0.],\n",
       "       [0., 0., 0., ..., 0., 0., 0.],\n",
       "       ...,\n",
       "       [0., 0., 0., ..., 0., 0., 0.],\n",
       "       [0., 0., 0., ..., 0., 0., 0.],\n",
       "       [0., 0., 0., ..., 0., 0., 0.]], dtype=float32)"
      ]
     },
     "execution_count": 23,
     "metadata": {},
     "output_type": "execute_result"
    }
   ],
   "source": [
    "data.mosaic_image_0.data_unit[1].data"
   ]
  },
  {
   "cell_type": "code",
   "execution_count": 24,
   "metadata": {},
   "outputs": [],
   "source": [
    "hdu=data.mosaic_image_0.to_fits_hdu_list()"
   ]
  },
  {
   "cell_type": "code",
   "execution_count": 25,
   "metadata": {},
   "outputs": [
    {
     "data": {
      "text/plain": [
       "(455, 455)"
      ]
     },
     "execution_count": 25,
     "metadata": {},
     "output_type": "execute_result"
    }
   ],
   "source": [
    "data.mosaic_image_0.data_unit[1].data.shape"
   ]
  },
  {
   "cell_type": "code",
   "execution_count": 26,
   "metadata": {},
   "outputs": [],
   "source": [
    "data.mosaic_image_0.write_fits_file('test.fits',overwrite=True)"
   ]
  },
  {
   "cell_type": "markdown",
   "metadata": {},
   "source": [
    "### the ODA Image   plotting tool"
   ]
  },
  {
   "cell_type": "code",
   "execution_count": 34,
   "metadata": {},
   "outputs": [],
   "source": [
    "#interactive\n",
    "#%matplotlib notebook\n",
    "\n",
    "%matplotlib inline\n",
    "im=OdaImage(data.mosaic_image_0)"
   ]
  },
  {
   "cell_type": "code",
   "execution_count": 35,
   "metadata": {},
   "outputs": [
    {
     "data": {
      "image/png": "[encoded data removed]",
      "text/plain": [
       "<Figure size 576x432 with 3 Axes>"
      ]
     },
     "metadata": {
      "needs_background": "light"
     },
     "output_type": "display_data"
    }
   ],
   "source": [
    "im.show(unit_ID=1)"
   ]
  },
  {
   "cell_type": "code",
   "execution_count": 33,
   "metadata": {},
   "outputs": [
    {
     "data": {
      "text/plain": [
       "{'BASETYPE': 'DAL_ARRAY',\n",
       " 'BITPIX': -32,\n",
       " 'BSCALE': 1,\n",
       " 'BUNIT': 'no units',\n",
       " 'BZERO': 0,\n",
       " 'CD1_1': -0.0822862539155913,\n",
       " 'CD1_2': 0.0,\n",
       " 'CD2_1': 0.0,\n",
       " 'CD2_2': 0.0822862539155913,\n",
       " 'CHANMAX': 40,\n",
       " 'CHANMIN': 20,\n",
       " 'CHANTYPE': 'PI',\n",
       " 'CHECKSUM': 'nRMqnQLnnQLnnQLn',\n",
       " 'COMMENT': 'STAMP :',\n",
       " 'CONFIGUR': 'latest_osa_sw_2015-11-10T03:50:02',\n",
       " 'CREATOR': 'ii_skyimage 5.4.4',\n",
       " 'CRPIX1': 228.0,\n",
       " 'CRPIX2': 228.0,\n",
       " 'CRVAL1': 252.939376831055,\n",
       " 'CRVAL2': -32.649772644043,\n",
       " 'CTYPE1': 'RA---TAN',\n",
       " 'CTYPE2': 'DEC--TAN',\n",
       " 'CUNIT1': 'deg',\n",
       " 'CUNIT2': 'deg',\n",
       " 'DATASUM': '2370916866',\n",
       " 'DATE': '2019-05-27T06:46:26',\n",
       " 'DATE-END': '2003-03-15T23:57:39',\n",
       " 'DATE-OBS': '2003-03-15T23:27:53',\n",
       " 'DEADC': 0.775885283090927,\n",
       " 'DETNAM': 'ISGRI',\n",
       " 'EQUINOX': 2000.0,\n",
       " 'EXTNAME': 'ISGR-MOSA-IMA',\n",
       " 'EXTREL': '7.4',\n",
       " 'EXTVER': 3,\n",
       " 'E_MAX': 40.0,\n",
       " 'E_MEAN': 30.0,\n",
       " 'E_MIN': 20.0,\n",
       " 'GCOUNT': 1,\n",
       " 'GRPID1': 1,\n",
       " 'HDUCLAS1': 'IMAGE',\n",
       " 'HDUCLASS': 'OGIP',\n",
       " 'HDUDOC': 'ISDC-IBIS ICD',\n",
       " 'HDUVERS': '1.1.0',\n",
       " 'IMATYPE': 'SIGNIFICANCE',\n",
       " 'INSTRUME': 'IBIS',\n",
       " 'ISDCLEVL': 'IMA',\n",
       " 'LATPOLE': 0,\n",
       " 'LONGPOLE': 180,\n",
       " 'MJDREF': 51544.0,\n",
       " 'MOSASPR': 1,\n",
       " 'NAXIS': 2,\n",
       " 'NAXIS1': 455,\n",
       " 'NAXIS2': 455,\n",
       " 'OGID': 'String',\n",
       " 'ONTIME': 1587.05859375,\n",
       " 'ORIGIN': 'ISDC',\n",
       " 'PCOUNT': 0,\n",
       " 'RADECSYS': 'FK5',\n",
       " 'STAMP': '2019-05-27T06:46:26 ii_skyimage 5.4.4',\n",
       " 'TELAPSE': 1589.0,\n",
       " 'TELESCOP': 'INTEGRAL',\n",
       " 'TFIRST': 1169.97884473118,\n",
       " 'TIMEREF': 'LOCAL',\n",
       " 'TIMESYS': 'TT',\n",
       " 'TIMEUNIT': 'd',\n",
       " 'TLAST': 1169.99724526505,\n",
       " 'TSTART': 1169.97844975867,\n",
       " 'TSTOP': 1169.99912106495,\n",
       " 'XTENSION': 'IMAGE'}"
      ]
     },
     "execution_count": 33,
     "metadata": {},
     "output_type": "execute_result"
    }
   ],
   "source": [
    "data.mosaic_image_0.data_unit[1].header"
   ]
  },
  {
   "cell_type": "markdown",
   "metadata": {},
   "source": [
    "### the ODA LC  plotting tool"
   ]
  },
  {
   "cell_type": "code",
   "execution_count": 36,
   "metadata": {},
   "outputs": [
    {
     "name": "stdout",
     "output_type": "stream",
     "text": [
      "waiting for remote response, please wait run_analysis http://10.194.169.161:32784\n",
      "the job has been submitted on the remote server\n",
      " / the job is working remotely, please wait status=done - job_id=815032431550934891  91  \n",
      "\n",
      "query done succesfully!\n"
     ]
    }
   ],
   "source": [
    "data=disp.get_product(instrument='isgri',\n",
    "                      product='isgri_lc',\n",
    "                      T1='2003-03-15T23:27:40.0',\n",
    "                      T2='2003-03-16T00:03:12.0',\n",
    "                      time_bin=70,\n",
    "                      osa_version='OSA10.2',\n",
    "                      RA=255.986542,\n",
    "                      DEC=-37.844167,\n",
    "                      detection_threshold=5.0,\n",
    "                      radius=15.,\n",
    "                      product_type='Real')"
   ]
  },
  {
   "cell_type": "markdown",
   "metadata": {},
   "source": [
    "### explore LC"
   ]
  },
  {
   "cell_type": "code",
   "execution_count": 37,
   "metadata": {},
   "outputs": [
    {
     "name": "stdout",
     "output_type": "stream",
     "text": [
      "isgri_lc_0 0\n",
      "isgri_lc_1 1\n",
      "isgri_lc_2 2\n",
      "isgri_lc_3 3\n",
      "isgri_lc_4 4\n",
      "isgri_lc_5 5\n",
      "isgri_lc_6 6\n",
      "isgri_lc_7 7\n",
      "isgri_lc_8 8\n",
      "isgri_lc_9 9\n",
      "isgri_lc_10 10\n",
      "isgri_lc_11 11\n",
      "isgri_lc_12 12\n",
      "isgri_lc_13 13\n",
      "isgri_lc_14 14\n",
      "isgri_lc_15 15\n",
      "isgri_lc_16 16\n",
      "isgri_lc_17 17\n",
      "isgri_lc_18 18\n",
      "isgri_lc_19 19\n",
      "isgri_lc_20 20\n",
      "isgri_lc_21 21\n",
      "isgri_lc_22 22\n",
      "isgri_lc_23 23\n",
      "isgri_lc_24 24\n",
      "isgri_lc_25 25\n",
      "isgri_lc_26 26\n",
      "isgri_lc_27 27\n",
      "isgri_lc_28 28\n",
      "isgri_lc_29 29\n"
     ]
    }
   ],
   "source": [
    "data.show()"
   ]
  },
  {
   "cell_type": "code",
   "execution_count": 38,
   "metadata": {},
   "outputs": [
    {
     "name": "stdout",
     "output_type": "stream",
     "text": [
      "------------------------------\n",
      "src_name : GX 349+2\n",
      "rate : RATE\n",
      "time_bin : 0.000810143479094966\n",
      "rate_err : ERROR\n",
      "time : TIME\n",
      "------------------------------\n"
     ]
    }
   ],
   "source": [
    "data.isgri_lc_0.show_meta()"
   ]
  },
  {
   "cell_type": "code",
   "execution_count": 39,
   "metadata": {},
   "outputs": [
    {
     "name": "stdout",
     "output_type": "stream",
     "text": [
      "0 GX 349+2\n",
      "1 IGR J17285-2922\n",
      "2 AX J1700.2-4220\n",
      "3 IGR J17507-2856\n",
      "4 IGR J17508-3219\n",
      "5 IGR J17586-2129\n",
      "6 OAO 1657-415\n",
      "7 GRO J1719-24\n",
      "8 4U 1735-444\n",
      "9 IGR J17326-3445\n",
      "10 4U 1722-30\n",
      "11 IGR J17099-2418\n",
      "12 NEW_6\n",
      "13 NEW_4\n",
      "14 NEW_5\n",
      "15 NEW_2\n",
      "16 NEW_3\n",
      "17 NEW_1\n",
      "18 IGR J16248-4603\n",
      "19 IGR J17091-3624\n",
      "20 IGR J17191-2821\n",
      "21 IGR J17103-3341\n",
      "22 GRS 1747-312\n",
      "23 GX 354-0\n",
      "24 IGR J17314-2854\n",
      "25 GX 1+4\n",
      "26 H 1705-440\n",
      "27 1RXS J174607.8-21333\n",
      "28 4U 1700-377\n",
      "29 1E 1740.7-2942\n"
     ]
    }
   ],
   "source": [
    "for ID,s in enumerate(data._p_list):\n",
    "    print (ID,s.meta_data['src_name'])"
   ]
  },
  {
   "cell_type": "code",
   "execution_count": 40,
   "metadata": {},
   "outputs": [
    {
     "data": {
      "text/plain": [
       "array([(1169.97924981, 198.35461, 437.45297 , 2.560371 , 16.756752 , 6.457998 , 0.9999995),\n",
       "       (1169.98006   , 193.66727, 126.646324, 2.4612792, 26.851568 , 6.381221 , 0.9999995),\n",
       "       (1169.98087017, 165.48798, 106.67175 , 2.2341907, 30.112095 , 5.7995043, 0.9999995),\n",
       "       (1169.98168037, 170.36319, 110.04073 , 2.2748673, 24.547153 , 5.9050727, 0.9999995),\n",
       "       (1169.98249057, 179.08556, 114.907425, 2.319844 , 19.534487 , 6.0552273, 0.9999995),\n",
       "       (1169.98330074, 170.404  , 113.80614 , 2.2976866, 35.34908  , 5.917109 , 0.9999995),\n",
       "       (1169.98411092, 177.87416, 112.59515 , 2.3153915, 46.75426  , 6.0594788, 0.9999995),\n",
       "       (1169.98492112, 170.02942, 107.77012 , 2.3239565, 44.09943  , 5.904361 , 0.9999995),\n",
       "       (1169.9857313 , 169.3733 , 108.96758 , 2.294586 , 38.917126 , 5.8867855, 0.9999995),\n",
       "       (1169.98654149, 164.62074, 105.818214, 2.196995 , 41.819798 , 5.79285  , 0.9999995),\n",
       "       (1169.98735168, 160.1174 , 100.87292 , 2.2091596, 19.254423 , 5.7093225, 0.9999995),\n",
       "       (1169.98816182, 155.62761,  96.28564 , 2.1253731, 27.0208   , 5.6491156, 0.9980645),\n",
       "       (1169.98897204, 157.76117,  99.53124 , 2.1842995,  5.4414988, 5.689717 , 0.9999995),\n",
       "       (1169.98978224, 160.51135, 101.27726 , 2.2166016, 24.804337 , 5.76037  , 0.9999995),\n",
       "       (1169.9905924 , 202.97316, 134.32904 , 2.508761 , 12.959747 , 6.5388417, 0.9987744),\n",
       "       (1169.9914026 , 186.44695, 121.30305 , 2.4868033, 19.698153 , 6.3498526, 0.9656138),\n",
       "       (1169.99221276, 174.3811 , 113.04454 , 2.3120182, 17.881779 , 6.0166554, 0.9999995),\n",
       "       (1169.99302296, 165.1697 , 104.734985, 2.2342746, 16.395714 , 5.8019214, 0.9999995),\n",
       "       (1169.99383313, 162.44868, 102.406204, 2.2399845, 20.798388 , 5.7825265, 0.9999995),\n",
       "       (1169.99464334, 161.5848 , 103.45639 , 2.2202725, 25.759254 , 5.7537603, 0.9983044),\n",
       "       (1169.99545352, 161.81468, 102.12336 , 2.1989408, 13.644187 , 5.7544456, 0.9999995),\n",
       "       (1169.99626372, 163.90817, 103.48788 , 2.1763616, 22.161682 , 5.7832775, 0.9999995),\n",
       "       (1169.99695709, 166.75832,  99.20768 , 2.6200924, 17.814016 , 6.9220653, 0.9999995)],\n",
       "      dtype=(numpy.record, [('TIME', '>f8'), ('TOT_COUNTS', '>f4'), ('BACKV', '>f4'), ('BACKE', '>f4'), ('RATE', '>f4'), ('ERROR', '>f4'), ('FRACEXP', '>f4')]))"
      ]
     },
     "execution_count": 40,
     "metadata": {},
     "output_type": "execute_result"
    }
   ],
   "source": [
    "lc=data._p_list[0]\n",
    "lc.data_unit[1].data"
   ]
  },
  {
   "cell_type": "code",
   "execution_count": 41,
   "metadata": {},
   "outputs": [
    {
     "name": "stdout",
     "output_type": "stream",
     "text": [
      "------------------------------\n",
      "name: isgri_lc\n",
      "meta_data dict_keys(['src_name', 'rate', 'time_bin', 'rate_err', 'time'])\n",
      "number of data units 2\n",
      "------------------------------\n",
      "data uniti 0 ,name: PRIMARY\n",
      "data uniti 1 ,name: ISGR-SRC.-LCR\n"
     ]
    }
   ],
   "source": [
    "lc.show()"
   ]
  },
  {
   "cell_type": "code",
   "execution_count": 42,
   "metadata": {},
   "outputs": [
    {
     "data": {
      "text/plain": [
       "{'src_name': 'GX 349+2',\n",
       " 'rate': 'RATE',\n",
       " 'time_bin': 0.000810143479094966,\n",
       " 'rate_err': 'ERROR',\n",
       " 'time': 'TIME'}"
      ]
     },
     "execution_count": 42,
     "metadata": {},
     "output_type": "execute_result"
    }
   ],
   "source": [
    "lc.meta_data"
   ]
  },
  {
   "cell_type": "code",
   "execution_count": 43,
   "metadata": {},
   "outputs": [
    {
     "data": {
      "image/png": "[encoded data removed]",
      "text/plain": [
       "<Figure size 576x432 with 1 Axes>"
      ]
     },
     "metadata": {
      "needs_background": "light"
     },
     "output_type": "display_data"
    }
   ],
   "source": [
    "%matplotlib inline\n",
    "OdaLightCurve(lc).show(unit_ID=1)"
   ]
  },
  {
   "cell_type": "code",
   "execution_count": 44,
   "metadata": {},
   "outputs": [
    {
     "data": {
      "text/plain": [
       "{'BITPIX': 8,\n",
       " 'DEC': '-37.844167',\n",
       " 'EXTEND': True,\n",
       " 'NAXIS': 0,\n",
       " 'RA': '255.986542',\n",
       " 'SIMPLE': True,\n",
       " 'T1': '2003-03-15T23:27:40.0',\n",
       " 'T2': '2003-03-16T00:03:12.0',\n",
       " 'api': 'True',\n",
       " 'detection_threshold': '5.0',\n",
       " 'dry_run': 'False',\n",
       " 'instrument': 'isgri',\n",
       " 'job_id': '815032431550934891',\n",
       " 'off_line': 'False',\n",
       " 'osa_version': 'OSA10.2',\n",
       " 'product_type': 'isgri_lc',\n",
       " 'query_status': 'ready',\n",
       " 'query_type': 'Real',\n",
       " 'radius': '15.0',\n",
       " 'session_id': '7627NJ7QGDZ6OT52',\n",
       " 'time_bin': '70',\n",
       " 'url': 'None/product_type=isgri_lc&verbose=False&dry_run=False&osa_version=OSA10.2&RA=255.986542&T2=2003-03-16T00%3A03%3A12.0&time_bin=70&session_id=7627NJ7QGDZ6OT52&T1=2003-03-15T23%3A27%3A40.0&instrument=isgri&api=True&radius=15.0&detection_threshold=5.0&query_type=Real&off_line=False&DEC=-37.844167&query_status=ready&job_id=815032431550934891',\n",
       " 'verbose': 'False'}"
      ]
     },
     "execution_count": 44,
     "metadata": {},
     "output_type": "execute_result"
    }
   ],
   "source": [
    "lc.data_unit[0].header"
   ]
  },
  {
   "cell_type": "markdown",
   "metadata": {},
   "source": [
    "### Polar LC"
   ]
  },
  {
   "cell_type": "code",
   "execution_count": 45,
   "metadata": {},
   "outputs": [
    {
     "name": "stdout",
     "output_type": "stream",
     "text": [
      "waiting for remote response, please wait run_analysis http://10.194.169.161:32784\n",
      "\n",
      "\n",
      "query done succesfully!\n"
     ]
    }
   ],
   "source": [
    "#conda create --name=polar_root root=5 python=3 -c nlesc\n",
    "#source activate poloar_root\n",
    "#conda install astropy future -c nlesc\n",
    "#conda install -c conda-forge json_tricks\n",
    "#from oda_api.api import DispatcherAPI\n",
    "#from oda_api.data_products import BinaryData\n",
    "#from oda_api.plot_tools import OdaImage,OdaLightCurve\n",
    "#disp=DispatcherAPI(host='10.194.169.161',port=32784,instrument='mock',protocol='http')\n",
    "data=disp.get_product(instrument='polar',product='polar_lc',T1='2016-12-18T08:32:21.000',T2='2016-12-18T08:34:01.000',time_bin=0.5,verbose=True,dry_run=False)"
   ]
  },
  {
   "cell_type": "code",
   "execution_count": 46,
   "metadata": {},
   "outputs": [
    {
     "name": "stdout",
     "output_type": "stream",
     "text": [
      "_0 0\n",
      "pord_1 1\n"
     ]
    }
   ],
   "source": [
    "data.show()"
   ]
  },
  {
   "cell_type": "code",
   "execution_count": 47,
   "metadata": {},
   "outputs": [
    {
     "data": {
      "text/plain": [
       "<oda_api.data_products.NumpyDataProduct at 0x1178e1fd0>"
      ]
     },
     "execution_count": 47,
     "metadata": {},
     "output_type": "execute_result"
    }
   ],
   "source": [
    "data._p_list[0]"
   ]
  },
  {
   "cell_type": "code",
   "execution_count": 48,
   "metadata": {},
   "outputs": [
    {
     "data": {
      "text/plain": [
       "5022"
      ]
     },
     "execution_count": 48,
     "metadata": {},
     "output_type": "execute_result"
    }
   ],
   "source": [
    "lc=data._p_list[0]\n",
    "root=data._p_list[1]\n",
    "open('lc.root', \"wb\").write(root)"
   ]
  },
  {
   "cell_type": "code",
   "execution_count": 49,
   "metadata": {},
   "outputs": [
    {
     "data": {
      "text/plain": [
       "5022"
      ]
     },
     "execution_count": 49,
     "metadata": {},
     "output_type": "execute_result"
    }
   ],
   "source": [
    " open('lc.root', \"wb\").write(root)"
   ]
  },
  {
   "cell_type": "code",
   "execution_count": 51,
   "metadata": {},
   "outputs": [
    {
     "data": {
      "image/png": "[encoded data removed]",
      "text/plain": [
       "<Figure size 576x432 with 1 Axes>"
      ]
     },
     "metadata": {
      "needs_background": "light"
     },
     "output_type": "display_data"
    }
   ],
   "source": [
    "%matplotlib inline\n",
    "OdaLightCurve(lc).show(unit_ID=1)"
   ]
  },
  {
   "cell_type": "markdown",
   "metadata": {},
   "source": [
    "### SPIACS LC"
   ]
  },
  {
   "cell_type": "code",
   "execution_count": 52,
   "metadata": {},
   "outputs": [
    {
     "name": "stdout",
     "output_type": "stream",
     "text": [
      "\n",
      "--------------\n",
      "instrumet: spi_acs\n",
      "\n",
      "--------------\n",
      "query_name: src_query\n",
      " name: src_name,  value: test,  units: str, \n",
      " name: RA,  value: 0.0,  units: deg, \n",
      " name: DEC,  value: 0.0,  units: deg, \n",
      " name: T1,  value: 2001-12-11T00:00:00.000,  units: None, \n",
      " name: T2,  value: 2001-12-11T00:00:00.000,  units: None, \n",
      "\n",
      "--------------\n",
      "query_name: spiacs_parameters\n",
      " name: user_catalog,  value: None,  units: str, \n",
      " name: [],  value: [],  units: names_list, \n",
      "\n",
      "--------------\n",
      "query_name: spi_acs_lc_query\n",
      " product_name: spi_acs_lc\n",
      " name: time_bin,  value: 1000.0,  units: sec, \n"
     ]
    }
   ],
   "source": [
    "disp.get_instrument_description('spi_acs')"
   ]
  },
  {
   "cell_type": "code",
   "execution_count": 53,
   "metadata": {},
   "outputs": [
    {
     "name": "stdout",
     "output_type": "stream",
     "text": [
      "waiting for remote response, please wait run_analysis http://10.194.169.161:32784\n",
      "\n",
      "\n",
      "query done succesfully!\n"
     ]
    }
   ],
   "source": [
    "data=disp.get_product(instrument='spi_acs',\n",
    "                      product='spi_acs_lc',\n",
    "                      T1='2003-03-15T23:27:40.0',\n",
    "                      T2='2003-03-15T23:57:12.0',\n",
    "                      time_bin=2,\n",
    "                      osa_version='OSA10.2',\n",
    "                      RA=255.986542,\n",
    "                      DEC=-37.844167,\n",
    "                      detection_threshold=5.0,\n",
    "                      radius=15.,\n",
    "                      product_type='Real')"
   ]
  },
  {
   "cell_type": "code",
   "execution_count": 54,
   "metadata": {},
   "outputs": [
    {
     "name": "stdout",
     "output_type": "stream",
     "text": [
      "_0 0\n"
     ]
    }
   ],
   "source": [
    "data.show()"
   ]
  },
  {
   "cell_type": "code",
   "execution_count": 55,
   "metadata": {},
   "outputs": [],
   "source": [
    "lc=data._p_list[0]\n"
   ]
  },
  {
   "cell_type": "code",
   "execution_count": 56,
   "metadata": {},
   "outputs": [
    {
     "name": "stdout",
     "output_type": "stream",
     "text": [
      "------------------------------\n",
      "name: \n",
      "meta_data dict_keys(['src_name', 'rate', 'time_bin', 'rate_err', 'time'])\n",
      "number of data units 2\n",
      "------------------------------\n",
      "data uniti 0 ,name: Primary\n",
      "data uniti 1 ,name: RATE\n"
     ]
    }
   ],
   "source": [
    "lc.show()"
   ]
  },
  {
   "cell_type": "code",
   "execution_count": 58,
   "metadata": {},
   "outputs": [
    {
     "data": {
      "text/plain": [
       "{'BITPIX': 8,\n",
       " 'DATE-END': '2003-03-15T23:27:40.007',\n",
       " 'DATE-OBS': '2003-03-15T23:27:40.007',\n",
       " 'EXTNAME': 'RATE',\n",
       " 'GCOUNT': 1,\n",
       " 'INSTRUME': 'SPIACS',\n",
       " 'MJDREF': 51544.0,\n",
       " 'NAXIS': 2,\n",
       " 'NAXIS1': 24,\n",
       " 'NAXIS2': 886,\n",
       " 'ONTIME': 1772.0,\n",
       " 'PCOUNT': 0,\n",
       " 'TASSIGN': 'SATELLITE',\n",
       " 'TELESCOP': 'INTEGRAL',\n",
       " 'TFIELDS': 3,\n",
       " 'TFORM1': 'D',\n",
       " 'TFORM2': 'D',\n",
       " 'TFORM3': 'D',\n",
       " 'TIMEDEL': 2.0,\n",
       " 'TIMEREF': 'LOCAL',\n",
       " 'TIMESYS': 'TT',\n",
       " 'TIMEUNIT': 's',\n",
       " 'TIMEZERO': 101086946.00000004,\n",
       " 'TSTART': 101086060.00700004,\n",
       " 'TSTOP': 101087832.00700004,\n",
       " 'TTYPE1': 'TIME',\n",
       " 'TTYPE2': 'RATE',\n",
       " 'TTYPE3': 'ERROR',\n",
       " 'XTENSION': 'BINTABLE'}"
      ]
     },
     "execution_count": 58,
     "metadata": {},
     "output_type": "execute_result"
    }
   ],
   "source": [
    "lc.data_unit[1].header"
   ]
  },
  {
   "cell_type": "code",
   "execution_count": 59,
   "metadata": {
    "scrolled": true
   },
   "outputs": [
    {
     "data": {
      "text/plain": [
       "array([(-885.018, 75779. , 194.65225403),\n",
       "       (-883.018, 75484. , 194.27300379),\n",
       "       (-881.018, 76190. , 195.17940465),\n",
       "       (-879.018, 75694.5, 194.54369689),\n",
       "       (-877.018, 75322. , 194.06442229),\n",
       "       (-875.018, 76017.5, 194.95832888),\n",
       "       (-873.018, 75529. , 194.33090336),\n",
       "       (-871.018, 75815. , 194.69848484),\n",
       "       (-869.018, 76324. , 195.35096621),\n",
       "       (-867.018, 75448.5, 194.22731528)],\n",
       "      dtype=[('TIME', '<f8'), ('RATE', '<f8'), ('ERROR', '<f8')])"
      ]
     },
     "execution_count": 59,
     "metadata": {},
     "output_type": "execute_result"
    }
   ],
   "source": [
    "lc.data_unit[1].data[0:10]"
   ]
  },
  {
   "cell_type": "code",
   "execution_count": 60,
   "metadata": {},
   "outputs": [
    {
     "data": {
      "image/png": "[encoded data removed]",
      "text/plain": [
       "<Figure size 576x432 with 1 Axes>"
      ]
     },
     "metadata": {
      "needs_background": "light"
     },
     "output_type": "display_data"
    }
   ],
   "source": [
    "OdaLightCurve(lc).show(unit_ID=1)"
   ]
  },
  {
   "cell_type": "markdown",
   "metadata": {},
   "source": [
    "### the ODA  and spectra"
   ]
  },
  {
   "cell_type": "code",
   "execution_count": 61,
   "metadata": {
    "scrolled": false
   },
   "outputs": [
    {
     "name": "stdout",
     "output_type": "stream",
     "text": [
      "waiting for remote response, please wait run_analysis http://10.194.169.161:32784\n",
      "the job has been submitted on the remote server\n",
      " / the job is working remotely, please wait status=done - job_id=-1255063856769622835  35  \n",
      "\n",
      "query done succesfully!\n"
     ]
    }
   ],
   "source": [
    "data=disp.get_product(instrument='isgri',\n",
    "                      product='isgri_spectrum',\n",
    "                      T1='2003-03-15T23:27:40.0',\n",
    "                      T2='2003-03-16T00:03:12.0',\n",
    "                      time_bin=50,\n",
    "                      osa_version='OSA10.2',\n",
    "                      RA=255.986542,\n",
    "                      DEC=-37.844167,\n",
    "                      detection_threshold=5.0,\n",
    "                      radius=15.,\n",
    "                      product_type='Real')"
   ]
  },
  {
   "cell_type": "markdown",
   "metadata": {},
   "source": [
    "### explore spectra"
   ]
  },
  {
   "cell_type": "code",
   "execution_count": 62,
   "metadata": {},
   "outputs": [
    {
     "name": "stdout",
     "output_type": "stream",
     "text": [
      "0 {'src_name': 'GX 349+2', 'product': 'isgri_spectrum'}\n",
      "1 {'src_name': 'GX 349+2', 'product': 'isgri_arf'}\n",
      "2 {'src_name': 'GX 349+2', 'product': 'isgri_rmf'}\n",
      "3 {'src_name': 'IGR J17285-2922', 'product': 'isgri_spectrum'}\n",
      "4 {'src_name': 'IGR J17285-2922', 'product': 'isgri_arf'}\n",
      "5 {'src_name': 'IGR J17285-2922', 'product': 'isgri_rmf'}\n",
      "6 {'src_name': 'AX J1700.2-4220', 'product': 'isgri_spectrum'}\n",
      "7 {'src_name': 'AX J1700.2-4220', 'product': 'isgri_arf'}\n",
      "8 {'src_name': 'AX J1700.2-4220', 'product': 'isgri_rmf'}\n",
      "9 {'src_name': 'IGR J17507-2856', 'product': 'isgri_spectrum'}\n",
      "10 {'src_name': 'IGR J17507-2856', 'product': 'isgri_arf'}\n",
      "11 {'src_name': 'IGR J17507-2856', 'product': 'isgri_rmf'}\n",
      "12 {'src_name': 'IGR J17508-3219', 'product': 'isgri_spectrum'}\n",
      "13 {'src_name': 'IGR J17508-3219', 'product': 'isgri_arf'}\n",
      "14 {'src_name': 'IGR J17508-3219', 'product': 'isgri_rmf'}\n",
      "15 {'src_name': 'IGR J17586-2129', 'product': 'isgri_spectrum'}\n",
      "16 {'src_name': 'IGR J17586-2129', 'product': 'isgri_arf'}\n",
      "17 {'src_name': 'IGR J17586-2129', 'product': 'isgri_rmf'}\n",
      "18 {'src_name': 'OAO 1657-415', 'product': 'isgri_spectrum'}\n",
      "19 {'src_name': 'OAO 1657-415', 'product': 'isgri_arf'}\n",
      "20 {'src_name': 'OAO 1657-415', 'product': 'isgri_rmf'}\n",
      "21 {'src_name': 'GRO J1719-24', 'product': 'isgri_spectrum'}\n",
      "22 {'src_name': 'GRO J1719-24', 'product': 'isgri_arf'}\n",
      "23 {'src_name': 'GRO J1719-24', 'product': 'isgri_rmf'}\n",
      "24 {'src_name': '4U 1735-444', 'product': 'isgri_spectrum'}\n",
      "25 {'src_name': '4U 1735-444', 'product': 'isgri_arf'}\n",
      "26 {'src_name': '4U 1735-444', 'product': 'isgri_rmf'}\n",
      "27 {'src_name': 'IGR J17326-3445', 'product': 'isgri_spectrum'}\n",
      "28 {'src_name': 'IGR J17326-3445', 'product': 'isgri_arf'}\n",
      "29 {'src_name': 'IGR J17326-3445', 'product': 'isgri_rmf'}\n",
      "30 {'src_name': 'Background', 'product': 'isgri_spectrum'}\n",
      "31 {'src_name': 'Background', 'product': 'isgri_arf'}\n",
      "32 {'src_name': 'Background', 'product': 'isgri_rmf'}\n",
      "33 {'src_name': '4U 1722-30', 'product': 'isgri_spectrum'}\n",
      "34 {'src_name': '4U 1722-30', 'product': 'isgri_arf'}\n",
      "35 {'src_name': '4U 1722-30', 'product': 'isgri_rmf'}\n",
      "36 {'src_name': 'IGR J17099-2418', 'product': 'isgri_spectrum'}\n",
      "37 {'src_name': 'IGR J17099-2418', 'product': 'isgri_arf'}\n",
      "38 {'src_name': 'IGR J17099-2418', 'product': 'isgri_rmf'}\n",
      "39 {'src_name': 'NEW_6', 'product': 'isgri_spectrum'}\n",
      "40 {'src_name': 'NEW_6', 'product': 'isgri_arf'}\n",
      "41 {'src_name': 'NEW_6', 'product': 'isgri_rmf'}\n",
      "42 {'src_name': 'NEW_4', 'product': 'isgri_spectrum'}\n",
      "43 {'src_name': 'NEW_4', 'product': 'isgri_arf'}\n",
      "44 {'src_name': 'NEW_4', 'product': 'isgri_rmf'}\n",
      "45 {'src_name': 'NEW_5', 'product': 'isgri_spectrum'}\n",
      "46 {'src_name': 'NEW_5', 'product': 'isgri_arf'}\n",
      "47 {'src_name': 'NEW_5', 'product': 'isgri_rmf'}\n",
      "48 {'src_name': 'NEW_2', 'product': 'isgri_spectrum'}\n",
      "49 {'src_name': 'NEW_2', 'product': 'isgri_arf'}\n",
      "50 {'src_name': 'NEW_2', 'product': 'isgri_rmf'}\n",
      "51 {'src_name': 'NEW_3', 'product': 'isgri_spectrum'}\n",
      "52 {'src_name': 'NEW_3', 'product': 'isgri_arf'}\n",
      "53 {'src_name': 'NEW_3', 'product': 'isgri_rmf'}\n",
      "54 {'src_name': 'NEW_1', 'product': 'isgri_spectrum'}\n",
      "55 {'src_name': 'NEW_1', 'product': 'isgri_arf'}\n",
      "56 {'src_name': 'NEW_1', 'product': 'isgri_rmf'}\n",
      "57 {'src_name': 'IGR J16248-4603', 'product': 'isgri_spectrum'}\n",
      "58 {'src_name': 'IGR J16248-4603', 'product': 'isgri_arf'}\n",
      "59 {'src_name': 'IGR J16248-4603', 'product': 'isgri_rmf'}\n",
      "60 {'src_name': 'IGR J17091-3624', 'product': 'isgri_spectrum'}\n",
      "61 {'src_name': 'IGR J17091-3624', 'product': 'isgri_arf'}\n",
      "62 {'src_name': 'IGR J17091-3624', 'product': 'isgri_rmf'}\n",
      "63 {'src_name': 'IGR J17191-2821', 'product': 'isgri_spectrum'}\n",
      "64 {'src_name': 'IGR J17191-2821', 'product': 'isgri_arf'}\n",
      "65 {'src_name': 'IGR J17191-2821', 'product': 'isgri_rmf'}\n",
      "66 {'src_name': 'IGR J17103-3341', 'product': 'isgri_spectrum'}\n",
      "67 {'src_name': 'IGR J17103-3341', 'product': 'isgri_arf'}\n",
      "68 {'src_name': 'IGR J17103-3341', 'product': 'isgri_rmf'}\n",
      "69 {'src_name': 'GRS 1747-312', 'product': 'isgri_spectrum'}\n",
      "70 {'src_name': 'GRS 1747-312', 'product': 'isgri_arf'}\n",
      "71 {'src_name': 'GRS 1747-312', 'product': 'isgri_rmf'}\n",
      "72 {'src_name': 'GX 354-0', 'product': 'isgri_spectrum'}\n",
      "73 {'src_name': 'GX 354-0', 'product': 'isgri_arf'}\n",
      "74 {'src_name': 'GX 354-0', 'product': 'isgri_rmf'}\n",
      "75 {'src_name': 'IGR J17314-2854', 'product': 'isgri_spectrum'}\n",
      "76 {'src_name': 'IGR J17314-2854', 'product': 'isgri_arf'}\n",
      "77 {'src_name': 'IGR J17314-2854', 'product': 'isgri_rmf'}\n",
      "78 {'src_name': 'GX 1+4', 'product': 'isgri_spectrum'}\n",
      "79 {'src_name': 'GX 1+4', 'product': 'isgri_arf'}\n",
      "80 {'src_name': 'GX 1+4', 'product': 'isgri_rmf'}\n",
      "81 {'src_name': 'H 1705-440', 'product': 'isgri_spectrum'}\n",
      "82 {'src_name': 'H 1705-440', 'product': 'isgri_arf'}\n",
      "83 {'src_name': 'H 1705-440', 'product': 'isgri_rmf'}\n",
      "84 {'src_name': '1RXS J174607.8-21333', 'product': 'isgri_spectrum'}\n",
      "85 {'src_name': '1RXS J174607.8-21333', 'product': 'isgri_arf'}\n",
      "86 {'src_name': '1RXS J174607.8-21333', 'product': 'isgri_rmf'}\n",
      "87 {'src_name': '4U 1700-377', 'product': 'isgri_spectrum'}\n",
      "88 {'src_name': '4U 1700-377', 'product': 'isgri_arf'}\n",
      "89 {'src_name': '4U 1700-377', 'product': 'isgri_rmf'}\n",
      "90 {'src_name': '1E 1740.7-2942', 'product': 'isgri_spectrum'}\n",
      "91 {'src_name': '1E 1740.7-2942', 'product': 'isgri_arf'}\n",
      "92 {'src_name': '1E 1740.7-2942', 'product': 'isgri_rmf'}\n"
     ]
    }
   ],
   "source": [
    "for ID,s in enumerate(data._p_list):\n",
    "    print (ID,s.meta_data)"
   ]
  },
  {
   "cell_type": "code",
   "execution_count": 63,
   "metadata": {
    "scrolled": false
   },
   "outputs": [],
   "source": [
    "data._p_list[87].write_fits_file('spec.fits')\n",
    "data._p_list[88].write_fits_file('arf.fits')\n",
    "data._p_list[89].write_fits_file('rmf.fits')\n"
   ]
  },
  {
   "cell_type": "code",
   "execution_count": 64,
   "metadata": {},
   "outputs": [
    {
     "name": "stdout",
     "output_type": "stream",
     "text": [
      "------------------------------\n",
      "name: \n",
      "meta_data dict_keys(['src_name', 'product'])\n",
      "number of data units 4\n",
      "------------------------------\n",
      "data uniti 0 ,name: PRIMARY\n",
      "data uniti 1 ,name: GROUPING\n",
      "data uniti 2 ,name: ISGR-RMF.-RSP\n",
      "data uniti 3 ,name: ISGR-EBDS-MOD\n"
     ]
    }
   ],
   "source": [
    "s.show()"
   ]
  },
  {
   "cell_type": "code",
   "execution_count": 65,
   "metadata": {},
   "outputs": [],
   "source": [
    "d=data._p_list[3]"
   ]
  },
  {
   "cell_type": "code",
   "execution_count": null,
   "metadata": {},
   "outputs": [],
   "source": []
  },
  {
   "cell_type": "code",
   "execution_count": 66,
   "metadata": {},
   "outputs": [
    {
     "data": {
      "text/plain": [
       "{'ANCRFILE': 'NONE',\n",
       " 'AREASCAL': 1,\n",
       " 'BACKFILE': 'NONE',\n",
       " 'BACKSCAL': 1,\n",
       " 'BASETYPE': 'DAL_TABLE',\n",
       " 'BITPIX': 8,\n",
       " 'BKGPARAM': 'rebinned_back_spe.fits',\n",
       " 'CHANTYPE': 'PI',\n",
       " 'CHECKSUM': 'lKaDnHXDlHaDlHUD',\n",
       " 'COMMENT': '  on the next keyword which has the name CONTINUE.',\n",
       " 'CONFIGUR': 'latest_osa_sw_2015-11-10T03:50:02',\n",
       " 'CORRFILE': 'NONE',\n",
       " 'CORRSCAL': 0,\n",
       " 'CREATOR': 'ISGRISpectraSum.v5.4.2.extractall',\n",
       " 'DATASUM': '3507849637',\n",
       " 'DATE': '2019-05-28T09:10:50.691804',\n",
       " 'DEADC': 0.775885283090927,\n",
       " 'DEC_OBJ': -29.3624725341797,\n",
       " 'DETCHANS': 62,\n",
       " 'DETNAM': 'ISGRI',\n",
       " 'EQUINOX': 2000.0,\n",
       " 'EXPOSURE': 1198.97207125461,\n",
       " 'EXP_SRC': 417.510009765625,\n",
       " 'EXTNAME': 'ISGR-EVTS-SPE',\n",
       " 'EXTREL': '10.4',\n",
       " 'EXTVER': 13,\n",
       " 'FILTER': 'none',\n",
       " 'FITTYPE': 6,\n",
       " 'GCOUNT': 1,\n",
       " 'GRPID1': 1,\n",
       " 'HDUCLAS1': 'SPECTRUM',\n",
       " 'HDUCLAS2': 'TOTAL',\n",
       " 'HDUCLAS3': 'RATE',\n",
       " 'HDUCLASS': 'OGIP',\n",
       " 'HDUVERS': '1.2.1',\n",
       " 'INSTRUME': 'IBIS',\n",
       " 'ISDCLEVL': 'SPE',\n",
       " 'LONGSTRN': 'OGIP 1.0',\n",
       " 'MJDREF': 51544.0,\n",
       " 'NAME': 'IGR J17285-2922',\n",
       " 'NAXIS': 2,\n",
       " 'NAXIS1': 18,\n",
       " 'NAXIS2': 62,\n",
       " 'OFFCORR': 'rebinned_corr_spe.fits',\n",
       " 'ONTIME': 1587.05859375,\n",
       " 'ORIGIN': 'ISDC',\n",
       " 'PCOUNT': 0,\n",
       " 'RADECSYS': 'FK5',\n",
       " 'RA_OBJ': 262.162506103516,\n",
       " 'RESPFILE': 'NONE',\n",
       " 'REVOL': 51,\n",
       " 'SOURCEID': 'J172839.0-292145',\n",
       " 'STAMP': '',\n",
       " 'SW_TYPE': 'POINTING',\n",
       " 'TELAPSE': 1589.0,\n",
       " 'TELESCOP': 'INTEGRAL',\n",
       " 'TFIELDS': 6,\n",
       " 'TFORM1': '1I',\n",
       " 'TFORM2': '1E',\n",
       " 'TFORM3': '1E',\n",
       " 'TFORM4': '1E',\n",
       " 'TFORM5': '1I',\n",
       " 'TFORM6': '1I',\n",
       " 'TIMEREF': 'LOCAL',\n",
       " 'TIMESYS': 'TT',\n",
       " 'TIMEUNIT': 'd',\n",
       " 'TLMAX1': 61,\n",
       " 'TLMIN1': 0,\n",
       " 'TSTART': 1169.97844975867,\n",
       " 'TSTOP': 1169.99912106495,\n",
       " 'TTYPE1': 'CHANNEL',\n",
       " 'TTYPE2': 'RATE',\n",
       " 'TTYPE3': 'SYS_ERR',\n",
       " 'TTYPE4': 'STAT_ERR',\n",
       " 'TTYPE5': 'QUALITY',\n",
       " 'TTYPE6': 'GROUPING',\n",
       " 'TUNIT2': 'count/s',\n",
       " 'TUNIT3': '',\n",
       " 'TUNIT4': 'count/s',\n",
       " 'XTENSION': 'BINTABLE'}"
      ]
     },
     "execution_count": 66,
     "metadata": {},
     "output_type": "execute_result"
    }
   ],
   "source": [
    "d.data_unit[1].header"
   ]
  },
  {
   "cell_type": "markdown",
   "metadata": {},
   "source": [
    "### JEM-X test"
   ]
  },
  {
   "cell_type": "code",
   "execution_count": 67,
   "metadata": {},
   "outputs": [
    {
     "name": "stdout",
     "output_type": "stream",
     "text": [
      "\n",
      "--------------\n",
      "instrumet: jemx\n",
      "\n",
      "--------------\n",
      "query_name: src_query\n",
      " name: src_name,  value: test,  units: str, \n",
      " name: RA,  value: 0.0,  units: deg, \n",
      " name: DEC,  value: 0.0,  units: deg, \n",
      " name: T1,  value: 2001-12-11T00:00:00.000,  units: None, \n",
      " name: T2,  value: 2001-12-11T00:00:00.000,  units: None, \n",
      "\n",
      "--------------\n",
      "query_name: jemx_parameters\n",
      " name: user_catalog,  value: None,  units: str, \n",
      " name: scw_list,  value: [],  units: names_list, \n",
      " name: radius,  value: 5.0,  units: deg, \n",
      " name: max_pointings,  value: 50,  units: None, \n",
      " name: osa_version,  value: None,  units: str, \n",
      " name: jemx_num,  value: 2,  units: None, \n",
      " name: E1_keV,  value: 3.0,  units: keV, \n",
      " name: E2_keV,  value: 35.0,  units: keV, \n",
      "\n",
      "--------------\n",
      "query_name: jemx_image_query\n",
      " product_name: jemx_image\n",
      " name: detection_threshold,  value: 0.0,  units: sigma, \n",
      " name: image_scale_min,  value: None,  units: None, \n",
      " name: image_scale_max,  value: None,  units: None, \n",
      "\n",
      "--------------\n",
      "query_name: jemx_spectrum_query\n",
      " product_name: jemx_spectrum\n",
      "\n",
      "--------------\n",
      "query_name: spectral_fit_query\n",
      " product_name: spectral_fit\n",
      " name: xspec_model,  value: powerlaw,  units: str, \n",
      " name: ph_file_name,  value: ,  units: str, \n",
      " name: arf_file_name,  value: ,  units: str, \n",
      " name: rmf_file_name,  value: ,  units: str, \n",
      "\n",
      "--------------\n",
      "query_name: jemx_lc_query\n",
      " product_name: jemx_lc\n",
      " name: time_bin,  value: 1000.0,  units: sec, \n"
     ]
    }
   ],
   "source": [
    "disp.get_instrument_description('jemx')"
   ]
  },
  {
   "cell_type": "code",
   "execution_count": 68,
   "metadata": {},
   "outputs": [
    {
     "name": "stdout",
     "output_type": "stream",
     "text": [
      "['010200230010.001']\n",
      "waiting for remote response, please wait run_analysis http://10.194.169.161:32784\n",
      "the job has been submitted on the remote server\n",
      " - the job is working remotely, please wait status=done - job_id=734507049305780161  61  \n",
      "\n",
      "query done succesfully!\n"
     ]
    }
   ],
   "source": [
    "data=disp.get_product(instrument='jemx',\n",
    "                      jemx_num='2',\n",
    "                      product='jemx_image',\n",
    "                      scw_list=['010200230010.001'],\n",
    "                      osa_version='OSA10.2',\n",
    "                      detection_threshold=5.0,\n",
    "                      radius=15.,\n",
    "                      product_type='dummy')"
   ]
  },
  {
   "cell_type": "code",
   "execution_count": 69,
   "metadata": {},
   "outputs": [
    {
     "name": "stdout",
     "output_type": "stream",
     "text": [
      "['010200230010.001']\n",
      "waiting for remote response, please wait run_analysis http://10.194.169.161:32784\n",
      "the job has been submitted on the remote server\n",
      " - the job is working remotely, please wait status=done - job_id=-73930099223456509  09  \n",
      "\n",
      "query done succesfully!\n"
     ]
    }
   ],
   "source": [
    "data=disp.get_product(instrument='jemx',\n",
    "                      jemx_nume='2',\n",
    "                      product='jemx_lc',\n",
    "                      scw_list=['010200230010.001'],\n",
    "                      osa_version='OSA10.2',\n",
    "                      detection_threshold=5.0,\n",
    "                      radius=15.,\n",
    "                      product_type='Real')"
   ]
  },
  {
   "cell_type": "code",
   "execution_count": 70,
   "metadata": {},
   "outputs": [
    {
     "name": "stdout",
     "output_type": "stream",
     "text": [
      "['010200230010.001']\n",
      "waiting for remote response, please wait run_analysis http://10.194.169.161:32784\n",
      "the job has been submitted on the remote server\n",
      " / the job is working remotely, please wait status=done - job_id=-8193837570595478341  41  \n",
      "\n",
      "query done succesfully!\n"
     ]
    }
   ],
   "source": [
    "data=disp.get_product(instrument='jemx',\n",
    "                      jemx_num='2',\n",
    "                      product='jemx_spectrum',\n",
    "                      scw_list=['010200230010.001'],\n",
    "                      osa_version='OSA10.2',\n",
    "                      detection_threshold=5.0,\n",
    "                      radius=15.,\n",
    "                      product_type='Real')"
   ]
  },
  {
   "cell_type": "markdown",
   "metadata": {},
   "source": [
    "### spectral fitting with threeML"
   ]
  },
  {
   "cell_type": "code",
   "execution_count": 54,
   "metadata": {},
   "outputs": [
    {
     "name": "stderr",
     "output_type": "stream",
     "text": [
      "\n",
      "WARNING UserWarning: Using default configuration from /Users/orion/anaconda3/envs/threeML/lib/python2.7/site-packages/threeML/data/threeML_config.yml. You might want to copy it to /Users/orion/.threeML/threeML_config.yml to customize it and avoid this warning.\n",
      "\n",
      "INFO:keyring.backend:Loading KWallet\n",
      "INFO:keyring.backend:Loading SecretService\n",
      "INFO:keyring.backend:Loading Windows\n",
      "INFO:keyring.backend:Loading chainer\n",
      "INFO:keyring.backend:Loading macOS\n",
      "\n",
      "WARNING RuntimeWarning: Env. variable OMP_NUM_THREADS is not set. Please set it to 1 for optimal performances in 3ML\n",
      "\n",
      "\n",
      "WARNING RuntimeWarning: Env. variable MKL_NUM_THREADS is not set. Please set it to 1 for optimal performances in 3ML\n",
      "\n",
      "\n",
      "WARNING RuntimeWarning: Env. variable NUMEXPR_NUM_THREADS is not set. Please set it to 1 for optimal performances in 3ML\n",
      "\n"
     ]
    }
   ],
   "source": [
    "from threeML.plugins.OGIPLike import  OGIPLike\n",
    "from threeML.io.package_data import get_path_of_data_file\n",
    "from threeML import *\n",
    "warnings.filterwarnings('ignore')\n"
   ]
  },
  {
   "cell_type": "code",
   "execution_count": 55,
   "metadata": {},
   "outputs": [
    {
     "name": "stdout",
     "output_type": "stream",
     "text": [
      "Auto-probed noise models:\n",
      "- observation: gaussian\n",
      "- background: None\n"
     ]
    }
   ],
   "source": [
    "\n",
    "ogip_data = OGIPLike('ogip',\n",
    "                     observation='spec.fits',\n",
    "                     arf_file= 'arf.fits' ,\n",
    "                     response= 'rmf.fits')"
   ]
  },
  {
   "cell_type": "code",
   "execution_count": 56,
   "metadata": {},
   "outputs": [
    {
     "name": "stdout",
     "output_type": "stream",
     "text": [
      "Range 20-60 translates to channels 7-24\n",
      "Now using 18 channels out of 62\n"
     ]
    }
   ],
   "source": [
    "ogip_data.set_active_measurements('20-60')\n"
   ]
  },
  {
   "cell_type": "code",
   "execution_count": 57,
   "metadata": {},
   "outputs": [],
   "source": [
    "import matplotlib.pyplot as plt"
   ]
  },
  {
   "cell_type": "code",
   "execution_count": 58,
   "metadata": {},
   "outputs": [
    {
     "name": "stdout",
     "output_type": "stream",
     "text": [
      "bad channels shown in red hatching\n",
      "\n"
     ]
    },
    {
     "data": {
      "text/plain": [
       "(1e-05, 10)"
      ]
     },
     "execution_count": 58,
     "metadata": {},
     "output_type": "execute_result"
    },
    {
     "data": {
      "image/png": "[encoded data removed]",
      "text/plain": [
       "<Figure size 432x288 with 1 Axes>"
      ]
     },
     "metadata": {
      "needs_background": "light"
     },
     "output_type": "display_data"
    }
   ],
   "source": [
    "ogip_data.view_count_spectrum()\n",
    "plt.ylim(1E-5,10)\n"
   ]
  },
  {
   "cell_type": "code",
   "execution_count": 59,
   "metadata": {},
   "outputs": [
    {
     "name": "stdout",
     "output_type": "stream",
     "text": [
      "Best fit values:\n",
      "\n"
     ]
    },
    {
     "data": {
      "text/html": [
       "<div>\n",
       "<style scoped>\n",
       "    .dataframe tbody tr th:only-of-type {\n",
       "        vertical-align: middle;\n",
       "    }\n",
       "\n",
       "    .dataframe tbody tr th {\n",
       "        vertical-align: top;\n",
       "    }\n",
       "\n",
       "    .dataframe thead th {\n",
       "        text-align: right;\n",
       "    }\n",
       "</style>\n",
       "<table border=\"1\" class=\"dataframe\">\n",
       "  <thead>\n",
       "    <tr style=\"text-align: right;\">\n",
       "      <th></th>\n",
       "      <th>result</th>\n",
       "      <th>unit</th>\n",
       "    </tr>\n",
       "    <tr>\n",
       "      <th>parameter</th>\n",
       "      <th></th>\n",
       "      <th></th>\n",
       "    </tr>\n",
       "  </thead>\n",
       "  <tbody>\n",
       "    <tr>\n",
       "      <th>ps.spectrum.main.Cutoff_powerlaw.K</th>\n",
       "      <td>(2.3 -1.1 +2.0) x 10^-3</td>\n",
       "      <td>1 / (cm2 keV s)</td>\n",
       "    </tr>\n",
       "    <tr>\n",
       "      <th>ps.spectrum.main.Cutoff_powerlaw.index</th>\n",
       "      <td>(5.3 +/- 2.5) x 10^-1</td>\n",
       "      <td></td>\n",
       "    </tr>\n",
       "    <tr>\n",
       "      <th>ps.spectrum.main.Cutoff_powerlaw.xc</th>\n",
       "      <td>9.8 -1.0 +1.1</td>\n",
       "      <td>keV</td>\n",
       "    </tr>\n",
       "  </tbody>\n",
       "</table>\n",
       "</div>"
      ],
      "text/plain": [
       "                                                         result  \\\n",
       "parameter                                                         \n",
       "ps.spectrum.main.Cutoff_powerlaw.K      (2.3 -1.1 +2.0) x 10^-3   \n",
       "ps.spectrum.main.Cutoff_powerlaw.index    (5.3 +/- 2.5) x 10^-1   \n",
       "ps.spectrum.main.Cutoff_powerlaw.xc               9.8 -1.0 +1.1   \n",
       "\n",
       "                                                   unit  \n",
       "parameter                                                \n",
       "ps.spectrum.main.Cutoff_powerlaw.K      1 / (cm2 keV s)  \n",
       "ps.spectrum.main.Cutoff_powerlaw.index                   \n",
       "ps.spectrum.main.Cutoff_powerlaw.xc                 keV  "
      ]
     },
     "metadata": {},
     "output_type": "execute_result"
    },
    {
     "name": "stdout",
     "output_type": "stream",
     "text": [
      "\n",
      "Correlation matrix:\n",
      "\n"
     ]
    },
    {
     "data": {
      "text/html": [
       "<table id=\"table4882631696\">\n",
       "<tr><td>1.00</td><td>-0.93</td><td>0.49</td></tr>\n",
       "<tr><td>-0.93</td><td>1.00</td><td>-0.76</td></tr>\n",
       "<tr><td>0.49</td><td>-0.76</td><td>1.00</td></tr>\n",
       "</table>"
      ],
      "text/plain": [
       " 1.00 -0.93  0.49\n",
       "-0.93  1.00 -0.76\n",
       " 0.49 -0.76  1.00"
      ]
     },
     "metadata": {},
     "output_type": "execute_result"
    },
    {
     "name": "stdout",
     "output_type": "stream",
     "text": [
      "\n",
      "Values of -log(likelihood) at the minimum:\n",
      "\n"
     ]
    },
    {
     "data": {
      "text/html": [
       "<div>\n",
       "<style scoped>\n",
       "    .dataframe tbody tr th:only-of-type {\n",
       "        vertical-align: middle;\n",
       "    }\n",
       "\n",
       "    .dataframe tbody tr th {\n",
       "        vertical-align: top;\n",
       "    }\n",
       "\n",
       "    .dataframe thead th {\n",
       "        text-align: right;\n",
       "    }\n",
       "</style>\n",
       "<table border=\"1\" class=\"dataframe\">\n",
       "  <thead>\n",
       "    <tr style=\"text-align: right;\">\n",
       "      <th></th>\n",
       "      <th>-log(likelihood)</th>\n",
       "    </tr>\n",
       "  </thead>\n",
       "  <tbody>\n",
       "    <tr>\n",
       "      <th>ogip</th>\n",
       "      <td>5.24134</td>\n",
       "    </tr>\n",
       "    <tr>\n",
       "      <th>total</th>\n",
       "      <td>5.24134</td>\n",
       "    </tr>\n",
       "  </tbody>\n",
       "</table>\n",
       "</div>"
      ],
      "text/plain": [
       "       -log(likelihood)\n",
       "ogip            5.24134\n",
       "total           5.24134"
      ]
     },
     "metadata": {},
     "output_type": "execute_result"
    },
    {
     "name": "stdout",
     "output_type": "stream",
     "text": [
      "\n",
      "Values of statistical measures:\n",
      "\n"
     ]
    },
    {
     "data": {
      "text/html": [
       "<div>\n",
       "<style scoped>\n",
       "    .dataframe tbody tr th:only-of-type {\n",
       "        vertical-align: middle;\n",
       "    }\n",
       "\n",
       "    .dataframe tbody tr th {\n",
       "        vertical-align: top;\n",
       "    }\n",
       "\n",
       "    .dataframe thead th {\n",
       "        text-align: right;\n",
       "    }\n",
       "</style>\n",
       "<table border=\"1\" class=\"dataframe\">\n",
       "  <thead>\n",
       "    <tr style=\"text-align: right;\">\n",
       "      <th></th>\n",
       "      <th>statistical measures</th>\n",
       "    </tr>\n",
       "  </thead>\n",
       "  <tbody>\n",
       "    <tr>\n",
       "      <th>AIC</th>\n",
       "      <td>18.196966</td>\n",
       "    </tr>\n",
       "    <tr>\n",
       "      <th>BIC</th>\n",
       "      <td>19.153796</td>\n",
       "    </tr>\n",
       "  </tbody>\n",
       "</table>\n",
       "</div>"
      ],
      "text/plain": [
       "     statistical measures\n",
       "AIC             18.196966\n",
       "BIC             19.153796"
      ]
     },
     "metadata": {},
     "output_type": "execute_result"
    }
   ],
   "source": [
    "\n",
    "fit_function = Cutoff_powerlaw()\n",
    "\n",
    "# define the point source\n",
    "point_source = PointSource('ps', 0, 0, spectral_shape=fit_function)\n",
    "\n",
    "#define the model\n",
    "model = Model(point_source)\n",
    "\n",
    "# create a data list\n",
    "datalist = DataList(ogip_data)\n",
    "\n",
    "# make the joint likelihood\n",
    "jl = JointLikelihood(model, datalist)\n",
    "\n",
    "#fit\n",
    "jl.fit();"
   ]
  },
  {
   "cell_type": "code",
   "execution_count": 60,
   "metadata": {},
   "outputs": [
    {
     "data": {
      "image/png": "[encoded data removed]",
      "text/plain": [
       "<Figure size 432x288 with 2 Axes>"
      ]
     },
     "metadata": {
      "needs_background": "light"
     },
     "output_type": "display_data"
    }
   ],
   "source": [
    "display_spectrum_model_counts(jl, step=True);\n"
   ]
  },
  {
   "cell_type": "code",
   "execution_count": 61,
   "metadata": {},
   "outputs": [
    {
     "data": {
      "text/plain": [
       "VBox(children=(HTML(value=u'Propagating errors : '), HTML(value=u''), FloatProgress(value=0.0)))"
      ]
     },
     "metadata": {},
     "output_type": "display_data"
    },
    {
     "data": {
      "image/png": "[encoded data removed]",
      "text/plain": [
       "<Figure size 432x288 with 1 Axes>"
      ]
     },
     "execution_count": 61,
     "metadata": {},
     "output_type": "execute_result"
    },
    {
     "data": {
      "image/png": "[encoded data removed]",
      "text/plain": [
       "<Figure size 432x288 with 1 Axes>"
      ]
     },
     "metadata": {
      "needs_background": "light"
     },
     "output_type": "display_data"
    }
   ],
   "source": [
    "plot_point_source_spectra(jl.results, ene_min=20, ene_max=60, num_ene=100,\n",
    "                          flux_unit='erg / (cm2 s)')"
   ]
  },
  {
   "cell_type": "code",
   "execution_count": 62,
   "metadata": {},
   "outputs": [
    {
     "data": {
      "text/html": [
       "Model summary:<br><br><div>\n",
       "<style scoped>\n",
       "    .dataframe tbody tr th:only-of-type {\n",
       "        vertical-align: middle;\n",
       "    }\n",
       "\n",
       "    .dataframe tbody tr th {\n",
       "        vertical-align: top;\n",
       "    }\n",
       "\n",
       "    .dataframe thead th {\n",
       "        text-align: right;\n",
       "    }\n",
       "</style>\n",
       "<table border=\"1\" class=\"dataframe\">\n",
       "  <thead>\n",
       "    <tr style=\"text-align: right;\">\n",
       "      <th></th>\n",
       "      <th>N</th>\n",
       "    </tr>\n",
       "  </thead>\n",
       "  <tbody>\n",
       "    <tr>\n",
       "      <th>Point sources</th>\n",
       "      <td>1</td>\n",
       "    </tr>\n",
       "    <tr>\n",
       "      <th>Extended sources</th>\n",
       "      <td>0</td>\n",
       "    </tr>\n",
       "    <tr>\n",
       "      <th>Particle sources</th>\n",
       "      <td>0</td>\n",
       "    </tr>\n",
       "  </tbody>\n",
       "</table>\n",
       "</div><br><br>Free parameters (3):<br><br><div>\n",
       "<style scoped>\n",
       "    .dataframe tbody tr th:only-of-type {\n",
       "        vertical-align: middle;\n",
       "    }\n",
       "\n",
       "    .dataframe tbody tr th {\n",
       "        vertical-align: top;\n",
       "    }\n",
       "\n",
       "    .dataframe thead th {\n",
       "        text-align: right;\n",
       "    }\n",
       "</style>\n",
       "<table border=\"1\" class=\"dataframe\">\n",
       "  <thead>\n",
       "    <tr style=\"text-align: right;\">\n",
       "      <th></th>\n",
       "      <th>value</th>\n",
       "      <th>min_value</th>\n",
       "      <th>max_value</th>\n",
       "      <th>unit</th>\n",
       "    </tr>\n",
       "  </thead>\n",
       "  <tbody>\n",
       "    <tr>\n",
       "      <th>ps.spectrum.main.Cutoff_powerlaw.K</th>\n",
       "      <td>0.00230365</td>\n",
       "      <td>1e-30</td>\n",
       "      <td>1000</td>\n",
       "      <td>keV-1 s-1 cm-2</td>\n",
       "    </tr>\n",
       "    <tr>\n",
       "      <th>ps.spectrum.main.Cutoff_powerlaw.index</th>\n",
       "      <td>0.531183</td>\n",
       "      <td>-10</td>\n",
       "      <td>10</td>\n",
       "      <td></td>\n",
       "    </tr>\n",
       "    <tr>\n",
       "      <th>ps.spectrum.main.Cutoff_powerlaw.xc</th>\n",
       "      <td>9.7834</td>\n",
       "      <td>None</td>\n",
       "      <td>None</td>\n",
       "      <td>keV</td>\n",
       "    </tr>\n",
       "  </tbody>\n",
       "</table>\n",
       "</div><br><br>Fixed parameters (4):<br>(abridged. Use complete=True to see all fixed parameters)<br><br><br>Linked parameters (0):<br><br>(none)<br><br>Independent variables:<br><br>(none)<br>"
      ],
      "text/plain": [
       "Model summary:\n",
       "==============\n",
       "\n",
       "                  N\n",
       "Point sources     1\n",
       "Extended sources  0\n",
       "Particle sources  0\n",
       "\n",
       "Free parameters (3):\n",
       "--------------------\n",
       "\n",
       "                                             value min_value max_value  \\\n",
       "ps.spectrum.main.Cutoff_powerlaw.K      0.00230365     1e-30      1000   \n",
       "ps.spectrum.main.Cutoff_powerlaw.index    0.531183       -10        10   \n",
       "ps.spectrum.main.Cutoff_powerlaw.xc         9.7834      None      None   \n",
       "\n",
       "                                                  unit  \n",
       "ps.spectrum.main.Cutoff_powerlaw.K      keV-1 s-1 cm-2  \n",
       "ps.spectrum.main.Cutoff_powerlaw.index                  \n",
       "ps.spectrum.main.Cutoff_powerlaw.xc                keV  \n",
       "\n",
       "Fixed parameters (4):\n",
       "(abridged. Use complete=True to see all fixed parameters)\n",
       "\n",
       "\n",
       "Linked parameters (0):\n",
       "----------------------\n",
       "\n",
       "(none)\n",
       "\n",
       "Independent variables:\n",
       "----------------------\n",
       "\n",
       "(none)"
      ]
     },
     "metadata": {},
     "output_type": "execute_result"
    }
   ],
   "source": [
    "\n",
    "# A uniform prior can be defined directly, like:\n",
    "model.ps.spectrum.main.Cutoff_powerlaw.index.prior = Uniform_prior(lower_bound=-2.,\n",
    "                                                                     upper_bound=2.)\n",
    "\n",
    "# or it can be set using the currently defined boundaries\n",
    "model.ps.spectrum.main.Cutoff_powerlaw.xc.prior=  Uniform_prior(lower_bound=0,\n",
    "                                                                     upper_bound=100)\n",
    "\n",
    "\n",
    "# The same for the Log_uniform prior\n",
    "model.ps.spectrum.main.Cutoff_powerlaw.K.prior = Log_uniform_prior(lower_bound=1e-3,\n",
    "                                                                     upper_bound=100)\n",
    "\n",
    "\n",
    "model.display()"
   ]
  },
  {
   "cell_type": "code",
   "execution_count": null,
   "metadata": {},
   "outputs": [],
   "source": []
  },
  {
   "cell_type": "code",
   "execution_count": 63,
   "metadata": {},
   "outputs": [
    {
     "data": {
      "text/plain": [
       "VBox(children=(HTML(value=u'Burn-in : '), HTML(value=u''), FloatProgress(value=0.0)))"
      ]
     },
     "metadata": {},
     "output_type": "display_data"
    },
    {
     "data": {
      "text/plain": [
       "VBox(children=(HTML(value=u'Sampling : '), HTML(value=u''), FloatProgress(value=0.0)))"
      ]
     },
     "metadata": {},
     "output_type": "display_data"
    },
    {
     "name": "stdout",
     "output_type": "stream",
     "text": [
      "\n",
      "Mean acceptance fraction: 0.3102\n",
      "\n",
      "Maximum a posteriori probability (MAP) point:\n",
      "\n"
     ]
    },
    {
     "data": {
      "text/html": [
       "<div>\n",
       "<style scoped>\n",
       "    .dataframe tbody tr th:only-of-type {\n",
       "        vertical-align: middle;\n",
       "    }\n",
       "\n",
       "    .dataframe tbody tr th {\n",
       "        vertical-align: top;\n",
       "    }\n",
       "\n",
       "    .dataframe thead th {\n",
       "        text-align: right;\n",
       "    }\n",
       "</style>\n",
       "<table border=\"1\" class=\"dataframe\">\n",
       "  <thead>\n",
       "    <tr style=\"text-align: right;\">\n",
       "      <th></th>\n",
       "      <th>result</th>\n",
       "      <th>unit</th>\n",
       "    </tr>\n",
       "    <tr>\n",
       "      <th>parameter</th>\n",
       "      <th></th>\n",
       "      <th></th>\n",
       "    </tr>\n",
       "  </thead>\n",
       "  <tbody>\n",
       "    <tr>\n",
       "      <th>ps.spectrum.main.Cutoff_powerlaw.K</th>\n",
       "      <td>(1.1 -0.9 +1.0) x 10^-2</td>\n",
       "      <td>1 / (cm2 keV s)</td>\n",
       "    </tr>\n",
       "    <tr>\n",
       "      <th>ps.spectrum.main.Cutoff_powerlaw.index</th>\n",
       "      <td>(1 +/- 5) x 10^-1</td>\n",
       "      <td></td>\n",
       "    </tr>\n",
       "    <tr>\n",
       "      <th>ps.spectrum.main.Cutoff_powerlaw.xc</th>\n",
       "      <td>(1.19 +/- 0.24) x 10</td>\n",
       "      <td>keV</td>\n",
       "    </tr>\n",
       "  </tbody>\n",
       "</table>\n",
       "</div>"
      ],
      "text/plain": [
       "                                                         result  \\\n",
       "parameter                                                         \n",
       "ps.spectrum.main.Cutoff_powerlaw.K      (1.1 -0.9 +1.0) x 10^-2   \n",
       "ps.spectrum.main.Cutoff_powerlaw.index        (1 +/- 5) x 10^-1   \n",
       "ps.spectrum.main.Cutoff_powerlaw.xc        (1.19 +/- 0.24) x 10   \n",
       "\n",
       "                                                   unit  \n",
       "parameter                                                \n",
       "ps.spectrum.main.Cutoff_powerlaw.K      1 / (cm2 keV s)  \n",
       "ps.spectrum.main.Cutoff_powerlaw.index                   \n",
       "ps.spectrum.main.Cutoff_powerlaw.xc                 keV  "
      ]
     },
     "metadata": {},
     "output_type": "execute_result"
    },
    {
     "name": "stdout",
     "output_type": "stream",
     "text": [
      "\n",
      "Values of -log(posterior) at the minimum:\n",
      "\n"
     ]
    },
    {
     "data": {
      "text/html": [
       "<div>\n",
       "<style scoped>\n",
       "    .dataframe tbody tr th:only-of-type {\n",
       "        vertical-align: middle;\n",
       "    }\n",
       "\n",
       "    .dataframe tbody tr th {\n",
       "        vertical-align: top;\n",
       "    }\n",
       "\n",
       "    .dataframe thead th {\n",
       "        text-align: right;\n",
       "    }\n",
       "</style>\n",
       "<table border=\"1\" class=\"dataframe\">\n",
       "  <thead>\n",
       "    <tr style=\"text-align: right;\">\n",
       "      <th></th>\n",
       "      <th>-log(posterior)</th>\n",
       "    </tr>\n",
       "  </thead>\n",
       "  <tbody>\n",
       "    <tr>\n",
       "      <th>ogip</th>\n",
       "      <td>-2.289032</td>\n",
       "    </tr>\n",
       "    <tr>\n",
       "      <th>total</th>\n",
       "      <td>-2.289032</td>\n",
       "    </tr>\n",
       "  </tbody>\n",
       "</table>\n",
       "</div>"
      ],
      "text/plain": [
       "       -log(posterior)\n",
       "ogip         -2.289032\n",
       "total        -2.289032"
      ]
     },
     "metadata": {},
     "output_type": "execute_result"
    },
    {
     "name": "stdout",
     "output_type": "stream",
     "text": [
      "\n",
      "Values of statistical measures:\n",
      "\n"
     ]
    },
    {
     "data": {
      "text/html": [
       "<div>\n",
       "<style scoped>\n",
       "    .dataframe tbody tr th:only-of-type {\n",
       "        vertical-align: middle;\n",
       "    }\n",
       "\n",
       "    .dataframe tbody tr th {\n",
       "        vertical-align: top;\n",
       "    }\n",
       "\n",
       "    .dataframe thead th {\n",
       "        text-align: right;\n",
       "    }\n",
       "</style>\n",
       "<table border=\"1\" class=\"dataframe\">\n",
       "  <thead>\n",
       "    <tr style=\"text-align: right;\">\n",
       "      <th></th>\n",
       "      <th>statistical measures</th>\n",
       "    </tr>\n",
       "  </thead>\n",
       "  <tbody>\n",
       "    <tr>\n",
       "      <th>AIC</th>\n",
       "      <td>12.292351</td>\n",
       "    </tr>\n",
       "    <tr>\n",
       "      <th>BIC</th>\n",
       "      <td>13.249180</td>\n",
       "    </tr>\n",
       "    <tr>\n",
       "      <th>DIC</th>\n",
       "      <td>-262.085434</td>\n",
       "    </tr>\n",
       "    <tr>\n",
       "      <th>PDIC</th>\n",
       "      <td>-270.310299</td>\n",
       "    </tr>\n",
       "  </tbody>\n",
       "</table>\n",
       "</div>"
      ],
      "text/plain": [
       "      statistical measures\n",
       "AIC              12.292351\n",
       "BIC              13.249180\n",
       "DIC            -262.085434\n",
       "PDIC           -270.310299"
      ]
     },
     "metadata": {},
     "output_type": "execute_result"
    }
   ],
   "source": [
    "bs = BayesianAnalysis(model, datalist)\n",
    "\n",
    "# This uses the emcee sampler\n",
    "samples = bs.sample(n_walkers=30, burn_in=100, n_samples=1000)"
   ]
  },
  {
   "cell_type": "code",
   "execution_count": 64,
   "metadata": {},
   "outputs": [
    {
     "name": "stdout",
     "output_type": "stream",
     "text": [
      "Maximum a posteriori probability (MAP) point:\n",
      "\n"
     ]
    },
    {
     "data": {
      "text/html": [
       "<div>\n",
       "<style scoped>\n",
       "    .dataframe tbody tr th:only-of-type {\n",
       "        vertical-align: middle;\n",
       "    }\n",
       "\n",
       "    .dataframe tbody tr th {\n",
       "        vertical-align: top;\n",
       "    }\n",
       "\n",
       "    .dataframe thead th {\n",
       "        text-align: right;\n",
       "    }\n",
       "</style>\n",
       "<table border=\"1\" class=\"dataframe\">\n",
       "  <thead>\n",
       "    <tr style=\"text-align: right;\">\n",
       "      <th></th>\n",
       "      <th>result</th>\n",
       "      <th>unit</th>\n",
       "    </tr>\n",
       "    <tr>\n",
       "      <th>parameter</th>\n",
       "      <th></th>\n",
       "      <th></th>\n",
       "    </tr>\n",
       "  </thead>\n",
       "  <tbody>\n",
       "    <tr>\n",
       "      <th>ps.spectrum.main.Cutoff_powerlaw.K</th>\n",
       "      <td>(1.1 -0.9 +1.0) x 10^-2</td>\n",
       "      <td>1 / (cm2 keV s)</td>\n",
       "    </tr>\n",
       "    <tr>\n",
       "      <th>ps.spectrum.main.Cutoff_powerlaw.index</th>\n",
       "      <td>(1 +/- 5) x 10^-1</td>\n",
       "      <td></td>\n",
       "    </tr>\n",
       "    <tr>\n",
       "      <th>ps.spectrum.main.Cutoff_powerlaw.xc</th>\n",
       "      <td>(1.19 +/- 0.24) x 10</td>\n",
       "      <td>keV</td>\n",
       "    </tr>\n",
       "  </tbody>\n",
       "</table>\n",
       "</div>"
      ],
      "text/plain": [
       "                                                         result  \\\n",
       "parameter                                                         \n",
       "ps.spectrum.main.Cutoff_powerlaw.K      (1.1 -0.9 +1.0) x 10^-2   \n",
       "ps.spectrum.main.Cutoff_powerlaw.index        (1 +/- 5) x 10^-1   \n",
       "ps.spectrum.main.Cutoff_powerlaw.xc        (1.19 +/- 0.24) x 10   \n",
       "\n",
       "                                                   unit  \n",
       "parameter                                                \n",
       "ps.spectrum.main.Cutoff_powerlaw.K      1 / (cm2 keV s)  \n",
       "ps.spectrum.main.Cutoff_powerlaw.index                   \n",
       "ps.spectrum.main.Cutoff_powerlaw.xc                 keV  "
      ]
     },
     "metadata": {},
     "output_type": "execute_result"
    },
    {
     "name": "stdout",
     "output_type": "stream",
     "text": [
      "\n",
      "Values of -log(posterior) at the minimum:\n",
      "\n"
     ]
    },
    {
     "data": {
      "text/html": [
       "<div>\n",
       "<style scoped>\n",
       "    .dataframe tbody tr th:only-of-type {\n",
       "        vertical-align: middle;\n",
       "    }\n",
       "\n",
       "    .dataframe tbody tr th {\n",
       "        vertical-align: top;\n",
       "    }\n",
       "\n",
       "    .dataframe thead th {\n",
       "        text-align: right;\n",
       "    }\n",
       "</style>\n",
       "<table border=\"1\" class=\"dataframe\">\n",
       "  <thead>\n",
       "    <tr style=\"text-align: right;\">\n",
       "      <th></th>\n",
       "      <th>-log(posterior)</th>\n",
       "    </tr>\n",
       "  </thead>\n",
       "  <tbody>\n",
       "    <tr>\n",
       "      <th>ogip</th>\n",
       "      <td>-2.289032</td>\n",
       "    </tr>\n",
       "    <tr>\n",
       "      <th>total</th>\n",
       "      <td>-2.289032</td>\n",
       "    </tr>\n",
       "  </tbody>\n",
       "</table>\n",
       "</div>"
      ],
      "text/plain": [
       "       -log(posterior)\n",
       "ogip         -2.289032\n",
       "total        -2.289032"
      ]
     },
     "metadata": {},
     "output_type": "execute_result"
    },
    {
     "name": "stdout",
     "output_type": "stream",
     "text": [
      "\n",
      "Values of statistical measures:\n",
      "\n"
     ]
    },
    {
     "data": {
      "text/html": [
       "<div>\n",
       "<style scoped>\n",
       "    .dataframe tbody tr th:only-of-type {\n",
       "        vertical-align: middle;\n",
       "    }\n",
       "\n",
       "    .dataframe tbody tr th {\n",
       "        vertical-align: top;\n",
       "    }\n",
       "\n",
       "    .dataframe thead th {\n",
       "        text-align: right;\n",
       "    }\n",
       "</style>\n",
       "<table border=\"1\" class=\"dataframe\">\n",
       "  <thead>\n",
       "    <tr style=\"text-align: right;\">\n",
       "      <th></th>\n",
       "      <th>statistical measures</th>\n",
       "    </tr>\n",
       "  </thead>\n",
       "  <tbody>\n",
       "    <tr>\n",
       "      <th>AIC</th>\n",
       "      <td>12.292351</td>\n",
       "    </tr>\n",
       "    <tr>\n",
       "      <th>BIC</th>\n",
       "      <td>13.249180</td>\n",
       "    </tr>\n",
       "    <tr>\n",
       "      <th>DIC</th>\n",
       "      <td>-262.085434</td>\n",
       "    </tr>\n",
       "    <tr>\n",
       "      <th>PDIC</th>\n",
       "      <td>-270.310299</td>\n",
       "    </tr>\n",
       "  </tbody>\n",
       "</table>\n",
       "</div>"
      ],
      "text/plain": [
       "      statistical measures\n",
       "AIC              12.292351\n",
       "BIC              13.249180\n",
       "DIC            -262.085434\n",
       "PDIC           -270.310299"
      ]
     },
     "metadata": {},
     "output_type": "execute_result"
    }
   ],
   "source": [
    "bs.results.display()"
   ]
  },
  {
   "cell_type": "code",
   "execution_count": 65,
   "metadata": {},
   "outputs": [
    {
     "data": {
      "image/png": "[encoded data removed]",
      "text/plain": [
       "<Figure size 547.2x547.2 with 9 Axes>"
      ]
     },
     "execution_count": 65,
     "metadata": {},
     "output_type": "execute_result"
    },
    {
     "data": {
      "image/png": "[encoded data removed]",
      "text/plain": [
       "<Figure size 547.2x547.2 with 9 Axes>"
      ]
     },
     "metadata": {
      "needs_background": "light"
     },
     "output_type": "display_data"
    }
   ],
   "source": [
    "bs.results.corner_plot()"
   ]
  },
  {
   "cell_type": "code",
   "execution_count": 66,
   "metadata": {},
   "outputs": [
    {
     "data": {
      "text/plain": [
       "VBox(children=(HTML(value=u'Propagating errors : '), HTML(value=u''), FloatProgress(value=0.0)))"
      ]
     },
     "metadata": {},
     "output_type": "display_data"
    },
    {
     "data": {
      "image/png": "[encoded data removed]",
      "text/plain": [
       "<Figure size 432x288 with 1 Axes>"
      ]
     },
     "execution_count": 66,
     "metadata": {},
     "output_type": "execute_result"
    },
    {
     "data": {
      "image/png": "[encoded data removed]",
      "text/plain": [
       "<Figure size 432x288 with 1 Axes>"
      ]
     },
     "metadata": {
      "needs_background": "light"
     },
     "output_type": "display_data"
    }
   ],
   "source": [
    "plot_point_source_spectra(bs.results, ene_min=20, ene_max=60, num_ene=100,\n",
    "                          flux_unit='erg / (cm2 s)')"
   ]
  },
  {
   "cell_type": "code",
   "execution_count": 67,
   "metadata": {},
   "outputs": [
    {
     "data": {
      "text/plain": [
       "VBox(children=(HTML(value=u'Propagating errors : '), HTML(value=u''), FloatProgress(value=0.0)))"
      ]
     },
     "metadata": {},
     "output_type": "display_data"
    },
    {
     "data": {
      "text/html": [
       "<div>\n",
       "<style scoped>\n",
       "    .dataframe tbody tr th:only-of-type {\n",
       "        vertical-align: middle;\n",
       "    }\n",
       "\n",
       "    .dataframe tbody tr th {\n",
       "        vertical-align: top;\n",
       "    }\n",
       "\n",
       "    .dataframe thead th {\n",
       "        text-align: right;\n",
       "    }\n",
       "</style>\n",
       "<table border=\"1\" class=\"dataframe\">\n",
       "  <thead>\n",
       "    <tr style=\"text-align: right;\">\n",
       "      <th></th>\n",
       "      <th>flux</th>\n",
       "    </tr>\n",
       "  </thead>\n",
       "  <tbody>\n",
       "    <tr>\n",
       "      <th>ps: total</th>\n",
       "      <td>(0.33 -0.32 +9) x 10^-11 erg / (cm2 s)</td>\n",
       "    </tr>\n",
       "  </tbody>\n",
       "</table>\n",
       "</div>"
      ],
      "text/plain": [
       "                                             flux\n",
       "ps: total  (0.33 -0.32 +9) x 10^-11 erg / (cm2 s)"
      ]
     },
     "metadata": {},
     "output_type": "execute_result"
    }
   ],
   "source": [
    "\n",
    "fluxes_bs = bs.results.get_point_source_flux(100 * u.keV, 1 * u.MeV)"
   ]
  },
  {
   "cell_type": "code",
   "execution_count": null,
   "metadata": {},
   "outputs": [],
   "source": []
  },
  {
   "cell_type": "code",
   "execution_count": null,
   "metadata": {},
   "outputs": [],
   "source": []
  },
  {
   "cell_type": "code",
   "execution_count": null,
   "metadata": {},
   "outputs": [],
   "source": []
  },
  {
   "cell_type": "code",
   "execution_count": null,
   "metadata": {},
   "outputs": [],
   "source": []
  }
 ],
 "metadata": {
  "kernelspec": {
   "display_name": "Python 2",
   "language": "python",
   "name": "python2"
  },
  "language_info": {
   "codemirror_mode": {
    "name": "ipython",
    "version": 3
   },
   "file_extension": ".py",
   "mimetype": "text/x-python",
   "name": "python",
   "nbconvert_exporter": "python",
   "pygments_lexer": "ipython3",
   "version": "3.7.2"
  }
 },
 "nbformat": 4,
 "nbformat_minor": 2
}
