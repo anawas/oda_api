{
 "cells": [
  {
   "cell_type": "code",
   "execution_count": 8,
   "metadata": {},
   "outputs": [],
   "source": [
    "from oda_api.api import DispatcherAPI\n",
    "from oda_api.plot_tools import OdaImage,OdaLightCurve\n",
    "from oda_api.data_products import BinaryData\n",
    "import os\n",
    "%matplotlib notebook\n"
   ]
  },
  {
   "cell_type": "raw",
   "metadata": {},
   "source": [
    "### build the dispatcher object"
   ]
  },
  {
   "cell_type": "code",
   "execution_count": 12,
   "metadata": {},
   "outputs": [],
   "source": [
    "#external axcess\n",
    "#cookies=dict(_oauth2_proxy=open(os.environ.get('HOME')+'/.oda-api-token').read().strip())\n",
    "#disp=DispatcherAPI(host='analyse-staging-1.2.reproducible.online/dispatch-data',instrument='mock',cookies=cookies,protocol='https')\n",
    "\n",
    "#internal\n",
    "#disp=DispatcherAPI(host='cdcicn01.isdc.unige.ch:32003/dispatch-data',instrument='mock')\n",
    "\n",
    "#cdicweb01\n",
    "#disp=DispatcherAPI(host='10.194.169.161',port=32784,instrument='mock')\n",
    "\n",
    "#local\n",
    "#disp=DispatcherAPI(host='0.0.0.0',port=5000,instrument='mock')\n",
    " "
   ]
  },
  {
   "cell_type": "code",
   "execution_count": 13,
   "metadata": {
    "scrolled": false
   },
   "outputs": [
    {
     "name": "stdout",
     "output_type": "stream",
     "text": [
      "isgri\n",
      "jemx\n",
      "polar\n",
      "spi_acs\n"
     ]
    }
   ],
   "source": [
    "instr_list=disp.get_instruments_list()\n",
    "for i in instr_list:\n",
    "    print (i)"
   ]
  },
  {
   "cell_type": "code",
   "execution_count": null,
   "metadata": {},
   "outputs": [],
   "source": []
  },
  {
   "cell_type": "markdown",
   "metadata": {},
   "source": [
    "### get the description of the instrument"
   ]
  },
  {
   "cell_type": "code",
   "execution_count": null,
   "metadata": {},
   "outputs": [],
   "source": []
  },
  {
   "cell_type": "code",
   "execution_count": 13,
   "metadata": {},
   "outputs": [
    {
     "name": "stdout",
     "output_type": "stream",
     "text": [
      "\n",
      "--------------\n",
      "instrumet: isgri\n",
      "\n",
      "--------------\n",
      "query_name: src_query\n",
      " name: src_name,  value: test,  units: str, \n",
      " name: RA,  value: 0.0,  units: deg, \n",
      " name: DEC,  value: 0.0,  units: deg, \n",
      " name: T1,  value: 2001-12-11T00:00:00.000,  units: None, \n",
      " name: T2,  value: 2001-12-11T00:00:00.000,  units: None, \n",
      "\n",
      "--------------\n",
      "query_name: isgri_parameters\n",
      " name: user_catalog,  value: None,  units: str, \n",
      " name: scw_list,  value: [],  units: names_list, \n",
      " name: radius,  value: 5.0,  units: deg, \n",
      " name: max_pointings,  value: 50,  units: None, \n",
      " name: osa_version,  value: None,  units: str, \n",
      " name: E1_keV,  value: 10.0,  units: keV, \n",
      " name: E2_keV,  value: 40.0,  units: keV, \n",
      "\n",
      "--------------\n",
      "query_name: isgri_image_query\n",
      " product_name: isgri_image\n",
      " name: detection_threshold,  value: 0.0,  units: sigma, \n",
      " name: image_scale_min,  value: None,  units: None, \n",
      " name: image_scale_max,  value: None,  units: None, \n",
      "\n",
      "--------------\n",
      "query_name: isgri_spectrum_query\n",
      " product_name: isgri_spectrum\n",
      "\n",
      "--------------\n",
      "query_name: isgri_lc_query\n",
      " product_name: isgri_lc\n",
      " name: time_bin,  value: 1000.0,  units: sec, \n",
      "\n",
      "--------------\n",
      "query_name: spectral_fit_query\n",
      " product_name: spectral_fit\n",
      " name: xspec_model,  value: powerlaw,  units: str, \n",
      " name: ph_file_name,  value: ,  units: str, \n",
      " name: arf_file_name,  value: ,  units: str, \n",
      " name: rmf_file_name,  value: ,  units: str, \n"
     ]
    }
   ],
   "source": [
    "disp.get_instrument_description('isgri')"
   ]
  },
  {
   "cell_type": "markdown",
   "metadata": {},
   "source": [
    "### get the description of the product\n"
   ]
  },
  {
   "cell_type": "code",
   "execution_count": 14,
   "metadata": {},
   "outputs": [
    {
     "name": "stdout",
     "output_type": "stream",
     "text": [
      "--------------\n",
      "parameters for  product isgri_image and instrument isgri\n",
      "\n",
      "--------------\n",
      "instrumet: isgri\n",
      "\n",
      "--------------\n",
      "query_name: src_query\n",
      " name: src_name,  value: test,  units: str, \n",
      " name: RA,  value: 0.0,  units: deg, \n",
      " name: DEC,  value: 0.0,  units: deg, \n",
      " name: T1,  value: 2001-12-11T00:00:00.000,  units: None, \n",
      " name: T2,  value: 2001-12-11T00:00:00.000,  units: None, \n",
      "\n",
      "--------------\n",
      "query_name: isgri_parameters\n",
      " name: user_catalog,  value: None,  units: str, \n",
      " name: scw_list,  value: [],  units: names_list, \n",
      " name: radius,  value: 5.0,  units: deg, \n",
      " name: max_pointings,  value: 50,  units: None, \n",
      " name: osa_version,  value: None,  units: str, \n",
      " name: E1_keV,  value: 10.0,  units: keV, \n",
      " name: E2_keV,  value: 40.0,  units: keV, \n",
      "\n",
      "--------------\n",
      "query_name: isgri_image_query\n",
      " product_name: isgri_image\n",
      " name: detection_threshold,  value: 0.0,  units: sigma, \n",
      " name: image_scale_min,  value: None,  units: None, \n",
      " name: image_scale_max,  value: None,  units: None, \n"
     ]
    }
   ],
   "source": [
    "disp.get_product_description(instrument='isgri',product_name='isgri_image')"
   ]
  },
  {
   "cell_type": "markdown",
   "metadata": {},
   "source": [
    "### check query before submission\n",
    "we pass 'dry_run' to check if the request is correct without actually submitting it"
   ]
  },
  {
   "cell_type": "code",
   "execution_count": 15,
   "metadata": {},
   "outputs": [
    {
     "name": "stdout",
     "output_type": "stream",
     "text": [
      "waiting for remote response, please wait run_analysis https://analyse-staging-1.2.reproducible.online/dispatch-data\n",
      "\n",
      "\n",
      "query failed!\n",
      "Remote server message:-> failed: setting form parameters\n",
      "Remote server error_message-> ValueError(u\"Invalid character at col 0 in angle u'a'\",)\n",
      "Remote server debug_message-> \n"
     ]
    },
    {
     "ename": "RemoteException",
     "evalue": "Remote analysis exception",
     "traceback": [
      "\u001b[0;31m---------------------------------------------------------------------------\u001b[0m",
      "\u001b[0;31mRemoteException\u001b[0m                           Traceback (most recent call last)",
      "\u001b[0;32m<ipython-input-15-fbb1c3c7c2ac>\u001b[0m in \u001b[0;36m<module>\u001b[0;34m()\u001b[0m\n\u001b[1;32m      9\u001b[0m                       \u001b[0mradius\u001b[0m\u001b[0;34m=\u001b[0m\u001b[0;36m15.\u001b[0m\u001b[0;34m,\u001b[0m\u001b[0;34m\u001b[0m\u001b[0m\n\u001b[1;32m     10\u001b[0m                       \u001b[0mproduct_type\u001b[0m\u001b[0;34m=\u001b[0m\u001b[0;34m'Real'\u001b[0m\u001b[0;34m,\u001b[0m\u001b[0;34m\u001b[0m\u001b[0m\n\u001b[0;32m---> 11\u001b[0;31m                       dry_run=True)\n\u001b[0m",
      "\u001b[0;32m~/astro/Programmi/Projects/Active/CDCI_DATA_ANALYSIS/oda_api/oda_api/oda_api/api.py\u001b[0m in \u001b[0;36mget_product\u001b[0;34m(self, product, instrument, verbose, dry_run, product_type, **kwargs)\u001b[0m\n\u001b[1;32m    227\u001b[0m         \u001b[0mkwargs\u001b[0m\u001b[0;34m[\u001b[0m\u001b[0;34m'dry_run'\u001b[0m\u001b[0;34m]\u001b[0m \u001b[0;34m=\u001b[0m \u001b[0mdry_run\u001b[0m\u001b[0;34m,\u001b[0m\u001b[0;34m\u001b[0m\u001b[0m\n\u001b[1;32m    228\u001b[0m \u001b[0;34m\u001b[0m\u001b[0m\n\u001b[0;32m--> 229\u001b[0;31m         \u001b[0mres\u001b[0m \u001b[0;34m=\u001b[0m \u001b[0mself\u001b[0m\u001b[0;34m.\u001b[0m\u001b[0mrequest\u001b[0m\u001b[0;34m(\u001b[0m\u001b[0mkwargs\u001b[0m\u001b[0;34m)\u001b[0m\u001b[0;34m\u001b[0m\u001b[0m\n\u001b[0m\u001b[1;32m    230\u001b[0m         \u001b[0mdata\u001b[0m \u001b[0;34m=\u001b[0m \u001b[0;32mNone\u001b[0m\u001b[0;34m\u001b[0m\u001b[0m\n\u001b[1;32m    231\u001b[0m \u001b[0;34m\u001b[0m\u001b[0m\n",
      "\u001b[0;32m~/astro/Programmi/Projects/Active/CDCI_DATA_ANALYSIS/oda_api/oda_api/oda_api/api.py\u001b[0m in \u001b[0;36mrequest\u001b[0;34m(self, parameters_dict, handle, url)\u001b[0m\n\u001b[1;32m    120\u001b[0m         \u001b[0;32melse\u001b[0m\u001b[0;34m:\u001b[0m\u001b[0;34m\u001b[0m\u001b[0m\n\u001b[1;32m    121\u001b[0m \u001b[0;34m\u001b[0m\u001b[0m\n\u001b[0;32m--> 122\u001b[0;31m             \u001b[0;32mraise\u001b[0m \u001b[0mRemoteException\u001b[0m\u001b[0;34m(\u001b[0m\u001b[0mdebug_message\u001b[0m\u001b[0;34m=\u001b[0m\u001b[0mres\u001b[0m\u001b[0;34m.\u001b[0m\u001b[0mjson\u001b[0m\u001b[0;34m(\u001b[0m\u001b[0;34m)\u001b[0m\u001b[0;34m[\u001b[0m\u001b[0;34m'exit_status'\u001b[0m\u001b[0;34m]\u001b[0m\u001b[0;34m[\u001b[0m\u001b[0;34m'error_message'\u001b[0m\u001b[0;34m]\u001b[0m\u001b[0;34m)\u001b[0m\u001b[0;34m\u001b[0m\u001b[0m\n\u001b[0m\u001b[1;32m    123\u001b[0m \u001b[0;34m\u001b[0m\u001b[0m\n\u001b[1;32m    124\u001b[0m \u001b[0;34m\u001b[0m\u001b[0m\n",
      "\u001b[0;31mRemoteException\u001b[0m: Remote analysis exception"
     ],
     "output_type": "error"
    }
   ],
   "source": [
    "data=disp.get_product(instrument='isgri',\n",
    "                      product='isgri_image',\n",
    "                      T1='2003-03-15T23:27:40.0',\n",
    "                      T2='2003-03-16T00:03:12.0',\n",
    "                      osa_version='OSA10.2',\n",
    "                      RA='a',\n",
    "                      DEC=-37.844167,\n",
    "                      detection_threshold=5.0,\n",
    "                      radius=15.,\n",
    "                      product_type='Real',\n",
    "                      dry_run=True)"
   ]
  },
  {
   "cell_type": "markdown",
   "metadata": {},
   "source": [
    "### get the product\n",
    "now we skip the dry_run to actually get the products"
   ]
  },
  {
   "cell_type": "code",
   "execution_count": 16,
   "metadata": {
    "scrolled": false
   },
   "outputs": [
    {
     "name": "stdout",
     "output_type": "stream",
     "text": [
      "waiting for remote response, please wait run_analysis https://analyse-staging-1.2.reproducible.online/dispatch-data\n",
      "the job has been submitted on the remote server\n",
      " | the job is working remotely, please wait status=done - job_id=-6235342954244489107 \n",
      "\n",
      "query done succesfully!\n"
     ]
    }
   ],
   "source": [
    "data=disp.get_product(instrument='isgri',\n",
    "                      product='isgri_image',\n",
    "                      T1='2003-03-15T23:27:40.0',\n",
    "                      T2='2003-03-16T00:03:15.0',\n",
    "                      E1_keV=20.0,\n",
    "                      E2_keV=40.0,\n",
    "                      osa_version='OSA10.2',\n",
    "                      RA=255.986542,\n",
    "                      DEC=-37.844167,\n",
    "                      detection_threshold=5.0,\n",
    "                      radius=15.,\n",
    "                      product_type='Real')"
   ]
  },
  {
   "cell_type": "markdown",
   "metadata": {},
   "source": [
    "### the ODA data structure"
   ]
  },
  {
   "cell_type": "code",
   "execution_count": 17,
   "metadata": {},
   "outputs": [
    {
     "name": "stdout",
     "output_type": "stream",
     "text": [
      "------------------------------\n",
      "name: mosaic_image\n",
      "meta_data dict_keys(['src_name', 'instrument', 'product', 'query_parameters'])\n",
      "number of data units 1\n",
      "------------------------------\n",
      "data uniti 0 ,name: ISGR-MOSA-IMA\n"
     ]
    }
   ],
   "source": [
    "data=data[0]\n",
    "data.show()"
   ]
  },
  {
   "cell_type": "code",
   "execution_count": 18,
   "metadata": {},
   "outputs": [
    {
     "name": "stdout",
     "output_type": "stream",
     "text": [
      "------------------------------\n",
      "src_name : \n",
      "instrument : isgri\n",
      "product : mosaic\n",
      "query_parameters : [{\"query_name\": \"isgri_image_query\"}, {\"product_name\": \"isgri_image_query\"}, {\"units\": \"sigma\", \"name\": \"detection_threshold\", \"value\": \"5.0\"}, {\"units\": null, \"name\": \"image_scale_min\", \"value\": null}, {\"units\": null, \"name\": \"image_scale_max\", \"value\": null}]\n",
      "------------------------------\n"
     ]
    }
   ],
   "source": [
    "data.show_meta()"
   ]
  },
  {
   "cell_type": "code",
   "execution_count": 19,
   "metadata": {},
   "outputs": [
    {
     "data": {
      "text/plain": [
       "array([[0., 0., 0., ..., 0., 0., 0.],\n",
       "       [0., 0., 0., ..., 0., 0., 0.],\n",
       "       [0., 0., 0., ..., 0., 0., 0.],\n",
       "       ...,\n",
       "       [0., 0., 0., ..., 0., 0., 0.],\n",
       "       [0., 0., 0., ..., 0., 0., 0.],\n",
       "       [0., 0., 0., ..., 0., 0., 0.]], dtype=float32)"
      ]
     },
     "execution_count": 19,
     "metadata": {},
     "output_type": "execute_result"
    }
   ],
   "source": [
    "data.data_unit[0].data"
   ]
  },
  {
   "cell_type": "code",
   "execution_count": 20,
   "metadata": {},
   "outputs": [],
   "source": [
    "hdu=data.to_fits_hdu_list()"
   ]
  },
  {
   "cell_type": "code",
   "execution_count": 21,
   "metadata": {},
   "outputs": [
    {
     "data": {
      "text/plain": [
       "(455, 455)"
      ]
     },
     "execution_count": 21,
     "metadata": {},
     "output_type": "execute_result"
    }
   ],
   "source": [
    "data.data_unit[0].data.shape"
   ]
  },
  {
   "cell_type": "code",
   "execution_count": 22,
   "metadata": {},
   "outputs": [],
   "source": [
    "data.write_fits_file('test.fits',overwrite=True)"
   ]
  },
  {
   "cell_type": "markdown",
   "metadata": {},
   "source": [
    "### the ODA Image   plotting tool"
   ]
  },
  {
   "cell_type": "code",
   "execution_count": 25,
   "metadata": {},
   "outputs": [],
   "source": [
    "%matplotlib notebook\n",
    "im=OdaImage(data)"
   ]
  },
  {
   "cell_type": "code",
   "execution_count": 26,
   "metadata": {},
   "outputs": [
    {
     "data": {
      "text/plain": [
       "<IPython.core.display.Javascript object>"
      ]
     },
     "metadata": {},
     "output_type": "display_data"
    },
    {
     "data": {
      "text/html": [
       "<div id='72a2b2f0-109c-460b-a274-07c7d8221961'></div>"
      ],
      "text/plain": [
       "<IPython.core.display.HTML object>"
      ]
     },
     "metadata": {},
     "output_type": "execute_result"
    }
   ],
   "source": [
    "im.show()"
   ]
  },
  {
   "cell_type": "code",
   "execution_count": 27,
   "metadata": {},
   "outputs": [
    {
     "data": {
      "text/plain": [
       "{'BASETYPE': 'DAL_ARRAY',\n",
       " 'BITPIX': -32,\n",
       " 'BSCALE': 1,\n",
       " 'BUNIT': 'no units',\n",
       " 'BZERO': 0,\n",
       " 'CD1_1': -0.0822862539155913,\n",
       " 'CD1_2': 0.0,\n",
       " 'CD2_1': 0.0,\n",
       " 'CD2_2': 0.0822862539155913,\n",
       " 'CHANMAX': 40,\n",
       " 'CHANMIN': 20,\n",
       " 'CHANTYPE': 'PI',\n",
       " 'CHECKSUM': 'gESDiCPCgCPCgCPC',\n",
       " 'COMMENT': 'STAMP :',\n",
       " 'CONFIGUR': 'latest_osa_sw_2015-11-10T03:50:02',\n",
       " 'CREATOR': 'ii_skyimage 5.4.4',\n",
       " 'CRPIX1': 228.0,\n",
       " 'CRPIX2': 228.0,\n",
       " 'CRVAL1': 252.939376831055,\n",
       " 'CRVAL2': -32.649772644043,\n",
       " 'CTYPE1': 'RA---TAN',\n",
       " 'CTYPE2': 'DEC--TAN',\n",
       " 'CUNIT1': 'deg',\n",
       " 'CUNIT2': 'deg',\n",
       " 'DATASUM': '3562348081',\n",
       " 'DATE': '2018-12-14T10:42:40',\n",
       " 'DATE-END': '2003-03-15T23:57:39',\n",
       " 'DATE-OBS': '2003-03-15T23:27:53',\n",
       " 'DEADC': 0.775885283090927,\n",
       " 'DETNAM': 'ISGRI',\n",
       " 'EQUINOX': 2000.0,\n",
       " 'EXTNAME': 'ISGR-MOSA-IMA',\n",
       " 'EXTREL': '7.4',\n",
       " 'EXTVER': 3,\n",
       " 'E_MAX': 40.0,\n",
       " 'E_MEAN': 30.0,\n",
       " 'E_MIN': 20.0,\n",
       " 'GCOUNT': 1,\n",
       " 'GRPID1': 1,\n",
       " 'HDUCLAS1': 'IMAGE',\n",
       " 'HDUCLASS': 'OGIP',\n",
       " 'HDUDOC': 'ISDC-IBIS ICD',\n",
       " 'HDUVERS': '1.1.0',\n",
       " 'IMATYPE': 'SIGNIFICANCE',\n",
       " 'INSTRUME': 'IBIS',\n",
       " 'ISDCLEVL': 'IMA',\n",
       " 'LATPOLE': 0,\n",
       " 'LONGPOLE': 180,\n",
       " 'MJDREF': 51544.0,\n",
       " 'MOSASPR': 1,\n",
       " 'NAXIS': 2,\n",
       " 'NAXIS1': 455,\n",
       " 'NAXIS2': 455,\n",
       " 'OGID': 'String',\n",
       " 'ONTIME': 1587.05859375,\n",
       " 'ORIGIN': 'ISDC',\n",
       " 'PCOUNT': 0,\n",
       " 'RADECSYS': 'FK5',\n",
       " 'STAMP': '2018-12-14T10:42:40 ii_skyimage 5.4.4',\n",
       " 'TELAPSE': 1589.0,\n",
       " 'TELESCOP': 'INTEGRAL',\n",
       " 'TFIRST': 1169.97884473118,\n",
       " 'TIMEREF': 'LOCAL',\n",
       " 'TIMESYS': 'TT',\n",
       " 'TIMEUNIT': 'd',\n",
       " 'TLAST': 1169.99724526505,\n",
       " 'TSTART': 1169.97844975867,\n",
       " 'TSTOP': 1169.99912106495,\n",
       " 'XTENSION': 'IMAGE'}"
      ]
     },
     "execution_count": 27,
     "metadata": {},
     "output_type": "execute_result"
    }
   ],
   "source": [
    "data.data_unit[0].header"
   ]
  },
  {
   "cell_type": "markdown",
   "metadata": {},
   "source": [
    "### the ODA LC  plotting tool"
   ]
  },
  {
   "cell_type": "code",
   "execution_count": 28,
   "metadata": {},
   "outputs": [
    {
     "name": "stdout",
     "output_type": "stream",
     "text": [
      "waiting for remote response, please wait run_analysis https://analyse-staging-1.2.reproducible.online/dispatch-data\n",
      "the job has been submitted on the remote server\n",
      " - the job is working remotely, please wait status=done - job_id=815032431550934891 \n",
      "\n",
      "query done succesfully!\n"
     ]
    }
   ],
   "source": [
    "data=disp.get_product(instrument='isgri',\n",
    "                      product='isgri_lc',\n",
    "                      T1='2003-03-15T23:27:40.0',\n",
    "                      T2='2003-03-16T00:03:12.0',\n",
    "                      time_bin=70,\n",
    "                      osa_version='OSA10.2',\n",
    "                      RA=255.986542,\n",
    "                      DEC=-37.844167,\n",
    "                      detection_threshold=5.0,\n",
    "                      radius=15.,\n",
    "                      product_type='Real')"
   ]
  },
  {
   "cell_type": "code",
   "execution_count": 29,
   "metadata": {},
   "outputs": [],
   "source": [
    "d=data[5]"
   ]
  },
  {
   "cell_type": "code",
   "execution_count": 30,
   "metadata": {},
   "outputs": [
    {
     "data": {
      "text/plain": [
       "{'rate': 'RATE',\n",
       " 'rate_err': 'ERROR',\n",
       " 'src_name': 'IGR J17586-2129',\n",
       " 'time': 'TIME',\n",
       " 'time_bin': 0.000810143479094966}"
      ]
     },
     "execution_count": 30,
     "metadata": {},
     "output_type": "execute_result"
    }
   ],
   "source": [
    "d.meta_data"
   ]
  },
  {
   "cell_type": "code",
   "execution_count": 31,
   "metadata": {},
   "outputs": [
    {
     "name": "stdout",
     "output_type": "stream",
     "text": [
      "{'src_name': 'GX 349+2', 'rate': 'RATE', 'time_bin': 0.000810143479094966, 'rate_err': 'ERROR', 'time': 'TIME'}\n",
      "{'src_name': 'IGR J17285-2922', 'rate': 'RATE', 'time_bin': 0.000810143479094966, 'rate_err': 'ERROR', 'time': 'TIME'}\n",
      "{'src_name': 'AX J1700.2-4220', 'rate': 'RATE', 'time_bin': 0.000810143479094966, 'rate_err': 'ERROR', 'time': 'TIME'}\n",
      "{'src_name': 'IGR J17507-2856', 'rate': 'RATE', 'time_bin': 0.000810143479094966, 'rate_err': 'ERROR', 'time': 'TIME'}\n",
      "{'src_name': 'IGR J17508-3219', 'rate': 'RATE', 'time_bin': 0.000810143479094966, 'rate_err': 'ERROR', 'time': 'TIME'}\n",
      "{'src_name': 'IGR J17586-2129', 'rate': 'RATE', 'time_bin': 0.000810143479094966, 'rate_err': 'ERROR', 'time': 'TIME'}\n",
      "{'src_name': 'OAO 1657-415', 'rate': 'RATE', 'time_bin': 0.000810143479094966, 'rate_err': 'ERROR', 'time': 'TIME'}\n",
      "{'src_name': 'GRO J1719-24', 'rate': 'RATE', 'time_bin': 0.000810143479094966, 'rate_err': 'ERROR', 'time': 'TIME'}\n",
      "{'src_name': '4U 1735-444', 'rate': 'RATE', 'time_bin': 0.000810143479094966, 'rate_err': 'ERROR', 'time': 'TIME'}\n",
      "{'src_name': 'IGR J17326-3445', 'rate': 'RATE', 'time_bin': 0.000810143479094966, 'rate_err': 'ERROR', 'time': 'TIME'}\n",
      "{'src_name': '4U 1722-30', 'rate': 'RATE', 'time_bin': 0.000810143479094966, 'rate_err': 'ERROR', 'time': 'TIME'}\n",
      "{'src_name': 'IGR J17099-2418', 'rate': 'RATE', 'time_bin': 0.000810143479094966, 'rate_err': 'ERROR', 'time': 'TIME'}\n",
      "{'src_name': 'NEW_6', 'rate': 'RATE', 'time_bin': 0.000810143479094966, 'rate_err': 'ERROR', 'time': 'TIME'}\n",
      "{'src_name': 'NEW_4', 'rate': 'RATE', 'time_bin': 0.000810143479094966, 'rate_err': 'ERROR', 'time': 'TIME'}\n",
      "{'src_name': 'NEW_5', 'rate': 'RATE', 'time_bin': 0.000810143479094966, 'rate_err': 'ERROR', 'time': 'TIME'}\n",
      "{'src_name': 'NEW_2', 'rate': 'RATE', 'time_bin': 0.000810143479094966, 'rate_err': 'ERROR', 'time': 'TIME'}\n",
      "{'src_name': 'NEW_3', 'rate': 'RATE', 'time_bin': 0.000810143479094966, 'rate_err': 'ERROR', 'time': 'TIME'}\n",
      "{'src_name': 'NEW_1', 'rate': 'RATE', 'time_bin': 0.000810143479094966, 'rate_err': 'ERROR', 'time': 'TIME'}\n",
      "{'src_name': 'IGR J16248-4603', 'rate': 'RATE', 'time_bin': 0.000810143479094966, 'rate_err': 'ERROR', 'time': 'TIME'}\n",
      "{'src_name': 'IGR J17091-3624', 'rate': 'RATE', 'time_bin': 0.000810143479094966, 'rate_err': 'ERROR', 'time': 'TIME'}\n",
      "{'src_name': 'IGR J17191-2821', 'rate': 'RATE', 'time_bin': 0.000810143479094966, 'rate_err': 'ERROR', 'time': 'TIME'}\n",
      "{'src_name': 'IGR J17103-3341', 'rate': 'RATE', 'time_bin': 0.000810143479094966, 'rate_err': 'ERROR', 'time': 'TIME'}\n",
      "{'src_name': 'GRS 1747-312', 'rate': 'RATE', 'time_bin': 0.000810143479094966, 'rate_err': 'ERROR', 'time': 'TIME'}\n",
      "{'src_name': 'GX 354-0', 'rate': 'RATE', 'time_bin': 0.000810143479094966, 'rate_err': 'ERROR', 'time': 'TIME'}\n",
      "{'src_name': 'IGR J17314-2854', 'rate': 'RATE', 'time_bin': 0.000810143479094966, 'rate_err': 'ERROR', 'time': 'TIME'}\n",
      "{'src_name': 'GX 1+4', 'rate': 'RATE', 'time_bin': 0.000810143479094966, 'rate_err': 'ERROR', 'time': 'TIME'}\n",
      "{'src_name': 'H 1705-440', 'rate': 'RATE', 'time_bin': 0.000810143479094966, 'rate_err': 'ERROR', 'time': 'TIME'}\n",
      "{'src_name': '1RXS J174607.8-21333', 'rate': 'RATE', 'time_bin': 0.000810143479094966, 'rate_err': 'ERROR', 'time': 'TIME'}\n",
      "{'src_name': '4U 1700-377', 'rate': 'RATE', 'time_bin': 0.000810143479094966, 'rate_err': 'ERROR', 'time': 'TIME'}\n",
      "{'src_name': '1E 1740.7-2942', 'rate': 'RATE', 'time_bin': 0.000810143479094966, 'rate_err': 'ERROR', 'time': 'TIME'}\n"
     ]
    }
   ],
   "source": [
    "for s in data:\n",
    "    print (s.meta_data)"
   ]
  },
  {
   "cell_type": "code",
   "execution_count": 32,
   "metadata": {},
   "outputs": [
    {
     "data": {
      "text/plain": [
       "array([(1169.97924981, 198.35461, 437.45297 , 2.560371 , 16.756752 , 6.457998 , 0.9999995),\n",
       "       (1169.98006   , 193.66727, 126.646324, 2.4612792, 26.851568 , 6.381221 , 0.9999995),\n",
       "       (1169.98087017, 165.48798, 106.67175 , 2.2341907, 30.112095 , 5.7995043, 0.9999995),\n",
       "       (1169.98168037, 170.36319, 110.04073 , 2.2748673, 24.547153 , 5.9050727, 0.9999995),\n",
       "       (1169.98249057, 179.08556, 114.907425, 2.319844 , 19.534487 , 6.0552273, 0.9999995),\n",
       "       (1169.98330074, 170.404  , 113.80614 , 2.2976866, 35.34908  , 5.917109 , 0.9999995),\n",
       "       (1169.98411092, 177.87416, 112.59515 , 2.3153915, 46.75426  , 6.0594788, 0.9999995),\n",
       "       (1169.98492112, 170.02942, 107.77012 , 2.3239565, 44.09943  , 5.904361 , 0.9999995),\n",
       "       (1169.9857313 , 169.3733 , 108.96758 , 2.294586 , 38.917126 , 5.8867855, 0.9999995),\n",
       "       (1169.98654149, 164.62074, 105.818214, 2.196995 , 41.819798 , 5.79285  , 0.9999995),\n",
       "       (1169.98735168, 160.1174 , 100.87292 , 2.2091596, 19.254423 , 5.7093225, 0.9999995),\n",
       "       (1169.98816182, 155.62761,  96.28564 , 2.1253731, 27.0208   , 5.6491156, 0.9980645),\n",
       "       (1169.98897204, 157.76117,  99.53124 , 2.1842995,  5.4414988, 5.689717 , 0.9999995),\n",
       "       (1169.98978224, 160.51135, 101.27726 , 2.2166016, 24.804337 , 5.76037  , 0.9999995),\n",
       "       (1169.9905924 , 202.97316, 134.32904 , 2.508761 , 12.959747 , 6.5388417, 0.9987744),\n",
       "       (1169.9914026 , 186.44695, 121.30305 , 2.4868033, 19.698153 , 6.3498526, 0.9656138),\n",
       "       (1169.99221276, 174.3811 , 113.04454 , 2.3120182, 17.881779 , 6.0166554, 0.9999995),\n",
       "       (1169.99302296, 165.1697 , 104.734985, 2.2342746, 16.395714 , 5.8019214, 0.9999995),\n",
       "       (1169.99383313, 162.44868, 102.406204, 2.2399845, 20.798388 , 5.7825265, 0.9999995),\n",
       "       (1169.99464334, 161.5848 , 103.45639 , 2.2202725, 25.759254 , 5.7537603, 0.9983044),\n",
       "       (1169.99545352, 161.81468, 102.12336 , 2.1989408, 13.644187 , 5.7544456, 0.9999995),\n",
       "       (1169.99626372, 163.90817, 103.48788 , 2.1763616, 22.161682 , 5.7832775, 0.9999995),\n",
       "       (1169.99695709, 166.75832,  99.20768 , 2.6200924, 17.814016 , 6.9220653, 0.9999995)],\n",
       "      dtype=(numpy.record, [('TIME', '>f8'), ('TOT_COUNTS', '>f4'), ('BACKV', '>f4'), ('BACKE', '>f4'), ('RATE', '>f4'), ('ERROR', '>f4'), ('FRACEXP', '>f4')]))"
      ]
     },
     "execution_count": 32,
     "metadata": {},
     "output_type": "execute_result"
    }
   ],
   "source": [
    "lc=data[0]\n",
    "lc.data_unit[1].data"
   ]
  },
  {
   "cell_type": "code",
   "execution_count": 33,
   "metadata": {},
   "outputs": [
    {
     "name": "stdout",
     "output_type": "stream",
     "text": [
      "------------------------------\n",
      "name: isgri_lc\n",
      "meta_data dict_keys(['src_name', 'rate', 'time_bin', 'rate_err', 'time'])\n",
      "number of data units 2\n",
      "------------------------------\n",
      "data uniti 0 ,name: PRIMARY\n",
      "data uniti 1 ,name: ISGR-SRC.-LCR\n"
     ]
    }
   ],
   "source": [
    "lc.show()"
   ]
  },
  {
   "cell_type": "code",
   "execution_count": 34,
   "metadata": {},
   "outputs": [
    {
     "data": {
      "text/plain": [
       "{'rate': 'RATE',\n",
       " 'rate_err': 'ERROR',\n",
       " 'src_name': 'GX 349+2',\n",
       " 'time': 'TIME',\n",
       " 'time_bin': 0.000810143479094966}"
      ]
     },
     "execution_count": 34,
     "metadata": {},
     "output_type": "execute_result"
    }
   ],
   "source": [
    "lc.meta_data"
   ]
  },
  {
   "cell_type": "code",
   "execution_count": 35,
   "metadata": {},
   "outputs": [
    {
     "data": {
      "text/plain": [
       "<IPython.core.display.Javascript object>"
      ]
     },
     "metadata": {},
     "output_type": "display_data"
    },
    {
     "data": {
      "text/html": [
       "<div id='3d99bd97-6ac2-45da-b410-8950dd98e51b'></div>"
      ],
      "text/plain": [
       "<IPython.core.display.HTML object>"
      ]
     },
     "metadata": {},
     "output_type": "execute_result"
    }
   ],
   "source": [
    "OdaLightCurve(lc).show(unit_ID=1)"
   ]
  },
  {
   "cell_type": "code",
   "execution_count": 36,
   "metadata": {},
   "outputs": [
    {
     "data": {
      "text/plain": [
       "{'BITPIX': 8, 'EXTEND': True, 'NAXIS': 0, 'SIMPLE': True}"
      ]
     },
     "execution_count": 36,
     "metadata": {},
     "output_type": "execute_result"
    }
   ],
   "source": [
    "lc.data_unit[0].header"
   ]
  },
  {
   "cell_type": "markdown",
   "metadata": {},
   "source": [
    "### Polar LC"
   ]
  },
  {
   "cell_type": "code",
   "execution_count": 37,
   "metadata": {},
   "outputs": [
    {
     "name": "stdout",
     "output_type": "stream",
     "text": [
      "waiting for remote response, please wait run_analysis https://analyse-staging-1.2.reproducible.online/dispatch-data\n",
      "\n",
      "\n",
      "query done succesfully!\n"
     ]
    }
   ],
   "source": [
    "#conda create --name=polar_root root=5 python=3 -c nlesc\n",
    "#source activate poloar_root\n",
    "#conda install astropy future -c nlesc\n",
    "#conda install -c conda-forge json_tricks\n",
    "#from oda_api.api import DispatcherAPI\n",
    "#from oda_api.data_products import BinaryData\n",
    "#from oda_api.plot_tools import OdaImage,OdaLightCurve\n",
    "#disp=DispatcherAPI(host='10.194.169.161',port=32784,instrument='mock',protocol='http')\n",
    "data=disp.get_product(instrument='polar',product='polar_lc',T1='2016-12-18T08:32:21.000',T2='2016-12-18T08:34:01.000',time_bin=0.5,verbose=True,dry_run=False)"
   ]
  },
  {
   "cell_type": "code",
   "execution_count": 38,
   "metadata": {},
   "outputs": [
    {
     "data": {
      "text/plain": [
       "5022"
      ]
     },
     "execution_count": 38,
     "metadata": {},
     "output_type": "execute_result"
    }
   ],
   "source": [
    "lc=data[0]\n",
    "root=data[1]\n",
    "open('lc.root', \"wb\").write(root)"
   ]
  },
  {
   "cell_type": "code",
   "execution_count": 39,
   "metadata": {},
   "outputs": [
    {
     "data": {
      "text/plain": [
       "5022"
      ]
     },
     "execution_count": 39,
     "metadata": {},
     "output_type": "execute_result"
    }
   ],
   "source": [
    " open('lc.root', \"wb\").write(root)"
   ]
  },
  {
   "cell_type": "code",
   "execution_count": 40,
   "metadata": {},
   "outputs": [
    {
     "data": {
      "text/plain": [
       "<IPython.core.display.Javascript object>"
      ]
     },
     "metadata": {},
     "output_type": "display_data"
    },
    {
     "data": {
      "text/html": [
       "<div id='d6754638-8fa9-4873-b037-07a661274817'></div>"
      ],
      "text/plain": [
       "<IPython.core.display.HTML object>"
      ]
     },
     "metadata": {},
     "output_type": "execute_result"
    }
   ],
   "source": [
    "OdaLightCurve(lc).show(unit_ID=0)"
   ]
  },
  {
   "cell_type": "markdown",
   "metadata": {},
   "source": [
    "### SPIACS LC"
   ]
  },
  {
   "cell_type": "code",
   "execution_count": 14,
   "metadata": {},
   "outputs": [
    {
     "name": "stdout",
     "output_type": "stream",
     "text": [
      "\n",
      "--------------\n",
      "instrumet: spi_acs\n",
      "\n",
      "--------------\n",
      "query_name: src_query\n",
      " name: src_name,  value: test,  units: str, \n",
      " name: RA,  value: 0.0,  units: deg, \n",
      " name: DEC,  value: 0.0,  units: deg, \n",
      " name: T1,  value: 2001-12-11T00:00:00.000,  units: None, \n",
      " name: T2,  value: 2001-12-11T00:00:00.000,  units: None, \n",
      "\n",
      "--------------\n",
      "query_name: spiacs_parameters\n",
      " name: user_catalog,  value: None,  units: str, \n",
      " name: [],  value: [],  units: names_list, \n",
      "\n",
      "--------------\n",
      "query_name: spi_acs_lc_query\n",
      " product_name: spi_acs_lc\n",
      " name: time_bin,  value: 1000.0,  units: sec, \n"
     ]
    }
   ],
   "source": [
    "disp.get_instrument_description('spi_acs')"
   ]
  },
  {
   "cell_type": "code",
   "execution_count": 15,
   "metadata": {},
   "outputs": [
    {
     "name": "stdout",
     "output_type": "stream",
     "text": [
      "waiting for remote response, please wait run_analysis http://10.194.169.161:32784\n",
      "\n",
      "\n",
      "query done succesfully!\n"
     ]
    }
   ],
   "source": [
    "data=disp.get_product(instrument='spi_acs',\n",
    "                      product='spi_acs_lc',\n",
    "                      T1='2003-03-15T23:27:40.0',\n",
    "                      T2='2003-03-15T23:57:12.0',\n",
    "                      time_bin=2,\n",
    "                      osa_version='OSA10.2',\n",
    "                      RA=255.986542,\n",
    "                      DEC=-37.844167,\n",
    "                      detection_threshold=5.0,\n",
    "                      radius=15.,\n",
    "                      product_type='Real')"
   ]
  },
  {
   "cell_type": "code",
   "execution_count": 16,
   "metadata": {},
   "outputs": [],
   "source": [
    "lc=data[0]\n"
   ]
  },
  {
   "cell_type": "code",
   "execution_count": 17,
   "metadata": {},
   "outputs": [
    {
     "name": "stdout",
     "output_type": "stream",
     "text": [
      "------------------------------\n",
      "name: \n",
      "meta_data dict_keys(['src_name', 'rate', 'time_bin', 'rate_err', 'time'])\n",
      "number of data units 1\n",
      "------------------------------\n",
      "data uniti 0 ,name: RATE\n"
     ]
    }
   ],
   "source": [
    "lc.show()"
   ]
  },
  {
   "cell_type": "code",
   "execution_count": 18,
   "metadata": {},
   "outputs": [
    {
     "data": {
      "text/plain": [
       "{'BITPIX': 8,\n",
       " 'EXTNAME': 'RATE',\n",
       " 'GCOUNT': 1,\n",
       " 'INSTRUME': 'SPIACS',\n",
       " 'MJDREF': 51544.0,\n",
       " 'NAXIS': 2,\n",
       " 'NAXIS1': 24,\n",
       " 'NAXIS2': 886,\n",
       " 'ONTIME': 1772.0,\n",
       " 'PCOUNT': 0,\n",
       " 'TELESCOP': 'INTEGRAL',\n",
       " 'TFIELDS': 3,\n",
       " 'TFORM1': 'D',\n",
       " 'TFORM2': 'D',\n",
       " 'TFORM3': 'D',\n",
       " 'TIMEREF': 'LOCAL',\n",
       " 'TIMESYS': 'TT',\n",
       " 'TIMEUNIT': 's',\n",
       " 'TIMEZERO': -885.993,\n",
       " 'TSTART': 101086060.00700004,\n",
       " 'TSTOP': 101087832.00700004,\n",
       " 'TTYPE1': 'TIME',\n",
       " 'TTYPE2': 'RATE',\n",
       " 'TTYPE3': 'ERROR',\n",
       " 'XTENSION': 'BINTABLE'}"
      ]
     },
     "execution_count": 18,
     "metadata": {},
     "output_type": "execute_result"
    }
   ],
   "source": [
    "lc.data_unit[0].header"
   ]
  },
  {
   "cell_type": "code",
   "execution_count": 22,
   "metadata": {
    "scrolled": true
   },
   "outputs": [
    {
     "data": {
      "text/plain": [
       "array([(-885.018, 75779. , 194.65225403),\n",
       "       (-883.018, 75484. , 194.27300379),\n",
       "       (-881.018, 76190. , 195.17940465),\n",
       "       (-879.018, 75694.5, 194.54369689),\n",
       "       (-877.018, 75322. , 194.06442229),\n",
       "       (-875.018, 76017.5, 194.95832888),\n",
       "       (-873.018, 75529. , 194.33090336),\n",
       "       (-871.018, 75815. , 194.69848484),\n",
       "       (-869.018, 76324. , 195.35096621),\n",
       "       (-867.018, 75448.5, 194.22731528)],\n",
       "      dtype=[('TIME', '<f8'), ('RATE', '<f8'), ('ERROR', '<f8')])"
      ]
     },
     "execution_count": 22,
     "metadata": {},
     "output_type": "execute_result"
    }
   ],
   "source": [
    "lc.data_unit[0].data[0:10]"
   ]
  },
  {
   "cell_type": "code",
   "execution_count": 23,
   "metadata": {},
   "outputs": [
    {
     "data": {
      "text/plain": [
       "<IPython.core.display.Javascript object>"
      ]
     },
     "metadata": {},
     "output_type": "display_data"
    },
    {
     "data": {
      "text/html": [
       "<img src=\"data:image/png;base64,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\" width=\"800\">"
      ],
      "text/plain": [
       "<IPython.core.display.HTML object>"
      ]
     },
     "metadata": {},
     "output_type": "execute_result"
    }
   ],
   "source": [
    "OdaLightCurve(lc).show(unit_ID=0)"
   ]
  },
  {
   "cell_type": "markdown",
   "metadata": {},
   "source": [
    "### the ODA  and spectra"
   ]
  },
  {
   "cell_type": "code",
   "execution_count": 41,
   "metadata": {
    "scrolled": false
   },
   "outputs": [
    {
     "name": "stdout",
     "output_type": "stream",
     "text": [
      "waiting for remote response, please wait run_analysis https://analyse-staging-1.2.reproducible.online/dispatch-data\n",
      "the job has been submitted on the remote server\n",
      " | the job is working remotely, please wait status=done - job_id=-1255063856769622835 \n",
      "\n",
      "query done succesfully!\n"
     ]
    }
   ],
   "source": [
    "data=disp.get_product(instrument='isgri',\n",
    "                      product='isgri_spectrum',\n",
    "                      T1='2003-03-15T23:27:40.0',\n",
    "                      T2='2003-03-16T00:03:12.0',\n",
    "                      time_bin=50,\n",
    "                      osa_version='OSA10.2',\n",
    "                      RA=255.986542,\n",
    "                      DEC=-37.844167,\n",
    "                      detection_threshold=5.0,\n",
    "                      radius=15.,\n",
    "                      product_type='Real' )"
   ]
  },
  {
   "cell_type": "code",
   "execution_count": 42,
   "metadata": {},
   "outputs": [
    {
     "name": "stdout",
     "output_type": "stream",
     "text": [
      "0 {'src_name': 'GX 349+2', 'product': 'isgri_spectrum'}\n",
      "1 {'src_name': 'GX 349+2', 'product': 'isgri_arf'}\n",
      "2 {'src_name': 'GX 349+2', 'product': 'isgri_rmf'}\n",
      "3 {'src_name': 'IGR J17285-2922', 'product': 'isgri_spectrum'}\n",
      "4 {'src_name': 'IGR J17285-2922', 'product': 'isgri_arf'}\n",
      "5 {'src_name': 'IGR J17285-2922', 'product': 'isgri_rmf'}\n",
      "6 {'src_name': 'AX J1700.2-4220', 'product': 'isgri_spectrum'}\n",
      "7 {'src_name': 'AX J1700.2-4220', 'product': 'isgri_arf'}\n",
      "8 {'src_name': 'AX J1700.2-4220', 'product': 'isgri_rmf'}\n",
      "9 {'src_name': 'IGR J17507-2856', 'product': 'isgri_spectrum'}\n",
      "10 {'src_name': 'IGR J17507-2856', 'product': 'isgri_arf'}\n",
      "11 {'src_name': 'IGR J17507-2856', 'product': 'isgri_rmf'}\n",
      "12 {'src_name': 'IGR J17508-3219', 'product': 'isgri_spectrum'}\n",
      "13 {'src_name': 'IGR J17508-3219', 'product': 'isgri_arf'}\n",
      "14 {'src_name': 'IGR J17508-3219', 'product': 'isgri_rmf'}\n",
      "15 {'src_name': 'IGR J17586-2129', 'product': 'isgri_spectrum'}\n",
      "16 {'src_name': 'IGR J17586-2129', 'product': 'isgri_arf'}\n",
      "17 {'src_name': 'IGR J17586-2129', 'product': 'isgri_rmf'}\n",
      "18 {'src_name': 'OAO 1657-415', 'product': 'isgri_spectrum'}\n",
      "19 {'src_name': 'OAO 1657-415', 'product': 'isgri_arf'}\n",
      "20 {'src_name': 'OAO 1657-415', 'product': 'isgri_rmf'}\n",
      "21 {'src_name': 'GRO J1719-24', 'product': 'isgri_spectrum'}\n",
      "22 {'src_name': 'GRO J1719-24', 'product': 'isgri_arf'}\n",
      "23 {'src_name': 'GRO J1719-24', 'product': 'isgri_rmf'}\n",
      "24 {'src_name': '4U 1735-444', 'product': 'isgri_spectrum'}\n",
      "25 {'src_name': '4U 1735-444', 'product': 'isgri_arf'}\n",
      "26 {'src_name': '4U 1735-444', 'product': 'isgri_rmf'}\n",
      "27 {'src_name': 'IGR J17326-3445', 'product': 'isgri_spectrum'}\n",
      "28 {'src_name': 'IGR J17326-3445', 'product': 'isgri_arf'}\n",
      "29 {'src_name': 'IGR J17326-3445', 'product': 'isgri_rmf'}\n",
      "30 {'src_name': 'Background', 'product': 'isgri_spectrum'}\n",
      "31 {'src_name': 'Background', 'product': 'isgri_arf'}\n",
      "32 {'src_name': 'Background', 'product': 'isgri_rmf'}\n",
      "33 {'src_name': '4U 1722-30', 'product': 'isgri_spectrum'}\n",
      "34 {'src_name': '4U 1722-30', 'product': 'isgri_arf'}\n",
      "35 {'src_name': '4U 1722-30', 'product': 'isgri_rmf'}\n",
      "36 {'src_name': 'IGR J17099-2418', 'product': 'isgri_spectrum'}\n",
      "37 {'src_name': 'IGR J17099-2418', 'product': 'isgri_arf'}\n",
      "38 {'src_name': 'IGR J17099-2418', 'product': 'isgri_rmf'}\n",
      "39 {'src_name': 'NEW_6', 'product': 'isgri_spectrum'}\n",
      "40 {'src_name': 'NEW_6', 'product': 'isgri_arf'}\n",
      "41 {'src_name': 'NEW_6', 'product': 'isgri_rmf'}\n",
      "42 {'src_name': 'NEW_4', 'product': 'isgri_spectrum'}\n",
      "43 {'src_name': 'NEW_4', 'product': 'isgri_arf'}\n",
      "44 {'src_name': 'NEW_4', 'product': 'isgri_rmf'}\n",
      "45 {'src_name': 'NEW_5', 'product': 'isgri_spectrum'}\n",
      "46 {'src_name': 'NEW_5', 'product': 'isgri_arf'}\n",
      "47 {'src_name': 'NEW_5', 'product': 'isgri_rmf'}\n",
      "48 {'src_name': 'NEW_2', 'product': 'isgri_spectrum'}\n",
      "49 {'src_name': 'NEW_2', 'product': 'isgri_arf'}\n",
      "50 {'src_name': 'NEW_2', 'product': 'isgri_rmf'}\n",
      "51 {'src_name': 'NEW_3', 'product': 'isgri_spectrum'}\n",
      "52 {'src_name': 'NEW_3', 'product': 'isgri_arf'}\n",
      "53 {'src_name': 'NEW_3', 'product': 'isgri_rmf'}\n",
      "54 {'src_name': 'NEW_1', 'product': 'isgri_spectrum'}\n",
      "55 {'src_name': 'NEW_1', 'product': 'isgri_arf'}\n",
      "56 {'src_name': 'NEW_1', 'product': 'isgri_rmf'}\n",
      "57 {'src_name': 'IGR J16248-4603', 'product': 'isgri_spectrum'}\n",
      "58 {'src_name': 'IGR J16248-4603', 'product': 'isgri_arf'}\n",
      "59 {'src_name': 'IGR J16248-4603', 'product': 'isgri_rmf'}\n",
      "60 {'src_name': 'IGR J17091-3624', 'product': 'isgri_spectrum'}\n",
      "61 {'src_name': 'IGR J17091-3624', 'product': 'isgri_arf'}\n",
      "62 {'src_name': 'IGR J17091-3624', 'product': 'isgri_rmf'}\n",
      "63 {'src_name': 'IGR J17191-2821', 'product': 'isgri_spectrum'}\n",
      "64 {'src_name': 'IGR J17191-2821', 'product': 'isgri_arf'}\n",
      "65 {'src_name': 'IGR J17191-2821', 'product': 'isgri_rmf'}\n",
      "66 {'src_name': 'IGR J17103-3341', 'product': 'isgri_spectrum'}\n",
      "67 {'src_name': 'IGR J17103-3341', 'product': 'isgri_arf'}\n",
      "68 {'src_name': 'IGR J17103-3341', 'product': 'isgri_rmf'}\n",
      "69 {'src_name': 'GRS 1747-312', 'product': 'isgri_spectrum'}\n",
      "70 {'src_name': 'GRS 1747-312', 'product': 'isgri_arf'}\n",
      "71 {'src_name': 'GRS 1747-312', 'product': 'isgri_rmf'}\n",
      "72 {'src_name': 'GX 354-0', 'product': 'isgri_spectrum'}\n",
      "73 {'src_name': 'GX 354-0', 'product': 'isgri_arf'}\n",
      "74 {'src_name': 'GX 354-0', 'product': 'isgri_rmf'}\n",
      "75 {'src_name': 'IGR J17314-2854', 'product': 'isgri_spectrum'}\n",
      "76 {'src_name': 'IGR J17314-2854', 'product': 'isgri_arf'}\n",
      "77 {'src_name': 'IGR J17314-2854', 'product': 'isgri_rmf'}\n",
      "78 {'src_name': 'GX 1+4', 'product': 'isgri_spectrum'}\n",
      "79 {'src_name': 'GX 1+4', 'product': 'isgri_arf'}\n",
      "80 {'src_name': 'GX 1+4', 'product': 'isgri_rmf'}\n",
      "81 {'src_name': 'H 1705-440', 'product': 'isgri_spectrum'}\n",
      "82 {'src_name': 'H 1705-440', 'product': 'isgri_arf'}\n",
      "83 {'src_name': 'H 1705-440', 'product': 'isgri_rmf'}\n",
      "84 {'src_name': '1RXS J174607.8-21333', 'product': 'isgri_spectrum'}\n",
      "85 {'src_name': '1RXS J174607.8-21333', 'product': 'isgri_arf'}\n",
      "86 {'src_name': '1RXS J174607.8-21333', 'product': 'isgri_rmf'}\n",
      "87 {'src_name': '4U 1700-377', 'product': 'isgri_spectrum'}\n",
      "88 {'src_name': '4U 1700-377', 'product': 'isgri_arf'}\n",
      "89 {'src_name': '4U 1700-377', 'product': 'isgri_rmf'}\n",
      "90 {'src_name': '1E 1740.7-2942', 'product': 'isgri_spectrum'}\n",
      "91 {'src_name': '1E 1740.7-2942', 'product': 'isgri_arf'}\n",
      "92 {'src_name': '1E 1740.7-2942', 'product': 'isgri_rmf'}\n"
     ]
    }
   ],
   "source": [
    "for ID,s in enumerate(data):\n",
    "    print (ID,s.meta_data)"
   ]
  },
  {
   "cell_type": "code",
   "execution_count": 43,
   "metadata": {
    "scrolled": false
   },
   "outputs": [],
   "source": [
    "data[87].write_fits_file('spec.fits')\n",
    "data[88].write_fits_file('arf.fits')\n",
    "data[89].write_fits_file('rmf.fits')\n"
   ]
  },
  {
   "cell_type": "code",
   "execution_count": 44,
   "metadata": {},
   "outputs": [
    {
     "name": "stdout",
     "output_type": "stream",
     "text": [
      "------------------------------\n",
      "name: \n",
      "meta_data dict_keys(['src_name', 'product'])\n",
      "number of data units 4\n",
      "------------------------------\n",
      "data uniti 0 ,name: PRIMARY\n",
      "data uniti 1 ,name: GROUPING\n",
      "data uniti 2 ,name: ISGR-RMF.-RSP\n",
      "data uniti 3 ,name: ISGR-EBDS-MOD\n"
     ]
    }
   ],
   "source": [
    "s.show()"
   ]
  },
  {
   "cell_type": "code",
   "execution_count": 45,
   "metadata": {},
   "outputs": [],
   "source": [
    "d=data[3]"
   ]
  },
  {
   "cell_type": "code",
   "execution_count": null,
   "metadata": {},
   "outputs": [],
   "source": []
  },
  {
   "cell_type": "code",
   "execution_count": 46,
   "metadata": {},
   "outputs": [
    {
     "data": {
      "text/plain": [
       "{'ANCRFILE': 'NONE',\n",
       " 'AREASCAL': 1,\n",
       " 'BACKFILE': 'NONE',\n",
       " 'BACKSCAL': 1,\n",
       " 'BASETYPE': 'DAL_TABLE',\n",
       " 'BITPIX': 8,\n",
       " 'BKGPARAM': 'rebinned_back_spe.fits',\n",
       " 'CHANTYPE': 'PI',\n",
       " 'CHECKSUM': 'oKaFoJWEoJaEoJUE',\n",
       " 'COMMENT': '  on the next keyword which has the name CONTINUE.',\n",
       " 'CONFIGUR': 'latest_osa_sw_2015-11-10T03:50:02',\n",
       " 'CORRFILE': 'NONE',\n",
       " 'CORRSCAL': 0,\n",
       " 'CREATOR': 'ISGRISpectraSum.v5.4.2.extractall',\n",
       " 'DATASUM': '3507849637',\n",
       " 'DATE': '2018-12-14T13:50:24.083597',\n",
       " 'DEADC': 0.775885283090927,\n",
       " 'DEC_OBJ': -29.3624725341797,\n",
       " 'DETCHANS': 62,\n",
       " 'DETNAM': 'ISGRI',\n",
       " 'EQUINOX': 2000.0,\n",
       " 'EXPOSURE': 1198.97207125461,\n",
       " 'EXP_SRC': 417.510009765625,\n",
       " 'EXTNAME': 'ISGR-EVTS-SPE',\n",
       " 'EXTREL': '10.4',\n",
       " 'EXTVER': 13,\n",
       " 'FILTER': 'none',\n",
       " 'FITTYPE': 6,\n",
       " 'GCOUNT': 1,\n",
       " 'GRPID1': 1,\n",
       " 'HDUCLAS1': 'SPECTRUM',\n",
       " 'HDUCLAS2': 'TOTAL',\n",
       " 'HDUCLAS3': 'RATE',\n",
       " 'HDUCLASS': 'OGIP',\n",
       " 'HDUVERS': '1.2.1',\n",
       " 'INSTRUME': 'IBIS',\n",
       " 'ISDCLEVL': 'SPE',\n",
       " 'LONGSTRN': 'OGIP 1.0',\n",
       " 'MJDREF': 51544.0,\n",
       " 'NAME': 'IGR J17285-2922',\n",
       " 'NAXIS': 2,\n",
       " 'NAXIS1': 18,\n",
       " 'NAXIS2': 62,\n",
       " 'OFFCORR': 'rebinned_corr_spe.fits',\n",
       " 'ONTIME': 1587.05859375,\n",
       " 'ORIGIN': 'ISDC',\n",
       " 'PCOUNT': 0,\n",
       " 'RADECSYS': 'FK5',\n",
       " 'RA_OBJ': 262.162506103516,\n",
       " 'RESPFILE': 'NONE',\n",
       " 'REVOL': 51,\n",
       " 'SOURCEID': 'J172839.0-292145',\n",
       " 'STAMP': '',\n",
       " 'SW_TYPE': 'POINTING',\n",
       " 'TELAPSE': 1589.0,\n",
       " 'TELESCOP': 'INTEGRAL',\n",
       " 'TFIELDS': 6,\n",
       " 'TFORM1': '1I',\n",
       " 'TFORM2': '1E',\n",
       " 'TFORM3': '1E',\n",
       " 'TFORM4': '1E',\n",
       " 'TFORM5': '1I',\n",
       " 'TFORM6': '1I',\n",
       " 'TIMEREF': 'LOCAL',\n",
       " 'TIMESYS': 'TT',\n",
       " 'TIMEUNIT': 'd',\n",
       " 'TLMAX1': 61,\n",
       " 'TLMIN1': 0,\n",
       " 'TSTART': 1169.97844975867,\n",
       " 'TSTOP': 1169.99912106495,\n",
       " 'TTYPE1': 'CHANNEL',\n",
       " 'TTYPE2': 'RATE',\n",
       " 'TTYPE3': 'SYS_ERR',\n",
       " 'TTYPE4': 'STAT_ERR',\n",
       " 'TTYPE5': 'QUALITY',\n",
       " 'TTYPE6': 'GROUPING',\n",
       " 'TUNIT2': 'count/s',\n",
       " 'TUNIT3': '',\n",
       " 'TUNIT4': 'count/s',\n",
       " 'XTENSION': 'BINTABLE'}"
      ]
     },
     "execution_count": 46,
     "metadata": {},
     "output_type": "execute_result"
    }
   ],
   "source": [
    "d.data_unit[1].header"
   ]
  },
  {
   "cell_type": "markdown",
   "metadata": {},
   "source": [
    "### JEM-X test"
   ]
  },
  {
   "cell_type": "code",
   "execution_count": 53,
   "metadata": {},
   "outputs": [
    {
     "name": "stdout",
     "output_type": "stream",
     "text": [
      "\n",
      "--------------\n",
      "instrumet: jemx\n",
      "\n",
      "--------------\n",
      "query_name: src_query\n",
      " name: src_name,  value: test,  units: str, \n",
      " name: RA,  value: 0.0,  units: deg, \n",
      " name: DEC,  value: 0.0,  units: deg, \n",
      " name: T1,  value: 2001-12-11T00:00:00.000,  units: None, \n",
      " name: T2,  value: 2001-12-11T00:00:00.000,  units: None, \n",
      "\n",
      "--------------\n",
      "query_name: jemx_parameters\n",
      " name: user_catalog,  value: None,  units: str, \n",
      " name: scw_list,  value: [],  units: names_list, \n",
      " name: radius,  value: 5.0,  units: deg, \n",
      " name: max_pointings,  value: 50,  units: None, \n",
      " name: osa_version,  value: None,  units: str, \n",
      " name: jemx_num,  value: 2,  units: None, \n",
      " name: E1_keV,  value: 3.0,  units: keV, \n",
      " name: E2_keV,  value: 35.0,  units: keV, \n",
      "\n",
      "--------------\n",
      "query_name: jemx_image_query\n",
      " product_name: jemx_image\n",
      " name: detection_threshold,  value: 0.0,  units: sigma, \n",
      " name: image_scale_min,  value: None,  units: None, \n",
      " name: image_scale_max,  value: None,  units: None, \n",
      "\n",
      "--------------\n",
      "query_name: jemx_spectrum_query\n",
      " product_name: jemx_spectrum\n",
      "\n",
      "--------------\n",
      "query_name: spectral_fit_query\n",
      " product_name: spectral_fit\n",
      " name: xspec_model,  value: powerlaw,  units: str, \n",
      " name: ph_file_name,  value: ,  units: str, \n",
      " name: arf_file_name,  value: ,  units: str, \n",
      " name: rmf_file_name,  value: ,  units: str, \n",
      "\n",
      "--------------\n",
      "query_name: jemx_lc_query\n",
      " product_name: jemx_lc\n",
      " name: time_bin,  value: 1000.0,  units: sec, \n"
     ]
    }
   ],
   "source": [
    "disp.get_instrument_description('jemx')"
   ]
  },
  {
   "cell_type": "code",
   "execution_count": 51,
   "metadata": {},
   "outputs": [
    {
     "name": "stdout",
     "output_type": "stream",
     "text": [
      "waiting for remote response, please wait run_analysis https://analyse-staging-1.2.reproducible.online/dispatch-data\n",
      "the job has been submitted on the remote server\n",
      " - the job is working remotely, please wait status=done - job_id=-7499550732554273084 \n",
      "\n",
      "query done succesfully!\n"
     ]
    }
   ],
   "source": [
    "data=disp.get_product(instrument='jemx',\n",
    "                      jemx_num='2',\n",
    "                      product='jemx_image',\n",
    "                      scw_list=['010200230010.001'],\n",
    "                      osa_version='OSA10.2',\n",
    "                      detection_threshold=5.0,\n",
    "                      radius=15.,\n",
    "                      product_type='Real')"
   ]
  },
  {
   "cell_type": "code",
   "execution_count": 54,
   "metadata": {},
   "outputs": [
    {
     "name": "stdout",
     "output_type": "stream",
     "text": [
      "waiting for remote response, please wait run_analysis https://analyse-staging-1.2.reproducible.online/dispatch-data\n",
      "the job has been submitted on the remote server\n",
      " \\ the job is working remotely, please wait status=done - job_id=-73930099223456509 \n",
      "\n",
      "query done succesfully!\n"
     ]
    }
   ],
   "source": [
    "data=disp.get_product(instrument='jemx',\n",
    "                      jemx_nume='2',\n",
    "                      product='jemx_lc',\n",
    "                      scw_list=['010200230010.001'],\n",
    "                      osa_version='OSA10.2',\n",
    "                      detection_threshold=5.0,\n",
    "                      radius=15.,\n",
    "                      product_type='Real')"
   ]
  },
  {
   "cell_type": "code",
   "execution_count": 57,
   "metadata": {},
   "outputs": [
    {
     "name": "stdout",
     "output_type": "stream",
     "text": [
      "waiting for remote response, please wait run_analysis https://analyse-staging-1.2.reproducible.online/dispatch-data\n",
      "\n",
      "\n",
      "query done succesfully!\n"
     ]
    }
   ],
   "source": [
    "data=disp.get_product(instrument='jemx',\n",
    "                      jemx_num='2',\n",
    "                      product='jemx_spectrum',\n",
    "                      scw_list=['010200230010.001'],\n",
    "                      osa_version='OSA10.2',\n",
    "                      detection_threshold=5.0,\n",
    "                      radius=15.,\n",
    "                      product_type='Real')"
   ]
  },
  {
   "cell_type": "markdown",
   "metadata": {},
   "source": [
    "### spectral fitting with threeML"
   ]
  },
  {
   "cell_type": "code",
   "execution_count": 38,
   "metadata": {},
   "outputs": [],
   "source": [
    "from threeML.plugins.OGIPLike import  OGIPLike\n",
    "from threeML.io.package_data import get_path_of_data_file\n",
    "from threeML import *\n",
    "warnings.filterwarnings('ignore')\n"
   ]
  },
  {
   "cell_type": "code",
   "execution_count": 39,
   "metadata": {},
   "outputs": [
    {
     "name": "stdout",
     "output_type": "stream",
     "text": [
      "Auto-probed noise models:\n",
      "- observation: gaussian\n",
      "- background: None\n"
     ]
    }
   ],
   "source": [
    "\n",
    "ogip_data = OGIPLike('ogip',\n",
    "                     observation='spec.fits',\n",
    "                     arf_file= 'arf.fits' ,\n",
    "                     response= 'rmf.fits')"
   ]
  },
  {
   "cell_type": "code",
   "execution_count": 40,
   "metadata": {},
   "outputs": [
    {
     "name": "stdout",
     "output_type": "stream",
     "text": [
      "Range 20-60 translates to channels 7-24\n",
      "Now using 18 channels out of 62\n"
     ]
    }
   ],
   "source": [
    "ogip_data.set_active_measurements('20-60')\n"
   ]
  },
  {
   "cell_type": "code",
   "execution_count": 41,
   "metadata": {},
   "outputs": [],
   "source": [
    "import matplotlib.pyplot as plt"
   ]
  },
  {
   "cell_type": "code",
   "execution_count": 42,
   "metadata": {},
   "outputs": [
    {
     "data": {
      "text/plain": [
       "<IPython.core.display.Javascript object>"
      ]
     },
     "metadata": {},
     "output_type": "display_data"
    },
    {
     "data": {
      "text/html": [
       "<img src=\"data:image/png;base64,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\" width=\"640\">"
      ],
      "text/plain": [
       "<IPython.core.display.HTML object>"
      ]
     },
     "metadata": {},
     "output_type": "execute_result"
    },
    {
     "name": "stdout",
     "output_type": "stream",
     "text": [
      "bad channels shown in red hatching\n",
      "\n"
     ]
    },
    {
     "data": {
      "text/plain": [
       "(1e-05, 10)"
      ]
     },
     "execution_count": 42,
     "metadata": {},
     "output_type": "execute_result"
    }
   ],
   "source": [
    "ogip_data.view_count_spectrum()\n",
    "plt.ylim(1E-5,10)\n"
   ]
  },
  {
   "cell_type": "code",
   "execution_count": 45,
   "metadata": {},
   "outputs": [
    {
     "name": "stdout",
     "output_type": "stream",
     "text": [
      "Best fit values:\n",
      "\n"
     ]
    },
    {
     "data": {
      "text/html": [
       "<div>\n",
       "<style scoped>\n",
       "    .dataframe tbody tr th:only-of-type {\n",
       "        vertical-align: middle;\n",
       "    }\n",
       "\n",
       "    .dataframe tbody tr th {\n",
       "        vertical-align: top;\n",
       "    }\n",
       "\n",
       "    .dataframe thead th {\n",
       "        text-align: right;\n",
       "    }\n",
       "</style>\n",
       "<table border=\"1\" class=\"dataframe\">\n",
       "  <thead>\n",
       "    <tr style=\"text-align: right;\">\n",
       "      <th></th>\n",
       "      <th>result</th>\n",
       "      <th>unit</th>\n",
       "    </tr>\n",
       "    <tr>\n",
       "      <th>parameter</th>\n",
       "      <th></th>\n",
       "      <th></th>\n",
       "    </tr>\n",
       "  </thead>\n",
       "  <tbody>\n",
       "    <tr>\n",
       "      <th>ps.spectrum.main.Cutoff_powerlaw.K</th>\n",
       "      <td>(2.3 -1.1 +2.0) x 10^-3</td>\n",
       "      <td>1 / (cm2 keV s)</td>\n",
       "    </tr>\n",
       "    <tr>\n",
       "      <th>ps.spectrum.main.Cutoff_powerlaw.index</th>\n",
       "      <td>(5.3 +/- 2.5) x 10^-1</td>\n",
       "      <td></td>\n",
       "    </tr>\n",
       "    <tr>\n",
       "      <th>ps.spectrum.main.Cutoff_powerlaw.xc</th>\n",
       "      <td>9.8 -1.0 +1.1</td>\n",
       "      <td>keV</td>\n",
       "    </tr>\n",
       "  </tbody>\n",
       "</table>\n",
       "</div>"
      ],
      "text/plain": [
       "                                                         result  \\\n",
       "parameter                                                         \n",
       "ps.spectrum.main.Cutoff_powerlaw.K      (2.3 -1.1 +2.0) x 10^-3   \n",
       "ps.spectrum.main.Cutoff_powerlaw.index    (5.3 +/- 2.5) x 10^-1   \n",
       "ps.spectrum.main.Cutoff_powerlaw.xc               9.8 -1.0 +1.1   \n",
       "\n",
       "                                                   unit  \n",
       "parameter                                                \n",
       "ps.spectrum.main.Cutoff_powerlaw.K      1 / (cm2 keV s)  \n",
       "ps.spectrum.main.Cutoff_powerlaw.index                   \n",
       "ps.spectrum.main.Cutoff_powerlaw.xc                 keV  "
      ]
     },
     "metadata": {},
     "output_type": "execute_result"
    },
    {
     "name": "stdout",
     "output_type": "stream",
     "text": [
      "\n",
      "Correlation matrix:\n",
      "\n"
     ]
    },
    {
     "data": {
      "text/html": [
       "<table id=\"table4784913808\">\n",
       "<tr><td>1.00</td><td>-0.93</td><td>0.49</td></tr>\n",
       "<tr><td>-0.93</td><td>1.00</td><td>-0.76</td></tr>\n",
       "<tr><td>0.49</td><td>-0.76</td><td>1.00</td></tr>\n",
       "</table>"
      ],
      "text/plain": [
       " 1.00 -0.93  0.49\n",
       "-0.93  1.00 -0.76\n",
       " 0.49 -0.76  1.00"
      ]
     },
     "metadata": {},
     "output_type": "execute_result"
    },
    {
     "name": "stdout",
     "output_type": "stream",
     "text": [
      "\n",
      "Values of -log(likelihood) at the minimum:\n",
      "\n"
     ]
    },
    {
     "data": {
      "text/html": [
       "<div>\n",
       "<style scoped>\n",
       "    .dataframe tbody tr th:only-of-type {\n",
       "        vertical-align: middle;\n",
       "    }\n",
       "\n",
       "    .dataframe tbody tr th {\n",
       "        vertical-align: top;\n",
       "    }\n",
       "\n",
       "    .dataframe thead th {\n",
       "        text-align: right;\n",
       "    }\n",
       "</style>\n",
       "<table border=\"1\" class=\"dataframe\">\n",
       "  <thead>\n",
       "    <tr style=\"text-align: right;\">\n",
       "      <th></th>\n",
       "      <th>-log(likelihood)</th>\n",
       "    </tr>\n",
       "  </thead>\n",
       "  <tbody>\n",
       "    <tr>\n",
       "      <th>ogip</th>\n",
       "      <td>5.24134</td>\n",
       "    </tr>\n",
       "    <tr>\n",
       "      <th>total</th>\n",
       "      <td>5.24134</td>\n",
       "    </tr>\n",
       "  </tbody>\n",
       "</table>\n",
       "</div>"
      ],
      "text/plain": [
       "       -log(likelihood)\n",
       "ogip            5.24134\n",
       "total           5.24134"
      ]
     },
     "metadata": {},
     "output_type": "execute_result"
    },
    {
     "name": "stdout",
     "output_type": "stream",
     "text": [
      "\n",
      "Values of statistical measures:\n",
      "\n"
     ]
    },
    {
     "data": {
      "text/html": [
       "<div>\n",
       "<style scoped>\n",
       "    .dataframe tbody tr th:only-of-type {\n",
       "        vertical-align: middle;\n",
       "    }\n",
       "\n",
       "    .dataframe tbody tr th {\n",
       "        vertical-align: top;\n",
       "    }\n",
       "\n",
       "    .dataframe thead th {\n",
       "        text-align: right;\n",
       "    }\n",
       "</style>\n",
       "<table border=\"1\" class=\"dataframe\">\n",
       "  <thead>\n",
       "    <tr style=\"text-align: right;\">\n",
       "      <th></th>\n",
       "      <th>statistical measures</th>\n",
       "    </tr>\n",
       "  </thead>\n",
       "  <tbody>\n",
       "    <tr>\n",
       "      <th>AIC</th>\n",
       "      <td>18.196966</td>\n",
       "    </tr>\n",
       "    <tr>\n",
       "      <th>BIC</th>\n",
       "      <td>19.153796</td>\n",
       "    </tr>\n",
       "  </tbody>\n",
       "</table>\n",
       "</div>"
      ],
      "text/plain": [
       "     statistical measures\n",
       "AIC             18.196966\n",
       "BIC             19.153796"
      ]
     },
     "metadata": {},
     "output_type": "execute_result"
    }
   ],
   "source": [
    "\n",
    "fit_function = Cutoff_powerlaw()\n",
    "\n",
    "# define the point source\n",
    "point_source = PointSource('ps', 0, 0, spectral_shape=fit_function)\n",
    "\n",
    "#define the model\n",
    "model = Model(point_source)\n",
    "\n",
    "# create a data list\n",
    "datalist = DataList(ogip_data)\n",
    "\n",
    "# make the joint likelihood\n",
    "jl = JointLikelihood(model, datalist)\n",
    "\n",
    "#fit\n",
    "jl.fit();"
   ]
  },
  {
   "cell_type": "code",
   "execution_count": 46,
   "metadata": {},
   "outputs": [
    {
     "data": {
      "text/plain": [
       "<IPython.core.display.Javascript object>"
      ]
     },
     "metadata": {},
     "output_type": "display_data"
    },
    {
     "data": {
      "text/html": [
       "<img src=\"data:image/png;base64,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\" width=\"640\">"
      ],
      "text/plain": [
       "<IPython.core.display.HTML object>"
      ]
     },
     "metadata": {},
     "output_type": "execute_result"
    }
   ],
   "source": [
    "display_spectrum_model_counts(jl, step=True);\n"
   ]
  },
  {
   "cell_type": "code",
   "execution_count": 47,
   "metadata": {},
   "outputs": [
    {
     "data": {
      "text/plain": [
       "VBox(children=(HTML(value=u'Propagating errors : '), HTML(value=u''), FloatProgress(value=0.0)))"
      ]
     },
     "metadata": {},
     "output_type": "display_data"
    },
    {
     "data": {
      "text/plain": [
       "<IPython.core.display.Javascript object>"
      ]
     },
     "metadata": {},
     "output_type": "display_data"
    },
    {
     "data": {
      "text/html": [
       "<img src=\"data:image/png;base64,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\" width=\"640\">"
      ],
      "text/plain": [
       "<IPython.core.display.HTML object>"
      ]
     },
     "metadata": {},
     "output_type": "execute_result"
    },
    {
     "data": {
      "text/plain": [
       "<IPython.core.display.Javascript object>"
      ]
     },
     "metadata": {},
     "output_type": "display_data"
    },
    {
     "data": {
      "text/html": [
       "<img src=\"data:image/png;base64,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\" width=\"640\">"
      ],
      "text/plain": [
       "<IPython.core.display.HTML object>"
      ]
     },
     "metadata": {},
     "output_type": "execute_result"
    }
   ],
   "source": [
    "plot_point_source_spectra(jl.results, ene_min=20, ene_max=60, num_ene=100,\n",
    "                          flux_unit='erg / (cm2 s)')"
   ]
  },
  {
   "cell_type": "code",
   "execution_count": 49,
   "metadata": {},
   "outputs": [
    {
     "data": {
      "text/html": [
       "Model summary:<br><br><div>\n",
       "<style scoped>\n",
       "    .dataframe tbody tr th:only-of-type {\n",
       "        vertical-align: middle;\n",
       "    }\n",
       "\n",
       "    .dataframe tbody tr th {\n",
       "        vertical-align: top;\n",
       "    }\n",
       "\n",
       "    .dataframe thead th {\n",
       "        text-align: right;\n",
       "    }\n",
       "</style>\n",
       "<table border=\"1\" class=\"dataframe\">\n",
       "  <thead>\n",
       "    <tr style=\"text-align: right;\">\n",
       "      <th></th>\n",
       "      <th>N</th>\n",
       "    </tr>\n",
       "  </thead>\n",
       "  <tbody>\n",
       "    <tr>\n",
       "      <th>Point sources</th>\n",
       "      <td>1</td>\n",
       "    </tr>\n",
       "    <tr>\n",
       "      <th>Extended sources</th>\n",
       "      <td>0</td>\n",
       "    </tr>\n",
       "    <tr>\n",
       "      <th>Particle sources</th>\n",
       "      <td>0</td>\n",
       "    </tr>\n",
       "  </tbody>\n",
       "</table>\n",
       "</div><br><br>Free parameters (3):<br><br><div>\n",
       "<style scoped>\n",
       "    .dataframe tbody tr th:only-of-type {\n",
       "        vertical-align: middle;\n",
       "    }\n",
       "\n",
       "    .dataframe tbody tr th {\n",
       "        vertical-align: top;\n",
       "    }\n",
       "\n",
       "    .dataframe thead th {\n",
       "        text-align: right;\n",
       "    }\n",
       "</style>\n",
       "<table border=\"1\" class=\"dataframe\">\n",
       "  <thead>\n",
       "    <tr style=\"text-align: right;\">\n",
       "      <th></th>\n",
       "      <th>value</th>\n",
       "      <th>min_value</th>\n",
       "      <th>max_value</th>\n",
       "      <th>unit</th>\n",
       "    </tr>\n",
       "  </thead>\n",
       "  <tbody>\n",
       "    <tr>\n",
       "      <th>ps.spectrum.main.Cutoff_powerlaw.K</th>\n",
       "      <td>0.00230365</td>\n",
       "      <td>1e-30</td>\n",
       "      <td>1000</td>\n",
       "      <td>keV-1 s-1 cm-2</td>\n",
       "    </tr>\n",
       "    <tr>\n",
       "      <th>ps.spectrum.main.Cutoff_powerlaw.index</th>\n",
       "      <td>0.531183</td>\n",
       "      <td>-10</td>\n",
       "      <td>10</td>\n",
       "      <td></td>\n",
       "    </tr>\n",
       "    <tr>\n",
       "      <th>ps.spectrum.main.Cutoff_powerlaw.xc</th>\n",
       "      <td>9.7834</td>\n",
       "      <td>None</td>\n",
       "      <td>None</td>\n",
       "      <td>keV</td>\n",
       "    </tr>\n",
       "  </tbody>\n",
       "</table>\n",
       "</div><br><br>Fixed parameters (4):<br>(abridged. Use complete=True to see all fixed parameters)<br><br><br>Linked parameters (0):<br><br>(none)<br><br>Independent variables:<br><br>(none)<br>"
      ],
      "text/plain": [
       "Model summary:\n",
       "==============\n",
       "\n",
       "                  N\n",
       "Point sources     1\n",
       "Extended sources  0\n",
       "Particle sources  0\n",
       "\n",
       "Free parameters (3):\n",
       "--------------------\n",
       "\n",
       "                                             value min_value max_value  \\\n",
       "ps.spectrum.main.Cutoff_powerlaw.K      0.00230365     1e-30      1000   \n",
       "ps.spectrum.main.Cutoff_powerlaw.index    0.531183       -10        10   \n",
       "ps.spectrum.main.Cutoff_powerlaw.xc         9.7834      None      None   \n",
       "\n",
       "                                                  unit  \n",
       "ps.spectrum.main.Cutoff_powerlaw.K      keV-1 s-1 cm-2  \n",
       "ps.spectrum.main.Cutoff_powerlaw.index                  \n",
       "ps.spectrum.main.Cutoff_powerlaw.xc                keV  \n",
       "\n",
       "Fixed parameters (4):\n",
       "(abridged. Use complete=True to see all fixed parameters)\n",
       "\n",
       "\n",
       "Linked parameters (0):\n",
       "----------------------\n",
       "\n",
       "(none)\n",
       "\n",
       "Independent variables:\n",
       "----------------------\n",
       "\n",
       "(none)"
      ]
     },
     "metadata": {},
     "output_type": "execute_result"
    }
   ],
   "source": [
    "\n",
    "# A uniform prior can be defined directly, like:\n",
    "model.ps.spectrum.main.Cutoff_powerlaw.index.prior = Uniform_prior(lower_bound=-2.,\n",
    "                                                                     upper_bound=2.)\n",
    "\n",
    "# or it can be set using the currently defined boundaries\n",
    "model.ps.spectrum.main.Cutoff_powerlaw.xc.prior=  Uniform_prior(lower_bound=0,\n",
    "                                                                     upper_bound=100)\n",
    "\n",
    "\n",
    "# The same for the Log_uniform prior\n",
    "model.ps.spectrum.main.Cutoff_powerlaw.K.prior = Log_uniform_prior(lower_bound=1e-3,\n",
    "                                                                     upper_bound=100)\n",
    "\n",
    "\n",
    "model.display()"
   ]
  },
  {
   "cell_type": "code",
   "execution_count": null,
   "metadata": {},
   "outputs": [],
   "source": []
  },
  {
   "cell_type": "code",
   "execution_count": 50,
   "metadata": {},
   "outputs": [
    {
     "data": {
      "text/plain": [
       "VBox(children=(HTML(value=u'Burn-in : '), HTML(value=u''), FloatProgress(value=0.0)))"
      ]
     },
     "metadata": {},
     "output_type": "display_data"
    },
    {
     "data": {
      "text/plain": [
       "VBox(children=(HTML(value=u'Sampling : '), HTML(value=u''), FloatProgress(value=0.0)))"
      ]
     },
     "metadata": {},
     "output_type": "display_data"
    },
    {
     "name": "stdout",
     "output_type": "stream",
     "text": [
      "\n",
      "Mean acceptance fraction: 0.3351333333333333\n",
      "\n",
      "Maximum a posteriori probability (MAP) point:\n",
      "\n"
     ]
    },
    {
     "data": {
      "text/html": [
       "<div>\n",
       "<style scoped>\n",
       "    .dataframe tbody tr th:only-of-type {\n",
       "        vertical-align: middle;\n",
       "    }\n",
       "\n",
       "    .dataframe tbody tr th {\n",
       "        vertical-align: top;\n",
       "    }\n",
       "\n",
       "    .dataframe thead th {\n",
       "        text-align: right;\n",
       "    }\n",
       "</style>\n",
       "<table border=\"1\" class=\"dataframe\">\n",
       "  <thead>\n",
       "    <tr style=\"text-align: right;\">\n",
       "      <th></th>\n",
       "      <th>result</th>\n",
       "      <th>unit</th>\n",
       "    </tr>\n",
       "    <tr>\n",
       "      <th>parameter</th>\n",
       "      <th></th>\n",
       "      <th></th>\n",
       "    </tr>\n",
       "  </thead>\n",
       "  <tbody>\n",
       "    <tr>\n",
       "      <th>ps.spectrum.main.Cutoff_powerlaw.K</th>\n",
       "      <td>(1.2 -1.0 +0.7) x 10^-2</td>\n",
       "      <td>1 / (cm2 keV s)</td>\n",
       "    </tr>\n",
       "    <tr>\n",
       "      <th>ps.spectrum.main.Cutoff_powerlaw.index</th>\n",
       "      <td>(1 +/- 5) x 10^-1</td>\n",
       "      <td></td>\n",
       "    </tr>\n",
       "    <tr>\n",
       "      <th>ps.spectrum.main.Cutoff_powerlaw.xc</th>\n",
       "      <td>(1.19 +/- 0.22) x 10</td>\n",
       "      <td>keV</td>\n",
       "    </tr>\n",
       "  </tbody>\n",
       "</table>\n",
       "</div>"
      ],
      "text/plain": [
       "                                                         result  \\\n",
       "parameter                                                         \n",
       "ps.spectrum.main.Cutoff_powerlaw.K      (1.2 -1.0 +0.7) x 10^-2   \n",
       "ps.spectrum.main.Cutoff_powerlaw.index        (1 +/- 5) x 10^-1   \n",
       "ps.spectrum.main.Cutoff_powerlaw.xc        (1.19 +/- 0.22) x 10   \n",
       "\n",
       "                                                   unit  \n",
       "parameter                                                \n",
       "ps.spectrum.main.Cutoff_powerlaw.K      1 / (cm2 keV s)  \n",
       "ps.spectrum.main.Cutoff_powerlaw.index                   \n",
       "ps.spectrum.main.Cutoff_powerlaw.xc                 keV  "
      ]
     },
     "metadata": {},
     "output_type": "execute_result"
    },
    {
     "name": "stdout",
     "output_type": "stream",
     "text": [
      "\n",
      "Values of -log(posterior) at the minimum:\n",
      "\n"
     ]
    },
    {
     "data": {
      "text/html": [
       "<div>\n",
       "<style scoped>\n",
       "    .dataframe tbody tr th:only-of-type {\n",
       "        vertical-align: middle;\n",
       "    }\n",
       "\n",
       "    .dataframe tbody tr th {\n",
       "        vertical-align: top;\n",
       "    }\n",
       "\n",
       "    .dataframe thead th {\n",
       "        text-align: right;\n",
       "    }\n",
       "</style>\n",
       "<table border=\"1\" class=\"dataframe\">\n",
       "  <thead>\n",
       "    <tr style=\"text-align: right;\">\n",
       "      <th></th>\n",
       "      <th>-log(posterior)</th>\n",
       "    </tr>\n",
       "  </thead>\n",
       "  <tbody>\n",
       "    <tr>\n",
       "      <th>ogip</th>\n",
       "      <td>-2.344585</td>\n",
       "    </tr>\n",
       "    <tr>\n",
       "      <th>total</th>\n",
       "      <td>-2.344585</td>\n",
       "    </tr>\n",
       "  </tbody>\n",
       "</table>\n",
       "</div>"
      ],
      "text/plain": [
       "       -log(posterior)\n",
       "ogip         -2.344585\n",
       "total        -2.344585"
      ]
     },
     "metadata": {},
     "output_type": "execute_result"
    },
    {
     "name": "stdout",
     "output_type": "stream",
     "text": [
      "\n",
      "Values of statistical measures:\n",
      "\n"
     ]
    },
    {
     "data": {
      "text/html": [
       "<div>\n",
       "<style scoped>\n",
       "    .dataframe tbody tr th:only-of-type {\n",
       "        vertical-align: middle;\n",
       "    }\n",
       "\n",
       "    .dataframe tbody tr th {\n",
       "        vertical-align: top;\n",
       "    }\n",
       "\n",
       "    .dataframe thead th {\n",
       "        text-align: right;\n",
       "    }\n",
       "</style>\n",
       "<table border=\"1\" class=\"dataframe\">\n",
       "  <thead>\n",
       "    <tr style=\"text-align: right;\">\n",
       "      <th></th>\n",
       "      <th>statistical measures</th>\n",
       "    </tr>\n",
       "  </thead>\n",
       "  <tbody>\n",
       "    <tr>\n",
       "      <th>AIC</th>\n",
       "      <td>12.403456</td>\n",
       "    </tr>\n",
       "    <tr>\n",
       "      <th>BIC</th>\n",
       "      <td>13.360285</td>\n",
       "    </tr>\n",
       "    <tr>\n",
       "      <th>DIC</th>\n",
       "      <td>-275.177786</td>\n",
       "    </tr>\n",
       "    <tr>\n",
       "      <th>PDIC</th>\n",
       "      <td>-283.443562</td>\n",
       "    </tr>\n",
       "  </tbody>\n",
       "</table>\n",
       "</div>"
      ],
      "text/plain": [
       "      statistical measures\n",
       "AIC              12.403456\n",
       "BIC              13.360285\n",
       "DIC            -275.177786\n",
       "PDIC           -283.443562"
      ]
     },
     "metadata": {},
     "output_type": "execute_result"
    }
   ],
   "source": [
    "bs = BayesianAnalysis(model, datalist)\n",
    "\n",
    "# This uses the emcee sampler\n",
    "samples = bs.sample(n_walkers=30, burn_in=100, n_samples=1000)"
   ]
  },
  {
   "cell_type": "code",
   "execution_count": 51,
   "metadata": {},
   "outputs": [
    {
     "name": "stdout",
     "output_type": "stream",
     "text": [
      "Maximum a posteriori probability (MAP) point:\n",
      "\n"
     ]
    },
    {
     "data": {
      "text/html": [
       "<div>\n",
       "<style scoped>\n",
       "    .dataframe tbody tr th:only-of-type {\n",
       "        vertical-align: middle;\n",
       "    }\n",
       "\n",
       "    .dataframe tbody tr th {\n",
       "        vertical-align: top;\n",
       "    }\n",
       "\n",
       "    .dataframe thead th {\n",
       "        text-align: right;\n",
       "    }\n",
       "</style>\n",
       "<table border=\"1\" class=\"dataframe\">\n",
       "  <thead>\n",
       "    <tr style=\"text-align: right;\">\n",
       "      <th></th>\n",
       "      <th>result</th>\n",
       "      <th>unit</th>\n",
       "    </tr>\n",
       "    <tr>\n",
       "      <th>parameter</th>\n",
       "      <th></th>\n",
       "      <th></th>\n",
       "    </tr>\n",
       "  </thead>\n",
       "  <tbody>\n",
       "    <tr>\n",
       "      <th>ps.spectrum.main.Cutoff_powerlaw.K</th>\n",
       "      <td>(1.2 -1.0 +0.7) x 10^-2</td>\n",
       "      <td>1 / (cm2 keV s)</td>\n",
       "    </tr>\n",
       "    <tr>\n",
       "      <th>ps.spectrum.main.Cutoff_powerlaw.index</th>\n",
       "      <td>(1 +/- 5) x 10^-1</td>\n",
       "      <td></td>\n",
       "    </tr>\n",
       "    <tr>\n",
       "      <th>ps.spectrum.main.Cutoff_powerlaw.xc</th>\n",
       "      <td>(1.19 +/- 0.22) x 10</td>\n",
       "      <td>keV</td>\n",
       "    </tr>\n",
       "  </tbody>\n",
       "</table>\n",
       "</div>"
      ],
      "text/plain": [
       "                                                         result  \\\n",
       "parameter                                                         \n",
       "ps.spectrum.main.Cutoff_powerlaw.K      (1.2 -1.0 +0.7) x 10^-2   \n",
       "ps.spectrum.main.Cutoff_powerlaw.index        (1 +/- 5) x 10^-1   \n",
       "ps.spectrum.main.Cutoff_powerlaw.xc        (1.19 +/- 0.22) x 10   \n",
       "\n",
       "                                                   unit  \n",
       "parameter                                                \n",
       "ps.spectrum.main.Cutoff_powerlaw.K      1 / (cm2 keV s)  \n",
       "ps.spectrum.main.Cutoff_powerlaw.index                   \n",
       "ps.spectrum.main.Cutoff_powerlaw.xc                 keV  "
      ]
     },
     "metadata": {},
     "output_type": "execute_result"
    },
    {
     "name": "stdout",
     "output_type": "stream",
     "text": [
      "\n",
      "Values of -log(posterior) at the minimum:\n",
      "\n"
     ]
    },
    {
     "data": {
      "text/html": [
       "<div>\n",
       "<style scoped>\n",
       "    .dataframe tbody tr th:only-of-type {\n",
       "        vertical-align: middle;\n",
       "    }\n",
       "\n",
       "    .dataframe tbody tr th {\n",
       "        vertical-align: top;\n",
       "    }\n",
       "\n",
       "    .dataframe thead th {\n",
       "        text-align: right;\n",
       "    }\n",
       "</style>\n",
       "<table border=\"1\" class=\"dataframe\">\n",
       "  <thead>\n",
       "    <tr style=\"text-align: right;\">\n",
       "      <th></th>\n",
       "      <th>-log(posterior)</th>\n",
       "    </tr>\n",
       "  </thead>\n",
       "  <tbody>\n",
       "    <tr>\n",
       "      <th>ogip</th>\n",
       "      <td>-2.344585</td>\n",
       "    </tr>\n",
       "    <tr>\n",
       "      <th>total</th>\n",
       "      <td>-2.344585</td>\n",
       "    </tr>\n",
       "  </tbody>\n",
       "</table>\n",
       "</div>"
      ],
      "text/plain": [
       "       -log(posterior)\n",
       "ogip         -2.344585\n",
       "total        -2.344585"
      ]
     },
     "metadata": {},
     "output_type": "execute_result"
    },
    {
     "name": "stdout",
     "output_type": "stream",
     "text": [
      "\n",
      "Values of statistical measures:\n",
      "\n"
     ]
    },
    {
     "data": {
      "text/html": [
       "<div>\n",
       "<style scoped>\n",
       "    .dataframe tbody tr th:only-of-type {\n",
       "        vertical-align: middle;\n",
       "    }\n",
       "\n",
       "    .dataframe tbody tr th {\n",
       "        vertical-align: top;\n",
       "    }\n",
       "\n",
       "    .dataframe thead th {\n",
       "        text-align: right;\n",
       "    }\n",
       "</style>\n",
       "<table border=\"1\" class=\"dataframe\">\n",
       "  <thead>\n",
       "    <tr style=\"text-align: right;\">\n",
       "      <th></th>\n",
       "      <th>statistical measures</th>\n",
       "    </tr>\n",
       "  </thead>\n",
       "  <tbody>\n",
       "    <tr>\n",
       "      <th>AIC</th>\n",
       "      <td>12.403456</td>\n",
       "    </tr>\n",
       "    <tr>\n",
       "      <th>BIC</th>\n",
       "      <td>13.360285</td>\n",
       "    </tr>\n",
       "    <tr>\n",
       "      <th>DIC</th>\n",
       "      <td>-275.177786</td>\n",
       "    </tr>\n",
       "    <tr>\n",
       "      <th>PDIC</th>\n",
       "      <td>-283.443562</td>\n",
       "    </tr>\n",
       "  </tbody>\n",
       "</table>\n",
       "</div>"
      ],
      "text/plain": [
       "      statistical measures\n",
       "AIC              12.403456\n",
       "BIC              13.360285\n",
       "DIC            -275.177786\n",
       "PDIC           -283.443562"
      ]
     },
     "metadata": {},
     "output_type": "execute_result"
    }
   ],
   "source": [
    "bs.results.display()"
   ]
  },
  {
   "cell_type": "code",
   "execution_count": 52,
   "metadata": {},
   "outputs": [
    {
     "data": {
      "text/plain": [
       "<IPython.core.display.Javascript object>"
      ]
     },
     "metadata": {},
     "output_type": "display_data"
    },
    {
     "data": {
      "text/html": [
       "<img src=\"data:image/png;base64,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\" width=\"760\">"
      ],
      "text/plain": [
       "<IPython.core.display.HTML object>"
      ]
     },
     "metadata": {},
     "output_type": "execute_result"
    },
    {
     "data": {
      "text/plain": [
       "<IPython.core.display.Javascript object>"
      ]
     },
     "metadata": {},
     "output_type": "display_data"
    },
    {
     "data": {
      "text/html": [
       "<img src=\"data:image/png;base64,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\" width=\"760\">"
      ],
      "text/plain": [
       "<IPython.core.display.HTML object>"
      ]
     },
     "metadata": {},
     "output_type": "execute_result"
    }
   ],
   "source": [
    "bs.results.corner_plot()"
   ]
  },
  {
   "cell_type": "code",
   "execution_count": null,
   "metadata": {},
   "outputs": [],
   "source": [
    "plot_point_source_spectra(bs.results, ene_min=20, ene_max=60, num_ene=100,\n",
    "                          flux_unit='erg / (cm2 s)')"
   ]
  },
  {
   "cell_type": "code",
   "execution_count": 53,
   "metadata": {},
   "outputs": [
    {
     "data": {
      "text/plain": [
       "VBox(children=(HTML(value=u'Propagating errors : '), HTML(value=u''), FloatProgress(value=0.0)))"
      ]
     },
     "metadata": {},
     "output_type": "display_data"
    },
    {
     "data": {
      "text/html": [
       "<div>\n",
       "<style scoped>\n",
       "    .dataframe tbody tr th:only-of-type {\n",
       "        vertical-align: middle;\n",
       "    }\n",
       "\n",
       "    .dataframe tbody tr th {\n",
       "        vertical-align: top;\n",
       "    }\n",
       "\n",
       "    .dataframe thead th {\n",
       "        text-align: right;\n",
       "    }\n",
       "</style>\n",
       "<table border=\"1\" class=\"dataframe\">\n",
       "  <thead>\n",
       "    <tr style=\"text-align: right;\">\n",
       "      <th></th>\n",
       "      <th>flux</th>\n",
       "    </tr>\n",
       "  </thead>\n",
       "  <tbody>\n",
       "    <tr>\n",
       "      <th>ps: total</th>\n",
       "      <td>(0.4 -0.4 +6) x 10^-11 erg / (cm2 s)</td>\n",
       "    </tr>\n",
       "  </tbody>\n",
       "</table>\n",
       "</div>"
      ],
      "text/plain": [
       "                                           flux\n",
       "ps: total  (0.4 -0.4 +6) x 10^-11 erg / (cm2 s)"
      ]
     },
     "metadata": {},
     "output_type": "execute_result"
    }
   ],
   "source": [
    "\n",
    "fluxes_bs = bs.results.get_point_source_flux(100 * u.keV, 1 * u.MeV)"
   ]
  },
  {
   "cell_type": "code",
   "execution_count": null,
   "metadata": {},
   "outputs": [],
   "source": []
  },
  {
   "cell_type": "code",
   "execution_count": null,
   "metadata": {},
   "outputs": [],
   "source": []
  },
  {
   "cell_type": "code",
   "execution_count": null,
   "metadata": {},
   "outputs": [],
   "source": []
  },
  {
   "cell_type": "code",
   "execution_count": null,
   "metadata": {},
   "outputs": [],
   "source": []
  }
 ],
 "metadata": {
  "kernelspec": {
   "display_name": "Python 2",
   "language": "python",
   "name": "python2"
  },
  "language_info": {
   "codemirror_mode": {
    "name": "ipython",
    "version": 3
   },
   "file_extension": ".py",
   "mimetype": "text/x-python",
   "name": "python",
   "nbconvert_exporter": "python",
   "pygments_lexer": "ipython3",
   "version": "3.7.2"
  }
 },
 "nbformat": 4,
 "nbformat_minor": 2
}
