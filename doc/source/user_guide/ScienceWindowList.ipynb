{
 "cells": [
  {
   "cell_type": "markdown",
   "id": "00ca60b5",
   "metadata": {},
   "source": [
    "# In this example we select a list of science window and submit it to ODA to obtain an image"
   ]
  },
  {
   "cell_type": "code",
   "execution_count": 1,
   "id": "a663503d",
   "metadata": {},
   "outputs": [],
   "source": [
    "# with no surprise, we do it for the Crab\n",
    "source_name='Crab'"
   ]
  },
  {
   "cell_type": "code",
   "execution_count": 2,
   "id": "f1ff3101",
   "metadata": {},
   "outputs": [],
   "source": [
    "#Example of functions to select a science window list\n",
    "import time\n",
    "\n",
    "import astroquery.heasarc\n",
    "from astropy.coordinates import SkyCoord\n",
    "from astropy import units as u\n",
    "\n",
    "Heasarc = astroquery.heasarc.Heasarc()\n",
    "\n",
    "\n",
    "\n",
    "def get_scw_list(ra_obj, dec_obj,radius,start_date,end_date ):\n",
    "    R = Heasarc.query_region(\n",
    "            position = SkyCoord(ra_obj, dec_obj, unit='deg'), \n",
    "            radius = f\"{radius} deg\",\n",
    "            mission = 'intscw',                 \n",
    "            time = start_date + \" .. \" + end_date,\n",
    "            good_isgri = \">1000\",\n",
    "        )        \n",
    "\n",
    "    R.sort('SCW_ID')\n",
    "\n",
    "    return R['SCW_ID'], R['SCW_VER']\n",
    "\n",
    "\n",
    "assert astroquery.__version__ >= '0.4.2.dev6611'\n",
    "\n",
    "# it means it's our fork\n",
    "assert 'isdc' in astroquery.heasarc.Conf.server.cfgtype"
   ]
  },
  {
   "cell_type": "code",
   "execution_count": 3,
   "id": "4b28da08",
   "metadata": {},
   "outputs": [],
   "source": [
    "from astroquery.simbad import Simbad\n",
    "from astropy import coordinates as coord\n",
    "\n",
    "import json\n",
    "\n",
    "import os\n",
    "import shutil\n",
    "import random\n",
    "\n",
    "from astropy.io import fits\n",
    "\n",
    "from scipy import stats\n",
    "result_table = Simbad.query_object(source_name)\n",
    "source_coord = coord.SkyCoord(result_table['RA'][0], result_table['DEC'][0], unit=(\"hourangle\", \"deg\"))\n",
    "ra=source_coord.ra.deg\n",
    "dec=source_coord.dec.deg\n",
    "radius=8."
   ]
  },
  {
   "cell_type": "markdown",
   "id": "6297257b",
   "metadata": {},
   "source": [
    "- We get science windows within 10 degrees from the Crab position \n",
    "- between the given dates expressed in the ISOT format"
   ]
  },
  {
   "cell_type": "code",
   "execution_count": 4,
   "id": "c8e96460",
   "metadata": {},
   "outputs": [
    {
     "name": "stderr",
     "output_type": "stream",
     "text": [
      "WARNING: InputWarning: Coordinate string is being interpreted as an ICRS coordinate provided in degrees. [astroquery.utils.commons]\n"
     ]
    }
   ],
   "source": [
    "scwlist,version = get_scw_list(ra,dec, 10, '2020-01-01T00:00:00', '2020-06-01T00:00:00')"
   ]
  },
  {
   "cell_type": "markdown",
   "id": "d50553be",
   "metadata": {},
   "source": [
    "- We pick at random nscw = 10 science window from the list"
   ]
  },
  {
   "cell_type": "code",
   "execution_count": 5,
   "id": "af3fbb6d",
   "metadata": {},
   "outputs": [],
   "source": [
    "\n",
    "nscw = 10\n",
    "if len(scwlist) == 0:\n",
    "    raise Exception('No science windows')\n",
    "\n",
    "scw_pick = [(s+\".\"+v).strip() for s,v in zip(scwlist,version)]\n",
    "\n",
    "if nscw >0 and len(scw_pick)>=nscw:\n",
    "    random.seed(0)\n",
    "    scw_pick = random.sample(scw_pick, nscw)\n",
    "scw_pick = sorted(scw_pick)"
   ]
  },
  {
   "cell_type": "code",
   "execution_count": 6,
   "id": "5dbde63e",
   "metadata": {},
   "outputs": [
    {
     "data": {
      "text/plain": [
       "['219400710010.001',\n",
       " '221000540010.001',\n",
       " '221200100010.001',\n",
       " '221400280010.001',\n",
       " '221400420010.001',\n",
       " '221400520010.001',\n",
       " '221500030010.001',\n",
       " '221500320010.001',\n",
       " '221500360010.001',\n",
       " '221500490010.001']"
      ]
     },
     "execution_count": 6,
     "metadata": {},
     "output_type": "execute_result"
    }
   ],
   "source": [
    "scw_pick"
   ]
  },
  {
   "cell_type": "markdown",
   "id": "320b4c09",
   "metadata": {},
   "source": [
    "- Token for a given user "
   ]
  },
  {
   "cell_type": "code",
   "execution_count": 7,
   "id": "9e2d4231",
   "metadata": {},
   "outputs": [],
   "source": [
    "token=''"
   ]
  },
  {
   "cell_type": "code",
   "execution_count": 8,
   "id": "c618d565",
   "metadata": {},
   "outputs": [
    {
     "name": "stdout",
     "output_type": "stream",
     "text": [
      "Insert the token········\n"
     ]
    }
   ],
   "source": [
    "#You can provide a valid token as explained in the 'Authentication' example or skip this cell\n",
    "import getpass\n",
    "token = getpass.getpass('Insert the token')"
   ]
  },
  {
   "cell_type": "markdown",
   "id": "ef73aa80",
   "metadata": {},
   "source": [
    "## Let's get some logging\n",
    "\n",
    "This is to help visualizing the progress.\n",
    "\n",
    "- WANRING is the default level\n",
    "- INFO writes some more information\n",
    "- DEBUG is maily for developers and issue tracking\n"
   ]
  },
  {
   "cell_type": "code",
   "execution_count": 15,
   "id": "5b525919",
   "metadata": {},
   "outputs": [],
   "source": [
    "import logging\n",
    "#default\n",
    "#logging.getLogger().setLevel(logging.WARNING)\n",
    "#slightly more verbose\n",
    "logging.getLogger().setLevel(logging.DEBUG)\n",
    "#all messages\n",
    "#logging.getLogger().setLevel(logging.DEBUG)\n",
    "\n",
    "logging.getLogger('oda_api').addHandler(logging.StreamHandler()) "
   ]
  },
  {
   "cell_type": "code",
   "execution_count": 10,
   "id": "beb8e592",
   "metadata": {},
   "outputs": [
    {
     "name": "stderr",
     "output_type": "stream",
     "text": [
      "- waiting for remote response (since 2021-08-25 10:30:55), please wait for https://www.astro.unige.ch/mmoda/dispatch-data/run_analysis\n",
      "session: N6ISIGQ8JTGEV49G job: e7846e3a8d133d9c\n",
      "\n",
      "... query status \u001b[35mprepared\u001b[0m => \u001b[35msubmitted\u001b[0m\n",
      "... assigned job id: \u001b[33me7846e3a8d133d9c\u001b[0m\n",
      " | the job is working remotely, please wait status=submitted job_id=e7846e3a in 0 messages since 15 seconds (16/16); in 0 SCW so far; nodes (0): 0 computed 0 restored\n",
      "... \u001b[32m\u001b[0m\u001b[0m\n",
      "- waiting for remote response (since 2021-08-25 10:31:12), please wait for https://www.astro.unige.ch/mmoda/dispatch-data/run_analysis\n",
      "session: N6ISIGQ8JTGEV49G job: e7846e3a8d133d9c\n",
      " / the job is working remotely, please wait status=submitted job_id=e7846e3a in 0 messages since 26 seconds (13/16); in 0 SCW so far; nodes (0): 0 computed 0 restored\n",
      "... \u001b[32m\u001b[0m\u001b[0m\n",
      "- waiting for remote response (since 2021-08-25 10:31:23), please wait for https://www.astro.unige.ch/mmoda/dispatch-data/run_analysis\n",
      "session: N6ISIGQ8JTGEV49G job: e7846e3a8d133d9c\n",
      " - the job is working remotely, please wait status=submitted job_id=e7846e3a in 0 messages since 38 seconds (12/16); in 0 SCW so far; nodes (0): 0 computed 0 restored\n",
      "... \u001b[32m\u001b[0m\u001b[0m\n",
      "- waiting for remote response (since 2021-08-25 10:31:35), please wait for https://www.astro.unige.ch/mmoda/dispatch-data/run_analysis\n",
      "session: N6ISIGQ8JTGEV49G job: e7846e3a8d133d9c\n",
      " \\ the job is working remotely, please wait status=submitted job_id=e7846e3a in 0 messages since 50 seconds (12/16); in 0 SCW so far; nodes (0): 0 computed 0 restored\n",
      "... \u001b[32m\u001b[0m\u001b[0m\n",
      "- waiting for remote response (since 2021-08-25 10:31:47), please wait for https://www.astro.unige.ch/mmoda/dispatch-data/run_analysis\n",
      "session: N6ISIGQ8JTGEV49G job: e7846e3a8d133d9c\n",
      " | the job is working remotely, please wait status=submitted job_id=e7846e3a in 0 messages since 61 seconds (12/16); in 0 SCW so far; nodes (0): 0 computed 0 restored\n",
      "... \u001b[32m\u001b[0m\u001b[0m\n",
      "- waiting for remote response (since 2021-08-25 10:31:58), please wait for https://www.astro.unige.ch/mmoda/dispatch-data/run_analysis\n",
      "session: N6ISIGQ8JTGEV49G job: e7846e3a8d133d9c\n",
      " / the job is working remotely, please wait status=submitted job_id=e7846e3a in 0 messages since 73 seconds (11/16); in 0 SCW so far; nodes (0): 0 computed 0 restored\n",
      "... \u001b[32m\u001b[0m\u001b[0m\n",
      "- waiting for remote response (since 2021-08-25 10:32:10), please wait for https://www.astro.unige.ch/mmoda/dispatch-data/run_analysis\n",
      "session: N6ISIGQ8JTGEV49G job: e7846e3a8d133d9c\n",
      " - the job is working remotely, please wait status=submitted job_id=e7846e3a in 0 messages since 100 seconds (14/27); in 0 SCW so far; nodes (0): 0 computed 0 restored\n",
      "... \u001b[32m\u001b[0m\u001b[0m\n",
      "- waiting for remote response (since 2021-08-25 10:32:37), please wait for https://www.astro.unige.ch/mmoda/dispatch-data/run_analysis\n",
      "session: N6ISIGQ8JTGEV49G job: e7846e3a8d133d9c\n",
      " \\ the job is working remotely, please wait status=submitted job_id=e7846e3a in 0 messages since 117 seconds (14/27); in 0 SCW so far; nodes (0): 0 computed 0 restored\n",
      "... \u001b[32m\u001b[0m\u001b[0m\n",
      "- waiting for remote response (since 2021-08-25 10:32:54), please wait for https://www.astro.unige.ch/mmoda/dispatch-data/run_analysis\n",
      "session: N6ISIGQ8JTGEV49G job: e7846e3a8d133d9c\n",
      " | the job is working remotely, please wait status=submitted job_id=e7846e3a in 0 messages since 131 seconds (14/27); in 0 SCW so far; nodes (0): 0 computed 0 restored\n",
      "... \u001b[32m\u001b[0m\u001b[0m\n",
      "- waiting for remote response (since 2021-08-25 10:33:08), please wait for https://www.astro.unige.ch/mmoda/dispatch-data/run_analysis\n",
      "session: N6ISIGQ8JTGEV49G job: e7846e3a8d133d9c\n",
      " / the job is working remotely, please wait status=submitted job_id=e7846e3a in 0 messages since 171 seconds (16/39); in 0 SCW so far; nodes (0): 0 computed 0 restored\n",
      "... \u001b[32m\u001b[0m\u001b[0m\n",
      "- waiting for remote response (since 2021-08-25 10:33:48), please wait for https://www.astro.unige.ch/mmoda/dispatch-data/run_analysis\n",
      "session: N6ISIGQ8JTGEV49G job: e7846e3a8d133d9c\n",
      " - the job is working remotely, please wait status=submitted job_id=e7846e3a in 0 messages since 186 seconds (16/39); in 0 SCW so far; nodes (0): 0 computed 0 restored\n",
      "... \u001b[32m\u001b[0m\u001b[0m\n",
      "- waiting for remote response (since 2021-08-25 10:34:03), please wait for https://www.astro.unige.ch/mmoda/dispatch-data/run_analysis\n",
      "session: N6ISIGQ8JTGEV49G job: e7846e3a8d133d9c\n",
      " \\ the job is working remotely, please wait status=submitted job_id=e7846e3a in 0 messages since 205 seconds (16/39); in 0 SCW so far; nodes (0): 0 computed 0 restored\n",
      "... \u001b[32m\u001b[0m\u001b[0m\n",
      "- waiting for remote response (since 2021-08-25 10:34:22), please wait for https://www.astro.unige.ch/mmoda/dispatch-data/run_analysis\n",
      "session: N6ISIGQ8JTGEV49G job: e7846e3a8d133d9c\n",
      " | the job is working remotely, please wait status=submitted job_id=e7846e3a in 0 messages since 227 seconds (17/39); in 0 SCW so far; nodes (0): 0 computed 0 restored\n",
      "... \u001b[32m\u001b[0m\u001b[0m\n",
      "- waiting for remote response (since 2021-08-25 10:34:44), please wait for https://www.astro.unige.ch/mmoda/dispatch-data/run_analysis\n",
      "session: N6ISIGQ8JTGEV49G job: e7846e3a8d133d9c\n",
      " / the job is working remotely, please wait status=submitted job_id=e7846e3a in 0 messages since 243 seconds (16/39); in 0 SCW so far; nodes (0): 0 computed 0 restored\n",
      "... \u001b[32m\u001b[0m\u001b[0m\n",
      "- waiting for remote response (since 2021-08-25 10:34:59), please wait for https://www.astro.unige.ch/mmoda/dispatch-data/run_analysis\n",
      "session: N6ISIGQ8JTGEV49G job: e7846e3a8d133d9c\n",
      " - the job is working remotely, please wait status=submitted job_id=e7846e3a in 0 messages since 270 seconds (17/39); in 0 SCW so far; nodes (0): 0 computed 0 restored\n",
      "... \u001b[32m\u001b[0m\u001b[0m\n",
      "- waiting for remote response (since 2021-08-25 10:35:26), please wait for https://www.astro.unige.ch/mmoda/dispatch-data/run_analysis\n",
      "session: N6ISIGQ8JTGEV49G job: e7846e3a8d133d9c\n",
      " \\ the job is working remotely, please wait status=submitted job_id=e7846e3a in 0 messages since 288 seconds (17/39); in 0 SCW so far; nodes (0): 0 computed 0 restored\n",
      "... \u001b[32m\u001b[0m\u001b[0m\n",
      "- waiting for remote response (since 2021-08-25 10:35:45), please wait for https://www.astro.unige.ch/mmoda/dispatch-data/run_analysis\n",
      "session: N6ISIGQ8JTGEV49G job: e7846e3a8d133d9c\n",
      " | the job is working remotely, please wait status=submitted job_id=e7846e3a in 0 messages since 303 seconds (17/39); in 0 SCW so far; nodes (0): 0 computed 0 restored\n",
      "... \u001b[32m\u001b[0m\u001b[0m\n",
      "- waiting for remote response (since 2021-08-25 10:36:00), please wait for https://www.astro.unige.ch/mmoda/dispatch-data/run_analysis\n",
      "session: N6ISIGQ8JTGEV49G job: e7846e3a8d133d9c\n",
      " / the job is working remotely, please wait status=submitted job_id=e7846e3a in 0 messages since 321 seconds (17/39); in 0 SCW so far; nodes (0): 0 computed 0 restored\n",
      "... \u001b[32m\u001b[0m\u001b[0m\n",
      "- waiting for remote response (since 2021-08-25 10:36:18), please wait for https://www.astro.unige.ch/mmoda/dispatch-data/run_analysis\n",
      "session: N6ISIGQ8JTGEV49G job: e7846e3a8d133d9c\n",
      " - the job is working remotely, please wait status=submitted job_id=e7846e3a in 0 messages since 340 seconds (17/39); in 0 SCW so far; nodes (0): 0 computed 0 restored\n",
      "... \u001b[32m\u001b[0m\u001b[0m\n",
      "- waiting for remote response (since 2021-08-25 10:36:37), please wait for https://www.astro.unige.ch/mmoda/dispatch-data/run_analysis\n",
      "session: N6ISIGQ8JTGEV49G job: e7846e3a8d133d9c\n",
      " \\ the job is working remotely, please wait status=submitted job_id=e7846e3a in 0 messages since 356 seconds (17/39); in 0 SCW so far; nodes (0): 0 computed 0 restored\n",
      "... \u001b[32m\u001b[0m\u001b[0m\n",
      "- waiting for remote response (since 2021-08-25 10:36:53), please wait for https://www.astro.unige.ch/mmoda/dispatch-data/run_analysis\n",
      "session: N6ISIGQ8JTGEV49G job: e7846e3a8d133d9c\n",
      " | the job is working remotely, please wait status=submitted job_id=e7846e3a in 0 messages since 371 seconds (17/39); in 0 SCW so far; nodes (0): 0 computed 0 restored\n",
      "... \u001b[32m\u001b[0m\u001b[0m\n",
      "- waiting for remote response (since 2021-08-25 10:37:08), please wait for https://www.astro.unige.ch/mmoda/dispatch-data/run_analysis\n",
      "session: N6ISIGQ8JTGEV49G job: e7846e3a8d133d9c\n",
      " / the job is working remotely, please wait status=submitted job_id=e7846e3a in 0 messages since 386 seconds (17/39); in 0 SCW so far; nodes (0): 0 computed 0 restored\n",
      "... \u001b[32m\u001b[0m\u001b[0m\n"
     ]
    },
    {
     "name": "stderr",
     "output_type": "stream",
     "text": [
      "- waiting for remote response (since 2021-08-25 10:37:23), please wait for https://www.astro.unige.ch/mmoda/dispatch-data/run_analysis\n",
      "session: N6ISIGQ8JTGEV49G job: e7846e3a8d133d9c\n",
      " - the job is working remotely, please wait status=submitted job_id=e7846e3a in 0 messages since 400 seconds (16/39); in 0 SCW so far; nodes (0): 0 computed 0 restored\n",
      "... \u001b[32m\u001b[0m\u001b[0m\n",
      "- waiting for remote response (since 2021-08-25 10:37:36), please wait for https://www.astro.unige.ch/mmoda/dispatch-data/run_analysis\n",
      "session: N6ISIGQ8JTGEV49G job: e7846e3a8d133d9c\n",
      " \\ the job is working remotely, please wait status=submitted job_id=e7846e3a in 0 messages since 413 seconds (16/39); in 0 SCW so far; nodes (0): 0 computed 0 restored\n",
      "... \u001b[32m\u001b[0m\u001b[0m\n",
      "- waiting for remote response (since 2021-08-25 10:37:50), please wait for https://www.astro.unige.ch/mmoda/dispatch-data/run_analysis\n",
      "session: N6ISIGQ8JTGEV49G job: e7846e3a8d133d9c\n",
      " | the job is working remotely, please wait status=submitted job_id=e7846e3a in 0 messages since 426 seconds (16/39); in 0 SCW so far; nodes (0): 0 computed 0 restored\n",
      "... \u001b[32m\u001b[0m\u001b[0m\n",
      "- waiting for remote response (since 2021-08-25 10:38:03), please wait for https://www.astro.unige.ch/mmoda/dispatch-data/run_analysis\n",
      "session: N6ISIGQ8JTGEV49G job: e7846e3a8d133d9c\n",
      " / the job is working remotely, please wait status=submitted job_id=e7846e3a in 0 messages since 443 seconds (16/39); in 0 SCW so far; nodes (0): 0 computed 0 restored\n",
      "... \u001b[32m\u001b[0m\u001b[0m\n",
      "- waiting for remote response (since 2021-08-25 10:38:20), please wait for https://www.astro.unige.ch/mmoda/dispatch-data/run_analysis\n",
      "session: N6ISIGQ8JTGEV49G job: e7846e3a8d133d9c\n",
      " - the job is working remotely, please wait status=submitted job_id=e7846e3a in 0 messages since 468 seconds (16/39); in 0 SCW so far; nodes (0): 0 computed 0 restored\n",
      "... \u001b[32m\u001b[0m\u001b[0m\n",
      "- waiting for remote response (since 2021-08-25 10:38:45), please wait for https://www.astro.unige.ch/mmoda/dispatch-data/run_analysis\n",
      "session: N6ISIGQ8JTGEV49G job: e7846e3a8d133d9c\n",
      " \\ the job is working remotely, please wait status=submitted job_id=e7846e3a in 0 messages since 480 seconds (16/39); in 0 SCW so far; nodes (0): 0 computed 0 restored\n",
      "... \u001b[32m\u001b[0m\u001b[0m\n",
      "- waiting for remote response (since 2021-08-25 10:38:57), please wait for https://www.astro.unige.ch/mmoda/dispatch-data/run_analysis\n",
      "session: N6ISIGQ8JTGEV49G job: e7846e3a8d133d9c\n",
      " | the job is working remotely, please wait status=submitted job_id=e7846e3a in 0 messages since 493 seconds (16/39); in 0 SCW so far; nodes (0): 0 computed 0 restored\n",
      "... \u001b[32m\u001b[0m\u001b[0m\n",
      "- waiting for remote response (since 2021-08-25 10:39:09), please wait for https://www.astro.unige.ch/mmoda/dispatch-data/run_analysis\n",
      "session: N6ISIGQ8JTGEV49G job: e7846e3a8d133d9c\n",
      " / the job is working remotely, please wait status=submitted job_id=e7846e3a in 0 messages since 505 seconds (16/39); in 0 SCW so far; nodes (0): 0 computed 0 restored\n",
      "... \u001b[32m\u001b[0m\u001b[0m\n",
      "- waiting for remote response (since 2021-08-25 10:39:22), please wait for https://www.astro.unige.ch/mmoda/dispatch-data/run_analysis\n",
      "session: N6ISIGQ8JTGEV49G job: e7846e3a8d133d9c\n",
      "\n",
      "... query status \u001b[35msubmitted\u001b[0m => \u001b[35mdone\u001b[0m\n",
      "\u001b[32mquery COMPLETED SUCCESSFULLY (state done)\u001b[0m\n",
      "query complete: terminating\n"
     ]
    }
   ],
   "source": [
    "from oda_api.api import DispatcherAPI\n",
    "\n",
    "disp = DispatcherAPI(url=\"https://www.astro.unige.ch/mmoda/dispatch-data\", instrument=\"mock\")\n",
    "\n",
    "par_dict = {\n",
    "\"E1_keV\": \"28\",\n",
    "\"E2_keV\": \"40\",\n",
    "\"detection_threshold\": \"7\",\n",
    "\"instrument\": \"isgri\",\n",
    "\"osa_version\": \"OSA11.1\",\n",
    "\"product\": \"isgri_image\",\n",
    "\"product_type\": \"Real\",\n",
    "\"scw_list\": scw_pick,\n",
    "\"integral_data_rights\": \"all-private\"    \n",
    "}\n",
    "\n",
    "if token != '':\n",
    "    par_dict.update({'token': token})\n",
    "\n",
    "data_collection = disp.get_product(**par_dict)"
   ]
  },
  {
   "cell_type": "code",
   "execution_count": 11,
   "id": "3ff3cee9",
   "metadata": {},
   "outputs": [
    {
     "name": "stdout",
     "output_type": "stream",
     "text": [
      "------------------------------\n",
      "name: mosaic_image\n",
      "meta_data dict_keys(['product', 'instrument', 'src_name', 'query_parameters'])\n",
      "number of data units 6\n",
      "------------------------------\n",
      "data uniti 0 ,name: PRIMARY\n",
      "data uniti 1 ,name: GROUPING\n",
      "data uniti 2 ,name: ISGR-MOSA-IMA\n",
      "data uniti 3 ,name: ISGR-MOSA-IMA\n",
      "data uniti 4 ,name: ISGR-MOSA-IMA\n",
      "data uniti 5 ,name: ISGR-MOSA-IMA\n"
     ]
    }
   ],
   "source": [
    "data_collection.mosaic_image_0_mosaic.show()"
   ]
  },
  {
   "cell_type": "code",
   "execution_count": 12,
   "id": "d4211485",
   "metadata": {},
   "outputs": [
    {
     "name": "stdout",
     "output_type": "stream",
     "text": [
      "------------------------------\n",
      "product : mosaic\n",
      "instrument : isgri\n",
      "src_name : \n",
      "query_parameters : [{\"query_name\": \"isgri_image_query\"}, {\"product_name\": \"isgri_image_query\"}, {\"name\": \"detection_threshold\", \"units\": \"sigma\", \"value\": \"7\"}, {\"name\": \"image_scale_min\", \"units\": None, \"value\": None}, {\"name\": \"image_scale_max\", \"units\": None, \"value\": None}]\n",
      "------------------------------\n"
     ]
    }
   ],
   "source": [
    "data_collection.mosaic_image_0_mosaic.show_meta()"
   ]
  },
  {
   "cell_type": "code",
   "execution_count": 16,
   "id": "d081247c",
   "metadata": {},
   "outputs": [],
   "source": [
    "from oda_api.plot_tools import OdaImage\n",
    "#interactive\n",
    "%matplotlib inline\n",
    "\n",
    "im=OdaImage(data_collection.mosaic_image_0_mosaic)"
   ]
  }
 ],
 "metadata": {
  "kernelspec": {
   "display_name": "Python 3 (ipykernel)",
   "language": "python",
   "name": "python3"
  },
  "language_info": {
   "codemirror_mode": {
    "name": "ipython",
    "version": 3
   },
   "file_extension": ".py",
   "mimetype": "text/x-python",
   "name": "python",
   "nbconvert_exporter": "python",
   "pygments_lexer": "ipython3",
   "version": "3.8.10"
  }
 },
 "nbformat": 4,
 "nbformat_minor": 5
}
