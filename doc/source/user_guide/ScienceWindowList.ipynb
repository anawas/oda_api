{
 "cells": [
  {
   "cell_type": "markdown",
   "id": "4815a76d",
   "metadata": {},
   "source": [
    "# In this example we select a list of science window and submit it to ODA to obtain an image"
   ]
  },
  {
   "cell_type": "code",
   "execution_count": 3,
   "id": "2989b44a",
   "metadata": {},
   "outputs": [],
   "source": [
    "# with no surprise, we do it for the Crab\n",
    "source_name='Crab'"
   ]
  },
  {
   "cell_type": "code",
   "execution_count": 1,
   "id": "d0b144dd",
   "metadata": {},
   "outputs": [],
   "source": [
    "#Example of functions to select a science window list\n",
    "import time\n",
    "\n",
    "import astroquery.heasarc\n",
    "from astropy.coordinates import SkyCoord\n",
    "from astropy import units as u\n",
    "\n",
    "Heasarc = astroquery.heasarc.Heasarc()\n",
    "\n",
    "\n",
    "\n",
    "def get_scw_list(ra_obj, dec_obj,radius,start_date,end_date ):\n",
    "    R = Heasarc.query_region(\n",
    "            position = SkyCoord(ra_obj, dec_obj, unit='deg'), \n",
    "            radius = f\"{radius} deg\",\n",
    "            mission = 'intscw',                 \n",
    "            time = start_date + \" .. \" + end_date,\n",
    "            good_isgri = \">1000\",\n",
    "        )        \n",
    "\n",
    "    R.sort('SCW_ID')\n",
    "\n",
    "    return R['SCW_ID'], R['SCW_VER']\n",
    "\n",
    "\n",
    "assert astroquery.__version__ >= '0.4.2.dev6611'\n",
    "\n",
    "# it means it's our fork\n",
    "assert 'isdc' in astroquery.heasarc.Conf.server.cfgtype"
   ]
  },
  {
   "cell_type": "code",
   "execution_count": 4,
   "id": "16645cd3",
   "metadata": {},
   "outputs": [],
   "source": [
    "from astroquery.simbad import Simbad\n",
    "from astropy import coordinates as coord\n",
    "\n",
    "import json\n",
    "\n",
    "import os\n",
    "import shutil\n",
    "import random\n",
    "\n",
    "from astropy.io import fits\n",
    "\n",
    "from scipy import stats\n",
    "result_table = Simbad.query_object(source_name)\n",
    "source_coord = coord.SkyCoord(result_table['RA'][0], result_table['DEC'][0], unit=(\"hourangle\", \"deg\"))\n",
    "ra=source_coord.ra.deg\n",
    "dec=source_coord.dec.deg\n",
    "radius=8."
   ]
  },
  {
   "cell_type": "markdown",
   "id": "3b61afe2",
   "metadata": {},
   "source": [
    "- We get science windows within 10 degrees from the Crab position \n",
    "- between the given dates expressed in the ISOT format"
   ]
  },
  {
   "cell_type": "code",
   "execution_count": 7,
   "id": "1eae81e5",
   "metadata": {},
   "outputs": [
    {
     "name": "stderr",
     "output_type": "stream",
     "text": [
      "WARNING: InputWarning: Coordinate string is being interpreted as an ICRS coordinate provided in degrees. [astroquery.utils.commons]\n"
     ]
    }
   ],
   "source": [
    "scwlist,version = get_scw_list(ra,dec, 10, '2020-01-01T00:00:00', '2020-06-01T00:00:00')"
   ]
  },
  {
   "cell_type": "markdown",
   "id": "954420af",
   "metadata": {},
   "source": [
    "- We pick at random nscw = 10 science window from the list"
   ]
  },
  {
   "cell_type": "code",
   "execution_count": 14,
   "id": "08f787e9",
   "metadata": {},
   "outputs": [],
   "source": [
    "\n",
    "nscw = 10\n",
    "if len(scwlist) == 0:\n",
    "    raise Exception('No science windows')\n",
    "\n",
    "scw_pick = [(s+\".\"+v).strip() for s,v in zip(scwlist,version)]\n",
    "\n",
    "if nscw >0 and len(scw_pick)>=nscw:\n",
    "    random.seed(0)\n",
    "    scw_pick = random.sample(scw_pick, nscw)\n",
    "scw_pick = sorted(scw_pick)"
   ]
  },
  {
   "cell_type": "code",
   "execution_count": 15,
   "id": "f07b46c6",
   "metadata": {},
   "outputs": [
    {
     "data": {
      "text/plain": [
       "['219400710010.001',\n",
       " '221000540010.001',\n",
       " '221200100010.001',\n",
       " '221400280010.001',\n",
       " '221400420010.001',\n",
       " '221400520010.001',\n",
       " '221500030010.001',\n",
       " '221500320010.001',\n",
       " '221500360010.001',\n",
       " '221500490010.001']"
      ]
     },
     "execution_count": 15,
     "metadata": {},
     "output_type": "execute_result"
    }
   ],
   "source": [
    "scw_pick"
   ]
  },
  {
   "cell_type": "markdown",
   "id": "c8611dc0",
   "metadata": {},
   "source": [
    "- Token for a given user "
   ]
  },
  {
   "cell_type": "code",
   "execution_count": 10,
   "id": "adf9cae0",
   "metadata": {},
   "outputs": [],
   "source": [
    "token=''"
   ]
  },
  {
   "cell_type": "code",
   "execution_count": 11,
   "id": "4fd921cb",
   "metadata": {},
   "outputs": [
    {
     "name": "stdout",
     "output_type": "stream",
     "text": [
      "Insert the token········\n"
     ]
    }
   ],
   "source": [
    "#You can provide a valid token as explained in the 'Authentication' example or skip this cell\n",
    "import getpass\n",
    "token = getpass.getpass('Insert the token')"
   ]
  },
  {
   "cell_type": "markdown",
   "id": "9b8b8741",
   "metadata": {},
   "source": [
    "## Let's get some logging\n",
    "\n",
    "This is to help visualizing the progress.\n",
    "\n",
    "- WANRING is the default level\n",
    "- INFO writes some more information\n",
    "- DEBUG is maily for developers and issue tracking\n"
   ]
  },
  {
   "cell_type": "code",
   "execution_count": 12,
   "id": "469ef85f",
   "metadata": {},
   "outputs": [],
   "source": [
    "import logging\n",
    "#default\n",
    "#logging.getLogger().setLevel(logging.WARNING)\n",
    "#slightly more verbose\n",
    "logging.getLogger().setLevel(logging.INFO)\n",
    "#all messages\n",
    "#logging.getLogger().setLevel(logging.DEBUG)\n",
    "\n",
    "logging.getLogger('oda_api').addHandler(logging.StreamHandler()) "
   ]
  },
  {
   "cell_type": "code",
   "execution_count": 16,
   "id": "6d03a021",
   "metadata": {},
   "outputs": [
    {
     "name": "stderr",
     "output_type": "stream",
     "text": [
      "- waiting for remote response (since 2021-08-24 12:41:22), please wait for https://www.astro.unige.ch/mmoda//dispatch-data/run_analysis\n",
      "session: N6ISIGQ8JTGEV49G job: b8eba6e08ec0d283\n",
      "\n",
      "... query status \u001b[35mprepared\u001b[0m => \u001b[35msubmitted\u001b[0m\n",
      "... assigned job id: \u001b[33mb8eba6e08ec0d283\u001b[0m\n",
      " | the job is working remotely, please wait status=submitted job_id=b8eba6e0 in 0 messages since 13 seconds (13/13); in 0 SCW so far; nodes (0): 0 computed 0 restored\n",
      "... \u001b[32m\u001b[0m\u001b[0m\n",
      "- waiting for remote response (since 2021-08-24 12:41:36), please wait for https://www.astro.unige.ch/mmoda//dispatch-data/run_analysis\n",
      "session: N6ISIGQ8JTGEV49G job: b8eba6e08ec0d283\n",
      " / the job is working remotely, please wait status=submitted job_id=b8eba6e0 in 0 messages since 23 seconds (11/13); in 0 SCW so far; nodes (0): 0 computed 0 restored\n",
      "... \u001b[32m\u001b[0m\u001b[0m\n",
      "- waiting for remote response (since 2021-08-24 12:41:46), please wait for https://www.astro.unige.ch/mmoda//dispatch-data/run_analysis\n",
      "session: N6ISIGQ8JTGEV49G job: b8eba6e08ec0d283\n",
      " - the job is working remotely, please wait status=submitted job_id=b8eba6e0 in 0 messages since 32 seconds (10/13); in 0 SCW so far; nodes (0): 0 computed 0 restored\n",
      "... \u001b[32m\u001b[0m\u001b[0m\n",
      "- waiting for remote response (since 2021-08-24 12:41:55), please wait for https://www.astro.unige.ch/mmoda//dispatch-data/run_analysis\n",
      "session: N6ISIGQ8JTGEV49G job: b8eba6e08ec0d283\n",
      " \\ the job is working remotely, please wait status=submitted job_id=b8eba6e0 in 0 messages since 41 seconds (9.7/13); in 0 SCW so far; nodes (0): 0 computed 0 restored\n",
      "... \u001b[32m\u001b[0m\u001b[0m\n",
      "- waiting for remote response (since 2021-08-24 12:42:05), please wait for https://www.astro.unige.ch/mmoda//dispatch-data/run_analysis\n",
      "session: N6ISIGQ8JTGEV49G job: b8eba6e08ec0d283\n",
      " | the job is working remotely, please wait status=submitted job_id=b8eba6e0 in 0 messages since 51 seconds (9.4/13); in 0 SCW so far; nodes (0): 0 computed 0 restored\n",
      "... \u001b[32m\u001b[0m\u001b[0m\n",
      "- waiting for remote response (since 2021-08-24 12:42:14), please wait for https://www.astro.unige.ch/mmoda//dispatch-data/run_analysis\n",
      "session: N6ISIGQ8JTGEV49G job: b8eba6e08ec0d283\n",
      " / the job is working remotely, please wait status=submitted job_id=b8eba6e0 in 0 messages since 61 seconds (9.3/13); in 0 SCW so far; nodes (0): 0 computed 0 restored\n",
      "... \u001b[32m\u001b[0m\u001b[0m\n",
      "- waiting for remote response (since 2021-08-24 12:42:24), please wait for https://www.astro.unige.ch/mmoda//dispatch-data/run_analysis\n",
      "session: N6ISIGQ8JTGEV49G job: b8eba6e08ec0d283\n",
      " - the job is working remotely, please wait status=submitted job_id=b8eba6e0 in 0 messages since 71 seconds (9.3/13); in 0 SCW so far; nodes (0): 0 computed 0 restored\n",
      "... \u001b[32m\u001b[0m\u001b[0m\n",
      "- waiting for remote response (since 2021-08-24 12:42:34), please wait for https://www.astro.unige.ch/mmoda//dispatch-data/run_analysis\n",
      "session: N6ISIGQ8JTGEV49G job: b8eba6e08ec0d283\n",
      " \\ the job is working remotely, please wait status=submitted job_id=b8eba6e0 in 0 messages since 80 seconds (9.2/13); in 0 SCW so far; nodes (0): 0 computed 0 restored\n",
      "... \u001b[32m\u001b[0m\u001b[0m\n",
      "- waiting for remote response (since 2021-08-24 12:42:43), please wait for https://www.astro.unige.ch/mmoda//dispatch-data/run_analysis\n",
      "session: N6ISIGQ8JTGEV49G job: b8eba6e08ec0d283\n",
      " | the job is working remotely, please wait status=submitted job_id=b8eba6e0 in 0 messages since 90 seconds (9.2/13); in 0 SCW so far; nodes (0): 0 computed 0 restored\n",
      "... \u001b[32m\u001b[0m\u001b[0m\n",
      "- waiting for remote response (since 2021-08-24 12:42:54), please wait for https://www.astro.unige.ch/mmoda//dispatch-data/run_analysis\n",
      "session: N6ISIGQ8JTGEV49G job: b8eba6e08ec0d283\n",
      " / the job is working remotely, please wait status=submitted job_id=b8eba6e0 in 0 messages since 101 seconds (9.2/13); in 0 SCW so far; nodes (0): 0 computed 0 restored\n",
      "... \u001b[32m\u001b[0m\u001b[0m\n",
      "- waiting for remote response (since 2021-08-24 12:43:04), please wait for https://www.astro.unige.ch/mmoda//dispatch-data/run_analysis\n",
      "session: N6ISIGQ8JTGEV49G job: b8eba6e08ec0d283\n",
      " - the job is working remotely, please wait status=submitted job_id=b8eba6e0 in 0 messages since 111 seconds (9.2/13); in 0 SCW so far; nodes (0): 0 computed 0 restored\n",
      "... \u001b[32m\u001b[0m\u001b[0m\n",
      "- waiting for remote response (since 2021-08-24 12:43:14), please wait for https://www.astro.unige.ch/mmoda//dispatch-data/run_analysis\n",
      "session: N6ISIGQ8JTGEV49G job: b8eba6e08ec0d283\n",
      " \\ the job is working remotely, please wait status=submitted job_id=b8eba6e0 in 0 messages since 120 seconds (9.1/13); in 0 SCW so far; nodes (0): 0 computed 0 restored\n",
      "... \u001b[32m\u001b[0m\u001b[0m\n",
      "- waiting for remote response (since 2021-08-24 12:43:23), please wait for https://www.astro.unige.ch/mmoda//dispatch-data/run_analysis\n",
      "session: N6ISIGQ8JTGEV49G job: b8eba6e08ec0d283\n",
      " | the job is working remotely, please wait status=submitted job_id=b8eba6e0 in 0 messages since 130 seconds (9.1/13); in 0 SCW so far; nodes (0): 0 computed 0 restored\n",
      "... \u001b[32m\u001b[0m\u001b[0m\n",
      "- waiting for remote response (since 2021-08-24 12:43:33), please wait for https://www.astro.unige.ch/mmoda//dispatch-data/run_analysis\n",
      "session: N6ISIGQ8JTGEV49G job: b8eba6e08ec0d283\n",
      " / the job is working remotely, please wait status=submitted job_id=b8eba6e0 in 0 messages since 140 seconds (9.1/13); in 0 SCW so far; nodes (0): 0 computed 0 restored\n",
      "... \u001b[32m\u001b[0m\u001b[0m\n",
      "- waiting for remote response (since 2021-08-24 12:43:43), please wait for https://www.astro.unige.ch/mmoda//dispatch-data/run_analysis\n",
      "session: N6ISIGQ8JTGEV49G job: b8eba6e08ec0d283\n",
      " - the job is working remotely, please wait status=submitted job_id=b8eba6e0 in 0 messages since 149 seconds (9/13); in 0 SCW so far; nodes (0): 0 computed 0 restored\n",
      "... \u001b[32m\u001b[0m\u001b[0m\n",
      "- waiting for remote response (since 2021-08-24 12:43:53), please wait for https://www.astro.unige.ch/mmoda//dispatch-data/run_analysis\n",
      "session: N6ISIGQ8JTGEV49G job: b8eba6e08ec0d283\n",
      " \\ the job is working remotely, please wait status=submitted job_id=b8eba6e0 in 0 messages since 159 seconds (9/13); in 0 SCW so far; nodes (0): 0 computed 0 restored\n",
      "... \u001b[32m\u001b[0m\u001b[0m\n",
      "- waiting for remote response (since 2021-08-24 12:44:02), please wait for https://www.astro.unige.ch/mmoda//dispatch-data/run_analysis\n",
      "session: N6ISIGQ8JTGEV49G job: b8eba6e08ec0d283\n",
      " | the job is working remotely, please wait status=submitted job_id=b8eba6e0 in 0 messages since 169 seconds (9/13); in 0 SCW so far; nodes (0): 0 computed 0 restored\n",
      "... \u001b[32m\u001b[0m\u001b[0m\n",
      "- waiting for remote response (since 2021-08-24 12:44:12), please wait for https://www.astro.unige.ch/mmoda//dispatch-data/run_analysis\n",
      "session: N6ISIGQ8JTGEV49G job: b8eba6e08ec0d283\n",
      " / the job is working remotely, please wait status=submitted job_id=b8eba6e0 in 0 messages since 179 seconds (9/13); in 0 SCW so far; nodes (0): 0 computed 0 restored\n",
      "... \u001b[32m\u001b[0m\u001b[0m\n",
      "- waiting for remote response (since 2021-08-24 12:44:22), please wait for https://www.astro.unige.ch/mmoda//dispatch-data/run_analysis\n",
      "session: N6ISIGQ8JTGEV49G job: b8eba6e08ec0d283\n",
      " - the job is working remotely, please wait status=submitted job_id=b8eba6e0 in 0 messages since 189 seconds (9/13); in 0 SCW so far; nodes (0): 0 computed 0 restored\n",
      "... \u001b[32m\u001b[0m\u001b[0m\n",
      "- waiting for remote response (since 2021-08-24 12:44:32), please wait for https://www.astro.unige.ch/mmoda//dispatch-data/run_analysis\n",
      "session: N6ISIGQ8JTGEV49G job: b8eba6e08ec0d283\n",
      " \\ the job is working remotely, please wait status=submitted job_id=b8eba6e0 in 0 messages since 198 seconds (9/13); in 0 SCW so far; nodes (0): 0 computed 0 restored\n",
      "... \u001b[32m\u001b[0m\u001b[0m\n",
      "- waiting for remote response (since 2021-08-24 12:44:41), please wait for https://www.astro.unige.ch/mmoda//dispatch-data/run_analysis\n",
      "session: N6ISIGQ8JTGEV49G job: b8eba6e08ec0d283\n",
      " | the job is working remotely, please wait status=submitted job_id=b8eba6e0 in 0 messages since 208 seconds (9/13); in 0 SCW so far; nodes (0): 0 computed 0 restored\n",
      "... \u001b[32m\u001b[0m\u001b[0m\n",
      "- waiting for remote response (since 2021-08-24 12:44:51), please wait for https://www.astro.unige.ch/mmoda//dispatch-data/run_analysis\n",
      "session: N6ISIGQ8JTGEV49G job: b8eba6e08ec0d283\n",
      " / the job is working remotely, please wait status=submitted job_id=b8eba6e0 in 0 messages since 218 seconds (9/13); in 0 SCW so far; nodes (0): 0 computed 0 restored\n",
      "... \u001b[32m\u001b[0m\u001b[0m\n"
     ]
    },
    {
     "name": "stderr",
     "output_type": "stream",
     "text": [
      "- waiting for remote response (since 2021-08-24 12:45:01), please wait for https://www.astro.unige.ch/mmoda//dispatch-data/run_analysis\n",
      "session: N6ISIGQ8JTGEV49G job: b8eba6e08ec0d283\n",
      " - the job is working remotely, please wait status=submitted job_id=b8eba6e0 in 0 messages since 228 seconds (9/13); in 0 SCW so far; nodes (0): 0 computed 0 restored\n",
      "... \u001b[32m\u001b[0m\u001b[0m\n",
      "- waiting for remote response (since 2021-08-24 12:45:11), please wait for https://www.astro.unige.ch/mmoda//dispatch-data/run_analysis\n",
      "session: N6ISIGQ8JTGEV49G job: b8eba6e08ec0d283\n",
      " \\ the job is working remotely, please wait status=submitted job_id=b8eba6e0 in 0 messages since 238 seconds (9/13); in 0 SCW so far; nodes (0): 0 computed 0 restored\n",
      "... \u001b[32m\u001b[0m\u001b[0m\n",
      "- waiting for remote response (since 2021-08-24 12:45:21), please wait for https://www.astro.unige.ch/mmoda//dispatch-data/run_analysis\n",
      "session: N6ISIGQ8JTGEV49G job: b8eba6e08ec0d283\n",
      " | the job is working remotely, please wait status=submitted job_id=b8eba6e0 in 0 messages since 247 seconds (8.9/13); in 0 SCW so far; nodes (0): 0 computed 0 restored\n",
      "... \u001b[32m\u001b[0m\u001b[0m\n",
      "- waiting for remote response (since 2021-08-24 12:45:30), please wait for https://www.astro.unige.ch/mmoda//dispatch-data/run_analysis\n",
      "session: N6ISIGQ8JTGEV49G job: b8eba6e08ec0d283\n",
      " / the job is working remotely, please wait status=submitted job_id=b8eba6e0 in 0 messages since 257 seconds (8.9/13); in 0 SCW so far; nodes (0): 0 computed 0 restored\n",
      "... \u001b[32m\u001b[0m\u001b[0m\n",
      "- waiting for remote response (since 2021-08-24 12:45:40), please wait for https://www.astro.unige.ch/mmoda//dispatch-data/run_analysis\n",
      "session: N6ISIGQ8JTGEV49G job: b8eba6e08ec0d283\n",
      " - the job is working remotely, please wait status=submitted job_id=b8eba6e0 in 0 messages since 267 seconds (8.9/13); in 0 SCW so far; nodes (0): 0 computed 0 restored\n",
      "... \u001b[32m\u001b[0m\u001b[0m\n",
      "- waiting for remote response (since 2021-08-24 12:45:50), please wait for https://www.astro.unige.ch/mmoda//dispatch-data/run_analysis\n",
      "session: N6ISIGQ8JTGEV49G job: b8eba6e08ec0d283\n",
      " \\ the job is working remotely, please wait status=submitted job_id=b8eba6e0 in 0 messages since 276 seconds (8.9/13); in 0 SCW so far; nodes (0): 0 computed 0 restored\n",
      "... \u001b[32m\u001b[0m\u001b[0m\n",
      "- waiting for remote response (since 2021-08-24 12:45:59), please wait for https://www.astro.unige.ch/mmoda//dispatch-data/run_analysis\n"
     ]
    },
    {
     "ename": "KeyboardInterrupt",
     "evalue": "",
     "output_type": "error",
     "traceback": [
      "\u001b[0;31m---------------------------------------------------------------------------\u001b[0m",
      "\u001b[0;31mKeyboardInterrupt\u001b[0m                         Traceback (most recent call last)",
      "\u001b[0;32m/tmp/ipykernel_12253/883896567.py\u001b[0m in \u001b[0;36m<module>\u001b[0;34m\u001b[0m\n\u001b[1;32m     16\u001b[0m     \u001b[0mpar_dict\u001b[0m\u001b[0;34m.\u001b[0m\u001b[0mupdate\u001b[0m\u001b[0;34m(\u001b[0m\u001b[0;34m{\u001b[0m\u001b[0;34m'token'\u001b[0m\u001b[0;34m:\u001b[0m \u001b[0mtoken\u001b[0m\u001b[0;34m}\u001b[0m\u001b[0;34m)\u001b[0m\u001b[0;34m\u001b[0m\u001b[0;34m\u001b[0m\u001b[0m\n\u001b[1;32m     17\u001b[0m \u001b[0;34m\u001b[0m\u001b[0m\n\u001b[0;32m---> 18\u001b[0;31m \u001b[0mdata_collection\u001b[0m \u001b[0;34m=\u001b[0m \u001b[0mdisp\u001b[0m\u001b[0;34m.\u001b[0m\u001b[0mget_product\u001b[0m\u001b[0;34m(\u001b[0m\u001b[0;34m**\u001b[0m\u001b[0mpar_dict\u001b[0m\u001b[0;34m)\u001b[0m\u001b[0;34m\u001b[0m\u001b[0;34m\u001b[0m\u001b[0m\n\u001b[0m",
      "\u001b[0;32m~/.venv/myVE/lib/python3.8/site-packages/oda_api/api.py\u001b[0m in \u001b[0;36mget_product\u001b[0;34m(self, product, instrument, verbose, dry_run, product_type, **kwargs)\u001b[0m\n\u001b[1;32m    863\u001b[0m \u001b[0;34m\u001b[0m\u001b[0m\n\u001b[1;32m    864\u001b[0m         \u001b[0;31m# >\u001b[0m\u001b[0;34m\u001b[0m\u001b[0;34m\u001b[0m\u001b[0;34m\u001b[0m\u001b[0m\n\u001b[0;32m--> 865\u001b[0;31m         \u001b[0mself\u001b[0m\u001b[0;34m.\u001b[0m\u001b[0mrequest\u001b[0m\u001b[0;34m(\u001b[0m\u001b[0mkwargs\u001b[0m\u001b[0;34m)\u001b[0m\u001b[0;34m\u001b[0m\u001b[0;34m\u001b[0m\u001b[0m\n\u001b[0m\u001b[1;32m    866\u001b[0m \u001b[0;34m\u001b[0m\u001b[0m\n\u001b[1;32m    867\u001b[0m         \u001b[0;32mif\u001b[0m \u001b[0mself\u001b[0m\u001b[0;34m.\u001b[0m\u001b[0mis_failed\u001b[0m\u001b[0;34m:\u001b[0m\u001b[0;34m\u001b[0m\u001b[0;34m\u001b[0m\u001b[0m\n",
      "\u001b[0;32m~/.venv/myVE/lib/python3.8/site-packages/oda_api/api.py\u001b[0m in \u001b[0;36mfunc_wrapper\u001b[0;34m(*args, **kwargs)\u001b[0m\n\u001b[1;32m    118\u001b[0m         \u001b[0;32mwhile\u001b[0m \u001b[0;32mTrue\u001b[0m\u001b[0;34m:\u001b[0m\u001b[0;34m\u001b[0m\u001b[0;34m\u001b[0m\u001b[0m\n\u001b[1;32m    119\u001b[0m             \u001b[0;32mtry\u001b[0m\u001b[0;34m:\u001b[0m\u001b[0;34m\u001b[0m\u001b[0;34m\u001b[0m\u001b[0m\n\u001b[0;32m--> 120\u001b[0;31m                 \u001b[0;32mreturn\u001b[0m \u001b[0mfunc\u001b[0m\u001b[0;34m(\u001b[0m\u001b[0;34m*\u001b[0m\u001b[0margs\u001b[0m\u001b[0;34m,\u001b[0m \u001b[0;34m**\u001b[0m\u001b[0mkwargs\u001b[0m\u001b[0;34m)\u001b[0m\u001b[0;34m\u001b[0m\u001b[0;34m\u001b[0m\u001b[0m\n\u001b[0m\u001b[1;32m    121\u001b[0m             \u001b[0;32mexcept\u001b[0m \u001b[0mUserError\u001b[0m \u001b[0;32mas\u001b[0m \u001b[0me\u001b[0m\u001b[0;34m:\u001b[0m\u001b[0;34m\u001b[0m\u001b[0;34m\u001b[0m\u001b[0m\n\u001b[1;32m    122\u001b[0m                 \u001b[0mlogger\u001b[0m\u001b[0;34m.\u001b[0m\u001b[0mexception\u001b[0m\u001b[0;34m(\u001b[0m\u001b[0;34m\"user error: %s\"\u001b[0m\u001b[0;34m,\u001b[0m \u001b[0me\u001b[0m\u001b[0;34m)\u001b[0m\u001b[0;34m\u001b[0m\u001b[0;34m\u001b[0m\u001b[0m\n",
      "\u001b[0;32m~/.venv/myVE/lib/python3.8/site-packages/oda_api/api.py\u001b[0m in \u001b[0;36mrequest\u001b[0;34m(self, parameters_dict, handle, url, wait, quiet)\u001b[0m\n\u001b[1;32m    638\u001b[0m \u001b[0;34m\u001b[0m\u001b[0m\n\u001b[1;32m    639\u001b[0m         \u001b[0;32mwhile\u001b[0m \u001b[0;32mTrue\u001b[0m\u001b[0;34m:\u001b[0m\u001b[0;34m\u001b[0m\u001b[0;34m\u001b[0m\u001b[0m\n\u001b[0;32m--> 640\u001b[0;31m             \u001b[0mself\u001b[0m\u001b[0;34m.\u001b[0m\u001b[0mpoll\u001b[0m\u001b[0;34m(\u001b[0m\u001b[0;34m)\u001b[0m\u001b[0;34m\u001b[0m\u001b[0;34m\u001b[0m\u001b[0m\n\u001b[0m\u001b[1;32m    641\u001b[0m \u001b[0;34m\u001b[0m\u001b[0m\n\u001b[1;32m    642\u001b[0m             \u001b[0;32mif\u001b[0m \u001b[0;32mnot\u001b[0m \u001b[0mself\u001b[0m\u001b[0;34m.\u001b[0m\u001b[0mwait\u001b[0m\u001b[0;34m:\u001b[0m\u001b[0;34m\u001b[0m\u001b[0;34m\u001b[0m\u001b[0m\n",
      "\u001b[0;32m~/.venv/myVE/lib/python3.8/site-packages/oda_api/api.py\u001b[0m in \u001b[0;36mfunc_wrapper\u001b[0;34m(*args, **kwargs)\u001b[0m\n\u001b[1;32m    118\u001b[0m         \u001b[0;32mwhile\u001b[0m \u001b[0;32mTrue\u001b[0m\u001b[0;34m:\u001b[0m\u001b[0;34m\u001b[0m\u001b[0;34m\u001b[0m\u001b[0m\n\u001b[1;32m    119\u001b[0m             \u001b[0;32mtry\u001b[0m\u001b[0;34m:\u001b[0m\u001b[0;34m\u001b[0m\u001b[0;34m\u001b[0m\u001b[0m\n\u001b[0;32m--> 120\u001b[0;31m                 \u001b[0;32mreturn\u001b[0m \u001b[0mfunc\u001b[0m\u001b[0;34m(\u001b[0m\u001b[0;34m*\u001b[0m\u001b[0margs\u001b[0m\u001b[0;34m,\u001b[0m \u001b[0;34m**\u001b[0m\u001b[0mkwargs\u001b[0m\u001b[0;34m)\u001b[0m\u001b[0;34m\u001b[0m\u001b[0;34m\u001b[0m\u001b[0m\n\u001b[0m\u001b[1;32m    121\u001b[0m             \u001b[0;32mexcept\u001b[0m \u001b[0mUserError\u001b[0m \u001b[0;32mas\u001b[0m \u001b[0me\u001b[0m\u001b[0;34m:\u001b[0m\u001b[0;34m\u001b[0m\u001b[0;34m\u001b[0m\u001b[0m\n\u001b[1;32m    122\u001b[0m                 \u001b[0mlogger\u001b[0m\u001b[0;34m.\u001b[0m\u001b[0mexception\u001b[0m\u001b[0;34m(\u001b[0m\u001b[0;34m\"user error: %s\"\u001b[0m\u001b[0;34m,\u001b[0m \u001b[0me\u001b[0m\u001b[0;34m)\u001b[0m\u001b[0;34m\u001b[0m\u001b[0;34m\u001b[0m\u001b[0m\n",
      "\u001b[0;32m~/.venv/myVE/lib/python3.8/site-packages/oda_api/api.py\u001b[0m in \u001b[0;36mpoll\u001b[0;34m(self, verbose, silent)\u001b[0m\n\u001b[1;32m    535\u001b[0m \u001b[0;34m\u001b[0m\u001b[0m\n\u001b[1;32m    536\u001b[0m         \u001b[0;31m# >\u001b[0m\u001b[0;34m\u001b[0m\u001b[0;34m\u001b[0m\u001b[0;34m\u001b[0m\u001b[0m\n\u001b[0;32m--> 537\u001b[0;31m         \u001b[0mself\u001b[0m\u001b[0;34m.\u001b[0m\u001b[0mresponse_json\u001b[0m \u001b[0;34m=\u001b[0m \u001b[0mself\u001b[0m\u001b[0;34m.\u001b[0m\u001b[0mrequest_to_json\u001b[0m\u001b[0;34m(\u001b[0m\u001b[0;34m)\u001b[0m\u001b[0;34m\u001b[0m\u001b[0;34m\u001b[0m\u001b[0m\n\u001b[0m\u001b[1;32m    538\u001b[0m         \u001b[0;31m# <\u001b[0m\u001b[0;34m\u001b[0m\u001b[0;34m\u001b[0m\u001b[0;34m\u001b[0m\u001b[0m\n\u001b[1;32m    539\u001b[0m \u001b[0;34m\u001b[0m\u001b[0m\n",
      "\u001b[0;32m~/.venv/myVE/lib/python3.8/site-packages/oda_api/api.py\u001b[0m in \u001b[0;36mrequest_to_json\u001b[0;34m(self, verbose)\u001b[0m\n\u001b[1;32m    333\u001b[0m \u001b[0;34m\u001b[0m\u001b[0m\n\u001b[1;32m    334\u001b[0m             \u001b[0;32mif\u001b[0m \u001b[0mself\u001b[0m\u001b[0;34m.\u001b[0m\u001b[0mselected_request_method\u001b[0m \u001b[0;34m==\u001b[0m \u001b[0;34m'GET'\u001b[0m\u001b[0;34m:\u001b[0m\u001b[0;34m\u001b[0m\u001b[0;34m\u001b[0m\u001b[0m\n\u001b[0;32m--> 335\u001b[0;31m                 response = requests.get(\n\u001b[0m\u001b[1;32m    336\u001b[0m                     \u001b[0;34m\"%s/%s\"\u001b[0m \u001b[0;34m%\u001b[0m \u001b[0;34m(\u001b[0m\u001b[0mself\u001b[0m\u001b[0;34m.\u001b[0m\u001b[0murl\u001b[0m\u001b[0;34m,\u001b[0m \u001b[0mself\u001b[0m\u001b[0;34m.\u001b[0m\u001b[0mrun_analysis_handle\u001b[0m\u001b[0;34m)\u001b[0m\u001b[0;34m,\u001b[0m\u001b[0;34m\u001b[0m\u001b[0;34m\u001b[0m\u001b[0m\n\u001b[1;32m    337\u001b[0m                     \u001b[0mparams\u001b[0m\u001b[0;34m=\u001b[0m\u001b[0mself\u001b[0m\u001b[0;34m.\u001b[0m\u001b[0mparameters_dict_payload\u001b[0m\u001b[0;34m,\u001b[0m\u001b[0;34m\u001b[0m\u001b[0;34m\u001b[0m\u001b[0m\n",
      "\u001b[0;32m~/.venv/myVE/lib/python3.8/site-packages/requests/api.py\u001b[0m in \u001b[0;36mget\u001b[0;34m(url, params, **kwargs)\u001b[0m\n\u001b[1;32m     73\u001b[0m     \"\"\"\n\u001b[1;32m     74\u001b[0m \u001b[0;34m\u001b[0m\u001b[0m\n\u001b[0;32m---> 75\u001b[0;31m     \u001b[0;32mreturn\u001b[0m \u001b[0mrequest\u001b[0m\u001b[0;34m(\u001b[0m\u001b[0;34m'get'\u001b[0m\u001b[0;34m,\u001b[0m \u001b[0murl\u001b[0m\u001b[0;34m,\u001b[0m \u001b[0mparams\u001b[0m\u001b[0;34m=\u001b[0m\u001b[0mparams\u001b[0m\u001b[0;34m,\u001b[0m \u001b[0;34m**\u001b[0m\u001b[0mkwargs\u001b[0m\u001b[0;34m)\u001b[0m\u001b[0;34m\u001b[0m\u001b[0;34m\u001b[0m\u001b[0m\n\u001b[0m\u001b[1;32m     76\u001b[0m \u001b[0;34m\u001b[0m\u001b[0m\n\u001b[1;32m     77\u001b[0m \u001b[0;34m\u001b[0m\u001b[0m\n",
      "\u001b[0;32m~/.venv/myVE/lib/python3.8/site-packages/requests/api.py\u001b[0m in \u001b[0;36mrequest\u001b[0;34m(method, url, **kwargs)\u001b[0m\n\u001b[1;32m     59\u001b[0m     \u001b[0;31m# cases, and look like a memory leak in others.\u001b[0m\u001b[0;34m\u001b[0m\u001b[0;34m\u001b[0m\u001b[0;34m\u001b[0m\u001b[0m\n\u001b[1;32m     60\u001b[0m     \u001b[0;32mwith\u001b[0m \u001b[0msessions\u001b[0m\u001b[0;34m.\u001b[0m\u001b[0mSession\u001b[0m\u001b[0;34m(\u001b[0m\u001b[0;34m)\u001b[0m \u001b[0;32mas\u001b[0m \u001b[0msession\u001b[0m\u001b[0;34m:\u001b[0m\u001b[0;34m\u001b[0m\u001b[0;34m\u001b[0m\u001b[0m\n\u001b[0;32m---> 61\u001b[0;31m         \u001b[0;32mreturn\u001b[0m \u001b[0msession\u001b[0m\u001b[0;34m.\u001b[0m\u001b[0mrequest\u001b[0m\u001b[0;34m(\u001b[0m\u001b[0mmethod\u001b[0m\u001b[0;34m=\u001b[0m\u001b[0mmethod\u001b[0m\u001b[0;34m,\u001b[0m \u001b[0murl\u001b[0m\u001b[0;34m=\u001b[0m\u001b[0murl\u001b[0m\u001b[0;34m,\u001b[0m \u001b[0;34m**\u001b[0m\u001b[0mkwargs\u001b[0m\u001b[0;34m)\u001b[0m\u001b[0;34m\u001b[0m\u001b[0;34m\u001b[0m\u001b[0m\n\u001b[0m\u001b[1;32m     62\u001b[0m \u001b[0;34m\u001b[0m\u001b[0m\n\u001b[1;32m     63\u001b[0m \u001b[0;34m\u001b[0m\u001b[0m\n",
      "\u001b[0;32m~/.venv/myVE/lib/python3.8/site-packages/requests/sessions.py\u001b[0m in \u001b[0;36mrequest\u001b[0;34m(self, method, url, params, data, headers, cookies, files, auth, timeout, allow_redirects, proxies, hooks, stream, verify, cert, json)\u001b[0m\n\u001b[1;32m    540\u001b[0m         }\n\u001b[1;32m    541\u001b[0m         \u001b[0msend_kwargs\u001b[0m\u001b[0;34m.\u001b[0m\u001b[0mupdate\u001b[0m\u001b[0;34m(\u001b[0m\u001b[0msettings\u001b[0m\u001b[0;34m)\u001b[0m\u001b[0;34m\u001b[0m\u001b[0;34m\u001b[0m\u001b[0m\n\u001b[0;32m--> 542\u001b[0;31m         \u001b[0mresp\u001b[0m \u001b[0;34m=\u001b[0m \u001b[0mself\u001b[0m\u001b[0;34m.\u001b[0m\u001b[0msend\u001b[0m\u001b[0;34m(\u001b[0m\u001b[0mprep\u001b[0m\u001b[0;34m,\u001b[0m \u001b[0;34m**\u001b[0m\u001b[0msend_kwargs\u001b[0m\u001b[0;34m)\u001b[0m\u001b[0;34m\u001b[0m\u001b[0;34m\u001b[0m\u001b[0m\n\u001b[0m\u001b[1;32m    543\u001b[0m \u001b[0;34m\u001b[0m\u001b[0m\n\u001b[1;32m    544\u001b[0m         \u001b[0;32mreturn\u001b[0m \u001b[0mresp\u001b[0m\u001b[0;34m\u001b[0m\u001b[0;34m\u001b[0m\u001b[0m\n",
      "\u001b[0;32m~/.venv/myVE/lib/python3.8/site-packages/requests/sessions.py\u001b[0m in \u001b[0;36msend\u001b[0;34m(self, request, **kwargs)\u001b[0m\n\u001b[1;32m    653\u001b[0m \u001b[0;34m\u001b[0m\u001b[0m\n\u001b[1;32m    654\u001b[0m         \u001b[0;31m# Send the request\u001b[0m\u001b[0;34m\u001b[0m\u001b[0;34m\u001b[0m\u001b[0;34m\u001b[0m\u001b[0m\n\u001b[0;32m--> 655\u001b[0;31m         \u001b[0mr\u001b[0m \u001b[0;34m=\u001b[0m \u001b[0madapter\u001b[0m\u001b[0;34m.\u001b[0m\u001b[0msend\u001b[0m\u001b[0;34m(\u001b[0m\u001b[0mrequest\u001b[0m\u001b[0;34m,\u001b[0m \u001b[0;34m**\u001b[0m\u001b[0mkwargs\u001b[0m\u001b[0;34m)\u001b[0m\u001b[0;34m\u001b[0m\u001b[0;34m\u001b[0m\u001b[0m\n\u001b[0m\u001b[1;32m    656\u001b[0m \u001b[0;34m\u001b[0m\u001b[0m\n\u001b[1;32m    657\u001b[0m         \u001b[0;31m# Total elapsed time of the request (approximately)\u001b[0m\u001b[0;34m\u001b[0m\u001b[0;34m\u001b[0m\u001b[0;34m\u001b[0m\u001b[0m\n",
      "\u001b[0;32m~/.venv/myVE/lib/python3.8/site-packages/requests/adapters.py\u001b[0m in \u001b[0;36msend\u001b[0;34m(self, request, stream, timeout, verify, cert, proxies)\u001b[0m\n\u001b[1;32m    437\u001b[0m         \u001b[0;32mtry\u001b[0m\u001b[0;34m:\u001b[0m\u001b[0;34m\u001b[0m\u001b[0;34m\u001b[0m\u001b[0m\n\u001b[1;32m    438\u001b[0m             \u001b[0;32mif\u001b[0m \u001b[0;32mnot\u001b[0m \u001b[0mchunked\u001b[0m\u001b[0;34m:\u001b[0m\u001b[0;34m\u001b[0m\u001b[0;34m\u001b[0m\u001b[0m\n\u001b[0;32m--> 439\u001b[0;31m                 resp = conn.urlopen(\n\u001b[0m\u001b[1;32m    440\u001b[0m                     \u001b[0mmethod\u001b[0m\u001b[0;34m=\u001b[0m\u001b[0mrequest\u001b[0m\u001b[0;34m.\u001b[0m\u001b[0mmethod\u001b[0m\u001b[0;34m,\u001b[0m\u001b[0;34m\u001b[0m\u001b[0;34m\u001b[0m\u001b[0m\n\u001b[1;32m    441\u001b[0m                     \u001b[0murl\u001b[0m\u001b[0;34m=\u001b[0m\u001b[0murl\u001b[0m\u001b[0;34m,\u001b[0m\u001b[0;34m\u001b[0m\u001b[0;34m\u001b[0m\u001b[0m\n",
      "\u001b[0;32m~/.venv/myVE/lib/python3.8/site-packages/urllib3/connectionpool.py\u001b[0m in \u001b[0;36murlopen\u001b[0;34m(self, method, url, body, headers, retries, redirect, assert_same_host, timeout, pool_timeout, release_conn, chunked, body_pos, **response_kw)\u001b[0m\n\u001b[1;32m    697\u001b[0m \u001b[0;34m\u001b[0m\u001b[0m\n\u001b[1;32m    698\u001b[0m             \u001b[0;31m# Make the request on the httplib connection object.\u001b[0m\u001b[0;34m\u001b[0m\u001b[0;34m\u001b[0m\u001b[0;34m\u001b[0m\u001b[0m\n\u001b[0;32m--> 699\u001b[0;31m             httplib_response = self._make_request(\n\u001b[0m\u001b[1;32m    700\u001b[0m                 \u001b[0mconn\u001b[0m\u001b[0;34m,\u001b[0m\u001b[0;34m\u001b[0m\u001b[0;34m\u001b[0m\u001b[0m\n\u001b[1;32m    701\u001b[0m                 \u001b[0mmethod\u001b[0m\u001b[0;34m,\u001b[0m\u001b[0;34m\u001b[0m\u001b[0;34m\u001b[0m\u001b[0m\n",
      "\u001b[0;32m~/.venv/myVE/lib/python3.8/site-packages/urllib3/connectionpool.py\u001b[0m in \u001b[0;36m_make_request\u001b[0;34m(self, conn, method, url, timeout, chunked, **httplib_request_kw)\u001b[0m\n\u001b[1;32m    443\u001b[0m                     \u001b[0;31m# Python 3 (including for exceptions like SystemExit).\u001b[0m\u001b[0;34m\u001b[0m\u001b[0;34m\u001b[0m\u001b[0;34m\u001b[0m\u001b[0m\n\u001b[1;32m    444\u001b[0m                     \u001b[0;31m# Otherwise it looks like a bug in the code.\u001b[0m\u001b[0;34m\u001b[0m\u001b[0;34m\u001b[0m\u001b[0;34m\u001b[0m\u001b[0m\n\u001b[0;32m--> 445\u001b[0;31m                     \u001b[0msix\u001b[0m\u001b[0;34m.\u001b[0m\u001b[0mraise_from\u001b[0m\u001b[0;34m(\u001b[0m\u001b[0me\u001b[0m\u001b[0;34m,\u001b[0m \u001b[0;32mNone\u001b[0m\u001b[0;34m)\u001b[0m\u001b[0;34m\u001b[0m\u001b[0;34m\u001b[0m\u001b[0m\n\u001b[0m\u001b[1;32m    446\u001b[0m         \u001b[0;32mexcept\u001b[0m \u001b[0;34m(\u001b[0m\u001b[0mSocketTimeout\u001b[0m\u001b[0;34m,\u001b[0m \u001b[0mBaseSSLError\u001b[0m\u001b[0;34m,\u001b[0m \u001b[0mSocketError\u001b[0m\u001b[0;34m)\u001b[0m \u001b[0;32mas\u001b[0m \u001b[0me\u001b[0m\u001b[0;34m:\u001b[0m\u001b[0;34m\u001b[0m\u001b[0;34m\u001b[0m\u001b[0m\n\u001b[1;32m    447\u001b[0m             \u001b[0mself\u001b[0m\u001b[0;34m.\u001b[0m\u001b[0m_raise_timeout\u001b[0m\u001b[0;34m(\u001b[0m\u001b[0merr\u001b[0m\u001b[0;34m=\u001b[0m\u001b[0me\u001b[0m\u001b[0;34m,\u001b[0m \u001b[0murl\u001b[0m\u001b[0;34m=\u001b[0m\u001b[0murl\u001b[0m\u001b[0;34m,\u001b[0m \u001b[0mtimeout_value\u001b[0m\u001b[0;34m=\u001b[0m\u001b[0mread_timeout\u001b[0m\u001b[0;34m)\u001b[0m\u001b[0;34m\u001b[0m\u001b[0;34m\u001b[0m\u001b[0m\n",
      "\u001b[0;32m~/.venv/myVE/lib/python3.8/site-packages/urllib3/packages/six.py\u001b[0m in \u001b[0;36mraise_from\u001b[0;34m(value, from_value)\u001b[0m\n",
      "\u001b[0;32m~/.venv/myVE/lib/python3.8/site-packages/urllib3/connectionpool.py\u001b[0m in \u001b[0;36m_make_request\u001b[0;34m(self, conn, method, url, timeout, chunked, **httplib_request_kw)\u001b[0m\n\u001b[1;32m    438\u001b[0m                 \u001b[0;31m# Python 3\u001b[0m\u001b[0;34m\u001b[0m\u001b[0;34m\u001b[0m\u001b[0;34m\u001b[0m\u001b[0m\n\u001b[1;32m    439\u001b[0m                 \u001b[0;32mtry\u001b[0m\u001b[0;34m:\u001b[0m\u001b[0;34m\u001b[0m\u001b[0;34m\u001b[0m\u001b[0m\n\u001b[0;32m--> 440\u001b[0;31m                     \u001b[0mhttplib_response\u001b[0m \u001b[0;34m=\u001b[0m \u001b[0mconn\u001b[0m\u001b[0;34m.\u001b[0m\u001b[0mgetresponse\u001b[0m\u001b[0;34m(\u001b[0m\u001b[0;34m)\u001b[0m\u001b[0;34m\u001b[0m\u001b[0;34m\u001b[0m\u001b[0m\n\u001b[0m\u001b[1;32m    441\u001b[0m                 \u001b[0;32mexcept\u001b[0m \u001b[0mBaseException\u001b[0m \u001b[0;32mas\u001b[0m \u001b[0me\u001b[0m\u001b[0;34m:\u001b[0m\u001b[0;34m\u001b[0m\u001b[0;34m\u001b[0m\u001b[0m\n\u001b[1;32m    442\u001b[0m                     \u001b[0;31m# Remove the TypeError from the exception chain in\u001b[0m\u001b[0;34m\u001b[0m\u001b[0;34m\u001b[0m\u001b[0;34m\u001b[0m\u001b[0m\n",
      "\u001b[0;32m/usr/lib/python3.8/http/client.py\u001b[0m in \u001b[0;36mgetresponse\u001b[0;34m(self)\u001b[0m\n\u001b[1;32m   1342\u001b[0m         \u001b[0;32mtry\u001b[0m\u001b[0;34m:\u001b[0m\u001b[0;34m\u001b[0m\u001b[0;34m\u001b[0m\u001b[0m\n\u001b[1;32m   1343\u001b[0m             \u001b[0;32mtry\u001b[0m\u001b[0;34m:\u001b[0m\u001b[0;34m\u001b[0m\u001b[0;34m\u001b[0m\u001b[0m\n\u001b[0;32m-> 1344\u001b[0;31m                 \u001b[0mresponse\u001b[0m\u001b[0;34m.\u001b[0m\u001b[0mbegin\u001b[0m\u001b[0;34m(\u001b[0m\u001b[0;34m)\u001b[0m\u001b[0;34m\u001b[0m\u001b[0;34m\u001b[0m\u001b[0m\n\u001b[0m\u001b[1;32m   1345\u001b[0m             \u001b[0;32mexcept\u001b[0m \u001b[0mConnectionError\u001b[0m\u001b[0;34m:\u001b[0m\u001b[0;34m\u001b[0m\u001b[0;34m\u001b[0m\u001b[0m\n\u001b[1;32m   1346\u001b[0m                 \u001b[0mself\u001b[0m\u001b[0;34m.\u001b[0m\u001b[0mclose\u001b[0m\u001b[0;34m(\u001b[0m\u001b[0;34m)\u001b[0m\u001b[0;34m\u001b[0m\u001b[0;34m\u001b[0m\u001b[0m\n",
      "\u001b[0;32m/usr/lib/python3.8/http/client.py\u001b[0m in \u001b[0;36mbegin\u001b[0;34m(self)\u001b[0m\n\u001b[1;32m    305\u001b[0m         \u001b[0;31m# read until we get a non-100 response\u001b[0m\u001b[0;34m\u001b[0m\u001b[0;34m\u001b[0m\u001b[0;34m\u001b[0m\u001b[0m\n\u001b[1;32m    306\u001b[0m         \u001b[0;32mwhile\u001b[0m \u001b[0;32mTrue\u001b[0m\u001b[0;34m:\u001b[0m\u001b[0;34m\u001b[0m\u001b[0;34m\u001b[0m\u001b[0m\n\u001b[0;32m--> 307\u001b[0;31m             \u001b[0mversion\u001b[0m\u001b[0;34m,\u001b[0m \u001b[0mstatus\u001b[0m\u001b[0;34m,\u001b[0m \u001b[0mreason\u001b[0m \u001b[0;34m=\u001b[0m \u001b[0mself\u001b[0m\u001b[0;34m.\u001b[0m\u001b[0m_read_status\u001b[0m\u001b[0;34m(\u001b[0m\u001b[0;34m)\u001b[0m\u001b[0;34m\u001b[0m\u001b[0;34m\u001b[0m\u001b[0m\n\u001b[0m\u001b[1;32m    308\u001b[0m             \u001b[0;32mif\u001b[0m \u001b[0mstatus\u001b[0m \u001b[0;34m!=\u001b[0m \u001b[0mCONTINUE\u001b[0m\u001b[0;34m:\u001b[0m\u001b[0;34m\u001b[0m\u001b[0;34m\u001b[0m\u001b[0m\n\u001b[1;32m    309\u001b[0m                 \u001b[0;32mbreak\u001b[0m\u001b[0;34m\u001b[0m\u001b[0;34m\u001b[0m\u001b[0m\n",
      "\u001b[0;32m/usr/lib/python3.8/http/client.py\u001b[0m in \u001b[0;36m_read_status\u001b[0;34m(self)\u001b[0m\n\u001b[1;32m    266\u001b[0m \u001b[0;34m\u001b[0m\u001b[0m\n\u001b[1;32m    267\u001b[0m     \u001b[0;32mdef\u001b[0m \u001b[0m_read_status\u001b[0m\u001b[0;34m(\u001b[0m\u001b[0mself\u001b[0m\u001b[0;34m)\u001b[0m\u001b[0;34m:\u001b[0m\u001b[0;34m\u001b[0m\u001b[0;34m\u001b[0m\u001b[0m\n\u001b[0;32m--> 268\u001b[0;31m         \u001b[0mline\u001b[0m \u001b[0;34m=\u001b[0m \u001b[0mstr\u001b[0m\u001b[0;34m(\u001b[0m\u001b[0mself\u001b[0m\u001b[0;34m.\u001b[0m\u001b[0mfp\u001b[0m\u001b[0;34m.\u001b[0m\u001b[0mreadline\u001b[0m\u001b[0;34m(\u001b[0m\u001b[0m_MAXLINE\u001b[0m \u001b[0;34m+\u001b[0m \u001b[0;36m1\u001b[0m\u001b[0;34m)\u001b[0m\u001b[0;34m,\u001b[0m \u001b[0;34m\"iso-8859-1\"\u001b[0m\u001b[0;34m)\u001b[0m\u001b[0;34m\u001b[0m\u001b[0;34m\u001b[0m\u001b[0m\n\u001b[0m\u001b[1;32m    269\u001b[0m         \u001b[0;32mif\u001b[0m \u001b[0mlen\u001b[0m\u001b[0;34m(\u001b[0m\u001b[0mline\u001b[0m\u001b[0;34m)\u001b[0m \u001b[0;34m>\u001b[0m \u001b[0m_MAXLINE\u001b[0m\u001b[0;34m:\u001b[0m\u001b[0;34m\u001b[0m\u001b[0;34m\u001b[0m\u001b[0m\n\u001b[1;32m    270\u001b[0m             \u001b[0;32mraise\u001b[0m \u001b[0mLineTooLong\u001b[0m\u001b[0;34m(\u001b[0m\u001b[0;34m\"status line\"\u001b[0m\u001b[0;34m)\u001b[0m\u001b[0;34m\u001b[0m\u001b[0;34m\u001b[0m\u001b[0m\n",
      "\u001b[0;32m/usr/lib/python3.8/socket.py\u001b[0m in \u001b[0;36mreadinto\u001b[0;34m(self, b)\u001b[0m\n\u001b[1;32m    667\u001b[0m         \u001b[0;32mwhile\u001b[0m \u001b[0;32mTrue\u001b[0m\u001b[0;34m:\u001b[0m\u001b[0;34m\u001b[0m\u001b[0;34m\u001b[0m\u001b[0m\n\u001b[1;32m    668\u001b[0m             \u001b[0;32mtry\u001b[0m\u001b[0;34m:\u001b[0m\u001b[0;34m\u001b[0m\u001b[0;34m\u001b[0m\u001b[0m\n\u001b[0;32m--> 669\u001b[0;31m                 \u001b[0;32mreturn\u001b[0m \u001b[0mself\u001b[0m\u001b[0;34m.\u001b[0m\u001b[0m_sock\u001b[0m\u001b[0;34m.\u001b[0m\u001b[0mrecv_into\u001b[0m\u001b[0;34m(\u001b[0m\u001b[0mb\u001b[0m\u001b[0;34m)\u001b[0m\u001b[0;34m\u001b[0m\u001b[0;34m\u001b[0m\u001b[0m\n\u001b[0m\u001b[1;32m    670\u001b[0m             \u001b[0;32mexcept\u001b[0m \u001b[0mtimeout\u001b[0m\u001b[0;34m:\u001b[0m\u001b[0;34m\u001b[0m\u001b[0;34m\u001b[0m\u001b[0m\n\u001b[1;32m    671\u001b[0m                 \u001b[0mself\u001b[0m\u001b[0;34m.\u001b[0m\u001b[0m_timeout_occurred\u001b[0m \u001b[0;34m=\u001b[0m \u001b[0;32mTrue\u001b[0m\u001b[0;34m\u001b[0m\u001b[0;34m\u001b[0m\u001b[0m\n",
      "\u001b[0;32m/usr/lib/python3.8/ssl.py\u001b[0m in \u001b[0;36mrecv_into\u001b[0;34m(self, buffer, nbytes, flags)\u001b[0m\n\u001b[1;32m   1239\u001b[0m                   \u001b[0;34m\"non-zero flags not allowed in calls to recv_into() on %s\"\u001b[0m \u001b[0;34m%\u001b[0m\u001b[0;34m\u001b[0m\u001b[0;34m\u001b[0m\u001b[0m\n\u001b[1;32m   1240\u001b[0m                   self.__class__)\n\u001b[0;32m-> 1241\u001b[0;31m             \u001b[0;32mreturn\u001b[0m \u001b[0mself\u001b[0m\u001b[0;34m.\u001b[0m\u001b[0mread\u001b[0m\u001b[0;34m(\u001b[0m\u001b[0mnbytes\u001b[0m\u001b[0;34m,\u001b[0m \u001b[0mbuffer\u001b[0m\u001b[0;34m)\u001b[0m\u001b[0;34m\u001b[0m\u001b[0;34m\u001b[0m\u001b[0m\n\u001b[0m\u001b[1;32m   1242\u001b[0m         \u001b[0;32melse\u001b[0m\u001b[0;34m:\u001b[0m\u001b[0;34m\u001b[0m\u001b[0;34m\u001b[0m\u001b[0m\n\u001b[1;32m   1243\u001b[0m             \u001b[0;32mreturn\u001b[0m \u001b[0msuper\u001b[0m\u001b[0;34m(\u001b[0m\u001b[0;34m)\u001b[0m\u001b[0;34m.\u001b[0m\u001b[0mrecv_into\u001b[0m\u001b[0;34m(\u001b[0m\u001b[0mbuffer\u001b[0m\u001b[0;34m,\u001b[0m \u001b[0mnbytes\u001b[0m\u001b[0;34m,\u001b[0m \u001b[0mflags\u001b[0m\u001b[0;34m)\u001b[0m\u001b[0;34m\u001b[0m\u001b[0;34m\u001b[0m\u001b[0m\n",
      "\u001b[0;32m/usr/lib/python3.8/ssl.py\u001b[0m in \u001b[0;36mread\u001b[0;34m(self, len, buffer)\u001b[0m\n\u001b[1;32m   1097\u001b[0m         \u001b[0;32mtry\u001b[0m\u001b[0;34m:\u001b[0m\u001b[0;34m\u001b[0m\u001b[0;34m\u001b[0m\u001b[0m\n\u001b[1;32m   1098\u001b[0m             \u001b[0;32mif\u001b[0m \u001b[0mbuffer\u001b[0m \u001b[0;32mis\u001b[0m \u001b[0;32mnot\u001b[0m \u001b[0;32mNone\u001b[0m\u001b[0;34m:\u001b[0m\u001b[0;34m\u001b[0m\u001b[0;34m\u001b[0m\u001b[0m\n\u001b[0;32m-> 1099\u001b[0;31m                 \u001b[0;32mreturn\u001b[0m \u001b[0mself\u001b[0m\u001b[0;34m.\u001b[0m\u001b[0m_sslobj\u001b[0m\u001b[0;34m.\u001b[0m\u001b[0mread\u001b[0m\u001b[0;34m(\u001b[0m\u001b[0mlen\u001b[0m\u001b[0;34m,\u001b[0m \u001b[0mbuffer\u001b[0m\u001b[0;34m)\u001b[0m\u001b[0;34m\u001b[0m\u001b[0;34m\u001b[0m\u001b[0m\n\u001b[0m\u001b[1;32m   1100\u001b[0m             \u001b[0;32melse\u001b[0m\u001b[0;34m:\u001b[0m\u001b[0;34m\u001b[0m\u001b[0;34m\u001b[0m\u001b[0m\n\u001b[1;32m   1101\u001b[0m                 \u001b[0;32mreturn\u001b[0m \u001b[0mself\u001b[0m\u001b[0;34m.\u001b[0m\u001b[0m_sslobj\u001b[0m\u001b[0;34m.\u001b[0m\u001b[0mread\u001b[0m\u001b[0;34m(\u001b[0m\u001b[0mlen\u001b[0m\u001b[0;34m)\u001b[0m\u001b[0;34m\u001b[0m\u001b[0;34m\u001b[0m\u001b[0m\n",
      "\u001b[0;31mKeyboardInterrupt\u001b[0m: "
     ]
    }
   ],
   "source": [
    "from oda_api.api import DispatcherAPI\n",
    "\n",
    "disp = DispatcherAPI(url=\"https://www.astro.unige.ch/mmoda//dispatch-data\", instrument=\"mock\")\n",
    "\n",
    "par_dict = {\n",
    "\"E1_keV\": \"28\",\n",
    "\"E2_keV\": \"40\",\n",
    "\"detection_threshold\": \"7\",\n",
    "\"instrument\": \"isgri\",\n",
    "\"osa_version\": \"OSA11.1\",\n",
    "\"product\": \"isgri_image\",\n",
    "\"product_type\": \"Real\",\n",
    "\"scw_list\": scw_pick\n",
    "}\n",
    "if token != '':\n",
    "    par_dict.update({'token': token})\n",
    "\n",
    "data_collection = disp.get_product(**par_dict)"
   ]
  },
  {
   "cell_type": "code",
   "execution_count": 17,
   "id": "1619a851",
   "metadata": {},
   "outputs": [
    {
     "ename": "NameError",
     "evalue": "name 'data_collection' is not defined",
     "output_type": "error",
     "traceback": [
      "\u001b[0;31m---------------------------------------------------------------------------\u001b[0m",
      "\u001b[0;31mNameError\u001b[0m                                 Traceback (most recent call last)",
      "\u001b[0;32m/tmp/ipykernel_12253/742926311.py\u001b[0m in \u001b[0;36m<module>\u001b[0;34m\u001b[0m\n\u001b[0;32m----> 1\u001b[0;31m \u001b[0mdata_collection\u001b[0m\u001b[0;34m.\u001b[0m\u001b[0mmosaic_image_0_mosaic\u001b[0m\u001b[0;34m.\u001b[0m\u001b[0mshow\u001b[0m\u001b[0;34m(\u001b[0m\u001b[0;34m)\u001b[0m\u001b[0;34m\u001b[0m\u001b[0;34m\u001b[0m\u001b[0m\n\u001b[0m",
      "\u001b[0;31mNameError\u001b[0m: name 'data_collection' is not defined"
     ]
    }
   ],
   "source": [
    "data_collection.mosaic_image_0_mosaic.show()"
   ]
  },
  {
   "cell_type": "code",
   "execution_count": 18,
   "id": "37086188",
   "metadata": {},
   "outputs": [
    {
     "ename": "NameError",
     "evalue": "name 'data_collection' is not defined",
     "output_type": "error",
     "traceback": [
      "\u001b[0;31m---------------------------------------------------------------------------\u001b[0m",
      "\u001b[0;31mNameError\u001b[0m                                 Traceback (most recent call last)",
      "\u001b[0;32m/tmp/ipykernel_12253/4170739553.py\u001b[0m in \u001b[0;36m<module>\u001b[0;34m\u001b[0m\n\u001b[0;32m----> 1\u001b[0;31m \u001b[0mdata_collection\u001b[0m\u001b[0;34m.\u001b[0m\u001b[0mmosaic_image_0_mosaic\u001b[0m\u001b[0;34m.\u001b[0m\u001b[0mshow_meta\u001b[0m\u001b[0;34m(\u001b[0m\u001b[0;34m)\u001b[0m\u001b[0;34m\u001b[0m\u001b[0;34m\u001b[0m\u001b[0m\n\u001b[0m",
      "\u001b[0;31mNameError\u001b[0m: name 'data_collection' is not defined"
     ]
    }
   ],
   "source": [
    "data_collection.mosaic_image_0_mosaic.show_meta()"
   ]
  },
  {
   "cell_type": "code",
   "execution_count": null,
   "id": "707a023c",
   "metadata": {},
   "outputs": [],
   "source": [
    "from oda_api.plot_tools import OdaImage\n",
    "#interactive\n",
    "%matplotlib notebook\n",
    "\n",
    "im=OdaImage(data_collection.mosaic_image_0_mosaic)"
   ]
  }
 ],
 "metadata": {
  "kernelspec": {
   "display_name": "Python 3 (ipykernel)",
   "language": "python",
   "name": "python3"
  },
  "language_info": {
   "codemirror_mode": {
    "name": "ipython",
    "version": 3
   },
   "file_extension": ".py",
   "mimetype": "text/x-python",
   "name": "python",
   "nbconvert_exporter": "python",
   "pygments_lexer": "ipython3",
   "version": "3.8.10"
  }
 },
 "nbformat": 4,
 "nbformat_minor": 5
}
