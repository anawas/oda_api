{
 "cells": [
  {
   "cell_type": "markdown",
   "id": "d425b11e",
   "metadata": {},
   "source": [
    "### Udpate of a source in the product gallery"
   ]
  },
  {
   "cell_type": "code",
   "execution_count": 6,
   "id": "c296a4ae",
   "metadata": {},
   "outputs": [],
   "source": [
    "import requests\n",
    "import os\n",
    "\n",
    "from oda_api.api import DispatcherAPI"
   ]
  },
  {
   "cell_type": "markdown",
   "id": "fdece4d6",
   "metadata": {},
   "source": [
    "#### DispatcherAPI object initialization"
   ]
  },
  {
   "cell_type": "code",
   "execution_count": 4,
   "id": "a468dcf3",
   "metadata": {},
   "outputs": [],
   "source": [
    "disp=DispatcherAPI(url='https://frontend-staging.obsuks1.unige.ch/mmoda/dispatch-data',instrument='mock')"
   ]
  },
  {
   "cell_type": "markdown",
   "id": "eabce884",
   "metadata": {},
   "source": [
    "#### Token generation"
   ]
  },
  {
   "cell_type": "code",
   "execution_count": 7,
   "id": "899fcafb",
   "metadata": {},
   "outputs": [],
   "source": [
    "token = discover_token()"
   ]
  },
  {
   "cell_type": "markdown",
   "id": "cc406896",
   "metadata": {},
   "source": [
    "#### Update of a single source"
   ]
  },
  {
   "cell_type": "code",
   "execution_count": 14,
   "id": "e64a996f",
   "metadata": {},
   "outputs": [],
   "source": [
    "params = {\n",
    "    'source_name': 'GX 1+4',\n",
    "    'token': token,\n",
    "    'auto_update': True\n",
    "}\n",
    "res = disp.update_source_with_name(**params)"
   ]
  },
  {
   "cell_type": "markdown",
   "id": "89cf152e",
   "metadata": {},
   "source": [
    "#### Automatic update of all the sources over the gallery"
   ]
  },
  {
   "cell_type": "markdown",
   "id": "4e82eae4",
   "metadata": {},
   "source": [
    "#### Let's first get all the sources from the gallery"
   ]
  },
  {
   "cell_type": "code",
   "execution_count": 9,
   "id": "877b1a6d",
   "metadata": {},
   "outputs": [
    {
     "data": {
      "text/plain": [
       "['NGC 4388',\n",
       " '3C 273',\n",
       " 'H 1624-490',\n",
       " '3A 1728-169',\n",
       " 'PSR J1617-5055',\n",
       " 'GX 1+4',\n",
       " 'EXO 0331+530',\n",
       " 'IGR J12341-6143',\n",
       " '1H 1254-690',\n",
       " 'XTE J1817-330',\n",
       " 'XTE J1810-189',\n",
       " 'SAX J1806.5-2215',\n",
       " 'IGR J17473-2721',\n",
       " 'IGR J17461-2853',\n",
       " 'IGR J17252-3616',\n",
       " 'GRS 1741.9-2853',\n",
       " 'GRS 1739-278',\n",
       " 'GRS 1734-292',\n",
       " 'GRO J1744-28',\n",
       " 'GRO J1719-24',\n",
       " 'XTE J1710-281',\n",
       " 'IGR J17456-2901b',\n",
       " 'H 0918-549',\n",
       " 'KS 1947+300',\n",
       " 'Cyg A',\n",
       " 'V404 Cyg',\n",
       " 'SWIFT J2033.4+2147',\n",
       " 'GRS 1915+105',\n",
       " 'Vela X-1',\n",
       " 'FRB 180916.J0158+65',\n",
       " 'Her X-1',\n",
       " '1A 0535+262',\n",
       " 'Mrk 501',\n",
       " 'XTE J1701-462',\n",
       " '4U 1708-40',\n",
       " 'H 1705-440',\n",
       " '4U 1735-444',\n",
       " '4U 1630-47',\n",
       " 'H 1702-429',\n",
       " 'H 1636-536',\n",
       " 'IGR J16318-4848',\n",
       " 'XTE J1701-407',\n",
       " 'Galactic Center',\n",
       " 'GX 340+0',\n",
       " 'IGR J16320-4751',\n",
       " 'H 1608-522',\n",
       " 'GX 339-4',\n",
       " 'Cas A',\n",
       " '3A 2206+543',\n",
       " '4U 1705-32',\n",
       " 'Sco X-1',\n",
       " 'GX 349+2',\n",
       " 'H 0614+091',\n",
       " 'H 0115+634',\n",
       " 'Gam Cas',\n",
       " 'SWIFT J1213.2-6458',\n",
       " '3A 1246-588',\n",
       " 'IGR J11435-6109',\n",
       " 'GX 301-2',\n",
       " 'Circinus Galaxy',\n",
       " 'Cen X-3',\n",
       " '4U 1323-62',\n",
       " '1E 1145.1-6141',\n",
       " 'XTE J1739-285',\n",
       " '4U 1730-335',\n",
       " 'IGR J17597-2201',\n",
       " 'GX 13+1',\n",
       " 'GRO J1655-40',\n",
       " 'XTE J1818-245',\n",
       " 'KS 1741-293',\n",
       " 'IGR J17464-3213',\n",
       " 'HETE J1900.1-2455',\n",
       " 'Ginga 1826-24',\n",
       " 'GX 17+2',\n",
       " '4U 1812-12',\n",
       " 'Sgr A*',\n",
       " 'M81',\n",
       " 'XB 1732-304',\n",
       " 'SLX 1744-299',\n",
       " 'H 1820-303',\n",
       " 'H 1755-338',\n",
       " 'GX 9+1',\n",
       " 'GX 3+1',\n",
       " 'GRS 1747-312',\n",
       " '4U 1730-220',\n",
       " '1A 1742-294',\n",
       " 'SLX 1735-269',\n",
       " 'SAX J1712.6-3739',\n",
       " 'IGR J17331-2406',\n",
       " 'IGR J17098-3628',\n",
       " 'IGR J17091-3624',\n",
       " 'GX 354-0',\n",
       " 'GRS 1758-258',\n",
       " '4U 1722-30',\n",
       " '4U 1700-377',\n",
       " '3A 1822-371',\n",
       " '1E 1740.7-2942',\n",
       " 'GX 5-1',\n",
       " 'NGC 4945',\n",
       " 'Cen A',\n",
       " 'EXO 2030+375',\n",
       " '3A 1954+319',\n",
       " 'Cyg X-3',\n",
       " 'Orion',\n",
       " 'Mrk 421',\n",
       " 'OAO 1657-415',\n",
       " 'Cyg X-1',\n",
       " 'Crab']"
      ]
     },
     "execution_count": 9,
     "metadata": {},
     "output_type": "execute_result"
    }
   ],
   "source": [
    "res = requests.get(os.path.join(disp.url, \"get_all_astro_entities\"),\n",
    "                 params={'token': token}\n",
    "                 )\n",
    "list_sources = res.json()\n",
    "list_sources"
   ]
  },
  {
   "cell_type": "markdown",
   "id": "0097839a",
   "metadata": {},
   "source": [
    "#### And finally let's auto-update each source"
   ]
  },
  {
   "cell_type": "code",
   "execution_count": null,
   "id": "10f950e7",
   "metadata": {},
   "outputs": [],
   "source": [
    "for s in list_sources:\n",
    "    print(f\"Updating the source {s}\")\n",
    "    params = {\n",
    "        'source_name': s,\n",
    "        'token': token,\n",
    "        'auto_update': True\n",
    "    }\n",
    "    res = disp.update_source_with_name(**params)"
   ]
  }
 ],
 "metadata": {
  "kernelspec": {
   "display_name": "Python 3",
   "language": "python",
   "name": "python3"
  },
  "language_info": {
   "codemirror_mode": {
    "name": "ipython",
    "version": 3
   },
   "file_extension": ".py",
   "mimetype": "text/x-python",
   "name": "python",
   "nbconvert_exporter": "python",
   "pygments_lexer": "ipython3",
   "version": "3.8.10"
  }
 },
 "nbformat": 4,
 "nbformat_minor": 5
}
