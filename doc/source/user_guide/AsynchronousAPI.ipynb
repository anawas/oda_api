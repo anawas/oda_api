{
 "cells": [
  {
   "cell_type": "markdown",
   "metadata": {},
   "source": [
    "# Example of asynchronous requests (v > 1.1)\n",
    "- The scope of this example is to show how to request several products together so that internal resource usage is maximized\n",
    "- We extract the spectrum of the Crab in groups of 'nscw' science windows for each year from 'start_year' to 'stop_year' included\n",
    "- We use a token provided by the web interface to receive dedicated emails\n",
    "- We optionally show hoe to fit the spectra with a broken power law using xspec"
   ]
  },
  {
   "cell_type": "code",
   "execution_count": 1,
   "metadata": {
    "tags": [
     "parameters"
    ]
   },
   "outputs": [],
   "source": [
    "#A few input parameters\n",
    "osa_version=\"OSA10.2\"\n",
    "source_name=\"Crab\"\n",
    "nscw=10\n",
    "start_year=2004\n",
    "end_year=2006\n",
    "systematic_fraction = 0.01\n",
    "token=''"
   ]
  },
  {
   "cell_type": "code",
   "execution_count": 2,
   "metadata": {},
   "outputs": [
    {
     "name": "stdout",
     "output_type": "stream",
     "text": [
      "Insert the token········\n"
     ]
    }
   ],
   "source": [
    "#You can provide a valid token as explained in the 'Authentication' example or skip this cell\n",
    "import getpass\n",
    "token = getpass.getpass('Insert the token')"
   ]
  },
  {
   "cell_type": "code",
   "execution_count": 3,
   "metadata": {},
   "outputs": [],
   "source": [
    "#We hardcode a catalog for the Crab\n",
    "api_cat={\n",
    "    \"cat_frame\": \"fk5\", \n",
    "    \"cat_coord_units\": \"deg\", \n",
    "    \"cat_column_list\": [\n",
    "        [0, 7], \n",
    "        [\"1A 0535+262\", \"Crab\"], \n",
    "        [125.4826889038086, 1358.7255859375], \n",
    "        [84.72280883789062, 83.63166809082031], \n",
    "        [26.312734603881836, 22.016284942626953], \n",
    "        [-32768, -32768], \n",
    "        [2, 2], \n",
    "        [0, 0], \n",
    "        [0.0002800000074785203, 0.0002800000074785203]], \n",
    "    \"cat_column_names\": [\n",
    "        \"meta_ID\", \n",
    "        \"src_names\", \n",
    "        \"significance\", \n",
    "        \"ra\", \n",
    "        \"dec\", \n",
    "        \"NEW_SOURCE\", \n",
    "        \"ISGRI_FLAG\", \n",
    "        \"FLAG\", \n",
    "        \"ERR_RAD\"\n",
    "    ], \n",
    "    \"cat_column_descr\": \n",
    "        [\n",
    "            [\"meta_ID\", \"<i8\"], \n",
    "            [\"src_names\", \"<U11\"], \n",
    "            [\"significance\", \"<f8\"], \n",
    "            [\"ra\", \"<f8\"], \n",
    "            [\"dec\", \"<f8\"], \n",
    "            [\"NEW_SOURCE\", \"<i8\"], \n",
    "            [\"ISGRI_FLAG\", \"<i8\"], \n",
    "            [\"FLAG\", \"<i8\"], \n",
    "            [\"ERR_RAD\", \"<f8\"]\n",
    "        ], \n",
    "    \"cat_lat_name\": \"dec\", \n",
    "    \"cat_lon_name\": \"ra\"\n",
    "}\n",
    "\n"
   ]
  },
  {
   "cell_type": "markdown",
   "metadata": {},
   "source": [
    "## Let's get some logging\n",
    "\n",
    "This is to help visualizing the progress.\n",
    "\n",
    "* WANRING is the default level\n",
    "* INFO writes some more information\n",
    "* DEBUG is maily for developers and issue tracking"
   ]
  },
  {
   "cell_type": "code",
   "execution_count": 4,
   "metadata": {},
   "outputs": [],
   "source": [
    "import logging\n",
    "#default\n",
    "#logging.getLogger().setLevel(logging.WARNING)\n",
    "#slightly more verbose\n",
    "logging.getLogger().setLevel(logging.INFO)\n",
    "#all messages\n",
    "#logging.getLogger().setLevel(logging.DEBUG)\n",
    "\n",
    "logging.getLogger('oda_api').addHandler(logging.StreamHandler()) "
   ]
  },
  {
   "cell_type": "code",
   "execution_count": 5,
   "metadata": {
    "scrolled": true
   },
   "outputs": [
    {
     "name": "stderr",
     "output_type": "stream",
     "text": [
      "\n",
      "--------------\n",
      "query_name: src_query\n",
      " name: src_name,  value: test,  units: str, \n",
      " name: RA,  value: 0.0,  units: deg, \n",
      " name: DEC,  value: 0.0,  units: deg, \n",
      " name: T1,  value: 2001-12-11T00:00:00.000,  units: None, \n",
      " name: T2,  value: 2001-12-11T00:00:00.000,  units: None, \n",
      " name: token,  value: None,  units: str, \n",
      "\n",
      "--------------\n",
      "query_name: isgri_parameters\n",
      " name: user_catalog,  value: None,  units: str, \n",
      " name: scw_list,  value: [],  units: names_list, \n",
      " name: selected_catalog,  value: None,  units: str, \n",
      " name: radius,  value: 5.0,  units: deg, \n",
      " name: max_pointings,  value: 50,  units: None, \n",
      " name: osa_version,  value: None,  units: str, \n",
      " name: integral_data_rights,  value: public,  units: str, \n",
      " name: E1_keV,  value: 15.0,  units: keV, \n",
      " name: E2_keV,  value: 40.0,  units: keV, \n",
      "\n",
      "--------------\n",
      "query_name: isgri_image_query\n",
      " product_name: isgri_image\n",
      " name: detection_threshold,  value: 0.0,  units: sigma, \n",
      " name: image_scale_min,  value: None,  units: None, \n",
      " name: image_scale_max,  value: None,  units: None, \n",
      "\n",
      "--------------\n",
      "query_name: isgri_spectrum_query\n",
      " product_name: isgri_spectrum\n",
      "\n",
      "--------------\n",
      "query_name: isgri_lc_query\n",
      " product_name: isgri_lc\n",
      " name: time_bin,  value: 1000.0,  units: sec, \n",
      "\n",
      "--------------\n",
      "query_name: spectral_fit_query\n",
      " product_name: spectral_fit\n",
      " name: xspec_model,  value: powerlaw,  units: str, \n",
      " name: ph_file_name,  value: ,  units: str, \n",
      " name: arf_file_name,  value: ,  units: str, \n",
      " name: rmf_file_name,  value: ,  units: str, \n"
     ]
    }
   ],
   "source": [
    "#Different instances of the platform, the first two are available only internally\n",
    "import numpy as np\n",
    "import json\n",
    "import oda_api.api\n",
    "\n",
    "import oda_api\n",
    "\n",
    "from pkg_resources import parse_version\n",
    "\n",
    "assert parse_version(oda_api.__version__) > parse_version(\"1.1.0\")\n",
    "\n",
    "\n",
    "def dispatcher(_oda_platform='production'):\n",
    "    disp = oda_api.api.DispatcherAPI(\n",
    "        url = {\n",
    "            'staging' : 'http://dispatcher.staging.internal.odahub.io',\n",
    "            'production': 'https://www.astro.unige.ch/mmoda/dispatch-data',\n",
    "        }[_oda_platform]\n",
    "    )\n",
    "    disp.get_instrument_description(\"isgri\")\n",
    "    return disp\n",
    "\n",
    "disp = dispatcher('production')"
   ]
  },
  {
   "cell_type": "markdown",
   "metadata": {},
   "source": [
    "- Here, we collect and spectra for each year in a random sample of nscw=10 science windows\n",
    "- We use the hard-coded catalog."
   ]
  },
  {
   "cell_type": "code",
   "execution_count": 7,
   "metadata": {
    "scrolled": true
   },
   "outputs": [
    {
     "name": "stdout",
     "output_type": "stream",
     "text": [
      "2004-01-01T00:00:00.0 - 2004-12-31T23:59:59.0\n"
     ]
    },
    {
     "name": "stderr",
     "output_type": "stream",
     "text": [
      "- waiting for remote response (since 2021-08-25 15:21:14), please wait for https://www.astro.unige.ch/mmoda/dispatch-data/run_analysis\n",
      "session: ARMSNPTWYJVFH4XZ job: 9b1997c75d18cd13\n",
      "\n",
      "... query status \u001b[35mprepared\u001b[0m => \u001b[35msubmitted\u001b[0m\n",
      "... assigned job id: \u001b[33m9b1997c75d18cd13\u001b[0m\n",
      " | the job is working remotely, please wait status=submitted job_id=9b1997c7 in 49 messages since 14 seconds (14/14); in 4 SCW so far; nodes (6): 5 computed 0 restored\n",
      "... \u001b[32mii_spectra_extract : main done : 023900270010.001\u001b[0m\u001b[0m\n",
      "non-waiting dispatcher: terminating\n",
      "\n",
      "\u001b[33mquery not complete, please poll again later\u001b[0m\n"
     ]
    },
    {
     "name": "stdout",
     "output_type": "stream",
     "text": [
      "Is complete  False\n",
      "2005-01-01T00:00:00.0 - 2005-12-31T23:59:59.0\n"
     ]
    },
    {
     "name": "stderr",
     "output_type": "stream",
     "text": [
      "- waiting for remote response (since 2021-08-25 15:21:31), please wait for https://www.astro.unige.ch/mmoda/dispatch-data/run_analysis\n",
      "session: 8VO1XT5P6XI695E4 job: d4f1bacbc3f1c254\n",
      "\n",
      "... query status \u001b[35mprepared\u001b[0m => \u001b[35msubmitted\u001b[0m\n",
      "... assigned job id: \u001b[33md4f1bacbc3f1c254\u001b[0m\n",
      " | the job is working remotely, please wait status=submitted job_id=d4f1bacb in 0 messages since 11 seconds (11/11); in 0 SCW so far; nodes (0): 0 computed 0 restored\n",
      "... \u001b[32m\u001b[0m\u001b[0m\n",
      "non-waiting dispatcher: terminating\n",
      "\n",
      "\u001b[33mquery not complete, please poll again later\u001b[0m\n"
     ]
    },
    {
     "name": "stdout",
     "output_type": "stream",
     "text": [
      "Is complete  False\n",
      "2006-01-01T00:00:00.0 - 2006-12-31T23:59:59.0\n"
     ]
    },
    {
     "name": "stderr",
     "output_type": "stream",
     "text": [
      "- waiting for remote response (since 2021-08-25 15:21:45), please wait for https://www.astro.unige.ch/mmoda/dispatch-data/run_analysis\n",
      "session: PWBXKFZ2CDLNY6MO job: 326b0028284c8201\n",
      "\n",
      "... query status \u001b[35mprepared\u001b[0m => \u001b[35mdone\u001b[0m\n",
      "... assigned job id: \u001b[33m326b0028284c8201\u001b[0m\n",
      "\u001b[32mquery COMPLETED SUCCESSFULLY (state done)\u001b[0m\n",
      "non-waiting dispatcher: terminating\n"
     ]
    },
    {
     "name": "stdout",
     "output_type": "stream",
     "text": [
      "Is complete  True\n"
     ]
    },
    {
     "name": "stderr",
     "output_type": "stream",
     "text": [
      "- waiting for remote response (since 2021-08-25 15:22:20), please wait for https://www.astro.unige.ch/mmoda/dispatch-data/run_analysis\n",
      "session: PWBXKFZ2CDLNY6MO job: 326b0028284c8201\n",
      "\n",
      "... query status \u001b[35mprepared\u001b[0m => \u001b[35mdone\u001b[0m\n",
      "... assigned job id: \u001b[33m326b0028284c8201\u001b[0m\n",
      "\u001b[32mquery COMPLETED SUCCESSFULLY (state done)\u001b[0m\n",
      "non-waiting dispatcher: terminating\n",
      "- waiting for remote response (since 2021-08-25 15:22:59), please wait for https://www.astro.unige.ch/mmoda/dispatch-data/run_analysis\n"
     ]
    },
    {
     "name": "stdout",
     "output_type": "stream",
     "text": [
      "complete 1 / 3\n",
      "not done\n",
      "2004-01-01T00:00:00.0 - 2004-12-31T23:59:59.0\n"
     ]
    },
    {
     "name": "stderr",
     "output_type": "stream",
     "text": [
      "session: ARMSNPTWYJVFH4XZ job: 9b1997c75d18cd13\n",
      " / the job is working remotely, please wait status=submitted job_id=9b1997c7 in 49 messages since 115 seconds (13/14); in 4 SCW so far; nodes (6): 5 computed 0 restored\n",
      "... \u001b[32mii_spectra_extract : main done : 023900270010.001\u001b[0m\u001b[0m\n",
      "- waiting for remote response (since 2021-08-25 15:23:10), please wait for https://www.astro.unige.ch/mmoda/dispatch-data/run_analysis\n"
     ]
    },
    {
     "name": "stdout",
     "output_type": "stream",
     "text": [
      "Is complete  False\n",
      "2005-01-01T00:00:00.0 - 2005-12-31T23:59:59.0\n"
     ]
    },
    {
     "name": "stderr",
     "output_type": "stream",
     "text": [
      "session: 8VO1XT5P6XI695E4 job: d4f1bacbc3f1c254\n",
      " / the job is working remotely, please wait status=submitted job_id=d4f1bacb in 1 messages since 110 seconds (12/12); in 0 SCW so far; nodes (1): 0 computed 0 restored\n",
      "... \u001b[32mISGRISpectraSum : main starting : inapplicable\u001b[0m\u001b[0m\n",
      "- waiting for remote response (since 2021-08-25 15:23:22), please wait for https://www.astro.unige.ch/mmoda/dispatch-data/run_analysis\n"
     ]
    },
    {
     "name": "stdout",
     "output_type": "stream",
     "text": [
      "Is complete  False\n",
      "2006-01-01T00:00:00.0 - 2006-12-31T23:59:59.0\n",
      "complete 1 / 3\n",
      "not done\n",
      "2004-01-01T00:00:00.0 - 2004-12-31T23:59:59.0\n"
     ]
    },
    {
     "name": "stderr",
     "output_type": "stream",
     "text": [
      "session: ARMSNPTWYJVFH4XZ job: 9b1997c75d18cd13\n",
      " - the job is working remotely, please wait status=submitted job_id=9b1997c7 in 49 messages since 138 seconds (12/14); in 4 SCW so far; nodes (6): 5 computed 0 restored\n",
      "... \u001b[32mii_spectra_extract : main done : 023900270010.001\u001b[0m\u001b[0m\n",
      "- waiting for remote response (since 2021-08-25 15:23:33), please wait for https://www.astro.unige.ch/mmoda/dispatch-data/run_analysis\n"
     ]
    },
    {
     "name": "stdout",
     "output_type": "stream",
     "text": [
      "Is complete  False\n",
      "2005-01-01T00:00:00.0 - 2005-12-31T23:59:59.0\n"
     ]
    },
    {
     "name": "stderr",
     "output_type": "stream",
     "text": [
      "session: 8VO1XT5P6XI695E4 job: d4f1bacbc3f1c254\n",
      " - the job is working remotely, please wait status=submitted job_id=d4f1bacb in 1 messages since 132 seconds (12/12); in 0 SCW so far; nodes (1): 0 computed 0 restored\n",
      "... \u001b[32mISGRISpectraSum : main starting : inapplicable\u001b[0m\u001b[0m\n",
      "- waiting for remote response (since 2021-08-25 15:23:44), please wait for https://www.astro.unige.ch/mmoda/dispatch-data/run_analysis\n"
     ]
    },
    {
     "name": "stdout",
     "output_type": "stream",
     "text": [
      "Is complete  False\n",
      "2006-01-01T00:00:00.0 - 2006-12-31T23:59:59.0\n",
      "complete 1 / 3\n",
      "not done\n",
      "2004-01-01T00:00:00.0 - 2004-12-31T23:59:59.0\n"
     ]
    },
    {
     "name": "stderr",
     "output_type": "stream",
     "text": [
      "session: ARMSNPTWYJVFH4XZ job: 9b1997c75d18cd13\n",
      " \\ the job is working remotely, please wait status=submitted job_id=9b1997c7 in 49 messages since 162 seconds (12/14); in 4 SCW so far; nodes (6): 5 computed 0 restored\n",
      "... \u001b[32mii_spectra_extract : main done : 023900270010.001\u001b[0m\u001b[0m\n",
      "- waiting for remote response (since 2021-08-25 15:23:57), please wait for https://www.astro.unige.ch/mmoda/dispatch-data/run_analysis\n"
     ]
    },
    {
     "name": "stdout",
     "output_type": "stream",
     "text": [
      "Is complete  False\n",
      "2005-01-01T00:00:00.0 - 2005-12-31T23:59:59.0\n"
     ]
    },
    {
     "name": "stderr",
     "output_type": "stream",
     "text": [
      "session: 8VO1XT5P6XI695E4 job: d4f1bacbc3f1c254\n",
      " \\ the job is working remotely, please wait status=submitted job_id=d4f1bacb in 1 messages since 159 seconds (12/14); in 0 SCW so far; nodes (1): 0 computed 0 restored\n",
      "... \u001b[32mISGRISpectraSum : main starting : inapplicable\u001b[0m\u001b[0m\n",
      "- waiting for remote response (since 2021-08-25 15:24:11), please wait for https://www.astro.unige.ch/mmoda/dispatch-data/run_analysis\n"
     ]
    },
    {
     "name": "stdout",
     "output_type": "stream",
     "text": [
      "Is complete  False\n",
      "2006-01-01T00:00:00.0 - 2006-12-31T23:59:59.0\n",
      "complete 1 / 3\n",
      "not done\n",
      "2004-01-01T00:00:00.0 - 2004-12-31T23:59:59.0\n"
     ]
    },
    {
     "name": "stderr",
     "output_type": "stream",
     "text": [
      "session: ARMSNPTWYJVFH4XZ job: 9b1997c75d18cd13\n",
      " | the job is working remotely, please wait status=submitted job_id=9b1997c7 in 49 messages since 187 seconds (12/14); in 4 SCW so far; nodes (6): 5 computed 0 restored\n",
      "... \u001b[32mii_spectra_extract : main done : 023900270010.001\u001b[0m\u001b[0m\n",
      "- waiting for remote response (since 2021-08-25 15:24:22), please wait for https://www.astro.unige.ch/mmoda/dispatch-data/run_analysis\n"
     ]
    },
    {
     "name": "stdout",
     "output_type": "stream",
     "text": [
      "Is complete  False\n",
      "2005-01-01T00:00:00.0 - 2005-12-31T23:59:59.0\n"
     ]
    },
    {
     "name": "stderr",
     "output_type": "stream",
     "text": [
      "session: 8VO1XT5P6XI695E4 job: d4f1bacbc3f1c254\n",
      " | the job is working remotely, please wait status=submitted job_id=d4f1bacb in 1 messages since 181 seconds (12/14); in 0 SCW so far; nodes (1): 0 computed 0 restored\n",
      "... \u001b[32mISGRISpectraSum : main starting : inapplicable\u001b[0m\u001b[0m\n",
      "- waiting for remote response (since 2021-08-25 15:24:33), please wait for https://www.astro.unige.ch/mmoda/dispatch-data/run_analysis\n"
     ]
    },
    {
     "name": "stdout",
     "output_type": "stream",
     "text": [
      "Is complete  False\n",
      "2006-01-01T00:00:00.0 - 2006-12-31T23:59:59.0\n",
      "complete 1 / 3\n",
      "not done\n",
      "2004-01-01T00:00:00.0 - 2004-12-31T23:59:59.0\n"
     ]
    },
    {
     "name": "stderr",
     "output_type": "stream",
     "text": [
      "session: ARMSNPTWYJVFH4XZ job: 9b1997c75d18cd13\n",
      " / the job is working remotely, please wait status=submitted job_id=9b1997c7 in 49 messages since 208 seconds (12/14); in 4 SCW so far; nodes (6): 5 computed 0 restored\n",
      "... \u001b[32mii_spectra_extract : main done : 023900270010.001\u001b[0m\u001b[0m\n",
      "- waiting for remote response (since 2021-08-25 15:24:43), please wait for https://www.astro.unige.ch/mmoda/dispatch-data/run_analysis\n"
     ]
    },
    {
     "name": "stdout",
     "output_type": "stream",
     "text": [
      "Is complete  False\n",
      "2005-01-01T00:00:00.0 - 2005-12-31T23:59:59.0\n"
     ]
    },
    {
     "name": "stderr",
     "output_type": "stream",
     "text": [
      "session: 8VO1XT5P6XI695E4 job: d4f1bacbc3f1c254\n",
      " / the job is working remotely, please wait status=submitted job_id=d4f1bacb in 1 messages since 203 seconds (12/14); in 0 SCW so far; nodes (1): 0 computed 0 restored\n",
      "... \u001b[32mISGRISpectraSum : main starting : inapplicable\u001b[0m\u001b[0m\n",
      "- waiting for remote response (since 2021-08-25 15:24:55), please wait for https://www.astro.unige.ch/mmoda/dispatch-data/run_analysis\n"
     ]
    },
    {
     "name": "stdout",
     "output_type": "stream",
     "text": [
      "Is complete  False\n",
      "2006-01-01T00:00:00.0 - 2006-12-31T23:59:59.0\n",
      "complete 1 / 3\n",
      "not done\n",
      "2004-01-01T00:00:00.0 - 2004-12-31T23:59:59.0\n"
     ]
    },
    {
     "name": "stderr",
     "output_type": "stream",
     "text": [
      "session: ARMSNPTWYJVFH4XZ job: 9b1997c75d18cd13\n",
      " - the job is working remotely, please wait status=submitted job_id=9b1997c7 in 49 messages since 230 seconds (11/14); in 4 SCW so far; nodes (6): 5 computed 0 restored\n",
      "... \u001b[32mii_spectra_extract : main done : 023900270010.001\u001b[0m\u001b[0m\n",
      "- waiting for remote response (since 2021-08-25 15:25:05), please wait for https://www.astro.unige.ch/mmoda/dispatch-data/run_analysis\n"
     ]
    },
    {
     "name": "stdout",
     "output_type": "stream",
     "text": [
      "Is complete  False\n",
      "2005-01-01T00:00:00.0 - 2005-12-31T23:59:59.0\n"
     ]
    },
    {
     "name": "stderr",
     "output_type": "stream",
     "text": [
      "session: 8VO1XT5P6XI695E4 job: d4f1bacbc3f1c254\n",
      " - the job is working remotely, please wait status=submitted job_id=d4f1bacb in 1 messages since 224 seconds (12/14); in 0 SCW so far; nodes (1): 0 computed 0 restored\n",
      "... \u001b[32mISGRISpectraSum : main starting : inapplicable\u001b[0m\u001b[0m\n",
      "- waiting for remote response (since 2021-08-25 15:25:16), please wait for https://www.astro.unige.ch/mmoda/dispatch-data/run_analysis\n"
     ]
    },
    {
     "name": "stdout",
     "output_type": "stream",
     "text": [
      "Is complete  False\n",
      "2006-01-01T00:00:00.0 - 2006-12-31T23:59:59.0\n",
      "complete 1 / 3\n",
      "not done\n",
      "2004-01-01T00:00:00.0 - 2004-12-31T23:59:59.0\n"
     ]
    },
    {
     "name": "stderr",
     "output_type": "stream",
     "text": [
      "session: ARMSNPTWYJVFH4XZ job: 9b1997c75d18cd13\n",
      " \\ the job is working remotely, please wait status=submitted job_id=9b1997c7 in 49 messages since 252 seconds (11/14); in 4 SCW so far; nodes (6): 5 computed 0 restored\n",
      "... \u001b[32mii_spectra_extract : main done : 023900270010.001\u001b[0m\u001b[0m\n",
      "- waiting for remote response (since 2021-08-25 15:25:27), please wait for https://www.astro.unige.ch/mmoda/dispatch-data/run_analysis\n"
     ]
    },
    {
     "name": "stdout",
     "output_type": "stream",
     "text": [
      "Is complete  False\n",
      "2005-01-01T00:00:00.0 - 2005-12-31T23:59:59.0\n"
     ]
    },
    {
     "name": "stderr",
     "output_type": "stream",
     "text": [
      "session: 8VO1XT5P6XI695E4 job: d4f1bacbc3f1c254\n",
      " \\ the job is working remotely, please wait status=submitted job_id=d4f1bacb in 1 messages since 246 seconds (12/14); in 0 SCW so far; nodes (1): 0 computed 0 restored\n",
      "... \u001b[32mISGRISpectraSum : main starting : inapplicable\u001b[0m\u001b[0m\n",
      "- waiting for remote response (since 2021-08-25 15:25:38), please wait for https://www.astro.unige.ch/mmoda/dispatch-data/run_analysis\n"
     ]
    },
    {
     "name": "stdout",
     "output_type": "stream",
     "text": [
      "Is complete  False\n",
      "2006-01-01T00:00:00.0 - 2006-12-31T23:59:59.0\n",
      "complete 1 / 3\n",
      "not done\n",
      "2004-01-01T00:00:00.0 - 2004-12-31T23:59:59.0\n"
     ]
    },
    {
     "name": "stderr",
     "output_type": "stream",
     "text": [
      "session: ARMSNPTWYJVFH4XZ job: 9b1997c75d18cd13\n",
      " | the job is working remotely, please wait status=submitted job_id=9b1997c7 in 49 messages since 274 seconds (11/14); in 4 SCW so far; nodes (6): 5 computed 0 restored\n",
      "... \u001b[32mii_spectra_extract : main done : 023900270010.001\u001b[0m\u001b[0m\n",
      "- waiting for remote response (since 2021-08-25 15:25:49), please wait for https://www.astro.unige.ch/mmoda/dispatch-data/run_analysis\n"
     ]
    },
    {
     "name": "stdout",
     "output_type": "stream",
     "text": [
      "Is complete  False\n",
      "2005-01-01T00:00:00.0 - 2005-12-31T23:59:59.0\n"
     ]
    },
    {
     "name": "stderr",
     "output_type": "stream",
     "text": [
      "session: 8VO1XT5P6XI695E4 job: d4f1bacbc3f1c254\n",
      " | the job is working remotely, please wait status=submitted job_id=d4f1bacb in 1 messages since 268 seconds (12/14); in 0 SCW so far; nodes (1): 0 computed 0 restored\n",
      "... \u001b[32mISGRISpectraSum : main starting : inapplicable\u001b[0m\u001b[0m\n",
      "- waiting for remote response (since 2021-08-25 15:26:00), please wait for https://www.astro.unige.ch/mmoda/dispatch-data/run_analysis\n"
     ]
    },
    {
     "name": "stdout",
     "output_type": "stream",
     "text": [
      "Is complete  False\n",
      "2006-01-01T00:00:00.0 - 2006-12-31T23:59:59.0\n",
      "complete 1 / 3\n",
      "not done\n",
      "2004-01-01T00:00:00.0 - 2004-12-31T23:59:59.0\n"
     ]
    },
    {
     "name": "stderr",
     "output_type": "stream",
     "text": [
      "session: ARMSNPTWYJVFH4XZ job: 9b1997c75d18cd13\n",
      " / the job is working remotely, please wait status=submitted job_id=9b1997c7 in 49 messages since 295 seconds (11/14); in 4 SCW so far; nodes (6): 5 computed 0 restored\n",
      "... \u001b[32mii_spectra_extract : main done : 023900270010.001\u001b[0m\u001b[0m\n",
      "- waiting for remote response (since 2021-08-25 15:26:10), please wait for https://www.astro.unige.ch/mmoda/dispatch-data/run_analysis\n"
     ]
    },
    {
     "name": "stdout",
     "output_type": "stream",
     "text": [
      "Is complete  False\n",
      "2005-01-01T00:00:00.0 - 2005-12-31T23:59:59.0\n"
     ]
    },
    {
     "name": "stderr",
     "output_type": "stream",
     "text": [
      "session: 8VO1XT5P6XI695E4 job: d4f1bacbc3f1c254\n",
      " / the job is working remotely, please wait status=submitted job_id=d4f1bacb in 1 messages since 289 seconds (11/14); in 0 SCW so far; nodes (1): 0 computed 0 restored\n",
      "... \u001b[32mISGRISpectraSum : main starting : inapplicable\u001b[0m\u001b[0m\n",
      "- waiting for remote response (since 2021-08-25 15:26:21), please wait for https://www.astro.unige.ch/mmoda/dispatch-data/run_analysis\n"
     ]
    },
    {
     "name": "stdout",
     "output_type": "stream",
     "text": [
      "Is complete  False\n",
      "2006-01-01T00:00:00.0 - 2006-12-31T23:59:59.0\n",
      "complete 1 / 3\n",
      "not done\n",
      "2004-01-01T00:00:00.0 - 2004-12-31T23:59:59.0\n"
     ]
    },
    {
     "name": "stderr",
     "output_type": "stream",
     "text": [
      "session: ARMSNPTWYJVFH4XZ job: 9b1997c75d18cd13\n",
      " - the job is working remotely, please wait status=submitted job_id=9b1997c7 in 49 messages since 317 seconds (11/14); in 4 SCW so far; nodes (6): 5 computed 0 restored\n",
      "... \u001b[32mii_spectra_extract : main done : 023900270010.001\u001b[0m\u001b[0m\n",
      "- waiting for remote response (since 2021-08-25 15:26:32), please wait for https://www.astro.unige.ch/mmoda/dispatch-data/run_analysis\n"
     ]
    },
    {
     "name": "stdout",
     "output_type": "stream",
     "text": [
      "Is complete  False\n",
      "2005-01-01T00:00:00.0 - 2005-12-31T23:59:59.0\n"
     ]
    },
    {
     "name": "stderr",
     "output_type": "stream",
     "text": [
      "session: 8VO1XT5P6XI695E4 job: d4f1bacbc3f1c254\n",
      " - the job is working remotely, please wait status=submitted job_id=d4f1bacb in 1 messages since 311 seconds (11/14); in 0 SCW so far; nodes (1): 0 computed 0 restored\n",
      "... \u001b[32mISGRISpectraSum : main starting : inapplicable\u001b[0m\u001b[0m\n",
      "- waiting for remote response (since 2021-08-25 15:26:43), please wait for https://www.astro.unige.ch/mmoda/dispatch-data/run_analysis\n"
     ]
    },
    {
     "name": "stdout",
     "output_type": "stream",
     "text": [
      "Is complete  False\n",
      "2006-01-01T00:00:00.0 - 2006-12-31T23:59:59.0\n",
      "complete 1 / 3\n",
      "not done\n",
      "2004-01-01T00:00:00.0 - 2004-12-31T23:59:59.0\n"
     ]
    },
    {
     "name": "stderr",
     "output_type": "stream",
     "text": [
      "session: ARMSNPTWYJVFH4XZ job: 9b1997c75d18cd13\n",
      " \\ the job is working remotely, please wait status=submitted job_id=9b1997c7 in 49 messages since 339 seconds (11/14); in 4 SCW so far; nodes (6): 5 computed 0 restored\n",
      "... \u001b[32mii_spectra_extract : main done : 023900270010.001\u001b[0m\u001b[0m\n",
      "- waiting for remote response (since 2021-08-25 15:26:54), please wait for https://www.astro.unige.ch/mmoda/dispatch-data/run_analysis\n"
     ]
    },
    {
     "name": "stdout",
     "output_type": "stream",
     "text": [
      "Is complete  False\n",
      "2005-01-01T00:00:00.0 - 2005-12-31T23:59:59.0\n"
     ]
    },
    {
     "name": "stderr",
     "output_type": "stream",
     "text": [
      "session: 8VO1XT5P6XI695E4 job: d4f1bacbc3f1c254\n",
      " \\ the job is working remotely, please wait status=submitted job_id=d4f1bacb in 1 messages since 332 seconds (11/14); in 0 SCW so far; nodes (1): 0 computed 0 restored\n",
      "... \u001b[32mISGRISpectraSum : main starting : inapplicable\u001b[0m\u001b[0m\n",
      "- waiting for remote response (since 2021-08-25 15:27:04), please wait for https://www.astro.unige.ch/mmoda/dispatch-data/run_analysis\n"
     ]
    },
    {
     "name": "stdout",
     "output_type": "stream",
     "text": [
      "Is complete  False\n",
      "2006-01-01T00:00:00.0 - 2006-12-31T23:59:59.0\n",
      "complete 1 / 3\n",
      "not done\n",
      "2004-01-01T00:00:00.0 - 2004-12-31T23:59:59.0\n"
     ]
    },
    {
     "name": "stderr",
     "output_type": "stream",
     "text": [
      "session: ARMSNPTWYJVFH4XZ job: 9b1997c75d18cd13\n",
      " | the job is working remotely, please wait status=submitted job_id=9b1997c7 in 49 messages since 360 seconds (11/14); in 4 SCW so far; nodes (6): 5 computed 0 restored\n",
      "... \u001b[32mii_spectra_extract : main done : 023900270010.001\u001b[0m\u001b[0m\n",
      "- waiting for remote response (since 2021-08-25 15:27:15), please wait for https://www.astro.unige.ch/mmoda/dispatch-data/run_analysis\n"
     ]
    },
    {
     "name": "stdout",
     "output_type": "stream",
     "text": [
      "Is complete  False\n",
      "2005-01-01T00:00:00.0 - 2005-12-31T23:59:59.0\n"
     ]
    },
    {
     "name": "stderr",
     "output_type": "stream",
     "text": [
      "session: 8VO1XT5P6XI695E4 job: d4f1bacbc3f1c254\n",
      " | the job is working remotely, please wait status=submitted job_id=d4f1bacb in 1 messages since 354 seconds (11/14); in 0 SCW so far; nodes (1): 0 computed 0 restored\n",
      "... \u001b[32mISGRISpectraSum : main starting : inapplicable\u001b[0m\u001b[0m\n",
      "- waiting for remote response (since 2021-08-25 15:27:26), please wait for https://www.astro.unige.ch/mmoda/dispatch-data/run_analysis\n"
     ]
    },
    {
     "name": "stdout",
     "output_type": "stream",
     "text": [
      "Is complete  False\n",
      "2006-01-01T00:00:00.0 - 2006-12-31T23:59:59.0\n",
      "complete 1 / 3\n",
      "not done\n",
      "2004-01-01T00:00:00.0 - 2004-12-31T23:59:59.0\n"
     ]
    },
    {
     "name": "stderr",
     "output_type": "stream",
     "text": [
      "session: ARMSNPTWYJVFH4XZ job: 9b1997c75d18cd13\n",
      " / the job is working remotely, please wait status=submitted job_id=9b1997c7 in 49 messages since 381 seconds (11/14); in 4 SCW so far; nodes (6): 5 computed 0 restored\n",
      "... \u001b[32mii_spectra_extract : main done : 023900270010.001\u001b[0m\u001b[0m\n",
      "- waiting for remote response (since 2021-08-25 15:27:36), please wait for https://www.astro.unige.ch/mmoda/dispatch-data/run_analysis\n"
     ]
    },
    {
     "name": "stdout",
     "output_type": "stream",
     "text": [
      "Is complete  False\n",
      "2005-01-01T00:00:00.0 - 2005-12-31T23:59:59.0\n"
     ]
    },
    {
     "name": "stderr",
     "output_type": "stream",
     "text": [
      "session: 8VO1XT5P6XI695E4 job: d4f1bacbc3f1c254\n",
      " / the job is working remotely, please wait status=submitted job_id=d4f1bacb in 1 messages since 374 seconds (11/14); in 0 SCW so far; nodes (1): 0 computed 0 restored\n",
      "... \u001b[32mISGRISpectraSum : main starting : inapplicable\u001b[0m\u001b[0m\n",
      "- waiting for remote response (since 2021-08-25 15:27:46), please wait for https://www.astro.unige.ch/mmoda/dispatch-data/run_analysis\n"
     ]
    },
    {
     "name": "stdout",
     "output_type": "stream",
     "text": [
      "Is complete  False\n",
      "2006-01-01T00:00:00.0 - 2006-12-31T23:59:59.0\n",
      "complete 1 / 3\n",
      "not done\n",
      "2004-01-01T00:00:00.0 - 2004-12-31T23:59:59.0\n"
     ]
    },
    {
     "name": "stderr",
     "output_type": "stream",
     "text": [
      "session: ARMSNPTWYJVFH4XZ job: 9b1997c75d18cd13\n",
      " - the job is working remotely, please wait status=submitted job_id=9b1997c7 in 49 messages since 402 seconds (11/14); in 4 SCW so far; nodes (6): 5 computed 0 restored\n",
      "... \u001b[32mii_spectra_extract : main done : 023900270010.001\u001b[0m\u001b[0m\n",
      "- waiting for remote response (since 2021-08-25 15:27:57), please wait for https://www.astro.unige.ch/mmoda/dispatch-data/run_analysis\n"
     ]
    },
    {
     "name": "stdout",
     "output_type": "stream",
     "text": [
      "Is complete  False\n",
      "2005-01-01T00:00:00.0 - 2005-12-31T23:59:59.0\n"
     ]
    },
    {
     "name": "stderr",
     "output_type": "stream",
     "text": [
      "session: 8VO1XT5P6XI695E4 job: d4f1bacbc3f1c254\n",
      " - the job is working remotely, please wait status=submitted job_id=d4f1bacb in 1 messages since 396 seconds (11/14); in 0 SCW so far; nodes (1): 0 computed 0 restored\n",
      "... \u001b[32mISGRISpectraSum : main starting : inapplicable\u001b[0m\u001b[0m\n",
      "- waiting for remote response (since 2021-08-25 15:28:08), please wait for https://www.astro.unige.ch/mmoda/dispatch-data/run_analysis\n"
     ]
    },
    {
     "name": "stdout",
     "output_type": "stream",
     "text": [
      "Is complete  False\n",
      "2006-01-01T00:00:00.0 - 2006-12-31T23:59:59.0\n",
      "complete 1 / 3\n",
      "not done\n",
      "2004-01-01T00:00:00.0 - 2004-12-31T23:59:59.0\n"
     ]
    },
    {
     "name": "stderr",
     "output_type": "stream",
     "text": [
      "session: ARMSNPTWYJVFH4XZ job: 9b1997c75d18cd13\n",
      " \\ the job is working remotely, please wait status=submitted job_id=9b1997c7 in 49 messages since 424 seconds (11/14); in 4 SCW so far; nodes (6): 5 computed 0 restored\n",
      "... \u001b[32mii_spectra_extract : main done : 023900270010.001\u001b[0m\u001b[0m\n",
      "- waiting for remote response (since 2021-08-25 15:28:19), please wait for https://www.astro.unige.ch/mmoda/dispatch-data/run_analysis\n"
     ]
    },
    {
     "name": "stdout",
     "output_type": "stream",
     "text": [
      "Is complete  False\n",
      "2005-01-01T00:00:00.0 - 2005-12-31T23:59:59.0\n"
     ]
    },
    {
     "name": "stderr",
     "output_type": "stream",
     "text": [
      "session: 8VO1XT5P6XI695E4 job: d4f1bacbc3f1c254\n",
      " \\ the job is working remotely, please wait status=submitted job_id=d4f1bacb in 1 messages since 418 seconds (11/14); in 0 SCW so far; nodes (1): 0 computed 0 restored\n",
      "... \u001b[32mISGRISpectraSum : main starting : inapplicable\u001b[0m\u001b[0m\n",
      "- waiting for remote response (since 2021-08-25 15:28:30), please wait for https://www.astro.unige.ch/mmoda/dispatch-data/run_analysis\n"
     ]
    },
    {
     "name": "stdout",
     "output_type": "stream",
     "text": [
      "Is complete  False\n",
      "2006-01-01T00:00:00.0 - 2006-12-31T23:59:59.0\n",
      "complete 1 / 3\n",
      "not done\n",
      "2004-01-01T00:00:00.0 - 2004-12-31T23:59:59.0\n"
     ]
    },
    {
     "name": "stderr",
     "output_type": "stream",
     "text": [
      "session: ARMSNPTWYJVFH4XZ job: 9b1997c75d18cd13\n",
      " | the job is working remotely, please wait status=submitted job_id=9b1997c7 in 49 messages since 447 seconds (11/14); in 4 SCW so far; nodes (6): 5 computed 0 restored\n",
      "... \u001b[32mii_spectra_extract : main done : 023900270010.001\u001b[0m\u001b[0m\n",
      "- waiting for remote response (since 2021-08-25 15:28:42), please wait for https://www.astro.unige.ch/mmoda/dispatch-data/run_analysis\n"
     ]
    },
    {
     "name": "stdout",
     "output_type": "stream",
     "text": [
      "Is complete  False\n",
      "2005-01-01T00:00:00.0 - 2005-12-31T23:59:59.0\n"
     ]
    },
    {
     "name": "stderr",
     "output_type": "stream",
     "text": [
      "session: 8VO1XT5P6XI695E4 job: d4f1bacbc3f1c254\n",
      " | the job is working remotely, please wait status=submitted job_id=d4f1bacb in 1 messages since 441 seconds (11/14); in 0 SCW so far; nodes (1): 0 computed 0 restored\n",
      "... \u001b[32mISGRISpectraSum : main starting : inapplicable\u001b[0m\u001b[0m\n",
      "- waiting for remote response (since 2021-08-25 15:28:53), please wait for https://www.astro.unige.ch/mmoda/dispatch-data/run_analysis\n"
     ]
    },
    {
     "name": "stdout",
     "output_type": "stream",
     "text": [
      "Is complete  False\n",
      "2006-01-01T00:00:00.0 - 2006-12-31T23:59:59.0\n",
      "complete 1 / 3\n",
      "not done\n",
      "2004-01-01T00:00:00.0 - 2004-12-31T23:59:59.0\n"
     ]
    },
    {
     "name": "stderr",
     "output_type": "stream",
     "text": [
      "session: ARMSNPTWYJVFH4XZ job: 9b1997c75d18cd13\n",
      " / the job is working remotely, please wait status=submitted job_id=9b1997c7 in 51 messages since 468 seconds (11/14); in 4 SCW so far; nodes (6): 5 computed 0 restored\n",
      "... \u001b[32mISGRISpectraSum : main starting : inapplicable\u001b[0m\u001b[0m\n",
      "- waiting for remote response (since 2021-08-25 15:29:03), please wait for https://www.astro.unige.ch/mmoda/dispatch-data/run_analysis\n"
     ]
    },
    {
     "name": "stdout",
     "output_type": "stream",
     "text": [
      "Is complete  False\n",
      "2005-01-01T00:00:00.0 - 2005-12-31T23:59:59.0\n"
     ]
    },
    {
     "name": "stderr",
     "output_type": "stream",
     "text": [
      "session: 8VO1XT5P6XI695E4 job: d4f1bacbc3f1c254\n",
      " / the job is working remotely, please wait status=submitted job_id=d4f1bacb in 1 messages since 467 seconds (11/15); in 0 SCW so far; nodes (1): 0 computed 0 restored\n",
      "... \u001b[32mISGRISpectraSum : main starting : inapplicable\u001b[0m\u001b[0m\n",
      "- waiting for remote response (since 2021-08-25 15:29:19), please wait for https://www.astro.unige.ch/mmoda/dispatch-data/run_analysis\n"
     ]
    },
    {
     "name": "stdout",
     "output_type": "stream",
     "text": [
      "Is complete  False\n",
      "2006-01-01T00:00:00.0 - 2006-12-31T23:59:59.0\n",
      "complete 1 / 3\n",
      "not done\n",
      "2004-01-01T00:00:00.0 - 2004-12-31T23:59:59.0\n"
     ]
    },
    {
     "name": "stderr",
     "output_type": "stream",
     "text": [
      "session: ARMSNPTWYJVFH4XZ job: 9b1997c75d18cd13\n",
      " - the job is working remotely, please wait status=submitted job_id=9b1997c7 in 51 messages since 496 seconds (11/14); in 4 SCW so far; nodes (6): 5 computed 0 restored\n",
      "... \u001b[32mISGRISpectraSum : main starting : inapplicable\u001b[0m\u001b[0m\n",
      "- waiting for remote response (since 2021-08-25 15:29:31), please wait for https://www.astro.unige.ch/mmoda/dispatch-data/run_analysis\n"
     ]
    },
    {
     "name": "stdout",
     "output_type": "stream",
     "text": [
      "Is complete  False\n",
      "2005-01-01T00:00:00.0 - 2005-12-31T23:59:59.0\n"
     ]
    },
    {
     "name": "stderr",
     "output_type": "stream",
     "text": [
      "session: 8VO1XT5P6XI695E4 job: d4f1bacbc3f1c254\n",
      " - the job is working remotely, please wait status=submitted job_id=d4f1bacb in 1 messages since 494 seconds (12/16); in 0 SCW so far; nodes (1): 0 computed 0 restored\n",
      "... \u001b[32mISGRISpectraSum : main starting : inapplicable\u001b[0m\u001b[0m\n",
      "- waiting for remote response (since 2021-08-25 15:29:46), please wait for https://www.astro.unige.ch/mmoda/dispatch-data/run_analysis\n"
     ]
    },
    {
     "name": "stdout",
     "output_type": "stream",
     "text": [
      "Is complete  False\n",
      "2006-01-01T00:00:00.0 - 2006-12-31T23:59:59.0\n",
      "complete 1 / 3\n",
      "not done\n",
      "2004-01-01T00:00:00.0 - 2004-12-31T23:59:59.0\n"
     ]
    },
    {
     "name": "stderr",
     "output_type": "stream",
     "text": [
      "session: ARMSNPTWYJVFH4XZ job: 9b1997c75d18cd13\n",
      " \\ the job is working remotely, please wait status=submitted job_id=9b1997c7 in 51 messages since 523 seconds (11/14); in 4 SCW so far; nodes (6): 5 computed 0 restored\n",
      "... \u001b[32mISGRISpectraSum : treating dependencies : inapplicable\u001b[0m\u001b[0m\n",
      "- waiting for remote response (since 2021-08-25 15:29:58), please wait for https://www.astro.unige.ch/mmoda/dispatch-data/run_analysis\n"
     ]
    },
    {
     "name": "stdout",
     "output_type": "stream",
     "text": [
      "Is complete  False\n",
      "2005-01-01T00:00:00.0 - 2005-12-31T23:59:59.0\n"
     ]
    },
    {
     "name": "stderr",
     "output_type": "stream",
     "text": [
      "session: 8VO1XT5P6XI695E4 job: d4f1bacbc3f1c254\n",
      " \\ the job is working remotely, please wait status=submitted job_id=d4f1bacb in 1 messages since 518 seconds (12/16); in 0 SCW so far; nodes (1): 0 computed 0 restored\n",
      "... \u001b[32mISGRISpectraSum : main starting : inapplicable\u001b[0m\u001b[0m\n",
      "- waiting for remote response (since 2021-08-25 15:30:10), please wait for https://www.astro.unige.ch/mmoda/dispatch-data/run_analysis\n"
     ]
    },
    {
     "name": "stdout",
     "output_type": "stream",
     "text": [
      "Is complete  False\n",
      "2006-01-01T00:00:00.0 - 2006-12-31T23:59:59.0\n",
      "complete 1 / 3\n",
      "not done\n",
      "2004-01-01T00:00:00.0 - 2004-12-31T23:59:59.0\n"
     ]
    },
    {
     "name": "stderr",
     "output_type": "stream",
     "text": [
      "session: ARMSNPTWYJVFH4XZ job: 9b1997c75d18cd13\n",
      " | the job is working remotely, please wait status=submitted job_id=9b1997c7 in 51 messages since 546 seconds (11/14); in 4 SCW so far; nodes (6): 5 computed 0 restored\n",
      "... \u001b[32mISGRISpectraSum : main starting : inapplicable\u001b[0m\u001b[0m\n",
      "- waiting for remote response (since 2021-08-25 15:30:21), please wait for https://www.astro.unige.ch/mmoda/dispatch-data/run_analysis\n"
     ]
    },
    {
     "name": "stdout",
     "output_type": "stream",
     "text": [
      "Is complete  False\n",
      "2005-01-01T00:00:00.0 - 2005-12-31T23:59:59.0\n"
     ]
    },
    {
     "name": "stderr",
     "output_type": "stream",
     "text": [
      "session: 8VO1XT5P6XI695E4 job: d4f1bacbc3f1c254\n",
      " | the job is working remotely, please wait status=submitted job_id=d4f1bacb in 1 messages since 539 seconds (12/16); in 0 SCW so far; nodes (1): 0 computed 0 restored\n",
      "... \u001b[32mISGRISpectraSum : main starting : inapplicable\u001b[0m\u001b[0m\n",
      "- waiting for remote response (since 2021-08-25 15:30:31), please wait for https://www.astro.unige.ch/mmoda/dispatch-data/run_analysis\n"
     ]
    },
    {
     "name": "stdout",
     "output_type": "stream",
     "text": [
      "Is complete  False\n",
      "2006-01-01T00:00:00.0 - 2006-12-31T23:59:59.0\n",
      "complete 1 / 3\n",
      "not done\n",
      "2004-01-01T00:00:00.0 - 2004-12-31T23:59:59.0\n"
     ]
    },
    {
     "name": "stderr",
     "output_type": "stream",
     "text": [
      "session: ARMSNPTWYJVFH4XZ job: 9b1997c75d18cd13\n",
      " / the job is working remotely, please wait status=submitted job_id=9b1997c7 in 51 messages since 567 seconds (11/14); in 4 SCW so far; nodes (6): 5 computed 0 restored\n",
      "... \u001b[32mISGRISpectraSum : main starting : inapplicable\u001b[0m\u001b[0m\n",
      "- waiting for remote response (since 2021-08-25 15:30:42), please wait for https://www.astro.unige.ch/mmoda/dispatch-data/run_analysis\n"
     ]
    },
    {
     "name": "stdout",
     "output_type": "stream",
     "text": [
      "Is complete  False\n",
      "2005-01-01T00:00:00.0 - 2005-12-31T23:59:59.0\n"
     ]
    },
    {
     "name": "stderr",
     "output_type": "stream",
     "text": [
      "session: 8VO1XT5P6XI695E4 job: d4f1bacbc3f1c254\n",
      " / the job is working remotely, please wait status=submitted job_id=d4f1bacb in 1 messages since 561 seconds (12/16); in 0 SCW so far; nodes (1): 0 computed 0 restored\n",
      "... \u001b[32mISGRISpectraSum : main starting : inapplicable\u001b[0m\u001b[0m\n",
      "- waiting for remote response (since 2021-08-25 15:30:53), please wait for https://www.astro.unige.ch/mmoda/dispatch-data/run_analysis\n"
     ]
    },
    {
     "name": "stdout",
     "output_type": "stream",
     "text": [
      "Is complete  False\n",
      "2006-01-01T00:00:00.0 - 2006-12-31T23:59:59.0\n",
      "complete 1 / 3\n",
      "not done\n",
      "2004-01-01T00:00:00.0 - 2004-12-31T23:59:59.0\n"
     ]
    },
    {
     "name": "stderr",
     "output_type": "stream",
     "text": [
      "session: ARMSNPTWYJVFH4XZ job: 9b1997c75d18cd13\n",
      " - the job is working remotely, please wait status=submitted job_id=9b1997c7 in 51 messages since 589 seconds (11/14); in 4 SCW so far; nodes (6): 5 computed 0 restored\n",
      "... \u001b[32mISGRISpectraSum : main starting : inapplicable\u001b[0m\u001b[0m\n",
      "- waiting for remote response (since 2021-08-25 15:31:04), please wait for https://www.astro.unige.ch/mmoda/dispatch-data/run_analysis\n"
     ]
    },
    {
     "name": "stdout",
     "output_type": "stream",
     "text": [
      "Is complete  False\n",
      "2005-01-01T00:00:00.0 - 2005-12-31T23:59:59.0\n"
     ]
    },
    {
     "name": "stderr",
     "output_type": "stream",
     "text": [
      "session: 8VO1XT5P6XI695E4 job: d4f1bacbc3f1c254\n",
      " - the job is working remotely, please wait status=submitted job_id=d4f1bacb in 1 messages since 582 seconds (12/16); in 0 SCW so far; nodes (1): 0 computed 0 restored\n",
      "... \u001b[32mISGRISpectraSum : main starting : inapplicable\u001b[0m\u001b[0m\n",
      "- waiting for remote response (since 2021-08-25 15:31:14), please wait for https://www.astro.unige.ch/mmoda/dispatch-data/run_analysis\n"
     ]
    },
    {
     "name": "stdout",
     "output_type": "stream",
     "text": [
      "Is complete  False\n",
      "2006-01-01T00:00:00.0 - 2006-12-31T23:59:59.0\n",
      "complete 1 / 3\n",
      "not done\n",
      "2004-01-01T00:00:00.0 - 2004-12-31T23:59:59.0\n"
     ]
    },
    {
     "name": "stderr",
     "output_type": "stream",
     "text": [
      "session: ARMSNPTWYJVFH4XZ job: 9b1997c75d18cd13\n",
      " \\ the job is working remotely, please wait status=submitted job_id=9b1997c7 in 51 messages since 610 seconds (11/14); in 4 SCW so far; nodes (6): 5 computed 0 restored\n",
      "... \u001b[32mISGRISpectraSum : main starting : inapplicable\u001b[0m\u001b[0m\n",
      "- waiting for remote response (since 2021-08-25 15:31:24), please wait for https://www.astro.unige.ch/mmoda/dispatch-data/run_analysis\n"
     ]
    },
    {
     "name": "stdout",
     "output_type": "stream",
     "text": [
      "Is complete  False\n",
      "2005-01-01T00:00:00.0 - 2005-12-31T23:59:59.0\n"
     ]
    },
    {
     "name": "stderr",
     "output_type": "stream",
     "text": [
      "session: 8VO1XT5P6XI695E4 job: d4f1bacbc3f1c254\n",
      " \\ the job is working remotely, please wait status=submitted job_id=d4f1bacb in 1 messages since 604 seconds (12/16); in 0 SCW so far; nodes (1): 0 computed 0 restored\n",
      "... \u001b[32mISGRISpectraSum : main starting : inapplicable\u001b[0m\u001b[0m\n",
      "- waiting for remote response (since 2021-08-25 15:31:36), please wait for https://www.astro.unige.ch/mmoda/dispatch-data/run_analysis\n"
     ]
    },
    {
     "name": "stdout",
     "output_type": "stream",
     "text": [
      "Is complete  False\n",
      "2006-01-01T00:00:00.0 - 2006-12-31T23:59:59.0\n",
      "complete 1 / 3\n",
      "not done\n",
      "2004-01-01T00:00:00.0 - 2004-12-31T23:59:59.0\n"
     ]
    },
    {
     "name": "stderr",
     "output_type": "stream",
     "text": [
      "session: ARMSNPTWYJVFH4XZ job: 9b1997c75d18cd13\n",
      " | the job is working remotely, please wait status=submitted job_id=9b1997c7 in 51 messages since 631 seconds (11/14); in 4 SCW so far; nodes (6): 5 computed 0 restored\n",
      "... \u001b[32mISGRISpectraSum : main starting : inapplicable\u001b[0m\u001b[0m\n",
      "- waiting for remote response (since 2021-08-25 15:31:46), please wait for https://www.astro.unige.ch/mmoda/dispatch-data/run_analysis\n"
     ]
    },
    {
     "name": "stdout",
     "output_type": "stream",
     "text": [
      "Is complete  False\n",
      "2005-01-01T00:00:00.0 - 2005-12-31T23:59:59.0\n"
     ]
    },
    {
     "name": "stderr",
     "output_type": "stream",
     "text": [
      "session: 8VO1XT5P6XI695E4 job: d4f1bacbc3f1c254\n",
      " | the job is working remotely, please wait status=submitted job_id=d4f1bacb in 1 messages since 624 seconds (11/16); in 0 SCW so far; nodes (1): 0 computed 0 restored\n",
      "... \u001b[32mISGRISpectraSum : main starting : inapplicable\u001b[0m\u001b[0m\n",
      "- waiting for remote response (since 2021-08-25 15:31:56), please wait for https://www.astro.unige.ch/mmoda/dispatch-data/run_analysis\n"
     ]
    },
    {
     "name": "stdout",
     "output_type": "stream",
     "text": [
      "Is complete  False\n",
      "2006-01-01T00:00:00.0 - 2006-12-31T23:59:59.0\n",
      "complete 1 / 3\n",
      "not done\n",
      "2004-01-01T00:00:00.0 - 2004-12-31T23:59:59.0\n"
     ]
    },
    {
     "name": "stderr",
     "output_type": "stream",
     "text": [
      "session: ARMSNPTWYJVFH4XZ job: 9b1997c75d18cd13\n",
      " / the job is working remotely, please wait status=submitted job_id=9b1997c7 in 51 messages since 653 seconds (11/14); in 4 SCW so far; nodes (6): 5 computed 0 restored\n",
      "... \u001b[32mISGRISpectraSum : treating dependencies : inapplicable\u001b[0m\u001b[0m\n",
      "- waiting for remote response (since 2021-08-25 15:32:08), please wait for https://www.astro.unige.ch/mmoda/dispatch-data/run_analysis\n"
     ]
    },
    {
     "name": "stdout",
     "output_type": "stream",
     "text": [
      "Is complete  False\n",
      "2005-01-01T00:00:00.0 - 2005-12-31T23:59:59.0\n"
     ]
    },
    {
     "name": "stderr",
     "output_type": "stream",
     "text": [
      "session: 8VO1XT5P6XI695E4 job: d4f1bacbc3f1c254\n",
      " / the job is working remotely, please wait status=submitted job_id=d4f1bacb in 1 messages since 647 seconds (11/16); in 0 SCW so far; nodes (1): 0 computed 0 restored\n",
      "... \u001b[32mISGRISpectraSum : main starting : inapplicable\u001b[0m\u001b[0m\n",
      "- waiting for remote response (since 2021-08-25 15:32:19), please wait for https://www.astro.unige.ch/mmoda/dispatch-data/run_analysis\n"
     ]
    },
    {
     "name": "stdout",
     "output_type": "stream",
     "text": [
      "Is complete  False\n",
      "2006-01-01T00:00:00.0 - 2006-12-31T23:59:59.0\n",
      "complete 1 / 3\n",
      "not done\n",
      "2004-01-01T00:00:00.0 - 2004-12-31T23:59:59.0\n"
     ]
    },
    {
     "name": "stderr",
     "output_type": "stream",
     "text": [
      "session: ARMSNPTWYJVFH4XZ job: 9b1997c75d18cd13\n",
      " - the job is working remotely, please wait status=submitted job_id=9b1997c7 in 51 messages since 676 seconds (11/14); in 4 SCW so far; nodes (6): 5 computed 0 restored\n",
      "... \u001b[32mISGRISpectraSum : main starting : inapplicable\u001b[0m\u001b[0m\n",
      "- waiting for remote response (since 2021-08-25 15:32:31), please wait for https://www.astro.unige.ch/mmoda/dispatch-data/run_analysis\n"
     ]
    },
    {
     "name": "stdout",
     "output_type": "stream",
     "text": [
      "Is complete  False\n",
      "2005-01-01T00:00:00.0 - 2005-12-31T23:59:59.0\n"
     ]
    },
    {
     "name": "stderr",
     "output_type": "stream",
     "text": [
      "session: 8VO1XT5P6XI695E4 job: d4f1bacbc3f1c254\n",
      " - the job is working remotely, please wait status=submitted job_id=d4f1bacb in 1 messages since 670 seconds (11/16); in 0 SCW so far; nodes (1): 0 computed 0 restored\n",
      "... \u001b[32mISGRISpectraSum : main starting : inapplicable\u001b[0m\u001b[0m\n",
      "- waiting for remote response (since 2021-08-25 15:32:42), please wait for https://www.astro.unige.ch/mmoda/dispatch-data/run_analysis\n"
     ]
    },
    {
     "name": "stdout",
     "output_type": "stream",
     "text": [
      "Is complete  False\n",
      "2006-01-01T00:00:00.0 - 2006-12-31T23:59:59.0\n",
      "complete 1 / 3\n",
      "not done\n",
      "2004-01-01T00:00:00.0 - 2004-12-31T23:59:59.0\n"
     ]
    },
    {
     "name": "stderr",
     "output_type": "stream",
     "text": [
      "session: ARMSNPTWYJVFH4XZ job: 9b1997c75d18cd13\n",
      " \\ the job is working remotely, please wait status=submitted job_id=9b1997c7 in 51 messages since 698 seconds (11/14); in 4 SCW so far; nodes (6): 5 computed 0 restored\n",
      "... \u001b[32mISGRISpectraSum : treating dependencies : inapplicable\u001b[0m\u001b[0m\n",
      "- waiting for remote response (since 2021-08-25 15:32:53), please wait for https://www.astro.unige.ch/mmoda/dispatch-data/run_analysis\n"
     ]
    },
    {
     "name": "stdout",
     "output_type": "stream",
     "text": [
      "Is complete  False\n",
      "2005-01-01T00:00:00.0 - 2005-12-31T23:59:59.0\n"
     ]
    },
    {
     "name": "stderr",
     "output_type": "stream",
     "text": [
      "session: 8VO1XT5P6XI695E4 job: d4f1bacbc3f1c254\n",
      " \\ the job is working remotely, please wait status=submitted job_id=d4f1bacb in 1 messages since 693 seconds (11/16); in 0 SCW so far; nodes (1): 0 computed 0 restored\n",
      "... \u001b[32mISGRISpectraSum : main starting : inapplicable\u001b[0m\u001b[0m\n",
      "- waiting for remote response (since 2021-08-25 15:33:05), please wait for https://www.astro.unige.ch/mmoda/dispatch-data/run_analysis\n"
     ]
    },
    {
     "name": "stdout",
     "output_type": "stream",
     "text": [
      "Is complete  False\n",
      "2006-01-01T00:00:00.0 - 2006-12-31T23:59:59.0\n",
      "complete 1 / 3\n",
      "not done\n",
      "2004-01-01T00:00:00.0 - 2004-12-31T23:59:59.0\n"
     ]
    },
    {
     "name": "stderr",
     "output_type": "stream",
     "text": [
      "session: ARMSNPTWYJVFH4XZ job: 9b1997c75d18cd13\n",
      " | the job is working remotely, please wait status=submitted job_id=9b1997c7 in 51 messages since 721 seconds (11/14); in 4 SCW so far; nodes (6): 5 computed 0 restored\n",
      "... \u001b[32mISGRISpectraSum : main starting : inapplicable\u001b[0m\u001b[0m\n",
      "- waiting for remote response (since 2021-08-25 15:33:16), please wait for https://www.astro.unige.ch/mmoda/dispatch-data/run_analysis\n"
     ]
    },
    {
     "name": "stdout",
     "output_type": "stream",
     "text": [
      "Is complete  False\n",
      "2005-01-01T00:00:00.0 - 2005-12-31T23:59:59.0\n"
     ]
    },
    {
     "name": "stderr",
     "output_type": "stream",
     "text": [
      "session: 8VO1XT5P6XI695E4 job: d4f1bacbc3f1c254\n",
      " | the job is working remotely, please wait status=submitted job_id=d4f1bacb in 1 messages since 715 seconds (11/16); in 0 SCW so far; nodes (1): 0 computed 0 restored\n",
      "... \u001b[32mISGRISpectraSum : main starting : inapplicable\u001b[0m\u001b[0m\n",
      "- waiting for remote response (since 2021-08-25 15:33:27), please wait for https://www.astro.unige.ch/mmoda/dispatch-data/run_analysis\n"
     ]
    },
    {
     "name": "stdout",
     "output_type": "stream",
     "text": [
      "Is complete  False\n",
      "2006-01-01T00:00:00.0 - 2006-12-31T23:59:59.0\n",
      "complete 1 / 3\n",
      "not done\n",
      "2004-01-01T00:00:00.0 - 2004-12-31T23:59:59.0\n"
     ]
    },
    {
     "name": "stderr",
     "output_type": "stream",
     "text": [
      "session: ARMSNPTWYJVFH4XZ job: 9b1997c75d18cd13\n",
      " / the job is working remotely, please wait status=submitted job_id=9b1997c7 in 51 messages since 743 seconds (11/14); in 4 SCW so far; nodes (6): 5 computed 0 restored\n",
      "... \u001b[32mISGRISpectraSum : main starting : inapplicable\u001b[0m\u001b[0m\n",
      "- waiting for remote response (since 2021-08-25 15:33:38), please wait for https://www.astro.unige.ch/mmoda/dispatch-data/run_analysis\n"
     ]
    },
    {
     "name": "stdout",
     "output_type": "stream",
     "text": [
      "Is complete  False\n",
      "2005-01-01T00:00:00.0 - 2005-12-31T23:59:59.0\n"
     ]
    },
    {
     "name": "stderr",
     "output_type": "stream",
     "text": [
      "session: 8VO1XT5P6XI695E4 job: d4f1bacbc3f1c254\n",
      " / the job is working remotely, please wait status=submitted job_id=d4f1bacb in 1 messages since 736 seconds (11/16); in 0 SCW so far; nodes (1): 0 computed 0 restored\n",
      "... \u001b[32mISGRISpectraSum : main starting : inapplicable\u001b[0m\u001b[0m\n",
      "- waiting for remote response (since 2021-08-25 15:33:48), please wait for https://www.astro.unige.ch/mmoda/dispatch-data/run_analysis\n"
     ]
    },
    {
     "name": "stdout",
     "output_type": "stream",
     "text": [
      "Is complete  False\n",
      "2006-01-01T00:00:00.0 - 2006-12-31T23:59:59.0\n",
      "complete 1 / 3\n",
      "not done\n",
      "2004-01-01T00:00:00.0 - 2004-12-31T23:59:59.0\n"
     ]
    },
    {
     "name": "stderr",
     "output_type": "stream",
     "text": [
      "session: ARMSNPTWYJVFH4XZ job: 9b1997c75d18cd13\n",
      " - the job is working remotely, please wait status=submitted job_id=9b1997c7 in 51 messages since 764 seconds (11/14); in 4 SCW so far; nodes (6): 5 computed 0 restored\n",
      "... \u001b[32mISGRISpectraSum : main starting : inapplicable\u001b[0m\u001b[0m\n",
      "- waiting for remote response (since 2021-08-25 15:33:59), please wait for https://www.astro.unige.ch/mmoda/dispatch-data/run_analysis\n"
     ]
    },
    {
     "name": "stdout",
     "output_type": "stream",
     "text": [
      "Is complete  False\n",
      "2005-01-01T00:00:00.0 - 2005-12-31T23:59:59.0\n"
     ]
    },
    {
     "name": "stderr",
     "output_type": "stream",
     "text": [
      "session: 8VO1XT5P6XI695E4 job: d4f1bacbc3f1c254\n",
      " - the job is working remotely, please wait status=submitted job_id=d4f1bacb in 1 messages since 759 seconds (11/16); in 0 SCW so far; nodes (1): 0 computed 0 restored\n",
      "... \u001b[32mISGRISpectraSum : main starting : inapplicable\u001b[0m\u001b[0m\n",
      "- waiting for remote response (since 2021-08-25 15:34:11), please wait for https://www.astro.unige.ch/mmoda/dispatch-data/run_analysis\n"
     ]
    },
    {
     "name": "stdout",
     "output_type": "stream",
     "text": [
      "Is complete  False\n",
      "2006-01-01T00:00:00.0 - 2006-12-31T23:59:59.0\n",
      "complete 1 / 3\n",
      "not done\n",
      "2004-01-01T00:00:00.0 - 2004-12-31T23:59:59.0\n"
     ]
    },
    {
     "name": "stderr",
     "output_type": "stream",
     "text": [
      "session: ARMSNPTWYJVFH4XZ job: 9b1997c75d18cd13\n",
      " \\ the job is working remotely, please wait status=submitted job_id=9b1997c7 in 51 messages since 787 seconds (11/14); in 4 SCW so far; nodes (6): 5 computed 0 restored\n",
      "... \u001b[32mISGRISpectraSum : treating dependencies : inapplicable\u001b[0m\u001b[0m\n",
      "- waiting for remote response (since 2021-08-25 15:34:22), please wait for https://www.astro.unige.ch/mmoda/dispatch-data/run_analysis\n"
     ]
    },
    {
     "name": "stdout",
     "output_type": "stream",
     "text": [
      "Is complete  False\n",
      "2005-01-01T00:00:00.0 - 2005-12-31T23:59:59.0\n"
     ]
    },
    {
     "name": "stderr",
     "output_type": "stream",
     "text": [
      "session: 8VO1XT5P6XI695E4 job: d4f1bacbc3f1c254\n",
      " \\ the job is working remotely, please wait status=submitted job_id=d4f1bacb in 1 messages since 780 seconds (11/16); in 0 SCW so far; nodes (1): 0 computed 0 restored\n",
      "... \u001b[32mISGRISpectraSum : main starting : inapplicable\u001b[0m\u001b[0m\n",
      "- waiting for remote response (since 2021-08-25 15:34:32), please wait for https://www.astro.unige.ch/mmoda/dispatch-data/run_analysis\n"
     ]
    },
    {
     "name": "stdout",
     "output_type": "stream",
     "text": [
      "Is complete  False\n",
      "2006-01-01T00:00:00.0 - 2006-12-31T23:59:59.0\n",
      "complete 1 / 3\n",
      "not done\n",
      "2004-01-01T00:00:00.0 - 2004-12-31T23:59:59.0\n"
     ]
    },
    {
     "name": "stderr",
     "output_type": "stream",
     "text": [
      "session: ARMSNPTWYJVFH4XZ job: 9b1997c75d18cd13\n",
      " | the job is working remotely, please wait status=submitted job_id=9b1997c7 in 51 messages since 807 seconds (11/14); in 4 SCW so far; nodes (6): 5 computed 0 restored\n",
      "... \u001b[32mISGRISpectraSum : main starting : inapplicable\u001b[0m\u001b[0m\n",
      "- waiting for remote response (since 2021-08-25 15:34:42), please wait for https://www.astro.unige.ch/mmoda/dispatch-data/run_analysis\n"
     ]
    },
    {
     "name": "stdout",
     "output_type": "stream",
     "text": [
      "Is complete  False\n",
      "2005-01-01T00:00:00.0 - 2005-12-31T23:59:59.0\n"
     ]
    },
    {
     "name": "stderr",
     "output_type": "stream",
     "text": [
      "session: 8VO1XT5P6XI695E4 job: d4f1bacbc3f1c254\n",
      " | the job is working remotely, please wait status=submitted job_id=d4f1bacb in 1 messages since 814 seconds (12/24); in 0 SCW so far; nodes (1): 0 computed 0 restored\n",
      "... \u001b[32mISGRISpectraSum : main starting : inapplicable\u001b[0m\u001b[0m\n",
      "- waiting for remote response (since 2021-08-25 15:35:06), please wait for https://www.astro.unige.ch/mmoda/dispatch-data/run_analysis\n"
     ]
    },
    {
     "name": "stdout",
     "output_type": "stream",
     "text": [
      "Is complete  False\n",
      "2006-01-01T00:00:00.0 - 2006-12-31T23:59:59.0\n",
      "complete 1 / 3\n",
      "not done\n",
      "2004-01-01T00:00:00.0 - 2004-12-31T23:59:59.0\n"
     ]
    },
    {
     "name": "stderr",
     "output_type": "stream",
     "text": [
      "session: ARMSNPTWYJVFH4XZ job: 9b1997c75d18cd13\n",
      " / the job is working remotely, please wait status=submitted job_id=9b1997c7 in 51 messages since 842 seconds (11/14); in 4 SCW so far; nodes (6): 5 computed 0 restored\n",
      "... \u001b[32mISGRISpectraSum : main starting : inapplicable\u001b[0m\u001b[0m\n",
      "- waiting for remote response (since 2021-08-25 15:35:17), please wait for https://www.astro.unige.ch/mmoda/dispatch-data/run_analysis\n"
     ]
    },
    {
     "name": "stdout",
     "output_type": "stream",
     "text": [
      "Is complete  False\n",
      "2005-01-01T00:00:00.0 - 2005-12-31T23:59:59.0\n"
     ]
    },
    {
     "name": "stderr",
     "output_type": "stream",
     "text": [
      "session: 8VO1XT5P6XI695E4 job: d4f1bacbc3f1c254\n",
      " / the job is working remotely, please wait status=submitted job_id=d4f1bacb in 1 messages since 836 seconds (12/24); in 0 SCW so far; nodes (1): 0 computed 0 restored\n",
      "... \u001b[32mISGRISpectraSum : main starting : inapplicable\u001b[0m\u001b[0m\n",
      "- waiting for remote response (since 2021-08-25 15:35:28), please wait for https://www.astro.unige.ch/mmoda/dispatch-data/run_analysis\n"
     ]
    },
    {
     "name": "stdout",
     "output_type": "stream",
     "text": [
      "Is complete  False\n",
      "2006-01-01T00:00:00.0 - 2006-12-31T23:59:59.0\n",
      "complete 1 / 3\n",
      "not done\n",
      "2004-01-01T00:00:00.0 - 2004-12-31T23:59:59.0\n"
     ]
    },
    {
     "name": "stderr",
     "output_type": "stream",
     "text": [
      "session: ARMSNPTWYJVFH4XZ job: 9b1997c75d18cd13\n",
      " - the job is working remotely, please wait status=submitted job_id=9b1997c7 in 51 messages since 863 seconds (11/14); in 4 SCW so far; nodes (6): 5 computed 0 restored\n",
      "... \u001b[32mISGRISpectraSum : treating dependencies : inapplicable\u001b[0m\u001b[0m\n",
      "- waiting for remote response (since 2021-08-25 15:35:38), please wait for https://www.astro.unige.ch/mmoda/dispatch-data/run_analysis\n"
     ]
    },
    {
     "name": "stdout",
     "output_type": "stream",
     "text": [
      "Is complete  False\n",
      "2005-01-01T00:00:00.0 - 2005-12-31T23:59:59.0\n"
     ]
    },
    {
     "name": "stderr",
     "output_type": "stream",
     "text": [
      "session: 8VO1XT5P6XI695E4 job: d4f1bacbc3f1c254\n",
      " - the job is working remotely, please wait status=submitted job_id=d4f1bacb in 1 messages since 857 seconds (12/24); in 0 SCW so far; nodes (1): 0 computed 0 restored\n",
      "... \u001b[32mISGRISpectraSum : main starting : inapplicable\u001b[0m\u001b[0m\n",
      "- waiting for remote response (since 2021-08-25 15:35:49), please wait for https://www.astro.unige.ch/mmoda/dispatch-data/run_analysis\n"
     ]
    },
    {
     "name": "stdout",
     "output_type": "stream",
     "text": [
      "Is complete  False\n",
      "2006-01-01T00:00:00.0 - 2006-12-31T23:59:59.0\n",
      "complete 1 / 3\n",
      "not done\n",
      "2004-01-01T00:00:00.0 - 2004-12-31T23:59:59.0\n"
     ]
    },
    {
     "name": "stderr",
     "output_type": "stream",
     "text": [
      "session: ARMSNPTWYJVFH4XZ job: 9b1997c75d18cd13\n",
      " \\ the job is working remotely, please wait status=submitted job_id=9b1997c7 in 51 messages since 885 seconds (11/14); in 4 SCW so far; nodes (6): 5 computed 0 restored\n",
      "... \u001b[32mISGRISpectraSum : main starting : inapplicable\u001b[0m\u001b[0m\n",
      "- waiting for remote response (since 2021-08-25 15:36:00), please wait for https://www.astro.unige.ch/mmoda/dispatch-data/run_analysis\n"
     ]
    },
    {
     "name": "stdout",
     "output_type": "stream",
     "text": [
      "Is complete  False\n",
      "2005-01-01T00:00:00.0 - 2005-12-31T23:59:59.0\n"
     ]
    },
    {
     "name": "stderr",
     "output_type": "stream",
     "text": [
      "session: 8VO1XT5P6XI695E4 job: d4f1bacbc3f1c254\n",
      " \\ the job is working remotely, please wait status=submitted job_id=d4f1bacb in 1 messages since 883 seconds (12/24); in 0 SCW so far; nodes (1): 0 computed 0 restored\n",
      "... \u001b[32mISGRISpectraSum : main starting : inapplicable\u001b[0m\u001b[0m\n",
      "- waiting for remote response (since 2021-08-25 15:36:15), please wait for https://www.astro.unige.ch/mmoda/dispatch-data/run_analysis\n"
     ]
    },
    {
     "name": "stdout",
     "output_type": "stream",
     "text": [
      "Is complete  False\n",
      "2006-01-01T00:00:00.0 - 2006-12-31T23:59:59.0\n",
      "complete 1 / 3\n",
      "not done\n",
      "2004-01-01T00:00:00.0 - 2004-12-31T23:59:59.0\n"
     ]
    },
    {
     "name": "stderr",
     "output_type": "stream",
     "text": [
      "session: ARMSNPTWYJVFH4XZ job: 9b1997c75d18cd13\n",
      " | the job is working remotely, please wait status=submitted job_id=9b1997c7 in 51 messages since 911 seconds (11/14); in 4 SCW so far; nodes (6): 5 computed 0 restored\n",
      "... \u001b[32mISGRISpectraSum : main starting : inapplicable\u001b[0m\u001b[0m\n",
      "- waiting for remote response (since 2021-08-25 15:36:26), please wait for https://www.astro.unige.ch/mmoda/dispatch-data/run_analysis\n"
     ]
    },
    {
     "name": "stdout",
     "output_type": "stream",
     "text": [
      "Is complete  False\n",
      "2005-01-01T00:00:00.0 - 2005-12-31T23:59:59.0\n"
     ]
    },
    {
     "name": "stderr",
     "output_type": "stream",
     "text": [
      "session: 8VO1XT5P6XI695E4 job: d4f1bacbc3f1c254\n",
      " | the job is working remotely, please wait status=submitted job_id=d4f1bacb in 1 messages since 905 seconds (12/24); in 0 SCW so far; nodes (1): 0 computed 0 restored\n",
      "... \u001b[32mISGRISpectraSum : main starting : inapplicable\u001b[0m\u001b[0m\n",
      "- waiting for remote response (since 2021-08-25 15:36:37), please wait for https://www.astro.unige.ch/mmoda/dispatch-data/run_analysis\n"
     ]
    },
    {
     "name": "stdout",
     "output_type": "stream",
     "text": [
      "Is complete  False\n",
      "2006-01-01T00:00:00.0 - 2006-12-31T23:59:59.0\n",
      "complete 1 / 3\n",
      "not done\n",
      "2004-01-01T00:00:00.0 - 2004-12-31T23:59:59.0\n"
     ]
    },
    {
     "name": "stderr",
     "output_type": "stream",
     "text": [
      "session: ARMSNPTWYJVFH4XZ job: 9b1997c75d18cd13\n",
      " / the job is working remotely, please wait status=submitted job_id=9b1997c7 in 51 messages since 933 seconds (11/14); in 4 SCW so far; nodes (6): 5 computed 0 restored\n",
      "... \u001b[32mISGRISpectraSum : treating dependencies : inapplicable\u001b[0m\u001b[0m\n",
      "- waiting for remote response (since 2021-08-25 15:36:48), please wait for https://www.astro.unige.ch/mmoda/dispatch-data/run_analysis\n"
     ]
    },
    {
     "name": "stdout",
     "output_type": "stream",
     "text": [
      "Is complete  False\n",
      "2005-01-01T00:00:00.0 - 2005-12-31T23:59:59.0\n"
     ]
    },
    {
     "name": "stderr",
     "output_type": "stream",
     "text": [
      "session: 8VO1XT5P6XI695E4 job: d4f1bacbc3f1c254\n",
      " / the job is working remotely, please wait status=submitted job_id=d4f1bacb in 1 messages since 927 seconds (12/24); in 0 SCW so far; nodes (1): 0 computed 0 restored\n",
      "... \u001b[32mISGRISpectraSum : main starting : inapplicable\u001b[0m\u001b[0m\n",
      "- waiting for remote response (since 2021-08-25 15:36:59), please wait for https://www.astro.unige.ch/mmoda/dispatch-data/run_analysis\n"
     ]
    },
    {
     "name": "stdout",
     "output_type": "stream",
     "text": [
      "Is complete  False\n",
      "2006-01-01T00:00:00.0 - 2006-12-31T23:59:59.0\n",
      "complete 1 / 3\n",
      "not done\n",
      "2004-01-01T00:00:00.0 - 2004-12-31T23:59:59.0\n"
     ]
    },
    {
     "name": "stderr",
     "output_type": "stream",
     "text": [
      "session: ARMSNPTWYJVFH4XZ job: 9b1997c75d18cd13\n",
      " - the job is working remotely, please wait status=submitted job_id=9b1997c7 in 51 messages since 955 seconds (11/14); in 4 SCW so far; nodes (6): 5 computed 0 restored\n",
      "... \u001b[32mISGRISpectraSum : main starting : inapplicable\u001b[0m\u001b[0m\n",
      "- waiting for remote response (since 2021-08-25 15:37:10), please wait for https://www.astro.unige.ch/mmoda/dispatch-data/run_analysis\n"
     ]
    },
    {
     "name": "stdout",
     "output_type": "stream",
     "text": [
      "Is complete  False\n",
      "2005-01-01T00:00:00.0 - 2005-12-31T23:59:59.0\n"
     ]
    },
    {
     "name": "stderr",
     "output_type": "stream",
     "text": [
      "session: 8VO1XT5P6XI695E4 job: d4f1bacbc3f1c254\n",
      " - the job is working remotely, please wait status=submitted job_id=d4f1bacb in 1 messages since 949 seconds (12/24); in 0 SCW so far; nodes (1): 0 computed 0 restored\n",
      "... \u001b[32mISGRISpectraSum : main starting : inapplicable\u001b[0m\u001b[0m\n",
      "- waiting for remote response (since 2021-08-25 15:37:20), please wait for https://www.astro.unige.ch/mmoda/dispatch-data/run_analysis\n"
     ]
    },
    {
     "name": "stdout",
     "output_type": "stream",
     "text": [
      "Is complete  False\n",
      "2006-01-01T00:00:00.0 - 2006-12-31T23:59:59.0\n",
      "complete 1 / 3\n",
      "not done\n",
      "2004-01-01T00:00:00.0 - 2004-12-31T23:59:59.0\n"
     ]
    },
    {
     "name": "stderr",
     "output_type": "stream",
     "text": [
      "session: ARMSNPTWYJVFH4XZ job: 9b1997c75d18cd13\n",
      " \\ the job is working remotely, please wait status=submitted job_id=9b1997c7 in 51 messages since 978 seconds (11/14); in 4 SCW so far; nodes (6): 5 computed 0 restored\n",
      "... \u001b[32mISGRISpectraSum : main starting : inapplicable\u001b[0m\u001b[0m\n",
      "- waiting for remote response (since 2021-08-25 15:37:32), please wait for https://www.astro.unige.ch/mmoda/dispatch-data/run_analysis\n"
     ]
    },
    {
     "name": "stdout",
     "output_type": "stream",
     "text": [
      "Is complete  False\n",
      "2005-01-01T00:00:00.0 - 2005-12-31T23:59:59.0\n"
     ]
    },
    {
     "name": "stderr",
     "output_type": "stream",
     "text": [
      "session: 8VO1XT5P6XI695E4 job: d4f1bacbc3f1c254\n",
      " \\ the job is working remotely, please wait status=submitted job_id=d4f1bacb in 1 messages since 971 seconds (12/24); in 0 SCW so far; nodes (1): 0 computed 0 restored\n",
      "... \u001b[32mISGRISpectraSum : main starting : inapplicable\u001b[0m\u001b[0m\n",
      "- waiting for remote response (since 2021-08-25 15:37:43), please wait for https://www.astro.unige.ch/mmoda/dispatch-data/run_analysis\n"
     ]
    },
    {
     "name": "stdout",
     "output_type": "stream",
     "text": [
      "Is complete  False\n",
      "2006-01-01T00:00:00.0 - 2006-12-31T23:59:59.0\n",
      "complete 1 / 3\n",
      "not done\n",
      "2004-01-01T00:00:00.0 - 2004-12-31T23:59:59.0\n"
     ]
    },
    {
     "name": "stderr",
     "output_type": "stream",
     "text": [
      "session: ARMSNPTWYJVFH4XZ job: 9b1997c75d18cd13\n",
      " | the job is working remotely, please wait status=submitted job_id=9b1997c7 in 51 messages since 999 seconds (11/14); in 4 SCW so far; nodes (6): 5 computed 0 restored\n",
      "... \u001b[32mISGRISpectraSum : main starting : inapplicable\u001b[0m\u001b[0m\n",
      "- waiting for remote response (since 2021-08-25 15:37:54), please wait for https://www.astro.unige.ch/mmoda/dispatch-data/run_analysis\n"
     ]
    },
    {
     "name": "stdout",
     "output_type": "stream",
     "text": [
      "Is complete  False\n",
      "2005-01-01T00:00:00.0 - 2005-12-31T23:59:59.0\n"
     ]
    },
    {
     "name": "stderr",
     "output_type": "stream",
     "text": [
      "session: 8VO1XT5P6XI695E4 job: d4f1bacbc3f1c254\n",
      " | the job is working remotely, please wait status=submitted job_id=d4f1bacb in 1 messages since 993 seconds (12/24); in 0 SCW so far; nodes (1): 0 computed 0 restored\n",
      "... \u001b[32mISGRISpectraSum : main starting : inapplicable\u001b[0m\u001b[0m\n",
      "- waiting for remote response (since 2021-08-25 15:38:05), please wait for https://www.astro.unige.ch/mmoda/dispatch-data/run_analysis\n"
     ]
    },
    {
     "name": "stdout",
     "output_type": "stream",
     "text": [
      "Is complete  False\n",
      "2006-01-01T00:00:00.0 - 2006-12-31T23:59:59.0\n",
      "complete 1 / 3\n",
      "not done\n",
      "2004-01-01T00:00:00.0 - 2004-12-31T23:59:59.0\n"
     ]
    },
    {
     "name": "stderr",
     "output_type": "stream",
     "text": [
      "session: ARMSNPTWYJVFH4XZ job: 9b1997c75d18cd13\n",
      " / the job is working remotely, please wait status=submitted job_id=9b1997c7 in 51 messages since 1021 seconds (11/14); in 4 SCW so far; nodes (6): 5 computed 0 restored\n",
      "... \u001b[32mISGRISpectraSum : treating dependencies : inapplicable\u001b[0m\u001b[0m\n",
      "- waiting for remote response (since 2021-08-25 15:38:16), please wait for https://www.astro.unige.ch/mmoda/dispatch-data/run_analysis\n"
     ]
    },
    {
     "name": "stdout",
     "output_type": "stream",
     "text": [
      "Is complete  False\n",
      "2005-01-01T00:00:00.0 - 2005-12-31T23:59:59.0\n"
     ]
    },
    {
     "name": "stderr",
     "output_type": "stream",
     "text": [
      "session: 8VO1XT5P6XI695E4 job: d4f1bacbc3f1c254\n",
      " / the job is working remotely, please wait status=submitted job_id=d4f1bacb in 1 messages since 1015 seconds (12/24); in 0 SCW so far; nodes (1): 0 computed 0 restored\n",
      "... \u001b[32mISGRISpectraSum : main starting : inapplicable\u001b[0m\u001b[0m\n",
      "- waiting for remote response (since 2021-08-25 15:38:27), please wait for https://www.astro.unige.ch/mmoda/dispatch-data/run_analysis\n"
     ]
    },
    {
     "name": "stdout",
     "output_type": "stream",
     "text": [
      "Is complete  False\n",
      "2006-01-01T00:00:00.0 - 2006-12-31T23:59:59.0\n",
      "complete 1 / 3\n",
      "not done\n",
      "2004-01-01T00:00:00.0 - 2004-12-31T23:59:59.0\n"
     ]
    },
    {
     "name": "stderr",
     "output_type": "stream",
     "text": [
      "session: ARMSNPTWYJVFH4XZ job: 9b1997c75d18cd13\n",
      " - the job is working remotely, please wait status=submitted job_id=9b1997c7 in 51 messages since 1044 seconds (11/14); in 4 SCW so far; nodes (6): 5 computed 0 restored\n",
      "... \u001b[32mISGRISpectraSum : main starting : inapplicable\u001b[0m\u001b[0m\n",
      "- waiting for remote response (since 2021-08-25 15:38:38), please wait for https://www.astro.unige.ch/mmoda/dispatch-data/run_analysis\n"
     ]
    },
    {
     "name": "stdout",
     "output_type": "stream",
     "text": [
      "Is complete  False\n",
      "2005-01-01T00:00:00.0 - 2005-12-31T23:59:59.0\n"
     ]
    },
    {
     "name": "stderr",
     "output_type": "stream",
     "text": [
      "session: 8VO1XT5P6XI695E4 job: d4f1bacbc3f1c254\n",
      " - the job is working remotely, please wait status=submitted job_id=d4f1bacb in 1 messages since 1038 seconds (12/24); in 0 SCW so far; nodes (1): 0 computed 0 restored\n",
      "... \u001b[32mISGRISpectraSum : main starting : inapplicable\u001b[0m\u001b[0m\n",
      "- waiting for remote response (since 2021-08-25 15:38:49), please wait for https://www.astro.unige.ch/mmoda/dispatch-data/run_analysis\n"
     ]
    },
    {
     "name": "stdout",
     "output_type": "stream",
     "text": [
      "Is complete  False\n",
      "2006-01-01T00:00:00.0 - 2006-12-31T23:59:59.0\n",
      "complete 1 / 3\n",
      "not done\n",
      "2004-01-01T00:00:00.0 - 2004-12-31T23:59:59.0\n"
     ]
    },
    {
     "name": "stderr",
     "output_type": "stream",
     "text": [
      "session: ARMSNPTWYJVFH4XZ job: 9b1997c75d18cd13\n",
      " \\ the job is working remotely, please wait status=submitted job_id=9b1997c7 in 51 messages since 1065 seconds (11/14); in 4 SCW so far; nodes (6): 5 computed 0 restored\n",
      "... \u001b[32mISGRISpectraSum : main starting : inapplicable\u001b[0m\u001b[0m\n",
      "- waiting for remote response (since 2021-08-25 15:39:00), please wait for https://www.astro.unige.ch/mmoda/dispatch-data/run_analysis\n"
     ]
    },
    {
     "name": "stdout",
     "output_type": "stream",
     "text": [
      "Is complete  False\n",
      "2005-01-01T00:00:00.0 - 2005-12-31T23:59:59.0\n"
     ]
    },
    {
     "name": "stderr",
     "output_type": "stream",
     "text": [
      "session: 8VO1XT5P6XI695E4 job: d4f1bacbc3f1c254\n",
      " \\ the job is working remotely, please wait status=submitted job_id=d4f1bacb in 1 messages since 1059 seconds (12/24); in 0 SCW so far; nodes (1): 0 computed 0 restored\n",
      "... \u001b[32mISGRISpectraSum : main starting : inapplicable\u001b[0m\u001b[0m\n",
      "- waiting for remote response (since 2021-08-25 15:39:11), please wait for https://www.astro.unige.ch/mmoda/dispatch-data/run_analysis\n"
     ]
    },
    {
     "name": "stdout",
     "output_type": "stream",
     "text": [
      "Is complete  False\n",
      "2006-01-01T00:00:00.0 - 2006-12-31T23:59:59.0\n",
      "complete 1 / 3\n",
      "not done\n",
      "2004-01-01T00:00:00.0 - 2004-12-31T23:59:59.0\n"
     ]
    },
    {
     "name": "stderr",
     "output_type": "stream",
     "text": [
      "session: ARMSNPTWYJVFH4XZ job: 9b1997c75d18cd13\n",
      " | the job is working remotely, please wait status=submitted job_id=9b1997c7 in 51 messages since 1087 seconds (11/14); in 4 SCW so far; nodes (6): 5 computed 0 restored\n",
      "... \u001b[32mISGRISpectraSum : main starting : inapplicable\u001b[0m\u001b[0m\n",
      "- waiting for remote response (since 2021-08-25 15:39:22), please wait for https://www.astro.unige.ch/mmoda/dispatch-data/run_analysis\n"
     ]
    },
    {
     "name": "stdout",
     "output_type": "stream",
     "text": [
      "Is complete  False\n",
      "2005-01-01T00:00:00.0 - 2005-12-31T23:59:59.0\n"
     ]
    },
    {
     "name": "stderr",
     "output_type": "stream",
     "text": [
      "session: 8VO1XT5P6XI695E4 job: d4f1bacbc3f1c254\n",
      " | the job is working remotely, please wait status=submitted job_id=d4f1bacb in 1 messages since 1081 seconds (12/24); in 0 SCW so far; nodes (1): 0 computed 0 restored\n",
      "... \u001b[32mISGRISpectraSum : main starting : inapplicable\u001b[0m\u001b[0m\n",
      "- waiting for remote response (since 2021-08-25 15:39:33), please wait for https://www.astro.unige.ch/mmoda/dispatch-data/run_analysis\n"
     ]
    },
    {
     "name": "stdout",
     "output_type": "stream",
     "text": [
      "Is complete  False\n",
      "2006-01-01T00:00:00.0 - 2006-12-31T23:59:59.0\n",
      "complete 1 / 3\n",
      "not done\n",
      "2004-01-01T00:00:00.0 - 2004-12-31T23:59:59.0\n"
     ]
    },
    {
     "name": "stderr",
     "output_type": "stream",
     "text": [
      "session: ARMSNPTWYJVFH4XZ job: 9b1997c75d18cd13\n",
      " / the job is working remotely, please wait status=submitted job_id=9b1997c7 in 51 messages since 1108 seconds (11/14); in 4 SCW so far; nodes (6): 5 computed 0 restored\n",
      "... \u001b[32mISGRISpectraSum : main starting : inapplicable\u001b[0m\u001b[0m\n",
      "- waiting for remote response (since 2021-08-25 15:39:43), please wait for https://www.astro.unige.ch/mmoda/dispatch-data/run_analysis\n"
     ]
    },
    {
     "name": "stdout",
     "output_type": "stream",
     "text": [
      "Is complete  False\n",
      "2005-01-01T00:00:00.0 - 2005-12-31T23:59:59.0\n"
     ]
    },
    {
     "name": "stderr",
     "output_type": "stream",
     "text": [
      "session: 8VO1XT5P6XI695E4 job: d4f1bacbc3f1c254\n",
      " / the job is working remotely, please wait status=submitted job_id=d4f1bacb in 1 messages since 1101 seconds (12/24); in 0 SCW so far; nodes (1): 0 computed 0 restored\n",
      "... \u001b[32mISGRISpectraSum : main starting : inapplicable\u001b[0m\u001b[0m\n",
      "- waiting for remote response (since 2021-08-25 15:39:53), please wait for https://www.astro.unige.ch/mmoda/dispatch-data/run_analysis\n"
     ]
    },
    {
     "name": "stdout",
     "output_type": "stream",
     "text": [
      "Is complete  False\n",
      "2006-01-01T00:00:00.0 - 2006-12-31T23:59:59.0\n",
      "complete 1 / 3\n",
      "not done\n",
      "2004-01-01T00:00:00.0 - 2004-12-31T23:59:59.0\n"
     ]
    },
    {
     "name": "stderr",
     "output_type": "stream",
     "text": [
      "session: ARMSNPTWYJVFH4XZ job: 9b1997c75d18cd13\n",
      " - the job is working remotely, please wait status=submitted job_id=9b1997c7 in 51 messages since 1130 seconds (11/14); in 4 SCW so far; nodes (6): 5 computed 0 restored\n",
      "... \u001b[32mISGRISpectraSum : main starting : inapplicable\u001b[0m\u001b[0m\n",
      "- waiting for remote response (since 2021-08-25 15:40:05), please wait for https://www.astro.unige.ch/mmoda/dispatch-data/run_analysis\n"
     ]
    },
    {
     "name": "stdout",
     "output_type": "stream",
     "text": [
      "Is complete  False\n",
      "2005-01-01T00:00:00.0 - 2005-12-31T23:59:59.0\n"
     ]
    },
    {
     "name": "stderr",
     "output_type": "stream",
     "text": [
      "session: 8VO1XT5P6XI695E4 job: d4f1bacbc3f1c254\n",
      " - the job is working remotely, please wait status=submitted job_id=d4f1bacb in 1 messages since 1124 seconds (12/24); in 0 SCW so far; nodes (1): 0 computed 0 restored\n",
      "... \u001b[32mISGRISpectraSum : main starting : inapplicable\u001b[0m\u001b[0m\n",
      "- waiting for remote response (since 2021-08-25 15:40:16), please wait for https://www.astro.unige.ch/mmoda/dispatch-data/run_analysis\n"
     ]
    },
    {
     "name": "stdout",
     "output_type": "stream",
     "text": [
      "Is complete  False\n",
      "2006-01-01T00:00:00.0 - 2006-12-31T23:59:59.0\n",
      "complete 1 / 3\n",
      "not done\n",
      "2004-01-01T00:00:00.0 - 2004-12-31T23:59:59.0\n"
     ]
    },
    {
     "name": "stderr",
     "output_type": "stream",
     "text": [
      "session: ARMSNPTWYJVFH4XZ job: 9b1997c75d18cd13\n",
      " \\ the job is working remotely, please wait status=submitted job_id=9b1997c7 in 51 messages since 1152 seconds (11/14); in 4 SCW so far; nodes (6): 5 computed 0 restored\n",
      "... \u001b[32mISGRISpectraSum : main starting : inapplicable\u001b[0m\u001b[0m\n",
      "- waiting for remote response (since 2021-08-25 15:40:27), please wait for https://www.astro.unige.ch/mmoda/dispatch-data/run_analysis\n"
     ]
    },
    {
     "name": "stdout",
     "output_type": "stream",
     "text": [
      "Is complete  False\n",
      "2005-01-01T00:00:00.0 - 2005-12-31T23:59:59.0\n"
     ]
    },
    {
     "name": "stderr",
     "output_type": "stream",
     "text": [
      "session: 8VO1XT5P6XI695E4 job: d4f1bacbc3f1c254\n",
      " \\ the job is working remotely, please wait status=submitted job_id=d4f1bacb in 1 messages since 1146 seconds (12/24); in 0 SCW so far; nodes (1): 0 computed 0 restored\n",
      "... \u001b[32mISGRISpectraSum : main starting : inapplicable\u001b[0m\u001b[0m\n",
      "- waiting for remote response (since 2021-08-25 15:40:38), please wait for https://www.astro.unige.ch/mmoda/dispatch-data/run_analysis\n"
     ]
    },
    {
     "name": "stdout",
     "output_type": "stream",
     "text": [
      "Is complete  False\n",
      "2006-01-01T00:00:00.0 - 2006-12-31T23:59:59.0\n",
      "complete 1 / 3\n",
      "not done\n",
      "2004-01-01T00:00:00.0 - 2004-12-31T23:59:59.0\n"
     ]
    },
    {
     "name": "stderr",
     "output_type": "stream",
     "text": [
      "session: ARMSNPTWYJVFH4XZ job: 9b1997c75d18cd13\n",
      " | the job is working remotely, please wait status=submitted job_id=9b1997c7 in 51 messages since 1174 seconds (11/14); in 4 SCW so far; nodes (6): 5 computed 0 restored\n",
      "... \u001b[32mISGRISpectraSum : main starting : inapplicable\u001b[0m\u001b[0m\n",
      "- waiting for remote response (since 2021-08-25 15:40:49), please wait for https://www.astro.unige.ch/mmoda/dispatch-data/run_analysis\n"
     ]
    },
    {
     "name": "stdout",
     "output_type": "stream",
     "text": [
      "Is complete  False\n",
      "2005-01-01T00:00:00.0 - 2005-12-31T23:59:59.0\n"
     ]
    },
    {
     "name": "stderr",
     "output_type": "stream",
     "text": [
      "session: 8VO1XT5P6XI695E4 job: d4f1bacbc3f1c254\n",
      " | the job is working remotely, please wait status=submitted job_id=d4f1bacb in 1 messages since 1168 seconds (12/24); in 0 SCW so far; nodes (1): 0 computed 0 restored\n",
      "... \u001b[32mISGRISpectraSum : main starting : inapplicable\u001b[0m\u001b[0m\n",
      "- waiting for remote response (since 2021-08-25 15:41:00), please wait for https://www.astro.unige.ch/mmoda/dispatch-data/run_analysis\n"
     ]
    },
    {
     "name": "stdout",
     "output_type": "stream",
     "text": [
      "Is complete  False\n",
      "2006-01-01T00:00:00.0 - 2006-12-31T23:59:59.0\n",
      "complete 1 / 3\n",
      "not done\n",
      "2004-01-01T00:00:00.0 - 2004-12-31T23:59:59.0\n"
     ]
    },
    {
     "name": "stderr",
     "output_type": "stream",
     "text": [
      "session: ARMSNPTWYJVFH4XZ job: 9b1997c75d18cd13\n",
      " / the job is working remotely, please wait status=submitted job_id=9b1997c7 in 52 messages since 1196 seconds (11/14); in 4 SCW so far; nodes (6): 5 computed 0 restored\n",
      "... \u001b[32mISGRISpectraSum : treating dependencies : inapplicable\u001b[0m\u001b[0m\n",
      "- waiting for remote response (since 2021-08-25 15:41:11), please wait for https://www.astro.unige.ch/mmoda/dispatch-data/run_analysis\n"
     ]
    },
    {
     "name": "stdout",
     "output_type": "stream",
     "text": [
      "Is complete  False\n",
      "2005-01-01T00:00:00.0 - 2005-12-31T23:59:59.0\n"
     ]
    },
    {
     "name": "stderr",
     "output_type": "stream",
     "text": [
      "session: 8VO1XT5P6XI695E4 job: d4f1bacbc3f1c254\n",
      " / the job is working remotely, please wait status=submitted job_id=d4f1bacb in 1 messages since 1190 seconds (12/24); in 0 SCW so far; nodes (1): 0 computed 0 restored\n",
      "... \u001b[32mISGRISpectraSum : main starting : inapplicable\u001b[0m\u001b[0m\n",
      "- waiting for remote response (since 2021-08-25 15:41:22), please wait for https://www.astro.unige.ch/mmoda/dispatch-data/run_analysis\n"
     ]
    },
    {
     "name": "stdout",
     "output_type": "stream",
     "text": [
      "Is complete  False\n",
      "2006-01-01T00:00:00.0 - 2006-12-31T23:59:59.0\n",
      "complete 1 / 3\n",
      "not done\n",
      "2004-01-01T00:00:00.0 - 2004-12-31T23:59:59.0\n"
     ]
    },
    {
     "name": "stderr",
     "output_type": "stream",
     "text": [
      "session: ARMSNPTWYJVFH4XZ job: 9b1997c75d18cd13\n",
      " - the job is working remotely, please wait status=submitted job_id=9b1997c7 in 52 messages since 1218 seconds (11/14); in 4 SCW so far; nodes (6): 5 computed 0 restored\n",
      "... \u001b[32mISGRISpectraSum : treating dependencies : inapplicable\u001b[0m\u001b[0m\n",
      "- waiting for remote response (since 2021-08-25 15:41:33), please wait for https://www.astro.unige.ch/mmoda/dispatch-data/run_analysis\n"
     ]
    },
    {
     "name": "stdout",
     "output_type": "stream",
     "text": [
      "Is complete  False\n",
      "2005-01-01T00:00:00.0 - 2005-12-31T23:59:59.0\n"
     ]
    },
    {
     "name": "stderr",
     "output_type": "stream",
     "text": [
      "session: 8VO1XT5P6XI695E4 job: d4f1bacbc3f1c254\n",
      " - the job is working remotely, please wait status=submitted job_id=d4f1bacb in 1 messages since 1212 seconds (12/24); in 0 SCW so far; nodes (1): 0 computed 0 restored\n",
      "... \u001b[32mISGRISpectraSum : main starting : inapplicable\u001b[0m\u001b[0m\n",
      "- waiting for remote response (since 2021-08-25 15:41:44), please wait for https://www.astro.unige.ch/mmoda/dispatch-data/run_analysis\n"
     ]
    },
    {
     "name": "stdout",
     "output_type": "stream",
     "text": [
      "Is complete  False\n",
      "2006-01-01T00:00:00.0 - 2006-12-31T23:59:59.0\n",
      "complete 1 / 3\n",
      "not done\n",
      "2004-01-01T00:00:00.0 - 2004-12-31T23:59:59.0\n"
     ]
    },
    {
     "name": "stderr",
     "output_type": "stream",
     "text": [
      "session: ARMSNPTWYJVFH4XZ job: 9b1997c75d18cd13\n",
      " \\ the job is working remotely, please wait status=submitted job_id=9b1997c7 in 52 messages since 1240 seconds (11/14); in 4 SCW so far; nodes (6): 5 computed 0 restored\n",
      "... \u001b[32mISGRISpectraSum : treating dependencies : inapplicable\u001b[0m\u001b[0m\n",
      "- waiting for remote response (since 2021-08-25 15:41:55), please wait for https://www.astro.unige.ch/mmoda/dispatch-data/run_analysis\n"
     ]
    },
    {
     "name": "stdout",
     "output_type": "stream",
     "text": [
      "Is complete  False\n",
      "2005-01-01T00:00:00.0 - 2005-12-31T23:59:59.0\n"
     ]
    },
    {
     "name": "stderr",
     "output_type": "stream",
     "text": [
      "session: 8VO1XT5P6XI695E4 job: d4f1bacbc3f1c254\n",
      " \\ the job is working remotely, please wait status=submitted job_id=d4f1bacb in 1 messages since 1235 seconds (12/24); in 0 SCW so far; nodes (1): 0 computed 0 restored\n",
      "... \u001b[32mISGRISpectraSum : main starting : inapplicable\u001b[0m\u001b[0m\n",
      "- waiting for remote response (since 2021-08-25 15:42:07), please wait for https://www.astro.unige.ch/mmoda/dispatch-data/run_analysis\n"
     ]
    },
    {
     "name": "stdout",
     "output_type": "stream",
     "text": [
      "Is complete  False\n",
      "2006-01-01T00:00:00.0 - 2006-12-31T23:59:59.0\n",
      "complete 1 / 3\n",
      "not done\n",
      "2004-01-01T00:00:00.0 - 2004-12-31T23:59:59.0\n"
     ]
    },
    {
     "name": "stderr",
     "output_type": "stream",
     "text": [
      "session: ARMSNPTWYJVFH4XZ job: 9b1997c75d18cd13\n",
      "\n",
      "... query status \u001b[35msubmitted\u001b[0m => \u001b[35mdone\u001b[0m\n",
      "\u001b[32mquery COMPLETED SUCCESSFULLY (state done)\u001b[0m\n"
     ]
    },
    {
     "name": "stdout",
     "output_type": "stream",
     "text": [
      "Is complete  True\n"
     ]
    },
    {
     "name": "stderr",
     "output_type": "stream",
     "text": [
      "- waiting for remote response (since 2021-08-25 15:42:37), please wait for https://www.astro.unige.ch/mmoda/dispatch-data/run_analysis\n",
      "session: ARMSNPTWYJVFH4XZ job: 9b1997c75d18cd13\n",
      "\n",
      "... query status \u001b[35mprepared\u001b[0m => \u001b[35mdone\u001b[0m\n",
      "... assigned job id: \u001b[33m9b1997c75d18cd13\u001b[0m\n",
      "\u001b[32mquery COMPLETED SUCCESSFULLY (state done)\u001b[0m\n",
      "non-waiting dispatcher: terminating\n",
      "- waiting for remote response (since 2021-08-25 15:43:05), please wait for https://www.astro.unige.ch/mmoda/dispatch-data/run_analysis\n"
     ]
    },
    {
     "name": "stdout",
     "output_type": "stream",
     "text": [
      "2005-01-01T00:00:00.0 - 2005-12-31T23:59:59.0\n"
     ]
    },
    {
     "name": "stderr",
     "output_type": "stream",
     "text": [
      "session: 8VO1XT5P6XI695E4 job: d4f1bacbc3f1c254\n",
      " | the job is working remotely, please wait status=submitted job_id=d4f1bacb in 1 messages since 1304 seconds (12/24); in 0 SCW so far; nodes (1): 0 computed 0 restored\n",
      "... \u001b[32mISGRISpectraSum : main starting : inapplicable\u001b[0m\u001b[0m\n",
      "- waiting for remote response (since 2021-08-25 15:43:16), please wait for https://www.astro.unige.ch/mmoda/dispatch-data/run_analysis\n"
     ]
    },
    {
     "name": "stdout",
     "output_type": "stream",
     "text": [
      "Is complete  False\n",
      "2006-01-01T00:00:00.0 - 2006-12-31T23:59:59.0\n",
      "complete 2 / 3\n",
      "not done\n",
      "2004-01-01T00:00:00.0 - 2004-12-31T23:59:59.0\n",
      "2005-01-01T00:00:00.0 - 2005-12-31T23:59:59.0\n"
     ]
    },
    {
     "name": "stderr",
     "output_type": "stream",
     "text": [
      "session: 8VO1XT5P6XI695E4 job: d4f1bacbc3f1c254\n",
      " / the job is working remotely, please wait status=submitted job_id=d4f1bacb in 1 messages since 1315 seconds (12/24); in 0 SCW so far; nodes (1): 0 computed 0 restored\n",
      "... \u001b[32mISGRISpectraSum : main starting : inapplicable\u001b[0m\u001b[0m\n",
      "- waiting for remote response (since 2021-08-25 15:43:27), please wait for https://www.astro.unige.ch/mmoda/dispatch-data/run_analysis\n"
     ]
    },
    {
     "name": "stdout",
     "output_type": "stream",
     "text": [
      "Is complete  False\n",
      "2006-01-01T00:00:00.0 - 2006-12-31T23:59:59.0\n",
      "complete 2 / 3\n",
      "not done\n",
      "2004-01-01T00:00:00.0 - 2004-12-31T23:59:59.0\n",
      "2005-01-01T00:00:00.0 - 2005-12-31T23:59:59.0\n"
     ]
    },
    {
     "name": "stderr",
     "output_type": "stream",
     "text": [
      "session: 8VO1XT5P6XI695E4 job: d4f1bacbc3f1c254\n",
      " - the job is working remotely, please wait status=submitted job_id=d4f1bacb in 1 messages since 1326 seconds (11/24); in 0 SCW so far; nodes (1): 0 computed 0 restored\n",
      "... \u001b[32mISGRISpectraSum : main starting : inapplicable\u001b[0m\u001b[0m\n",
      "- waiting for remote response (since 2021-08-25 15:43:37), please wait for https://www.astro.unige.ch/mmoda/dispatch-data/run_analysis\n"
     ]
    },
    {
     "name": "stdout",
     "output_type": "stream",
     "text": [
      "Is complete  False\n",
      "2006-01-01T00:00:00.0 - 2006-12-31T23:59:59.0\n",
      "complete 2 / 3\n",
      "not done\n",
      "2004-01-01T00:00:00.0 - 2004-12-31T23:59:59.0\n",
      "2005-01-01T00:00:00.0 - 2005-12-31T23:59:59.0\n"
     ]
    },
    {
     "name": "stderr",
     "output_type": "stream",
     "text": [
      "session: 8VO1XT5P6XI695E4 job: d4f1bacbc3f1c254\n",
      " \\ the job is working remotely, please wait status=submitted job_id=d4f1bacb in 1 messages since 1336 seconds (11/24); in 0 SCW so far; nodes (1): 0 computed 0 restored\n",
      "... \u001b[32mISGRISpectraSum : main starting : inapplicable\u001b[0m\u001b[0m\n",
      "- waiting for remote response (since 2021-08-25 15:43:48), please wait for https://www.astro.unige.ch/mmoda/dispatch-data/run_analysis\n"
     ]
    },
    {
     "name": "stdout",
     "output_type": "stream",
     "text": [
      "Is complete  False\n",
      "2006-01-01T00:00:00.0 - 2006-12-31T23:59:59.0\n",
      "complete 2 / 3\n",
      "not done\n",
      "2004-01-01T00:00:00.0 - 2004-12-31T23:59:59.0\n",
      "2005-01-01T00:00:00.0 - 2005-12-31T23:59:59.0\n"
     ]
    },
    {
     "name": "stderr",
     "output_type": "stream",
     "text": [
      "session: 8VO1XT5P6XI695E4 job: d4f1bacbc3f1c254\n",
      " | the job is working remotely, please wait status=submitted job_id=d4f1bacb in 1 messages since 1348 seconds (11/24); in 0 SCW so far; nodes (1): 0 computed 0 restored\n",
      "... \u001b[32mISGRISpectraSum : main starting : inapplicable\u001b[0m\u001b[0m\n",
      "- waiting for remote response (since 2021-08-25 15:44:00), please wait for https://www.astro.unige.ch/mmoda/dispatch-data/run_analysis\n"
     ]
    },
    {
     "name": "stdout",
     "output_type": "stream",
     "text": [
      "Is complete  False\n",
      "2006-01-01T00:00:00.0 - 2006-12-31T23:59:59.0\n",
      "complete 2 / 3\n",
      "not done\n",
      "2004-01-01T00:00:00.0 - 2004-12-31T23:59:59.0\n",
      "2005-01-01T00:00:00.0 - 2005-12-31T23:59:59.0\n"
     ]
    },
    {
     "name": "stderr",
     "output_type": "stream",
     "text": [
      "session: 8VO1XT5P6XI695E4 job: d4f1bacbc3f1c254\n",
      "\n",
      "... query status \u001b[35msubmitted\u001b[0m => \u001b[35mdone\u001b[0m\n",
      "\u001b[32mquery COMPLETED SUCCESSFULLY (state done)\u001b[0m\n"
     ]
    },
    {
     "name": "stdout",
     "output_type": "stream",
     "text": [
      "Is complete  True\n"
     ]
    },
    {
     "name": "stderr",
     "output_type": "stream",
     "text": [
      "- waiting for remote response (since 2021-08-25 15:44:37), please wait for https://www.astro.unige.ch/mmoda/dispatch-data/run_analysis\n",
      "session: 8VO1XT5P6XI695E4 job: d4f1bacbc3f1c254\n",
      "\n",
      "... query status \u001b[35mprepared\u001b[0m => \u001b[35mdone\u001b[0m\n",
      "... assigned job id: \u001b[33md4f1bacbc3f1c254\u001b[0m\n",
      "\u001b[32mquery COMPLETED SUCCESSFULLY (state done)\u001b[0m\n",
      "non-waiting dispatcher: terminating\n"
     ]
    },
    {
     "name": "stdout",
     "output_type": "stream",
     "text": [
      "2006-01-01T00:00:00.0 - 2006-12-31T23:59:59.0\n",
      "complete 3 / 3\n",
      "done!\n"
     ]
    }
   ],
   "source": [
    "spectrum_results=[]\n",
    "\n",
    "disp_by_ys = {}\n",
    "data_by_ys = {}\n",
    "\n",
    "par_dict = {\"RA\": \"83.63166809082031\",\n",
    "            \"DEC\": \"22.016284942626953\",\n",
    "            \"radius\": \"10\",\n",
    "            'instrument':'isgri',\n",
    "          'product': 'isgri_spectrum',\n",
    "          'osa_version' : osa_version,\n",
    "          'product_type': 'Real',\n",
    "            'max_pointings': nscw,\n",
    "          'selected_catalog' : json.dumps(api_cat)}\n",
    "\n",
    "# Should you need to access private data, just add this option\n",
    "#,\"integral_data_rights\": \"all-private\"}\n",
    "\n",
    "if token != '':\n",
    "    par_dict.update({'token': token})\n",
    "\n",
    "while True:\n",
    "    spectrum_results=[]\n",
    "\n",
    "    for year in range(start_year, end_year+1): \n",
    "        T1_utc='%4d-01-01T00:00:00.0'%year\n",
    "        T2_utc='%4d-12-31T23:59:59.0'%year # there are 30 days in June!\n",
    "        \n",
    "        print(T1_utc,'-',T2_utc)\n",
    "\n",
    "        par_dict.update({'T1': T1_utc,\n",
    "                        'T2': T2_utc})\n",
    "        \n",
    "        if year >= 2016:\n",
    "            osa_version='OSA11.1'\n",
    "        else:\n",
    "            osa_version='OSA10.2'\n",
    "\n",
    "        #Just renaiming for a general dictionary key\n",
    "        ys = year\n",
    "\n",
    "        # We start one dipatcher for each job,\n",
    "        # they will run in parallel until products are ready\n",
    "        if ys not in disp_by_ys:\n",
    "            disp_by_ys[ys] = oda_api.api.DispatcherAPI(url=disp.url, wait=False) #Note the flag wait=False\n",
    "\n",
    "        _disp = disp_by_ys[ys]\n",
    "\n",
    "        data = data_by_ys.get(ys, None)\n",
    "\n",
    "        if data is None and not _disp.is_failed:\n",
    "            \n",
    "            #We submit or we poll \n",
    "            if not _disp.is_submitted:\n",
    "                data = _disp.get_product(**par_dict)\n",
    "            else:\n",
    "                _disp.poll()\n",
    "\n",
    "            print(\"Is complete \", _disp.is_complete)\n",
    "            # We retrieve data\n",
    "            if not _disp.is_complete:\n",
    "                continue\n",
    "            else:\n",
    "                data = _disp.get_product(**par_dict)\n",
    "                data_by_ys[ys] = data                \n",
    "\n",
    "        spectrum_results.append(data)\n",
    "        \n",
    "    n_complete = len([ year for year, _disp in disp_by_ys.items() if _disp.is_complete ])\n",
    "    print(f\"complete {n_complete} / {len(disp_by_ys)}\")\n",
    "    if n_complete == len(disp_by_ys):\n",
    "        print(\"done!\")\n",
    "        break\n",
    "    print(\"not done\")\n"
   ]
  },
  {
   "cell_type": "markdown",
   "metadata": {},
   "source": [
    "- This part saves the spectra in fits files and updates some keywords"
   ]
  },
  {
   "cell_type": "code",
   "execution_count": 13,
   "metadata": {},
   "outputs": [
    {
     "name": "stdout",
     "output_type": "stream",
     "text": [
      "2006\n",
      "3 4 5\n",
      "2004\n",
      "3 4 5\n",
      "2005\n",
      "3 4 5\n"
     ]
    }
   ],
   "source": [
    "from astropy.io import fits\n",
    "# This part saves the spectra in fits files and updates some keywords\n",
    "for year, data in data_by_ys.items():\n",
    "    print(year)\n",
    "    for ID,s in enumerate(data._p_list):\n",
    "        if (s.meta_data['src_name']==source_name):\n",
    "            if(s.meta_data['product']=='isgri_spectrum'):\n",
    "                ID_spec=ID\n",
    "            if(s.meta_data['product']=='isgri_arf'):\n",
    "                ID_arf=ID\n",
    "            if(s.meta_data['product']=='isgri_rmf'):\n",
    "                ID_rmf=ID\n",
    "\n",
    "    print(ID_spec, ID_arf, ID_rmf)\n",
    "\n",
    "    spec=data._p_list[ID_spec].data_unit[1].data\n",
    "    arf=data._p_list[ID_arf].data_unit[1].data\n",
    "    rmf=data._p_list[ID_rmf].data_unit[2].data\n",
    "    expos=data._p_list[0].data_unit[1].header['EXPOSURE']\n",
    "    name=source_name+'_'+str(year)\n",
    "    specname=name+'_spectrum.fits'\n",
    "    arfname=name+'_arf.fits.gz'\n",
    "    rmfname=name+'_rmf.fits.gz'\n",
    "    data._p_list[ID_spec].write_fits_file(specname)\n",
    "    data._p_list[ID_arf].write_fits_file(arfname)\n",
    "    data._p_list[ID_rmf].write_fits_file(rmfname)\n",
    "    hdul = fits.open(specname, mode='update')\n",
    "    hdul[1].header.set('EXPOSURE', expos)\n",
    "    hdul[1].header['RESPFILE']=rmfname\n",
    "    hdul[1].header['ANCRFILE']=arfname\n",
    "    hdul[1].data['SYS_ERR']=systematic_fraction\n",
    "\n",
    "    hdul.close()"
   ]
  },
  {
   "cell_type": "markdown",
   "metadata": {},
   "source": [
    "## If xspec is available, we make a fit of each spectrum"
   ]
  },
  {
   "cell_type": "code",
   "execution_count": 14,
   "metadata": {},
   "outputs": [
    {
     "name": "stdout",
     "output_type": "stream",
     "text": [
      "No such file: .pha\n",
      "Default fit statistic is set to: Chi-Squared\n",
      "   This will apply to all current and newly loaded spectra.\n",
      " Model systematic error set to 0\n",
      "\n",
      "========================================================================\n",
      "Model cflux<1>*bknpower<2> Source No.: 1   Active/Off\n",
      "Model Model Component  Parameter  Unit     Value\n",
      " par  comp\n",
      "   1    1   cflux      Emin       keV      0.500000     frozen\n",
      "   2    1   cflux      Emax       keV      10.0000      frozen\n",
      "   3    1   cflux      lg10Flux   cgs      -12.0000     +/-  0.0          \n",
      "   4    2   bknpower   PhoIndx1            1.00000      +/-  0.0          \n",
      "   5    2   bknpower   BreakE     keV      5.00000      +/-  0.0          \n",
      "   6    2   bknpower   PhoIndx2            2.00000      +/-  0.0          \n",
      "   7    2   bknpower   norm                1.00000      +/-  0.0          \n",
      "________________________________________________________________________\n",
      "\n",
      "Warning: RMF CHANTYPE keyword (PHA) is not consistent with that from spectrum (PI)\n",
      "\n",
      "1 spectrum  in use\n",
      " \n",
      "Spectral Data File: Crab_2004_spectrum.fits  Spectrum 1\n",
      "Net count rate (cts/s) for Spectrum:1  -nan7\n",
      "ISGRI ignore: **-20.00,500.-**\n",
      "lg10Flux      +/- -nan     \n",
      " Assigned to Data Group 1 and Plot Group 1\n",
      "  Noticed Channels:  1-62\n",
      "  Telescope: INTEGRAL Instrument: IBIS  Channel Type: PI\n",
      "  Exposure Time: 1.417e+04 sec\n",
      " Using fit statistic: chi\n",
      " Using Response (RMF) File            Crab_2004_rmf.fits.gz for Source 1\n",
      " Using Auxiliary Response (ARF) File  Crab_2004_arf.fits.gz\n",
      "\n",
      "\n",
      "Fit statistic  : Chi-Squared                    -nan     using 62 bins.\n",
      "\n",
      "Test statistic : Chi-Squared                    -nan     using 62 bins.\n",
      " Current data and model not fit yet.\n",
      "\n",
      "ignore:     1 channels ignored from  source number 1\n",
      "Fit statistic  : Chi-Squared                    -nan     using 61 bins.\n",
      "\n",
      "Test statistic : Chi-Squared                    -nan     using 61 bins.\n",
      " Current data and model not fit yet.\n",
      "\n",
      "     2 channels (61-62) ignored in spectrum #     1\n",
      "\n",
      "Fit statistic  : Chi-Squared                    -nan     using 59 bins.\n",
      "\n",
      "Test statistic : Chi-Squared                    -nan     using 59 bins.\n",
      " Current data and model not fit yet.\n",
      "\n",
      "     8  -7.84 False False\n",
      "PhoIndx1 2.05channels (1-8) ignored in spectrum #     1\n",
      "     2 channels (61-62) ignored in spectrum #     1\n",
      "\n",
      "Fit statistic  : Chi-Squared                    -nan     using 52 bins.\n",
      "\n",
      "Test statistic : Chi-Squared                    -nan     using 52 bins.\n",
      " Current data and model not fit yet.\n",
      "\n",
      "\n",
      "Fit statistic  : Chi-Squared                    -nan     using 52 bins.\n",
      "\n",
      "Test statistic : Chi-Squared                    -nan     using 52 bins.\n",
      " Current data and model not fit yet.\n",
      "\n",
      "Fit statistic  : Chi-Squared                    -nan     using 52 bins.\n",
      "\n",
      "Test statistic : Chi-Squared                    -nan     using 52 bins.\n",
      " Current data and model not fit yet.\n",
      "\n",
      "Fit statistic  : Chi-Squared                16555.93     using 52 bins.\n",
      "\n",
      "Test statistic : Chi-Squared                16555.93     using 52 bins.\n",
      " Null hypothesis probability of 0.00e+00 with 47 degrees of freedom\n",
      " Current data and model not fit yet.\n",
      "\n",
      "Fit statistic  : Chi-Squared                16555.93     using 52 bins.\n",
      "\n",
      "Test statistic : Chi-Squared   False False\n",
      "PhoIndx2 2.21 False False\n",
      "              16555.93     using 52 bins.\n",
      " Null hypothesis probability of 0.00e+00 with 48 degrees of freedom\n",
      " Current data and model not fit yet.\n",
      "\n",
      "Fit statistic  : Chi-Squared                16555.93     using 52 bins.\n",
      "\n",
      "Test statistic : Chi-Squared                16555.93     using 52 bins.\n",
      " Null hypothesis probability of 0.00e+00 with 48 degrees of freedom\n",
      " Current data and model not fit yet.\n",
      "\n",
      "Fit statistic  : Chi-Squared                17974.89     using 52 bins.\n",
      "\n",
      "Test statistic : Chi-Squared                17974.89     using 52 bins.\n",
      " Null hypothesis probability of 0.00e+00 with 48 degrees of freedom\n",
      " Current data and model not fit yet.\n",
      "\n",
      "Fit statistic  : Chi-Squared                16822.10     using 52 bins.\n",
      "\n",
      "Test statistic : Chi-Squared                16822.10     using 52 bins.\n",
      " Null hypothesis probability of 0.00e+00 with 49 degrees of freedom\n",
      " Current data and model not fit yet.\n",
      " Warning: renorm - no variable model to allow  renormalization\n",
      "                                   Parameters\n",
      "Chi-Squared  |beta|/N    Lvl    3:lg10Flux    4:PhoIndx1    6:PhoIndx2\n",
      "1477.04      28686.4      -3      -7.80909       2.07607       2.20502\n",
      "470.617      10912.2      -4      -7.83960       2.05462       2.20588\n",
      "468.981      401.67       -5      -7.84091       2.05307       2.20614\n",
      "468.981      2.82831      -6      -7.84092       2.05306       2.20612\n",
      "========================================\n",
      " Variances and Principal Axes\n",
      "                 3        4        6  \n",
      " 1.0606E-06|  0.9996  -0.0256  -0.0088  \n",
      " 2.2274E-05| -0.0261  -0.9975  -0.0652  \n",
      " 1.1709E-03|  0.0071  -0.0654   0.9978  \n",
      "----------------------------------------\n",
      "\n",
      "====================================\n",
      "  Covariance Matrix\n",
      "        1           2           3   \n",
      "   1.134e-06   1.160e-08   8.294e-06\n",
      "   1.160e-08   2.718e-05  -7.501e-05\n",
      "   8.294e-06  -7.501e-05   1.166e-03\n",
      "------------------------------------\n",
      "\n",
      "========================================================================\n",
      "Model cflux<1>*bknpower<2> Source No.: 1   Active/On\n",
      "Model Model Component  Parameter  Unit     Value\n",
      " par  comp\n",
      "   1    1   cflux      Emin       keV      20.0000      frozen\n",
      "   2    1   cflux      Emax       keV      80.0000      frozen\n",
      "   3    1   cflux      lg10Flux   cgs      -7.84092     +/-  1.06473E-03  \n",
      "   4    2   bknpower   PhoIndx1            2.05306      +/-  5.21339E-03  \n",
      "   5    2   bknpower   BreakE     keV      100.000      frozen\n",
      "   6    2   bknpower   PhoIndx2            2.20612      +/-  3.41461E-02  \n",
      "   7    2   bknpower   norm                1.00000      frozen\n",
      "________________________________________________________________________\n",
      "\n",
      "\n",
      "Fit statistic  : Chi-Squared                  468.98     using 52 bins.\n",
      "\n",
      "Test statistic : Chi-Squared                  468.98     using 52 bins.\n",
      " Null hypothesis probability of 6.39e-70 with 49 degrees of freedom\n",
      "  parameter 5 is already frozen.\n",
      " Warning: renorm - no variable model to allow  renormalization\n",
      "                                   Parameters\n",
      "Chi-Squared  |beta|/N    "
     ]
    },
    {
     "name": "stderr",
     "output_type": "stream",
     "text": [
      "***Warning: POISSERR keyword is missing or of wrong format, assuming FALSE.\n",
      "PGPLOT /png: writing new file as pgplot.png_2\n"
     ]
    },
    {
     "data": {
      "image/png": "[encoded data removed]",
      "text/plain": [
       "<IPython.core.display.Image object>"
      ]
     },
     "metadata": {},
     "output_type": "display_data"
    },
    {
     "name": "stdout",
     "output_type": "stream",
     "text": [
      "Lvl    3:lg10Flux    4:PhoIndx1    6:PhoIndx2\n",
      "468.981      0.0156561     2      -7.84092       2.05306       2.20612\n",
      "========================================\n",
      " Variances and Principal Axes\n",
      "                 3        4        6  \n",
      " 1.0606E-06|  0.9996  -0.0256  -0.0088  \n",
      " 2.2275E-05| -0.0261  -0.9975  -0.0652  \n",
      " 1.1710E-03|  0.0071  -0.0654   0.9978  \n",
      "----------------------------------------\n",
      "\n",
      "====================================\n",
      "  Covariance Matrix\n",
      "        1           2           3   \n",
      "   1.134e-06   1.161e-08   8.294e-06\n",
      "   1.161e-08   2.718e-05  -7.502e-05\n",
      "   8.294e-06  -7.502e-05   1.166e-03\n",
      "------------------------------------\n",
      "\n",
      "========================================================================\n",
      "Model cflux<1>*bknpower<2> Source No.: 1   Active/On\n",
      "Model Model Component  Parameter  Unit     Value\n",
      " par  comp\n",
      "   1    1   cflux      Emin       keV      20.0000      frozen\n",
      "   2    1   cflux      Emax       keV      80.0000      frozen\n",
      "   3    1   cflux      lg10Flux   cgs      -7.84092     +/-  1.06475E-03  \n",
      "   4    2   bknpower   PhoIndx1            2.05306      +/-  5.21349E-03  \n",
      "   5    2   bknpower   BreakE     keV      100.000      frozen\n",
      "   6    2   bknpower   PhoIndx2            2.20612      +/-  3.41465E-02  \n",
      "   7    2   bknpower   norm                1.00000      frozen\n",
      "________________________________________________________________________\n",
      "\n",
      "\n",
      "Fit statistic  : Chi-Squared                  468.98     using 52 bins.\n",
      "\n",
      "Test statistic : Chi-Squared                  468.98     using 52 bins.\n",
      " Null hypothesis probability of 6.39e-70 with 49 degrees of freedom\n",
      "*** Parameter 1 is not a variable model parameter and no confidence range will be calculated.\n",
      "*** Parameter 2 is not a variable model parameter and no confidence range will be calculated.\n",
      "*** Parameter 5 is not a variable model parameter and no confidence range will be calculated.\n",
      "*** Parameter 7 is not a variable model parameter and no confidence range will be calculated.\n",
      " Parameter   Confidence Range (1)\n",
      "     3     -7.84199     -7.83985    (-0.00107183,0.00106662)\n",
      "     4      2.04788      2.05826    (-0.00518687,0.00519067)\n",
      "     6      2.17303      2.23968    (-0.0330909,0.0335625)\n",
      "7\n",
      "ISGRI ignore: **-20.00,500.-**\n",
      "\n",
      "========================================================================\n",
      "Model cflux<1>*bknpower<2> Source No.: 1   Active/Off\n",
      "lg10Flux -7.82 False FalseModel Model Component  Parameter  Unit     Value\n",
      " par  comp\n",
      "   1    1   cflux      Emin       keV      0.500000     frozen\n",
      "   2    1   cflux      Emax       keV      10.0000      frozen\n",
      "   3    1   cflux      lg10Flux   cgs      -12.0000     +/-  0.0          \n",
      "   4    2   bknpower   PhoIndx1            1.00000      +/-  0.0          \n",
      "   5    2   bknpower   BreakE     keV      5.00000      +/-  0.0          \n",
      "   6    2   bknpower   PhoIndx2            2.00000      +/-  0.0          \n",
      "   7    2   bknpower   norm                1.00000      +/-  0.0          \n",
      "________________________________________________________________________\n",
      "\n",
      "Warning: RMF CHANTYPE keyword (PHA) is not consistent with that from spectrum (PI)\n",
      "\n",
      "1 spectrum  in use\n",
      " \n",
      "Spectral Data File: Crab_2005_spectrum.fits  Spectrum 1\n",
      "Net count rate (cts/s) for Spectrum:1  -nan      +/- -nan     \n",
      " Assigned to Data Group 1 and Plot Group 1\n",
      "  Noticed Channels:  1-62\n",
      "  Telescope: INTEGRAL Instrument: IBIS  Channel Type: PI\n",
      "  Exposure Time\n",
      "PhoIndx1 2.19 False False\n",
      "PhoIndx2 2.30 False False\n",
      ": 2.46e+04 sec\n",
      " Using fit statistic: chi\n",
      " Using Response (RMF) File            Crab_2005_rmf.fits.gz for Source 1\n",
      " Using Auxiliary Response (ARF) File  Crab_2005_arf.fits.gz\n",
      "\n",
      "\n",
      "Fit statistic  : Chi-Squared                    -nan     using 62 bins.\n",
      "\n",
      "Test statistic : Chi-Squared                    -nan     using 62 bins.\n",
      " Current data and model not fit yet.\n",
      "\n",
      "ignore:     1 channels ignored from  source number 1\n",
      "Fit statistic  : Chi-Squared                    -nan     using 61 bins.\n",
      "\n",
      "Test statistic : Chi-Squared                    -nan     using 61 bins.\n",
      " Current data and model not fit yet.\n",
      "\n",
      "     2 channels (61-62) ignored in spectrum #     1\n",
      "\n",
      "Fit statistic  : Chi-Squared                    -nan     using 59 bins.\n",
      "\n",
      "Test statistic : Chi-Squared                    -nan     using 59 bins.\n",
      " Current data and model not fit yet.\n",
      "\n",
      "     8 channels (1-8) ignored in spectrum #     1\n",
      "     2 channels (61-62) ignored in spectrum #     1\n",
      "\n",
      "Fit statistic  : Chi-Squared                    -nan     using 52 bins.\n",
      "\n",
      "Test statistic : Chi-Squared                    -nan     using 52 bins.\n",
      " Current data and model not fit yet.\n",
      "\n",
      "\n",
      "Fit statistic  : Chi-Squared                    -nan     using 52 bins.\n",
      "\n",
      "Test statistic : Chi-Squared                    -nan     using 52 bins.\n",
      " Current data and model not fit yet.\n",
      "\n",
      "Fit statistic  : Chi-Squared                    -nan     using 52 bins.\n",
      "\n",
      "Test statistic : Chi-Squared                    -nan     using 52 bins.\n",
      " Current data and model not fit yet.\n",
      "\n",
      "Fit statistic  : Chi-Squared                21253.53     using 52 bins.\n",
      "\n",
      "Test statistic : Chi-Squared                21253.53     using 52 bins.\n",
      " Null hypothesis probability of 0.00e+00 with 47 degrees of freedom\n",
      " Current data and model not fit yet.\n",
      "\n",
      "Fit statistic  : Chi-Squared                21253.53     using 52 bins.\n",
      "\n",
      "Test statistic : Chi-Squared                21253.53     using 52 bins.\n",
      " Null hypothesis probability of 0.00e+00 with 48 degrees of freedom\n",
      " Current data and model not fit yet.\n",
      "\n",
      "Fit statistic  : Chi-Squared                21253.53     using 52 bins.\n",
      "\n",
      "Test statistic : Chi-Squared                21253.53     using 52 bins.\n",
      " Null hypothesis probability of 0.00e+00 with 48 degrees of freedom\n",
      " Current data and model not fit yet.\n",
      "\n",
      "Fit statistic  : Chi-Squared                23161.23     using 52 bins.\n",
      "\n",
      "Test statistic : Chi-Squared                23161.23     using 52 bins.\n",
      " Null hypothesis probability of 0.00e+00 with 48 degrees of freedom\n",
      " Current data and model not fit yet.\n",
      "\n",
      "Fit statistic  : Chi-Squared                21559.98     using 52 bins.\n",
      "\n",
      "Test statistic : Chi-Squared                21559.98     using 52 bins.\n",
      " Null hypothesis probability of 0.00e+00 with 49 degrees of freedom\n",
      " Current data and model not fit yet.\n",
      " Warning: renorm - no variable model to allow  renormalization\n",
      "                                   Parameters\n",
      "Chi-Squared  |beta|/N    Lvl    3:lg10Flux    4:PhoIndx1    6:PhoIndx2\n",
      "2705.08      32378.3      -3      -7.77888       2.27740       2.29464\n",
      "615.866    "
     ]
    },
    {
     "name": "stderr",
     "output_type": "stream",
     "text": [
      "***Warning: POISSERR keyword is missing or of wrong format, assuming FALSE.\n",
      "PGPLOT /png: writing new file as pgplot.png_2\n"
     ]
    },
    {
     "data": {
      "image/png": "[encoded data removed]",
      "text/plain": [
       "<IPython.core.display.Image object>"
      ]
     },
     "metadata": {},
     "output_type": "display_data"
    },
    {
     "name": "stdout",
     "output_type": "stream",
     "text": [
      "  15295.9      -4      -7.81860       2.19399       2.30009\n",
      "609.459      699.845      -5      -7.82089       2.18721       2.30344\n",
      "609.459      6.35908      -6      -7.82091       2.18722       2.30342\n",
      "========================================\n",
      " Variances and Principal Axes\n",
      "                 3        4        6  \n",
      " 9.3715E-07|  0.9980  -0.0615  -0.0122  \n",
      " 1.8196E-05| -0.0622  -0.9950  -0.0780  \n",
      " 7.9412E-04|  0.0073  -0.0786   0.9969  \n",
      "----------------------------------------\n",
      "\n",
      "====================================\n",
      "  Covariance Matrix\n",
      "        1           2           3   \n",
      "   1.046e-06   6.133e-07   5.859e-06\n",
      "   6.133e-07   2.292e-05  -6.079e-05\n",
      "   5.859e-06  -6.079e-05   7.893e-04\n",
      "------------------------------------\n",
      "\n",
      "========================================================================\n",
      "Model cflux<1>*bknpower<2> Source No.: 1   Active/On\n",
      "Model Model Component  Parameter  Unit     Value\n",
      " par  comp\n",
      "   1    1   cflux      Emin       keV      20.0000      frozen\n",
      "   2    1   cflux      Emax       keV      80.0000      frozen\n",
      "   3    1   cflux      lg10Flux   cgs      -7.82091     +/-  1.02288E-03  \n",
      "   4    2   bknpower   PhoIndx1            2.18722      +/-  4.78760E-03  \n",
      "   5    2   bknpower   BreakE     keV      100.000      frozen\n",
      "   6    2   bknpower   PhoIndx2            2.30342      +/-  2.80942E-02  \n",
      "   7    2   bknpower   norm                1.00000      frozen\n",
      "________________________________________________________________________\n",
      "\n",
      "\n",
      "Fit statistic  : Chi-Squared                  609.46     using 52 bins.\n",
      "\n",
      "Test statistic : Chi-Squared                  609.46     using 52 bins.\n",
      " Null hypothesis probability of 9.21e-98 with 49 degrees of freedom\n",
      "  parameter 5 is already frozen.\n",
      " Warning: renorm - no variable model to allow  renormalization\n",
      "                                   Parameters\n",
      "Chi-Squared  |beta|/N    Lvl    3:lg10Flux    4:PhoIndx1    6:PhoIndx2\n",
      "609.459      0.0331643    -3      -7.82091       2.18722       2.30342\n",
      "========================================\n",
      " Variances and Principal Axes\n",
      "                 3        4        6  \n",
      " 9.3723E-07|  0.9980  -0.0615  -0.0122  \n",
      " 1.8198E-05| -0.0622  -0.9950  -0.0780  \n",
      " 7.9418E-04|  0.0073  -0.0786   0.9969  \n",
      "----------------------------------------\n",
      "\n",
      "====================================\n",
      "  Covariance Matrix\n",
      "        1           2           3   \n",
      "   1.046e-06   6.133e-07   5.860e-06\n",
      "   6.133e-07   2.292e-05  -6.079e-05\n",
      "   5.860e-06  -6.079e-05   7.893e-04\n",
      "------------------------------------\n",
      "\n",
      "========================================================================\n",
      "Model cflux<1>*bknpower<2> Source No.: 1   Active/On\n",
      "Model Model Component  Parameter  Unit     Value\n",
      " par  comp\n",
      "   1    1   cflux      Emin       keV      20.0000      frozen\n",
      "   2    1   cflux      Emax       keV      80.0000      frozen\n",
      "   3    1   cflux      lg10Flux   cgs      -7.82091     +/-  1.02292E-03  \n",
      "   4    2   bknpower   PhoIndx1            2.18722      +/-  4.78780E-03  \n",
      "   5    2   bknpower   BreakE     keV      100.000      frozen\n",
      "   6    2   bknpower   PhoIndx2            2.30342      +/-  2.80953E-02  \n",
      "   7    2   bknpower   norm                1.00000      frozen\n",
      "________________________________________________________________________\n",
      "\n",
      "\n",
      "Fit statistic  : Chi-Squared                  609.46     using 52 bins.\n",
      "\n",
      "Test statistic : Chi-Squared                  609.46     using 52 bins.\n",
      " Null hypothesis probability of 9.21e-98 with 49 degrees of freedom\n",
      "*** Parameter 1 is not a variable model parameter and no confidence range will be calculated.\n",
      "*** Parameter 2 is not a variable model parameter and no confidence range will be calculated.\n",
      "*** Parameter 5 is not a variable model parameter and no confidence range will be calculated.\n",
      "*** Parameter 7 is not a variable model parameter and no confidence range will be calculated.\n",
      " Parameter   Confidence Range (1)\n",
      "     3     -7.82194     -7.81988    (-0.00103137,0.00102658)\n",
      "     4      2.18244        2.192    (-0.00478224,0.00478346)\n",
      "     6      2.27513      2.33203    (-0.02827\n",
      "ISGRI ignore: **-20.00,500.-**\n",
      "907,0.028606)\n",
      "\n",
      "========================================================================\n",
      "Model cflux<1>*bknpower<2> Source No.: 1   Active/Off\n",
      "Model Model Component  Parameter  Unit     Value\n",
      " par  comp\n",
      "   1    1   cflux      Emin       keV      0.500000     frozen\n",
      "   2    1   cflux      Emax       keV      10.0000      frozen\n",
      "   3    1   cflux      lg10Flux   cgs      -12.0000     +/-  0.0          \n",
      "   4    2   bknpower   PhoIndx1            1.00000      +/-  0.0          \n",
      "   5    2   bknpower   BreakE     keV      5.00000      +/-  0.0          \n",
      "   6    2   bknpower   PhoIndx2            2.00000      +/-  0.0          \n",
      "   7    2   bknpower   norm                1.00000      +/-  0.0          \n",
      "________________________________________________________________________\n",
      "\n",
      "Warning: RMF CHANTYPE keyword (PHA) is not consistent with that from spectrum (PI)\n",
      "\n",
      "1 spectrum  in use\n",
      " \n",
      "Spectral Data File: Crab_2006_spectrum.fits  Spectrum 1\n",
      "Net count rate (cts/s) for Spectrum:1  -nan      +/- -nan     \n",
      " Assigned to Data Group 1 and Plot Group 1\n",
      "  Noticed Channels:  1-62\n",
      "  Telescope: INTEGRAL Instrument: IBIS  Channel Type: PI\n",
      "  Exposure Time: 1.347e+04 sec\n",
      " Using fit statistic: chi\n",
      " Using Response (RMF) File            Crab_2006_rmf.fits.gz for Source 1\n",
      " Using Auxiliary Response (ARF) File  Crab_2006_arf.fits.gz\n",
      "\n",
      "\n",
      "Fit statistic  : Chi-Squared                    -nan     using 62 bins.\n",
      "\n",
      "Test statistic : Chi-Squared                    -nan     using 62 bins.\n",
      " Current data and model not fit yet.\n",
      "\n",
      "ignore:     1 channels ignored from  source number 1\n",
      "Fit statistic  : Chi-Squared                    -nan     using 61 bins.\n",
      "\n",
      "Test statistic : Chi-Squared                    -nan     using 61 bins.\n",
      " Current data and model not fit yet.\n",
      "\n",
      "     2 channels (61-62) ignored in spectrum #     1\n",
      "\n",
      "Fit statistic  : Chi-Squared                    -nan     using 59 bins.\n",
      "\n",
      "Test statistic : Chi-Squared                    -nan     using 59 bins.\n",
      " Current data and model not fit yet.\n",
      "\n",
      "     8 channels (1-8) ignolg10Flux red in spectrum #     1\n",
      "     2 channels (61-62) ignored in spectrum #     1\n",
      "\n",
      "Fit statistic  : Chi-Squared                    -nan     using 52 bins.\n",
      "\n",
      "Test statistic : Chi-Squared                    -nan     using 52 bins.\n",
      " Current data and model not fit yet.\n",
      "\n",
      "\n",
      "Fit statistic  : Chi-Squared                    -nan     using 52 bins.\n",
      "\n",
      "Test statistic : Chi-Squared                    -nan     using 52 bins.\n",
      " Current data and model not fit yet.\n",
      "\n",
      "Fit statistic  : Chi-Squared                    -nan     using 52 bins.\n",
      "\n",
      "Test statistic : Chi-Squared                    -nan     using 52 bins.\n",
      " Current data and model not fit yet.\n",
      "\n",
      "Fit statistic  : Chi-Squared                15856.23     using 52 bins.\n",
      "\n",
      "Test statistic : Chi-Squared                15856.23     using 52 bins.\n",
      " Null hypothesis probability of 0.00e+00 with 47 degrees of freedom\n",
      " Current data and model not fit yet.\n",
      "\n",
      "Fit statistic  : Chi-Squared                15856.23     using 52 bins.\n",
      "\n",
      "Test statistic : Chi-Squared                15856-7.83 False False\n",
      "PhoIndx1 2.03 False False\n",
      "PhoIndx2 2.17 False False\n",
      ".23     using 52 bins.\n",
      " Null hypothesis probability of 0.00e+00 with 48 degrees of freedom\n",
      " Current data and model not fit yet.\n",
      "\n",
      "Fit statistic  : Chi-Squared                15856.23     using 52 bins.\n",
      "\n",
      "Test statistic : Chi-Squared                15856.23     using 52 bins.\n",
      " Null hypothesis probability of 0.00e+00 with 48 degrees of freedom\n",
      " Current data and model not fit yet.\n",
      "\n",
      "Fit statistic  : Chi-Squared                16668.11     using 52 bins.\n",
      "\n",
      "Test statistic : Chi-Squared                16668.11     using 52 bins.\n",
      " Null hypothesis probability of 0.00e+00 with 48 degrees of freedom\n",
      " Current data and model not fit yet.\n",
      "\n",
      "Fit statistic  : Chi-Squared                16079.25     using 52 bins.\n",
      "\n",
      "Test statistic : Chi-Squared                16079.25     using 52 bins.\n",
      " Null hypothesis probability of 0.00e+00 with 49 degrees of freedom\n",
      " Current data and model not fit yet.\n",
      " Warning: renorm - no variable model to allow  renormalization\n",
      "                                   Parameters\n",
      "Chi-Squared  |beta|/N    Lvl    3:lg10Flux    4:PhoIndx1    6:PhoIndx2\n",
      "1576.78      25306.1      -3      -7.79420       2.03996       2.15347\n",
      "422.959      11025        -4      -7.82894       2.02783       2.16814\n",
      "420.676      450.491      -5      -7.83061       2.02688       2.16949\n",
      "420.676      3.28005      -6      -7.83062       2.02688       2.16951\n",
      "========================================\n",
      " Variances and Principal Axes\n",
      "                 3        4        6  \n",
      " 1.2439E-06|  0.9999  -0.0071  -0.0077  \n",
      " 2.7493E-05|  0.0076   0.9980   0.0625  \n",
      " 1.6287E-03| -0.0072   0.0626  -0.9980  \n",
      "----------------------------------------\n",
      "\n",
      "====================================\n",
      "  Covariance Matrix\n",
      "        1           2           3   \n",
      "   1.331e-06  -5.382e-07   1.178e-05\n",
      "  -5.382e-07   3.377e-05  -1.000e-04\n",
      "   1.178e-05  -1.000e-04   1.622e-03\n",
      "------------------------------------\n",
      "\n",
      "========================================================================\n",
      "Model cflux<1>*bknpower<2> Source No.: 1   Active/On\n",
      "Model Model Component  Parameter  Unit     Value\n",
      " par  comp\n",
      "   1    1   cflux      Emin       keV      20.0000      frozen\n",
      "   2    1   cflux      Emax       keV      80.0000      frozen\n",
      "   3    1   cflux      lg10Flux   cgs      -7.83062     +/-  1.15360E-03  \n",
      "   4    2   bknpower   PhoIndx1            2.02688      +/-  5.81079E-03  \n",
      "   5    2   bknpower   BreakE     keV      100.000      frozen\n",
      "   6    2   bknpower   PhoIndx2            2.16951      +/-  4.02780E-02  \n",
      "   7    2   bknpower   norm                1.00000      frozen\n",
      "________________________________________________________________________\n",
      "\n",
      "\n",
      "Fit statistic  : Chi-Squared                  420.68     using 52 bins.\n",
      "\n",
      "Test statistic : Chi-Squared                  420.68     using 52 bins.\n",
      " Null hypothesis probability of 1.55e-60 with 49 degrees of freedom\n",
      "  parameter 5 is already frozen.\n",
      " Warning: renorm - no variable model to allow  renormalization\n",
      "                                   Parameters\n",
      "Chi-Squared  |beta|/N    Lvl    3:lg10Flux    4:PhoIndx1    6:PhoIndx2\n",
      "420.676      0.0175116    -3      -7.83062       2.02688       2.16951\n",
      "========================================\n",
      " Variances and Principal Axes\n",
      "                 3        4        6  \n",
      " 1.2440E-06|  0.9999  -0.0071  -0.0077  \n",
      " 2.7495E-05|  0.0076   0.9980   0.0625  \n",
      " 1.6288E-03| -0.0072   0.0626  -0.9980  \n",
      "----------------------------------------\n",
      "\n",
      "====================================\n",
      "  Covariance Matrix\n",
      "        1           2           3   \n",
      "   1.331e-06  -5.382e-07   1.178e-05\n",
      "  -5.382e-07   3.377e-05  -1.000e-04\n",
      "   1.178e-05  -1.000e-04   1.622e-03\n",
      "------------------------------------\n",
      "\n",
      "========================================================================\n",
      "Model cflux<1>*bknpower<2> Source No.: 1   Active/On\n",
      "Model Model Component  Parameter  Unit     Value\n",
      " par  comp\n",
      "   1    1   cflux      Emin       keV      20.0000      frozen\n",
      "   2    1   cflux      Emax       keV      80.0000      frozen\n"
     ]
    },
    {
     "name": "stdout",
     "output_type": "stream",
     "text": [
      "   3    1   cflux      lg10Flux   cgs      -7.83062     +/-  1.15363E-03  \n",
      "   4    2   bknpower   PhoIndx1            2.02688      +/-  5.81095E-03  \n",
      "   5    2   bknpower   BreakE     keV      100.000      frozen\n",
      "   6    2   bknpower   PhoIndx2            2.16951      +/-  4.02796E-02  \n",
      "   7    2   bknpower   norm                1.00000      frozen\n",
      "________________________________________________________________________\n",
      "\n",
      "\n",
      "Fit statistic  : Chi-Squared                  420.68     using 52 bins.\n",
      "\n",
      "Test statistic : Chi-Squared                  420.68     using 52 bins.\n",
      " Null hypothesis probability of 1.55e-60 with 49 degrees of freedom\n",
      "*** Parameter 1 is not a variable model parameter and no confidence range will be calculated.\n",
      "*** Parameter 2 is not a variable model parameter and no confidence range will be calculated.\n",
      "*** Parameter 5 is not a variable model parameter and no confidence range will be calculated.\n",
      "*** Parameter 7 is not a variable model parameter and no confidence range will be calculated.\n",
      " Parameter   Confidence Range (1)\n",
      "     3     -7.83178    "
     ]
    },
    {
     "name": "stderr",
     "output_type": "stream",
     "text": [
      "***Warning: POISSERR keyword is missing or of wrong format, assuming FALSE.\n",
      "PGPLOT /png: writing new file as pgplot.png_2\n"
     ]
    },
    {
     "data": {
      "image/png": "[encoded data removed]",
      "text/plain": [
       "<IPython.core.display.Image object>"
      ]
     },
     "metadata": {},
     "output_type": "display_data"
    },
    {
     "name": "stdout",
     "output_type": "stream",
     "text": [
      " -7.82946    (-0.00116403,0.00115807)\n",
      "     4      2.02109      2.03269    (-0.00579708,0.00580121)\n",
      "     6      2.12898      2.21074    (-0.0405342,0.0412269)\n"
     ]
    }
   ],
   "source": [
    "try:\n",
    "\n",
    "    import xspec\n",
    "    import shutil\n",
    "    from IPython.display import Image\n",
    "    from IPython.display import display \n",
    "\n",
    "    xspec.Fit.statMethod = \"chi\"\n",
    "\n",
    "    #init dictionaries\n",
    "    fit_by_lt={}\n",
    "\n",
    "    model='cflux*bknpow'\n",
    "\n",
    "    xspec.AllModels.systematic=0.0\n",
    "    low_energies=[20]\n",
    "    freeze_pow_ebreak=1\n",
    "\n",
    "    for year in range(start_year,end_year+1):\n",
    "\n",
    "        for c_emin in low_energies: #np.linspace(17,40,5):    \n",
    "            xspec.AllData.clear()\n",
    "\n",
    "            m1=xspec.Model(model)\n",
    "\n",
    "            specname=source_name+'_'+str(year)+'_spectrum.fits'\n",
    "\n",
    "            xspec.AllData(specname)\n",
    "\n",
    "            s = xspec.AllData(1)\n",
    "\n",
    "            isgri = xspec.AllModels(1)\n",
    "\n",
    "            print(m1.nParameters)\n",
    "\n",
    "            xspec.AllData.ignore('bad')\n",
    "            xspec.AllData.ignore('500.0-**')\n",
    "\n",
    "            ig=\"**-%.2f,500.-**\"%c_emin\n",
    "            print(\"ISGRI ignore: \"+ ig)\n",
    "            s.ignore(ig)\n",
    "\n",
    "            #Key for output\n",
    "            lt_key='%d_%.10lg'%(year, c_emin)\n",
    "\n",
    "            isgri.cflux.lg10Flux=-8            \n",
    "\n",
    "            isgri.cflux.Emin=20.\n",
    "            isgri.cflux.Emax=80.\n",
    "\n",
    "            isgri.bknpower.norm = \"1,-1\"\n",
    "            isgri.bknpower.PhoIndx1 = \"2.0,.01,1.,1.,3.,3.\"\n",
    "            isgri.bknpower.PhoIndx2 = \"2.2,.01,1.,1.,3.,3.\"\n",
    "            isgri.bknpower.BreakE = \"100,-1,20,20,300,300\"\n",
    "\n",
    "            xspec.Fit.perform()\n",
    "            isgri.bknpower.BreakE.frozen = freeze_pow_ebreak  > 0\n",
    "\n",
    "            xspec.Fit.perform()\n",
    "\n",
    "            max_chi=np.ceil(xspec.Fit.statistic / xspec.Fit.dof)\n",
    "\n",
    "            xspec.Fit.error(\"1.0 max %.1f 1-%d\"%(max_chi,m1.nParameters))\n",
    "\n",
    "\n",
    "            fit_by_lt[lt_key]=dict(\n",
    "                    emin=c_emin,\n",
    "                    year=year,\n",
    "                    chi2_red=xspec.Fit.statistic/xspec.Fit.dof,                                \n",
    "                    chi2=xspec.Fit.statistic,\n",
    "                    ndof=xspec.Fit.dof,                                    \n",
    "                )\n",
    "\n",
    "            for i in range(1,m1.nParameters+1): \n",
    "                if (not isgri(i).frozen) and (not bool(isgri(i).link)):\n",
    "                    #use the name plus position because there could be parameters with same name from multiple \n",
    "                    #model components (e.g., several gaussians)\n",
    "                    print(isgri(i).name, \"%.2f\"%(isgri(i).values[0]), isgri(i).frozen,bool(isgri(i).link) )\n",
    "                    fit_by_lt[lt_key][isgri(i).name+\"_%02d\"%(i)]=[ isgri(i).values[0], isgri(i).error[0], isgri(i).error[1] ]\n",
    "\n",
    "\n",
    "\n",
    "            xspec.Plot.device=\"/png\"\n",
    "            #xspec.Plot.addCommand(\"setplot en\")\n",
    "            xspec.Plot.xAxis=\"keV\"\n",
    "            xspec.Plot(\"ldata del\")\n",
    "            xspec.Plot.device=\"/png\"\n",
    "\n",
    "            fn=\"fit_%s.png\"%lt_key\n",
    "            fit_by_lt[lt_key]['plot_fname'] = fn\n",
    "\n",
    "            shutil.move(\"pgplot.png_2\", fn)\n",
    "\n",
    "            _=display(Image(filename=fn,format=\"png\"))\n",
    "\n",
    "except ImportError:\n",
    "    print(\"no problem!\")"
   ]
  }
 ],
 "metadata": {
  "celltoolbar": "Tags",
  "kernelspec": {
   "display_name": "Python 3 (ipykernel)",
   "language": "python",
   "name": "python3"
  },
  "language_info": {
   "codemirror_mode": {
    "name": "ipython",
    "version": 3
   },
   "file_extension": ".py",
   "mimetype": "text/x-python",
   "name": "python",
   "nbconvert_exporter": "python",
   "pygments_lexer": "ipython3",
   "version": "3.8.10"
  }
 },
 "nbformat": 4,
 "nbformat_minor": 2
}
