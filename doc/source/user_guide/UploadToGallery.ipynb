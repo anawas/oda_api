{
 "cells": [
  {
   "cell_type": "markdown",
   "metadata": {},
   "source": [
    "# Quick Start (oda api v1.1.26)"
   ]
  },
  {
   "cell_type": "code",
   "execution_count": 1,
   "metadata": {},
   "outputs": [
    {
     "name": "stderr",
     "output_type": "stream",
     "text": [
      "/usr/lib/python3/dist-packages/secretstorage/dhcrypto.py:15: CryptographyDeprecationWarning: int_from_bytes is deprecated, use int.from_bytes instead\n",
      "  from cryptography.utils import int_from_bytes\n",
      "/usr/lib/python3/dist-packages/secretstorage/util.py:19: CryptographyDeprecationWarning: int_from_bytes is deprecated, use int.from_bytes instead\n",
      "  from cryptography.utils import int_from_bytes\n"
     ]
    }
   ],
   "source": [
    "from oda_api.api import DispatcherAPI\n",
    "from oda_api.plot_tools import OdaImage,OdaLightCurve\n",
    "from oda_api.data_products import BinaryData\n",
    "import os\n",
    "\n",
    "from oda_api.token import discover_token\n",
    "\n",
    "import logging\n",
    "\n",
    "logging.getLogger().setLevel(logging.DEBUG)\n",
    "logging.getLogger('oda_api').addHandler(logging.StreamHandler())"
   ]
  },
  {
   "cell_type": "markdown",
   "metadata": {},
   "source": [
    "## Connection to the dispatcher "
   ]
  },
  {
   "cell_type": "code",
   "execution_count": 2,
   "metadata": {},
   "outputs": [
    {
     "name": "stderr",
     "output_type": "stream",
     "text": [
      "\u001b[37m NO custom formatter for instrument mock \u001b[0m\n"
     ]
    }
   ],
   "source": [
    "#TODO: change to prod\n",
    "disp=DispatcherAPI(url='https://frontend-staging.obsuks1.unige.ch/mmoda/dispatch-data',instrument='mock')\n",
    "# disp=DispatcherAPI(url='http://0.0.0.0:8001',instrument='mock')\n"
   ]
  },
  {
   "cell_type": "code",
   "execution_count": 3,
   "metadata": {
    "scrolled": false
   },
   "outputs": [
    {
     "name": "stderr",
     "output_type": "stream",
     "text": [
      "dig_list unable to literal_eval isgri; problem malformed node or string: <_ast.Name object at 0x7f6b61ebd790>\n",
      "dig_list unable to literal_eval jemx; problem malformed node or string: <_ast.Name object at 0x7f6b61ebd820>\n",
      "dig_list unable to literal_eval polar; problem malformed node or string: <_ast.Name object at 0x7f6b62347a30>\n",
      "dig_list unable to literal_eval antares; problem malformed node or string: <_ast.Name object at 0x7f6b623474f0>\n",
      "dig_list unable to literal_eval gw; problem malformed node or string: <_ast.Name object at 0x7f6b62337e20>\n",
      "dig_list unable to literal_eval spi_acs; problem malformed node or string: <_ast.Name object at 0x7f6b62347640>\n",
      "dig_list unable to literal_eval legacysurvey; problem malformed node or string: <_ast.Name object at 0x7f6b623226a0>\n"
     ]
    },
    {
     "name": "stdout",
     "output_type": "stream",
     "text": [
      "isgri\n",
      "jemx\n",
      "polar\n",
      "antares\n",
      "gw\n",
      "spi_acs\n",
      "legacysurvey\n"
     ]
    }
   ],
   "source": [
    "instr_list=disp.get_instruments_list()\n",
    "for i in instr_list:\n",
    "    print (i)"
   ]
  },
  {
   "cell_type": "markdown",
   "metadata": {},
   "source": [
    "### get the description of the instrument"
   ]
  },
  {
   "cell_type": "code",
   "execution_count": 4,
   "metadata": {},
   "outputs": [
    {
     "name": "stderr",
     "output_type": "stream",
     "text": [
      "unable to dig list, instance not a dict by <class 'list'>; object was [{'query_name': 'src_query'}, {'name': 'src_name', 'units': 'str', 'value': '1E 1740.7-2942'}, {'name': 'RA', 'units': 'deg', 'value': 265.97845833}, {'name': 'DEC', 'units': 'deg', 'value': -29.74516667}, {'name': 'T1', 'units': 'isot', 'value': '2017-03-06T13:26:48.000'}, {'name': 'T2', 'units': 'isot', 'value': '2017-03-06T15:32:27.000'}, {'name': 'token', 'units': 'str', 'value': None}]\n",
      "\n",
      "--------------\n",
      "query_name: src_query\n",
      " name: src_name,  value: 1E 1740.7-2942,  units: str, \n",
      " name: RA,  value: 265.97845833,  units: deg, \n",
      " name: DEC,  value: -29.74516667,  units: deg, \n",
      " name: T1,  value: 2017-03-06T13:26:48.000,  units: isot, \n",
      " name: T2,  value: 2017-03-06T15:32:27.000,  units: isot, \n",
      " name: token,  value: None,  units: str, \n",
      "unable to dig list, instance not a dict by <class 'list'>; object was [{'query_name': 'jemx_parameters'}, {'name': 'user_catalog', 'units': None, 'value': None}, {'name': 'scw_list', 'units': None, 'value': []}, {'name': 'selected_catalog', 'units': None, 'value': None}, {'name': 'radius', 'units': 'deg', 'value': 4.0}, {'name': 'max_pointings', 'units': None, 'value': 50}, {'name': 'osa_version', 'units': 'str', 'value': 'OSA11.1'}, {'name': 'integral_data_rights', 'units': 'str', 'value': 'public'}, {'name': 'jemx_num', 'units': None, 'value': 2}, {'name': 'E1_keV', 'units': 'keV', 'value': 3.0}, {'name': 'E2_keV', 'units': 'keV', 'value': 20.0}]\n",
      "\n",
      "--------------\n",
      "query_name: jemx_parameters\n",
      " name: user_catalog,  value: None,  units: None, \n",
      " name: scw_list,  value: [],  units: None, \n",
      " name: selected_catalog,  value: None,  units: None, \n",
      " name: radius,  value: 4.0,  units: deg, \n",
      " name: max_pointings,  value: 50,  units: None, \n",
      " name: osa_version,  value: OSA11.1,  units: str, \n",
      " name: integral_data_rights,  value: public,  units: str, \n",
      " name: jemx_num,  value: 2,  units: None, \n",
      " name: E1_keV,  value: 3.0,  units: keV, \n",
      " name: E2_keV,  value: 20.0,  units: keV, \n",
      "unable to dig list, instance not a dict by <class 'list'>; object was [{'query_name': 'jemx_image_query'}, {'product_name': 'jemx_image'}, {'name': 'detection_threshold', 'units': 'sigma', 'value': 7.0}, {'name': 'image_scale_min', 'units': None, 'value': None}, {'name': 'image_scale_max', 'units': None, 'value': None}]\n",
      "\n",
      "--------------\n",
      "query_name: jemx_image_query\n",
      " product_name: jemx_image\n",
      " name: detection_threshold,  value: 7.0,  units: sigma, \n",
      " name: image_scale_min,  value: None,  units: None, \n",
      " name: image_scale_max,  value: None,  units: None, \n",
      "unable to dig list, instance not a dict by <class 'list'>; object was [{'query_name': 'jemx_spectrum_query'}, {'product_name': 'jemx_spectrum'}]\n",
      "\n",
      "--------------\n",
      "query_name: jemx_spectrum_query\n",
      " product_name: jemx_spectrum\n",
      "unable to dig list, instance not a dict by <class 'list'>; object was [{'query_name': 'spectral_fit_query'}, {'product_name': 'spectral_fit'}, {'name': 'xspec_model', 'units': 'str', 'value': 'powerlaw'}, {'name': 'ph_file_name', 'units': 'str', 'value': ''}, {'name': 'arf_file_name', 'units': 'str', 'value': ''}, {'name': 'rmf_file_name', 'units': 'str', 'value': ''}]\n",
      "\n",
      "--------------\n",
      "query_name: spectral_fit_query\n",
      " product_name: spectral_fit\n",
      " name: xspec_model,  value: powerlaw,  units: str, \n",
      " name: ph_file_name,  value: ,  units: str, \n",
      " name: arf_file_name,  value: ,  units: str, \n",
      " name: rmf_file_name,  value: ,  units: str, \n",
      "unable to dig list, instance not a dict by <class 'list'>; object was [{'query_name': 'jemx_lc_query'}, {'product_name': 'jemx_lc'}, {'name': 'time_bin', 'units': 'sec', 'value': 1000.0}]\n",
      "\n",
      "--------------\n",
      "query_name: jemx_lc_query\n",
      " product_name: jemx_lc\n",
      " name: time_bin,  value: 1000.0,  units: sec, \n"
     ]
    },
    {
     "data": {
      "text/plain": [
       "[[{'instrumet': 'jemx'},\n",
       "  {'prod_dict': {'jemx_image': 'jemx_image_query',\n",
       "    'jemx_lc': 'jemx_lc_query',\n",
       "    'jemx_spectrum': 'jemx_spectrum_query',\n",
       "    'spectral_fit': 'spectral_fit_query'}},\n",
       "  '[{\"query_name\": \"src_query\"}, {\"name\": \"src_name\", \"units\": \"str\", \"value\": \"1E 1740.7-2942\"}, {\"name\": \"RA\", \"units\": \"deg\", \"value\": 265.97845833}, {\"name\": \"DEC\", \"units\": \"deg\", \"value\": -29.74516667}, {\"name\": \"T1\", \"units\": \"isot\", \"value\": \"2017-03-06T13:26:48.000\"}, {\"name\": \"T2\", \"units\": \"isot\", \"value\": \"2017-03-06T15:32:27.000\"}, {\"name\": \"token\", \"units\": \"str\", \"value\": None}]',\n",
       "  '[{\"query_name\": \"jemx_parameters\"}, {\"name\": \"user_catalog\", \"units\": None, \"value\": None}, {\"name\": \"scw_list\", \"units\": None, \"value\": []}, {\"name\": \"selected_catalog\", \"units\": None, \"value\": None}, {\"name\": \"radius\", \"units\": \"deg\", \"value\": 4.0}, {\"name\": \"max_pointings\", \"units\": None, \"value\": 50}, {\"name\": \"osa_version\", \"units\": \"str\", \"value\": \"OSA11.1\"}, {\"name\": \"integral_data_rights\", \"units\": \"str\", \"value\": \"public\"}, {\"name\": \"jemx_num\", \"units\": None, \"value\": 2}, {\"name\": \"E1_keV\", \"units\": \"keV\", \"value\": 3.0}, {\"name\": \"E2_keV\", \"units\": \"keV\", \"value\": 20.0}]',\n",
       "  '[{\"query_name\": \"jemx_image_query\"}, {\"product_name\": \"jemx_image\"}, {\"name\": \"detection_threshold\", \"units\": \"sigma\", \"value\": 7.0}, {\"name\": \"image_scale_min\", \"units\": None, \"value\": None}, {\"name\": \"image_scale_max\", \"units\": None, \"value\": None}]',\n",
       "  '[{\"query_name\": \"jemx_spectrum_query\"}, {\"product_name\": \"jemx_spectrum\"}]',\n",
       "  '[{\"query_name\": \"spectral_fit_query\"}, {\"product_name\": \"spectral_fit\"}, {\"name\": \"xspec_model\", \"units\": \"str\", \"value\": \"powerlaw\"}, {\"name\": \"ph_file_name\", \"units\": \"str\", \"value\": \"\"}, {\"name\": \"arf_file_name\", \"units\": \"str\", \"value\": \"\"}, {\"name\": \"rmf_file_name\", \"units\": \"str\", \"value\": \"\"}]',\n",
       "  '[{\"query_name\": \"jemx_lc_query\"}, {\"product_name\": \"jemx_lc\"}, {\"name\": \"time_bin\", \"units\": \"sec\", \"value\": 1000.0}]']]"
      ]
     },
     "execution_count": 4,
     "metadata": {},
     "output_type": "execute_result"
    }
   ],
   "source": [
    "disp.get_instrument_description('jemx')"
   ]
  },
  {
   "cell_type": "markdown",
   "metadata": {},
   "source": [
    "## We upload the product to the gallery, configuring the parameters we wish to show in the gallery\n",
    "\n",
    "### For the data product we wish to upload the following parameters can be set:\n",
    "* **parameters**: keyword arguments representing the parameters values used to generate the product (e.g.  `RA=25`)\n",
    "* **instrument**: name of the instrument used for the generated product (e.g. `isgri`, `jemx1`)\n",
    "* **product_type**: type of product generated (e.g. `isgri_lc`, `jemx_image`)\n",
    "* **product_title**: title to assign to the product, in case this is not provided, then a title is automatically built using the name of the source and the type of product\n",
    "* **observation**: this can be indicated in two different ways\n",
    " * by specifying the id of an already present observation (eg 'test observation')\n",
    " * by specifying the time range, in particular the value of `T1` and `T2` in the following format `'2003-03-15T23:27:40.0'`\n",
    "* **source**: this has to be the name of a known source (eg Crab, Cyg X-1)\n",
    "* **produced_by**: direct link to the notebook used to generated the product\n",
    "* **gallery_image_path**: path of the generated image and to be uploaded over the gallery\n",
    "* **fits_file_path**: a list of fits file links used for the generation of the product to upload over the gallery"
   ]
  },
  {
   "cell_type": "code",
   "execution_count": 5,
   "metadata": {},
   "outputs": [
    {
     "name": "stderr",
     "output_type": "stream",
     "text": [
      "searching for token in environment variable ODA_TOKEN\n",
      "failed to find token with current method: environment variable ODA_TOKEN: 'ODA_TOKEN'\n",
      "searching for token in file in current directory\n",
      "failed to find token with current method: file in current directory: [Errno 2] No such file or directory: '/home/gabriele/Workspace/oda_api/doc/source/user_guide/.oda-token'\n",
      "searching for token in file in home\n",
      "found token in file in home your token payload: {\n",
      "    \"email\": \"Gabriele.Barni@unige.ch\",\n",
      "    \"exp\": 1646126602,\n",
      "    \"name\": \"gbarni\",\n",
      "    \"roles\": \"authenticated user, user manager, general, integral-private-qla, magic, unige-hpc-full, public-pool-hpc, antares, sdss, apc, bitp, job manager, gallery contributor\",\n",
      "    \"sub\": \"Gabriele.Barni@unige.ch\"\n",
      "}\n",
      "token expires in 0.3 h\n",
      "discovered token method file in home\n"
     ]
    }
   ],
   "source": [
    "import oda_api.plot_tools\n",
    "\n",
    "token = discover_token()\n",
    "\n",
    "notebook_link='https://github.com/oda-hub/oda_api/blob/master/doc/source/user_guide/UploadToGallery.ipynb'"
   ]
  },
  {
   "cell_type": "markdown",
   "metadata": {},
   "source": [
    "### Example of a spectrum product"
   ]
  },
  {
   "cell_type": "code",
   "execution_count": 12,
   "metadata": {},
   "outputs": [
    {
     "name": "stderr",
     "output_type": "stream",
     "text": [
      "please beware that by default, in a typical setup, oda_api will not output much. To learn how to increase the verbosity, please refer to the documentation: https://oda-api.readthedocs.io/en/latest/user_guide/ScienceWindowList.html?highlight=logging#Let's-get-some-logging . \n",
      "To disable this message you can pass `.get_product(..., silent=True)`\n",
      "dig_list unable to literal_eval src_name; problem malformed node or string: <_ast.Name object at 0x7f6b41587ac0>\n",
      "dig_list unable to literal_eval RA; problem malformed node or string: <_ast.Name object at 0x7f6b41587f70>\n",
      "dig_list unable to literal_eval DEC; problem malformed node or string: <_ast.Name object at 0x7f6b41587c40>\n",
      "dig_list unable to literal_eval T1; problem malformed node or string: <_ast.Name object at 0x7f6b61e88d90>\n",
      "dig_list unable to literal_eval T2; problem malformed node or string: <_ast.Name object at 0x7f6b61e88e20>\n",
      "dig_list unable to literal_eval token; problem malformed node or string: <_ast.Name object at 0x7f6b41524100>\n",
      "dig_list unable to literal_eval scw_list; problem malformed node or string: <_ast.Name object at 0x7f6b41524340>\n",
      "dig_list unable to literal_eval selected_catalog; problem malformed node or string: <_ast.Name object at 0x7f6b41524490>\n",
      "dig_list unable to literal_eval radius; problem malformed node or string: <_ast.Name object at 0x7f6b415245e0>\n",
      "dig_list unable to literal_eval max_pointings; problem malformed node or string: <_ast.Name object at 0x7f6b41524730>\n",
      "dig_list unable to literal_eval osa_version; problem malformed node or string: <_ast.Name object at 0x7f6b415248b0>\n",
      "dig_list unable to literal_eval integral_data_rights; problem malformed node or string: <_ast.Name object at 0x7f6b41524a00>\n",
      "dig_list unable to literal_eval E1_keV; problem malformed node or string: <_ast.Name object at 0x7f6b41524b50>\n",
      "dig_list unable to literal_eval E2_keV; problem malformed node or string: <_ast.Name object at 0x7f6b41524ca0>\n",
      "/home/gabriele/.local/lib/python3.8/site-packages/oda_api/api.py:987: UserWarning: \n",
      "----------------------------------------------------------------------------\n",
      "the parameter: detection_threshold   is not among valid ones:\n",
      "['src_name', 'RA', 'DEC', 'T1', 'T2', 'token', 'scw_list', 'selected_catalog', 'radius', 'max_pointings', 'osa_version', 'integral_data_rights', 'E1_keV', 'E2_keV']\n",
      "this will throw an error in a future version \n",
      "and might break the current request!\n",
      " ----------------------------------------------------------------------------\n",
      "\n",
      "  warnings.warn(msg)\n",
      "\u001b[37m selected custom formatter for instrument isgri \u001b[0m\n",
      "- waiting for remote response (since 2022-03-01 10:12:29), please wait for https://frontend-staging.obsuks1.unige.ch/mmoda/dispatch-data/run_analysis\n",
      "payload size 466, max for GET is 1000\n",
      "session: 4U68TF9MMJTVJ241 job: 099963b41159412f\n",
      "\n",
      "... query status \u001b[35mprepared\u001b[0m => \u001b[35mdone\u001b[0m\n",
      "... assigned job id: \u001b[33m099963b41159412f\u001b[0m\n",
      "\u001b[32mquery COMPLETED SUCCESSFULLY (state done)\u001b[0m\n",
      "poll returing data: complete\n",
      "query complete: terminating\n"
     ]
    }
   ],
   "source": [
    "tstart='2021-02-01T00:00:00'\n",
    "tstop='2021-02-27T23:59:59'\n",
    "source_name=\"GX 1+4\"\n",
    "E1_keV=28.\n",
    "E2_keV=50.\n",
    "RA=263\n",
    "DEC=-24.7456\n",
    "detection_threshold=7.0\n",
    "\n",
    "instrument = 'isgri'\n",
    "product_type = 'isgri_spectrum'\n",
    "\n",
    "data_collection=disp.get_product(instrument=instrument,\n",
    "                                 product=product_type,\n",
    "                                 T1=tstart,\n",
    "                                 T2=tstop,\n",
    "                                 osa_version='OSA11.1',\n",
    "                                 src_name=source_name,\n",
    "                                 RA=RA,\n",
    "                                 DEC=DEC,\n",
    "                                 E1_keV=E1_keV,\n",
    "                                 E2_keV=E2_keV,\n",
    "                                 integral_data_rights=\"public\",\n",
    "                                 detection_threshold=detection_threshold,\n",
    "                                 off_line=\"False\",\n",
    "                                 radius=8.,\n",
    "                                 product_type='Dummy'\n",
    "                                )"
   ]
  },
  {
   "cell_type": "code",
   "execution_count": 13,
   "metadata": {},
   "outputs": [
    {
     "name": "stderr",
     "output_type": "stream",
     "text": [
      "source GX 1+4 not found in spectral products\n",
      "Posting a product on the gallery\n",
      "Product successfully posted on the gallery, at the link http://cdciweb02.internal.odahub.io/mmoda/gallery/node/1611\n"
     ]
    }
   ],
   "source": [
    "image_product = oda_api.plot_tools.OdaSpectrum(data_collection)\n",
    "img_fn = image_product.get_image_for_gallery(in_source_name=source_name, xlim=[20, 100])\n",
    "\n",
    "d = disp.post_data_product_to_gallery(token=token,\n",
    "                                      rA=55, DEC=46, e1_kev=20, e2_kev=40,\n",
    "                                      instrument=instrument, product_type=product_type,\n",
    "                                      product_title=source_name,\n",
    "                                      src_name=source_name,\n",
    "                                      produced_by=notebook_link,\n",
    "                                      gallery_image_path=img_fn,\n",
    "                                      T1=tstart,T2=tstop\n",
    "                                     )"
   ]
  },
  {
   "cell_type": "markdown",
   "metadata": {},
   "source": [
    "### Example of a light curve product"
   ]
  },
  {
   "cell_type": "code",
   "execution_count": 8,
   "metadata": {},
   "outputs": [
    {
     "name": "stderr",
     "output_type": "stream",
     "text": [
      "please beware that by default, in a typical setup, oda_api will not output much. To learn how to increase the verbosity, please refer to the documentation: https://oda-api.readthedocs.io/en/latest/user_guide/ScienceWindowList.html?highlight=logging#Let's-get-some-logging . \n",
      "To disable this message you can pass `.get_product(..., silent=True)`\n",
      "dig_list unable to literal_eval src_name; problem malformed node or string: <_ast.Name object at 0x7f6b61e85220>\n",
      "dig_list unable to literal_eval RA; problem malformed node or string: <_ast.Name object at 0x7f6b61e85130>\n",
      "dig_list unable to literal_eval DEC; problem malformed node or string: <_ast.Name object at 0x7f6b61e85eb0>\n",
      "dig_list unable to literal_eval T1; problem malformed node or string: <_ast.Name object at 0x7f6b61ebdbb0>\n",
      "dig_list unable to literal_eval T2; problem malformed node or string: <_ast.Name object at 0x7f6b61ebda30>\n",
      "dig_list unable to literal_eval token; problem malformed node or string: <_ast.Name object at 0x7f6b61ebd9d0>\n",
      "dig_list unable to literal_eval scw_list; problem malformed node or string: <_ast.Name object at 0x7f6b61ebd970>\n",
      "dig_list unable to literal_eval selected_catalog; problem malformed node or string: <_ast.Name object at 0x7f6bac477d60>\n",
      "dig_list unable to literal_eval radius; problem malformed node or string: <_ast.Name object at 0x7f6bac477f10>\n",
      "dig_list unable to literal_eval max_pointings; problem malformed node or string: <_ast.Name object at 0x7f6bac477f10>\n",
      "dig_list unable to literal_eval osa_version; problem malformed node or string: <_ast.Name object at 0x7f6bac477280>\n",
      "dig_list unable to literal_eval integral_data_rights; problem malformed node or string: <_ast.Name object at 0x7f6bac477f40>\n",
      "dig_list unable to literal_eval E1_keV; problem malformed node or string: <_ast.Name object at 0x7f6b61e607c0>\n",
      "dig_list unable to literal_eval E2_keV; problem malformed node or string: <_ast.Name object at 0x7f6b61e60580>\n",
      "dig_list unable to literal_eval time_bin; problem malformed node or string: <_ast.Name object at 0x7f6b61e606a0>\n",
      "/home/gabriele/.local/lib/python3.8/site-packages/oda_api/api.py:987: UserWarning: \n",
      "----------------------------------------------------------------------------\n",
      "the parameter: detection_threshold   is not among valid ones:\n",
      "['src_name', 'RA', 'DEC', 'T1', 'T2', 'token', 'scw_list', 'selected_catalog', 'radius', 'max_pointings', 'osa_version', 'integral_data_rights', 'E1_keV', 'E2_keV', 'time_bin']\n",
      "this will throw an error in a future version \n",
      "and might break the current request!\n",
      " ----------------------------------------------------------------------------\n",
      "\n",
      "  warnings.warn(msg)\n",
      "\u001b[37m selected custom formatter for instrument isgri \u001b[0m\n",
      "- waiting for remote response (since 2022-03-01 10:07:25), please wait for https://frontend-staging.obsuks1.unige.ch/mmoda/dispatch-data/run_analysis\n",
      "payload size 466, max for GET is 1000\n",
      "session: 4U68TF9MMJTVJ241 job: 4e48f9b62ce10624\n",
      "\n",
      "... query status \u001b[35mprepared\u001b[0m => \u001b[35mdone\u001b[0m\n",
      "... assigned job id: \u001b[33m4e48f9b62ce10624\u001b[0m\n",
      "\u001b[32mquery COMPLETED SUCCESSFULLY (state done)\u001b[0m\n",
      "poll returing data: complete\n",
      "query complete: terminating\n"
     ]
    }
   ],
   "source": [
    "tstart='2021-02-01T00:00:00'\n",
    "tstop='2021-02-27T23:59:59'\n",
    "source_name='OAO 1657-415'\n",
    "E1_keV=28.\n",
    "E2_keV=50.\n",
    "RA=263\n",
    "DEC=-24.7456\n",
    "detection_threshold=7.0\n",
    "\n",
    "data_collection=disp.get_product(instrument='isgri',\n",
    "                                 product='isgri_lc',\n",
    "                                 T1=tstart,\n",
    "                                 T2=tstop,\n",
    "                                 osa_version='OSA11.1',\n",
    "                                 src_name=source_name,\n",
    "                                 RA=RA,\n",
    "                                 DEC=DEC,\n",
    "                                 E1_keV=E1_keV,\n",
    "                                 E2_keV=E2_keV,\n",
    "                                 integral_data_rights='public',\n",
    "                                 detection_threshold=detection_threshold,\n",
    "                                 off_line='False',\n",
    "                                 radius=8.,\n",
    "                                 product_type='Dummy'\n",
    "                                )"
   ]
  },
  {
   "cell_type": "code",
   "execution_count": 9,
   "metadata": {},
   "outputs": [
    {
     "name": "stderr",
     "output_type": "stream",
     "text": [
      "OAO 1657-415\n",
      "Original length of light curve 2\n",
      "Final length of light curve 2 \n",
      "Get time bin directly from light curve\n",
      "Posting a product on the gallery\n",
      "Product successfully posted on the gallery, at the link http://cdciweb02.internal.odahub.io/mmoda/gallery/node/1610\n"
     ]
    },
    {
     "data": {
      "image/png": "[encoded data removed]",
      "text/plain": [
       "<Figure size 432x288 with 1 Axes>"
      ]
     },
     "metadata": {
      "needs_background": "light"
     },
     "output_type": "display_data"
    }
   ],
   "source": [
    "image_product = oda_api.plot_tools.OdaLightCurve(data_collection)\n",
    "img_fn = image_product.get_image_for_gallery( in_source_name=source_name)\n",
    "\n",
    "fits_file_fn = image_product.write_fits(source_name=source_name)[0]\n",
    "                                             \n",
    "d = disp.post_data_product_to_gallery(token=token,\n",
    "                                           RA=RA, DEC=DEC, e1_kev=E1_keV, e2_kev=E2_keV,\n",
    "                                           product_title=source_name,\n",
    "                                           gallery_image_path=img_fn,\n",
    "                                           fits_file_path=[fits_file_fn],\n",
    "                                           src_name=source_name,\n",
    "                                           instrument='jemx1',\n",
    "                                           product_type='jemx_lc',\n",
    "                                           produced_by=notebook_link,\n",
    "                                           observation_id=source_name + '_' + tstart + '_' + tstop\n",
    "                                          )"
   ]
  }
 ],
 "metadata": {
  "kernel_info": {
   "name": "python2"
  },
  "kernelspec": {
   "display_name": "Python 3",
   "language": "python",
   "name": "python3"
  },
  "language_info": {
   "codemirror_mode": {
    "name": "ipython",
    "version": 3
   },
   "file_extension": ".py",
   "mimetype": "text/x-python",
   "name": "python",
   "nbconvert_exporter": "python",
   "pygments_lexer": "ipython3",
   "version": "3.8.10"
  },
  "nteract": {
   "version": "0.15.0"
  }
 },
 "nbformat": 4,
 "nbformat_minor": 2
}
