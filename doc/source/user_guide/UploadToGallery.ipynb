{
 "cells": [
  {
   "cell_type": "markdown",
   "metadata": {},
   "source": [
    "# Quick Start (oda api v1.1.26)"
   ]
  },
  {
   "cell_type": "code",
   "execution_count": 4,
   "metadata": {},
   "outputs": [],
   "source": [
    "import oda_api.api\n",
    "from oda_api.plot_tools import OdaImage,OdaLightCurve\n",
    "from oda_api.data_products import BinaryData\n",
    "import os\n",
    "from importlib import reload\n",
    "\n",
    "from oda_api.token import discover_token\n",
    "\n",
    "import logging\n",
    "\n",
    "logging.getLogger().setLevel(logging.DEBUG)\n",
    "logging.getLogger('oda_api').addHandler(logging.StreamHandler())"
   ]
  },
  {
   "cell_type": "markdown",
   "metadata": {},
   "source": [
    "## Connection to the dispatcher "
   ]
  },
  {
   "cell_type": "code",
   "execution_count": 6,
   "metadata": {},
   "outputs": [
    {
     "name": "stderr",
     "output_type": "stream",
     "text": [
      "\u001b[37m NO custom formatter for instrument mock \u001b[0m\n",
      "\u001b[37m NO custom formatter for instrument mock \u001b[0m\n"
     ]
    }
   ],
   "source": [
    "#TODO: change to prod\n",
    "disp=oda_api.api.DispatcherAPI(url='https://frontend-staging.obsuks1.unige.ch/mmoda/dispatch-data',instrument='mock')\n",
    "# disp=DispatcherAPI(url='http://0.0.0.0:8001',instrument='mock')\n"
   ]
  },
  {
   "cell_type": "code",
   "execution_count": 7,
   "metadata": {},
   "outputs": [],
   "source": [
    "reload(oda_api.api)\n",
    "?disp.post_data_product_to_gallery"
   ]
  },
  {
   "cell_type": "code",
   "execution_count": null,
   "metadata": {
    "scrolled": false
   },
   "outputs": [],
   "source": [
    "instr_list=disp.get_instruments_list()\n",
    "for i in instr_list:\n",
    "    print (i)"
   ]
  },
  {
   "cell_type": "markdown",
   "metadata": {},
   "source": [
    "### get the description of the instrument"
   ]
  },
  {
   "cell_type": "code",
   "execution_count": null,
   "metadata": {},
   "outputs": [],
   "source": [
    "disp.get_instrument_description('jemx')"
   ]
  },
  {
   "cell_type": "markdown",
   "metadata": {},
   "source": [
    "## We upload the product to the gallery, configuring the parameters we wish to show in the gallery\n",
    "\n",
    "### For the data product we wish to upload the following parameters can be set:\n",
    "\n",
    "* **product_title**: title to assign to the product, in case this is not provided, then a title is automatically built using the name of the source and the type of product\n",
    "* **observation**: this can be indicated in two different ways\n",
    " * by specifying the id of an already present observation (eg 'test observation')\n",
    " * by specifying the time range, in particular the value of `T1` and `T2` in the following format `'2003-03-15T23:27:40.0'`\n",
    "* **source**: this has to be the name of a known source (eg Crab, Cyg X-1)\n",
    "* **produced_by**: direct link to the notebook used to generated the product\n",
    "* **gallery_image_path**: path of the generated image and to be uploaded over the gallery\n",
    "* **fits_file_path**: a list of fits file links used for the generation of the product to upload over the gallery\n",
    "* **token**: user token\n",
    "* **parameters**: keyword arguments representing the parameters values used to generate the product, not all the parametes are currently supported, but the list of the supported ones will be extended. Amongst them it is important to mention the following\n",
    " * **instrument**: name of the instrument used for the generated product (e.g. `isgri`, `jemx1`)\n",
    " * **product_type**: type of product generated (e.g. `isgri_lc`, `jemx_image`)\n",
    " * **others**: `RA=25`"
   ]
  },
  {
   "cell_type": "code",
   "execution_count": null,
   "metadata": {},
   "outputs": [],
   "source": [
    "import oda_api.plot_tools\n",
    "\n",
    "token = discover_token()\n",
    "\n",
    "notebook_link='https://github.com/oda-hub/oda_api/blob/master/doc/source/user_guide/UploadToGallery.ipynb'"
   ]
  },
  {
   "cell_type": "markdown",
   "metadata": {},
   "source": [
    "### Example of a spectrum product"
   ]
  },
  {
   "cell_type": "code",
   "execution_count": null,
   "metadata": {},
   "outputs": [],
   "source": [
    "tstart='2021-02-01T00:00:00'\n",
    "tstop='2021-02-27T23:59:59'\n",
    "source_name=\"GX 1+4\"\n",
    "E1_keV=28.\n",
    "E2_keV=50.\n",
    "RA=263\n",
    "DEC=-24.7456\n",
    "detection_threshold=7.0\n",
    "\n",
    "instrument = 'isgri'\n",
    "product_type = 'isgri_spectrum'\n",
    "\n",
    "data_collection=disp.get_product(instrument=instrument,\n",
    "                                 product=product_type,\n",
    "                                 T1=tstart,\n",
    "                                 T2=tstop,\n",
    "                                 osa_version='OSA11.1',\n",
    "                                 src_name=source_name,\n",
    "                                 RA=RA,\n",
    "                                 DEC=DEC,\n",
    "                                 E1_keV=E1_keV,\n",
    "                                 E2_keV=E2_keV,\n",
    "                                 integral_data_rights=\"public\",\n",
    "                                 detection_threshold=detection_threshold,\n",
    "                                 off_line=\"False\",\n",
    "                                 radius=8.,\n",
    "                                 product_type='Dummy'\n",
    "                                )"
   ]
  },
  {
   "cell_type": "code",
   "execution_count": null,
   "metadata": {},
   "outputs": [],
   "source": [
    "image_product = oda_api.plot_tools.OdaSpectrum(data_collection)\n",
    "img_fn = image_product.get_image_for_gallery(in_source_name=source_name, xlim=[20, 100])\n",
    "\n",
    "d = disp.post_data_product_to_gallery(token=token,\n",
    "                                      rA=55, DEC=46, e1_kev=20, e2_kev=40,\n",
    "                                      instrument=instrument, product_type=product_type,\n",
    "                                      product_title=source_name,\n",
    "                                      src_name=source_name,\n",
    "                                      produced_by=notebook_link,\n",
    "                                      gallery_image_path=img_fn,\n",
    "                                      T1=tstart,T2=tstop\n",
    "                                     )"
   ]
  },
  {
   "cell_type": "markdown",
   "metadata": {},
   "source": [
    "### Example of a light curve product"
   ]
  },
  {
   "cell_type": "code",
   "execution_count": null,
   "metadata": {},
   "outputs": [],
   "source": [
    "tstart='2021-02-01T00:00:00'\n",
    "tstop='2021-02-27T23:59:59'\n",
    "source_name='OAO 1657-415'\n",
    "E1_keV=28.\n",
    "E2_keV=50.\n",
    "RA=263\n",
    "DEC=-24.7456\n",
    "detection_threshold=7.0\n",
    "\n",
    "data_collection=disp.get_product(instrument='isgri',\n",
    "                                 product='isgri_lc',\n",
    "                                 T1=tstart,\n",
    "                                 T2=tstop,\n",
    "                                 osa_version='OSA11.1',\n",
    "                                 src_name=source_name,\n",
    "                                 RA=RA,\n",
    "                                 DEC=DEC,\n",
    "                                 E1_keV=E1_keV,\n",
    "                                 E2_keV=E2_keV,\n",
    "                                 integral_data_rights='public',\n",
    "                                 detection_threshold=detection_threshold,\n",
    "                                 off_line='False',\n",
    "                                 radius=8.,\n",
    "                                 product_type='Dummy'\n",
    "                                )"
   ]
  },
  {
   "cell_type": "code",
   "execution_count": null,
   "metadata": {
    "scrolled": true
   },
   "outputs": [],
   "source": [
    "image_product = oda_api.plot_tools.OdaLightCurve(data_collection)\n",
    "img_fn = image_product.get_image_for_gallery( in_source_name=source_name)\n",
    "\n",
    "fits_file_fn = image_product.write_fits(source_name=source_name)[0]\n",
    "                                             \n",
    "d = disp.post_data_product_to_gallery(token=token,\n",
    "                                           RA=RA, DEC=DEC, e1_kev=E1_keV, e2_kev=E2_keV,\n",
    "                                           product_title=source_name,\n",
    "                                           gallery_image_path=img_fn,\n",
    "                                           fits_file_path=[fits_file_fn],\n",
    "                                           src_name=source_name,\n",
    "                                           instrument='jemx1',\n",
    "                                           product_type='jemx_lc',\n",
    "                                           produced_by=notebook_link,\n",
    "                                           observation_id=source_name + '_' + tstart + '_' + tstop\n",
    "                                          )"
   ]
  },
  {
   "cell_type": "code",
   "execution_count": null,
   "metadata": {},
   "outputs": [],
   "source": []
  }
 ],
 "metadata": {
  "kernel_info": {
   "name": "python2"
  },
  "kernelspec": {
   "display_name": "Python 3",
   "language": "python",
   "name": "python3"
  },
  "language_info": {
   "codemirror_mode": {
    "name": "ipython",
    "version": 3
   },
   "file_extension": ".py",
   "mimetype": "text/x-python",
   "name": "python",
   "nbconvert_exporter": "python",
   "pygments_lexer": "ipython3",
   "version": "3.8.10"
  },
  "nteract": {
   "version": "0.15.0"
  }
 },
 "nbformat": 4,
 "nbformat_minor": 2
}
