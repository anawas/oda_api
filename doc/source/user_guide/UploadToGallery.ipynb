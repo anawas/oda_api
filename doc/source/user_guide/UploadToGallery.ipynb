{
 "cells": [
  {
   "cell_type": "markdown",
   "metadata": {},
   "source": [
    "# Quick Start (oda api v1.1.26)"
   ]
  },
  {
   "cell_type": "code",
   "execution_count": null,
   "metadata": {},
   "outputs": [],
   "source": [
    "from oda_api.api import DispatcherAPI\n",
    "from oda_api.plot_tools import OdaImage, OdaLightCurve\n",
    "from oda_api.data_products import BinaryData\n",
    "import os\n",
    "\n",
    "from importlib import reload\n",
    "\n",
    "from oda_api.token import discover_token\n",
    "\n",
    "import logging\n",
    "logging.getLogger('oda_api').addHandler(logging.StreamHandler())\n",
    "logging.getLogger().setLevel(logging.DEBUG)\n",
    "\n",
    "logging.getLogger().setLevel(logging.DEBUG)\n",
    "logging.getLogger('oda_api').addHandler(logging.StreamHandler())"
   ]
  },
  {
   "cell_type": "markdown",
   "metadata": {},
   "source": [
    "## Connection to the dispatcher "
   ]
  },
  {
   "cell_type": "code",
   "execution_count": null,
   "metadata": {},
   "outputs": [],
   "source": [
    "#TODO: change to prod\n",
    "disp=DispatcherAPI(url='https://frontend-staging.obsuks1.unige.ch/mmoda/dispatch-data',instrument='mock')\n",
    "# disp=DispatcherAPI(url='http://0.0.0.0:8001',instrument='mock')"
   ]
  },
  {
   "cell_type": "markdown",
   "metadata": {},
   "source": [
    "## We upload the product to the gallery, configuring the parameters we wish to show in the gallery\n",
    "\n",
    "### For the data product we wish to upload the following parameters can be set:\n",
    "\n",
    "* **product_title**: title to assign to the product, in case this is not provided one is automatically built using the name of the source and the type of product\n",
    "* **observation**: this can be indicated in two different ways\n",
    " * by specifying the id of an already present observation (eg 'test observation')\n",
    " * by specifying the time range, in particular the value of `T1` and `T2` in the following format `'2003-03-15T23:27:40.0'`\n",
    "* **produced_by**: direct link to the notebook used to generated the product\n",
    "* **gallery_image_path**: path of the generated image and to be uploaded over the gallery\n",
    "* **fits_file_path**: a list of fits file links used for the generation of the product to upload over the gallery\n",
    "* **token**: user token\n",
    "* **insert_new_source**: a boolean value to specify if, in case a source currently not available on the product gallery is passed within the parameters, this will be created and then used for the newly created data product\n",
    "* **validate_source**: a boolean value to specify if, in case a source is passed within the parameters, this will be validated against an online service\n",
    "* **force_insert_not_valid_new_source**: a boolean value to specify if, in case a source is passed within the parameters and its validation fails, this should be provided as a parameter for the data product\n",
    "* **apply_fields_source_resolution**: a boolean value to specify if, in case a source is passed within the parameters and then successfully validated, to apply the parameters values returned from the validation (an example of these parameters are RA and DEC)\n",
    "* **kwargs**: keyword arguments representing the parameters values used to generate the product. Amongst them it is important to mention the following\n",
    " * **instrument**: name of the instrument used for the generated product (e.g. isgri, jemx1)\n",
    " * **product_type**: type of product generated (e.g. isgri_lc, jemx_image)\n",
    " * **src_name**: name of a known source (eg Crab, Cyg X-1)\n",
    " * **others**: other parameters used for the product (e.g. RA=25). Not all the parameters are currently supported, but the list of the supported ones will be extended"
   ]
  },
  {
   "cell_type": "markdown",
   "metadata": {},
   "source": [
    "#### Let's get the token"
   ]
  },
  {
   "cell_type": "code",
   "execution_count": null,
   "metadata": {
    "scrolled": false
   },
   "outputs": [],
   "source": [
    "token = discover_token()"
   ]
  },
  {
   "cell_type": "markdown",
   "metadata": {},
   "source": [
    "### Example of an image product"
   ]
  },
  {
   "cell_type": "code",
   "execution_count": null,
   "metadata": {},
   "outputs": [],
   "source": [
    "tstart='2003-03-15T23:27:40.0'\n",
    "tstop='2023-03-16T00:03:12.0'\n",
    "source_name='OAO 1657-415'\n",
    "E1_keV=28.\n",
    "E2_keV=50.\n",
    "RA=50\n",
    "DEC=45\n",
    "detection_threshold=5.0\n",
    "\n",
    "instrument='isgri'\n",
    "product_type='isgri_image'\n",
    "\n",
    "data_collection=disp.get_product(instrument=instrument,\n",
    "                                 product=product_type,\n",
    "                                 T1='2003-03-15T23:27:40.0',\n",
    "                                 T2='2023-03-16T00:03:12.0',\n",
    "                                 integral_data_rights=\"public\",\n",
    "                                 osa_version='OSA10.2',\n",
    "                                 RA=50,\n",
    "                                 DEC=45,\n",
    "                                 max_pointings=1,\n",
    "                                 detection_threshold=detection_threshold,\n",
    "                                 radius=15.,\n",
    "                                 product_type='Dummy',\n",
    "                                 token=token\n",
    "                                )"
   ]
  },
  {
   "cell_type": "code",
   "execution_count": null,
   "metadata": {},
   "outputs": [],
   "source": [
    "image_product = OdaImage(data_collection)\n",
    "img_fn = image_product.get_image_for_gallery()\n",
    "\n",
    "# generate two dummy fits files\n",
    "fits_file_fn_1 = image_product.write_fits(file_prefix='first')\n",
    "fits_file_fn_2 = image_product.write_fits(file_prefix='second')\n",
    " \n",
    "# token = discover_token()\n",
    "\n",
    "insert_new_source=False\n",
    "force_insert_not_valid_new_source=False\n",
    "validate_source=True\n",
    "apply_fields_source_resolution=True\n",
    "\n",
    "d = disp.post_data_product_to_gallery(token=token,\n",
    "                                      RA=55, DEC=46, e1_kev=20, e2_kev=40,\n",
    "                                      instrument=instrument, product_type=product_type,\n",
    "                                      product_title=\"very nice title\",\n",
    "                                      src_name=source_name,\n",
    "                                      validate_source=validate_source,\n",
    "                                      insert_new_source=insert_new_source,\n",
    "                                      apply_fields_source_resolution=apply_fields_source_resolution,\n",
    "                                      force_insert_not_valid_new_source=force_insert_not_valid_new_source,\n",
    "                                      gallery_image_path=img_fn,\n",
    "                                      fits_file_path=[fits_file_fn_1, fits_file_fn_2]\n",
    "                                     )"
   ]
  },
  {
   "cell_type": "markdown",
   "metadata": {},
   "source": [
    "### Example of a light curve product"
   ]
  },
  {
   "cell_type": "code",
   "execution_count": null,
   "metadata": {},
   "outputs": [],
   "source": [
    "tstart='2021-02-01T00:00:00'\n",
    "tstop='2021-02-27T23:59:59'\n",
    "source_name='OAO 1657-415'\n",
    "E1_keV=28.\n",
    "E2_keV=50.\n",
    "RA=263\n",
    "DEC=-24.7456\n",
    "detection_threshold=7.0\n",
    "\n",
    "product_type='isgri_lc'\n",
    "\n",
    "data_collection=disp.get_product(instrument=instrument,\n",
    "                                 product=product_type,\n",
    "                                 T1=tstart,\n",
    "                                 T2=tstop,\n",
    "                                 osa_version='OSA11.1',\n",
    "                                 src_name=source_name,\n",
    "                                 RA=RA,\n",
    "                                 DEC=DEC,\n",
    "                                 E1_keV=E1_keV,\n",
    "                                 E2_keV=E2_keV,\n",
    "                                 integral_data_rights='public',\n",
    "                                 detection_threshold=detection_threshold,\n",
    "                                 off_line='False',\n",
    "                                 radius=8.,\n",
    "                                 product_type='Dummy'\n",
    "                                )"
   ]
  },
  {
   "cell_type": "code",
   "execution_count": null,
   "metadata": {
    "scrolled": true
   },
   "outputs": [],
   "source": [
    "image_product = OdaLightCurve(data_collection)\n",
    "img_fn = image_product.get_image_for_gallery( in_source_name=source_name)\n",
    "\n",
    "fits_file_fn = image_product.write_fits(source_name=source_name)[0]\n",
    "\n",
    "notebook_link='https://github.com/oda-hub/oda_api/blob/master/doc/source/user_guide/UploadToGallery.ipynb'\n",
    "\n",
    "insert_new_source=False\n",
    "force_insert_not_valid_new_source=False\n",
    "validate_source=True\n",
    "apply_fields_source_resolution=True\n",
    "                                             \n",
    "d = disp.post_data_product_to_gallery(token=token,\n",
    "                                      RA=RA, DEC=DEC, e1_kev=E1_keV, e2_kev=E2_keV,\n",
    "                                      product_title=source_name,\n",
    "                                      gallery_image_path=img_fn,\n",
    "                                      fits_file_path=[fits_file_fn],\n",
    "                                      src_name=source_name,\n",
    "                                      validate_source=validate_source,\n",
    "                                      insert_new_source=insert_new_source,\n",
    "                                      apply_fields_source_resolution=apply_fields_source_resolution,\n",
    "                                      force_insert_not_valid_new_source=force_insert_not_valid_new_source,\n",
    "                                      instrument=instrument,\n",
    "                                      product_type=product_type,\n",
    "                                      produced_by=notebook_link,\n",
    "                                      observation_id=source_name + '_' + tstart + '_' + tstop\n",
    "                                     )"
   ]
  }
 ],
 "metadata": {
  "kernel_info": {
   "name": "python2"
  },
  "kernelspec": {
   "display_name": "Python 3",
   "language": "python",
   "name": "python3"
  },
  "language_info": {
   "codemirror_mode": {
    "name": "ipython",
    "version": 3
   },
   "file_extension": ".py",
   "mimetype": "text/x-python",
   "name": "python",
   "nbconvert_exporter": "python",
   "pygments_lexer": "ipython3",
   "version": "3.8.10"
  },
  "nteract": {
   "version": "0.15.0"
  }
 },
 "nbformat": 4,
 "nbformat_minor": 2
}
