{
 "cells": [
  {
   "cell_type": "markdown",
   "metadata": {},
   "source": [
    "# Quick Start (oda api v1.1.26)"
   ]
  },
  {
   "cell_type": "code",
   "execution_count": 1,
   "metadata": {},
   "outputs": [],
   "source": [
    "from oda_api.api import DispatcherAPI\n",
    "from oda_api.plot_tools import OdaImage,OdaLightCurve\n",
    "from oda_api.data_products import BinaryData\n",
    "import os\n",
    "#%matplotlib notebook\n",
    "\n",
    "import oda_api.plot_tools\n",
    "\n",
    "from oda_api.token import discover_token\n",
    "\n",
    "\n",
    "import logging\n",
    "logging.getLogger('oda_api').addHandler(logging.StreamHandler())\n",
    "logging.getLogger().setLevel(logging.INFO)"
   ]
  },
  {
   "cell_type": "markdown",
   "metadata": {},
   "source": [
    "## Connection to the dispatcher "
   ]
  },
  {
   "cell_type": "markdown",
   "metadata": {},
   "source": [
    "### build the dispatcher object"
   ]
  },
  {
   "cell_type": "code",
   "execution_count": 2,
   "metadata": {},
   "outputs": [],
   "source": [
    "#TODO: change to prod\n",
    "# disp=DispatcherAPI(url='https://frontend-staging.obsuks1.unige.ch/mmoda/dispatch-data',instrument='mock')\n",
    "disp=DispatcherAPI(url='http://0.0.0.0:8001',instrument='mock')"
   ]
  },
  {
   "cell_type": "markdown",
   "metadata": {},
   "source": [
    "### Get the list of instruments available on the gallery"
   ]
  },
  {
   "cell_type": "code",
   "execution_count": 3,
   "metadata": {},
   "outputs": [
    {
     "name": "stderr",
     "output_type": "stream",
     "text": [
      "Getting the list of available instruments on the gallery\n",
      "List of terms from the group instruments successfully returned\n"
     ]
    },
    {
     "data": {
      "text/plain": [
       "['isgri',\n",
       " 'jemx',\n",
       " 'polar',\n",
       " 'empty',\n",
       " 'empty-async',\n",
       " 'empty-semi-async',\n",
       " 'spi_acs',\n",
       " 'legacysurvey',\n",
       " 'gw',\n",
       " 'jemx1',\n",
       " 'jemx2',\n",
       " 'antares',\n",
       " 'development']"
      ]
     },
     "execution_count": 3,
     "metadata": {},
     "output_type": "execute_result"
    }
   ],
   "source": [
    "import time\n",
    "import jwt\n",
    "\n",
    "secret_key = 'secretkey_test'\n",
    "default_exp_time = int(time.time()) + 5000\n",
    "token_payload = {\n",
    "    'sub': \"mtm@mtmco.net\",\n",
    "    'name': \"mmeharga\",\n",
    "    'exp': default_exp_time,\n",
    "    'tem': 0,\n",
    "    'mstout': True,\n",
    "    'mssub': True,\n",
    "    'roles': 'general, gallery contributor'\n",
    "}\n",
    "token = jwt.encode(token_payload, secret_key, algorithm='HS256')\n",
    "\n",
    "disp.get_list_terms_gallery(group='instruments', token=token)"
   ]
  },
  {
   "cell_type": "markdown",
   "metadata": {},
   "source": [
    "### Get the list of products available on the gallery"
   ]
  },
  {
   "cell_type": "code",
   "execution_count": 4,
   "metadata": {},
   "outputs": [
    {
     "name": "stderr",
     "output_type": "stream",
     "text": [
      "Getting the list of available instruments on the gallery\n",
      "List of terms from the group products successfully returned\n"
     ]
    },
    {
     "data": {
      "text/plain": [
       "['numerical',\n",
       " 'dummy',\n",
       " 'parametrical',\n",
       " 'development',\n",
       " 'isgri',\n",
       " 'jemx',\n",
       " 'antares',\n",
       " 'gw',\n",
       " 'isgri_image',\n",
       " 'isgri_spectrum',\n",
       " 'isgri_lc',\n",
       " 'spectral_fit',\n",
       " 'jemx_image',\n",
       " 'jemx_spectrum',\n",
       " 'jemx_lc',\n",
       " 'spectral_fit',\n",
       " 'gw_spectrogram',\n",
       " 'gw_strain',\n",
       " 'gw_skymap_image',\n",
       " 'legacysurvey',\n",
       " 'legacy_survey_photometry',\n",
       " 'legacy_survey_image',\n",
       " 'antares_spectrum']"
      ]
     },
     "execution_count": 4,
     "metadata": {},
     "output_type": "execute_result"
    }
   ],
   "source": [
    "disp.get_list_terms_gallery(group='products', token=token)"
   ]
  },
  {
   "cell_type": "markdown",
   "metadata": {},
   "source": [
    "### Get the list of sources available on the gallery"
   ]
  },
  {
   "cell_type": "code",
   "execution_count": 5,
   "metadata": {},
   "outputs": [
    {
     "name": "stderr",
     "output_type": "stream",
     "text": [
      "Getting the list of available instruments on the gallery\n",
      "List of terms from the group sources successfully returned\n"
     ]
    },
    {
     "data": {
      "text/plain": [
       "['OAO 1657-415', 'GX 1+4', 'Cyg X-1', 'Crab']"
      ]
     },
     "execution_count": 5,
     "metadata": {},
     "output_type": "execute_result"
    }
   ],
   "source": [
    "disp.get_list_terms_gallery(group='sources', token=token)"
   ]
  },
  {
   "cell_type": "code",
   "execution_count": 6,
   "metadata": {
    "scrolled": false
   },
   "outputs": [
    {
     "name": "stdout",
     "output_type": "stream",
     "text": [
      "isgri\n",
      "jemx\n"
     ]
    }
   ],
   "source": [
    "instr_list=disp.get_instruments_list()\n",
    "for i in instr_list:\n",
    "    print (i)"
   ]
  },
  {
   "cell_type": "markdown",
   "metadata": {},
   "source": [
    "### get the description of the instrument"
   ]
  },
  {
   "cell_type": "code",
   "execution_count": 7,
   "metadata": {},
   "outputs": [
    {
     "name": "stderr",
     "output_type": "stream",
     "text": [
      "\n",
      "--------------\n",
      "query_name: src_query\n",
      " name: src_name,  value: 1E 1740.7-2942,  units: str, \n",
      " name: RA,  value: 265.97845833,  units: deg, \n",
      " name: DEC,  value: -29.74516667,  units: deg, \n",
      " name: T1,  value: 2017-03-06T13:26:48.000,  units: isot, \n",
      " name: T2,  value: 2017-03-06T15:32:27.000,  units: isot, \n",
      " name: token,  value: None,  units: str, \n",
      "\n",
      "--------------\n",
      "query_name: isgri_parameters\n",
      " name: user_catalog,  value: None,  units: None, \n",
      " name: scw_list,  value: [],  units: None, \n",
      " name: selected_catalog,  value: None,  units: None, \n",
      " name: radius,  value: 15.0,  units: deg, \n",
      " name: max_pointings,  value: 50,  units: None, \n",
      " name: osa_version,  value: OSA11.1,  units: str, \n",
      " name: integral_data_rights,  value: public,  units: str, \n",
      " name: E1_keV,  value: 20.0,  units: keV, \n",
      " name: E2_keV,  value: 40.0,  units: keV, \n",
      "\n",
      "--------------\n",
      "query_name: isgri_image_query\n",
      " product_name: isgri_image\n",
      " name: detection_threshold,  value: 7.0,  units: sigma, \n",
      " name: image_scale_min,  value: None,  units: None, \n",
      " name: image_scale_max,  value: None,  units: None, \n",
      "\n",
      "--------------\n",
      "query_name: isgri_spectrum_query\n",
      " product_name: isgri_spectrum\n",
      "\n",
      "--------------\n",
      "query_name: isgri_lc_query\n",
      " product_name: isgri_lc\n",
      " name: time_bin,  value: 1000.0,  units: sec, \n",
      "\n",
      "--------------\n",
      "query_name: spectral_fit_query\n",
      " product_name: spectral_fit\n",
      " name: xspec_model,  value: powerlaw,  units: str, \n",
      " name: ph_file_name,  value: ,  units: str, \n",
      " name: arf_file_name,  value: ,  units: str, \n",
      " name: rmf_file_name,  value: ,  units: str, \n"
     ]
    },
    {
     "data": {
      "text/plain": [
       "[[{'instrumet': 'isgri'},\n",
       "  {'prod_dict': {'isgri_image': 'isgri_image_query',\n",
       "    'isgri_lc': 'isgri_lc_query',\n",
       "    'isgri_spectrum': 'isgri_spectrum_query',\n",
       "    'spectral_fit': 'spectral_fit_query'}},\n",
       "  '[{\"query_name\": \"src_query\"}, {\"name\": \"src_name\", \"units\": \"str\", \"value\": \"1E 1740.7-2942\"}, {\"name\": \"RA\", \"units\": \"deg\", \"value\": 265.97845833}, {\"name\": \"DEC\", \"units\": \"deg\", \"value\": -29.74516667}, {\"name\": \"T1\", \"units\": \"isot\", \"value\": \"2017-03-06T13:26:48.000\"}, {\"name\": \"T2\", \"units\": \"isot\", \"value\": \"2017-03-06T15:32:27.000\"}, {\"name\": \"token\", \"units\": \"str\", \"value\": None}]',\n",
       "  '[{\"query_name\": \"isgri_parameters\"}, {\"name\": \"user_catalog\", \"units\": None, \"value\": None}, {\"name\": \"scw_list\", \"units\": None, \"value\": []}, {\"name\": \"selected_catalog\", \"units\": None, \"value\": None}, {\"name\": \"radius\", \"units\": \"deg\", \"value\": 15.0}, {\"name\": \"max_pointings\", \"units\": None, \"value\": 50}, {\"name\": \"osa_version\", \"units\": \"str\", \"value\": \"OSA11.1\"}, {\"name\": \"integral_data_rights\", \"units\": \"str\", \"value\": \"public\"}, {\"name\": \"E1_keV\", \"units\": \"keV\", \"value\": 20.0}, {\"name\": \"E2_keV\", \"units\": \"keV\", \"value\": 40.0}]',\n",
       "  '[{\"query_name\": \"isgri_image_query\"}, {\"product_name\": \"isgri_image\"}, {\"name\": \"detection_threshold\", \"units\": \"sigma\", \"value\": 7.0}, {\"name\": \"image_scale_min\", \"units\": None, \"value\": None}, {\"name\": \"image_scale_max\", \"units\": None, \"value\": None}]',\n",
       "  '[{\"query_name\": \"isgri_spectrum_query\"}, {\"product_name\": \"isgri_spectrum\"}]',\n",
       "  '[{\"query_name\": \"isgri_lc_query\"}, {\"product_name\": \"isgri_lc\"}, {\"name\": \"time_bin\", \"units\": \"sec\", \"value\": 1000.0}]',\n",
       "  '[{\"query_name\": \"spectral_fit_query\"}, {\"product_name\": \"spectral_fit\"}, {\"name\": \"xspec_model\", \"units\": \"str\", \"value\": \"powerlaw\"}, {\"name\": \"ph_file_name\", \"units\": \"str\", \"value\": \"\"}, {\"name\": \"arf_file_name\", \"units\": \"str\", \"value\": \"\"}, {\"name\": \"rmf_file_name\", \"units\": \"str\", \"value\": \"\"}]']]"
      ]
     },
     "execution_count": 7,
     "metadata": {},
     "output_type": "execute_result"
    }
   ],
   "source": [
    "disp.get_instrument_description('isgri')"
   ]
  },
  {
   "cell_type": "markdown",
   "metadata": {},
   "source": [
    "### We generate a dummy image"
   ]
  },
  {
   "cell_type": "code",
   "execution_count": 8,
   "metadata": {},
   "outputs": [
    {
     "name": "stderr",
     "output_type": "stream",
     "text": [
      "please beware that by default, in a typical setup, oda_api will not output much. To learn how to increase the verbosity, please refer to the documentation: https://oda-api.readthedocs.io/en/latest/user_guide/ScienceWindowList.html?highlight=logging#Let's-get-some-logging . \n",
      "To disable this message you can pass `.get_product(..., silent=True)`\n",
      "- waiting for remote response (since 2022-03-02 14:23:50), please wait for http://0.0.0.0:8001/run_analysis\n",
      "something went quite wrong, and we think it's not likely to recover on its own: Unauthorized (line 89): Unfortunately, your priviledges are not sufficient to make the request for this particular product and parameter combination.\n",
      "- Your priviledge roles include []\n",
      "- You are lacking all of the following roles:\n",
      " - integral-private-qla: this role is needed to access private INTEGRAL data requested with integral_data_rights == \"all-private\"\n",
      "You can request support if you think you should be able to make this request.\n",
      "Traceback (most recent call last):\n",
      "  File \"/home/gabriele/Workspace/oda_api/oda_api/api.py\", line 149, in func_wrapper\n",
      "    return func(*args, **kwargs)\n",
      "  File \"/home/gabriele/Workspace/oda_api/oda_api/api.py\", line 615, in poll\n",
      "    self.response_json = self.request_to_json()\n",
      "  File \"/home/gabriele/Workspace/oda_api/oda_api/api.py\", line 428, in request_to_json\n",
      "    raise Unauthorized(response_json['exit_status']['message'])\n",
      "oda_api.api.Unauthorized: Unauthorized (line 89): Unfortunately, your priviledges are not sufficient to make the request for this particular product and parameter combination.\n",
      "- Your priviledge roles include []\n",
      "- You are lacking all of the following roles:\n",
      " - integral-private-qla: this role is needed to access private INTEGRAL data requested with integral_data_rights == \"all-private\"\n",
      "You can request support if you think you should be able to make this request.\n",
      "something went quite wrong, and we think it's not likely to recover on its own: Unauthorized (line 89): Unfortunately, your priviledges are not sufficient to make the request for this particular product and parameter combination.\n",
      "- Your priviledge roles include []\n",
      "- You are lacking all of the following roles:\n",
      " - integral-private-qla: this role is needed to access private INTEGRAL data requested with integral_data_rights == \"all-private\"\n",
      "You can request support if you think you should be able to make this request.\n",
      "Traceback (most recent call last):\n",
      "  File \"/home/gabriele/Workspace/oda_api/oda_api/api.py\", line 149, in func_wrapper\n",
      "    return func(*args, **kwargs)\n",
      "  File \"/home/gabriele/Workspace/oda_api/oda_api/api.py\", line 718, in request\n",
      "    self.poll()\n",
      "  File \"/home/gabriele/Workspace/oda_api/oda_api/api.py\", line 149, in func_wrapper\n",
      "    return func(*args, **kwargs)\n",
      "  File \"/home/gabriele/Workspace/oda_api/oda_api/api.py\", line 615, in poll\n",
      "    self.response_json = self.request_to_json()\n",
      "  File \"/home/gabriele/Workspace/oda_api/oda_api/api.py\", line 428, in request_to_json\n",
      "    raise Unauthorized(response_json['exit_status']['message'])\n",
      "oda_api.api.Unauthorized: Unauthorized (line 89): Unfortunately, your priviledges are not sufficient to make the request for this particular product and parameter combination.\n",
      "- Your priviledge roles include []\n",
      "- You are lacking all of the following roles:\n",
      " - integral-private-qla: this role is needed to access private INTEGRAL data requested with integral_data_rights == \"all-private\"\n",
      "You can request support if you think you should be able to make this request.\n"
     ]
    },
    {
     "ename": "Unauthorized",
     "evalue": "Unauthorized (line 89): Unfortunately, your priviledges are not sufficient to make the request for this particular product and parameter combination.\n- Your priviledge roles include []\n- You are lacking all of the following roles:\n - integral-private-qla: this role is needed to access private INTEGRAL data requested with integral_data_rights == \"all-private\"\nYou can request support if you think you should be able to make this request.",
     "output_type": "error",
     "traceback": [
      "\u001b[0;31m---------------------------------------------------------------------------\u001b[0m",
      "\u001b[0;31mUnauthorized\u001b[0m                              Traceback (most recent call last)",
      "\u001b[0;32m/tmp/ipykernel_150522/3006332966.py\u001b[0m in \u001b[0;36m<module>\u001b[0;34m\u001b[0m\n\u001b[0;32m----> 1\u001b[0;31m data_collection=disp.get_product(instrument='isgri',\n\u001b[0m\u001b[1;32m      2\u001b[0m                                  \u001b[0mproduct\u001b[0m\u001b[0;34m=\u001b[0m\u001b[0;34m'isgri_image'\u001b[0m\u001b[0;34m,\u001b[0m\u001b[0;34m\u001b[0m\u001b[0;34m\u001b[0m\u001b[0m\n\u001b[1;32m      3\u001b[0m                                  \u001b[0mT1\u001b[0m\u001b[0;34m=\u001b[0m\u001b[0;34m'2003-03-15T23:27:40.0'\u001b[0m\u001b[0;34m,\u001b[0m\u001b[0;34m\u001b[0m\u001b[0;34m\u001b[0m\u001b[0m\n\u001b[1;32m      4\u001b[0m                                  \u001b[0mT2\u001b[0m\u001b[0;34m=\u001b[0m\u001b[0;34m'2023-03-16T00:03:12.0'\u001b[0m\u001b[0;34m,\u001b[0m\u001b[0;34m\u001b[0m\u001b[0;34m\u001b[0m\u001b[0m\n\u001b[1;32m      5\u001b[0m                                  \u001b[0mintegral_data_rights\u001b[0m\u001b[0;34m=\u001b[0m\u001b[0;34m\"all-private\"\u001b[0m\u001b[0;34m,\u001b[0m\u001b[0;34m\u001b[0m\u001b[0;34m\u001b[0m\u001b[0m\n",
      "\u001b[0;32m~/Workspace/oda_api/oda_api/api.py\u001b[0m in \u001b[0;36mget_product\u001b[0;34m(self, product, instrument, verbose, product_type, silent, **kwargs)\u001b[0m\n\u001b[1;32m   1027\u001b[0m \u001b[0;34m\u001b[0m\u001b[0m\n\u001b[1;32m   1028\u001b[0m         \u001b[0;31m# >\u001b[0m\u001b[0;34m\u001b[0m\u001b[0;34m\u001b[0m\u001b[0;34m\u001b[0m\u001b[0m\n\u001b[0;32m-> 1029\u001b[0;31m         \u001b[0mself\u001b[0m\u001b[0;34m.\u001b[0m\u001b[0mrequest\u001b[0m\u001b[0;34m(\u001b[0m\u001b[0mkwargs\u001b[0m\u001b[0;34m)\u001b[0m\u001b[0;34m\u001b[0m\u001b[0;34m\u001b[0m\u001b[0m\n\u001b[0m\u001b[1;32m   1030\u001b[0m \u001b[0;34m\u001b[0m\u001b[0m\n\u001b[1;32m   1031\u001b[0m         \u001b[0;32mif\u001b[0m \u001b[0mself\u001b[0m\u001b[0;34m.\u001b[0m\u001b[0mis_failed\u001b[0m\u001b[0;34m:\u001b[0m\u001b[0;34m\u001b[0m\u001b[0;34m\u001b[0m\u001b[0m\n",
      "\u001b[0;32m~/Workspace/oda_api/oda_api/api.py\u001b[0m in \u001b[0;36mfunc_wrapper\u001b[0;34m(*args, **kwargs)\u001b[0m\n\u001b[1;32m    147\u001b[0m         \u001b[0;32mwhile\u001b[0m \u001b[0;32mTrue\u001b[0m\u001b[0;34m:\u001b[0m\u001b[0;34m\u001b[0m\u001b[0;34m\u001b[0m\u001b[0m\n\u001b[1;32m    148\u001b[0m             \u001b[0;32mtry\u001b[0m\u001b[0;34m:\u001b[0m\u001b[0;34m\u001b[0m\u001b[0;34m\u001b[0m\u001b[0m\n\u001b[0;32m--> 149\u001b[0;31m                 \u001b[0;32mreturn\u001b[0m \u001b[0mfunc\u001b[0m\u001b[0;34m(\u001b[0m\u001b[0;34m*\u001b[0m\u001b[0margs\u001b[0m\u001b[0;34m,\u001b[0m \u001b[0;34m**\u001b[0m\u001b[0mkwargs\u001b[0m\u001b[0;34m)\u001b[0m\u001b[0;34m\u001b[0m\u001b[0;34m\u001b[0m\u001b[0m\n\u001b[0m\u001b[1;32m    150\u001b[0m             \u001b[0;32mexcept\u001b[0m \u001b[0mUserError\u001b[0m \u001b[0;32mas\u001b[0m \u001b[0me\u001b[0m\u001b[0;34m:\u001b[0m\u001b[0;34m\u001b[0m\u001b[0;34m\u001b[0m\u001b[0m\n\u001b[1;32m    151\u001b[0m                 \u001b[0mlogger\u001b[0m\u001b[0;34m.\u001b[0m\u001b[0mexception\u001b[0m\u001b[0;34m(\u001b[0m\u001b[0;34m\"probably an unfortunate user input: %s\"\u001b[0m\u001b[0;34m,\u001b[0m \u001b[0me\u001b[0m\u001b[0;34m)\u001b[0m\u001b[0;34m\u001b[0m\u001b[0;34m\u001b[0m\u001b[0m\n",
      "\u001b[0;32m~/Workspace/oda_api/oda_api/api.py\u001b[0m in \u001b[0;36mrequest\u001b[0;34m(self, parameters_dict, handle, url, wait, quiet)\u001b[0m\n\u001b[1;32m    716\u001b[0m \u001b[0;34m\u001b[0m\u001b[0m\n\u001b[1;32m    717\u001b[0m         \u001b[0;32mwhile\u001b[0m \u001b[0;32mTrue\u001b[0m\u001b[0;34m:\u001b[0m\u001b[0;34m\u001b[0m\u001b[0;34m\u001b[0m\u001b[0m\n\u001b[0;32m--> 718\u001b[0;31m             \u001b[0mself\u001b[0m\u001b[0;34m.\u001b[0m\u001b[0mpoll\u001b[0m\u001b[0;34m(\u001b[0m\u001b[0;34m)\u001b[0m\u001b[0;34m\u001b[0m\u001b[0;34m\u001b[0m\u001b[0m\n\u001b[0m\u001b[1;32m    719\u001b[0m \u001b[0;34m\u001b[0m\u001b[0m\n\u001b[1;32m    720\u001b[0m             \u001b[0;32mif\u001b[0m \u001b[0;32mnot\u001b[0m \u001b[0mself\u001b[0m\u001b[0;34m.\u001b[0m\u001b[0mwait\u001b[0m\u001b[0;34m:\u001b[0m\u001b[0;34m\u001b[0m\u001b[0;34m\u001b[0m\u001b[0m\n",
      "\u001b[0;32m~/Workspace/oda_api/oda_api/api.py\u001b[0m in \u001b[0;36mfunc_wrapper\u001b[0;34m(*args, **kwargs)\u001b[0m\n\u001b[1;32m    147\u001b[0m         \u001b[0;32mwhile\u001b[0m \u001b[0;32mTrue\u001b[0m\u001b[0;34m:\u001b[0m\u001b[0;34m\u001b[0m\u001b[0;34m\u001b[0m\u001b[0m\n\u001b[1;32m    148\u001b[0m             \u001b[0;32mtry\u001b[0m\u001b[0;34m:\u001b[0m\u001b[0;34m\u001b[0m\u001b[0;34m\u001b[0m\u001b[0m\n\u001b[0;32m--> 149\u001b[0;31m                 \u001b[0;32mreturn\u001b[0m \u001b[0mfunc\u001b[0m\u001b[0;34m(\u001b[0m\u001b[0;34m*\u001b[0m\u001b[0margs\u001b[0m\u001b[0;34m,\u001b[0m \u001b[0;34m**\u001b[0m\u001b[0mkwargs\u001b[0m\u001b[0;34m)\u001b[0m\u001b[0;34m\u001b[0m\u001b[0;34m\u001b[0m\u001b[0m\n\u001b[0m\u001b[1;32m    150\u001b[0m             \u001b[0;32mexcept\u001b[0m \u001b[0mUserError\u001b[0m \u001b[0;32mas\u001b[0m \u001b[0me\u001b[0m\u001b[0;34m:\u001b[0m\u001b[0;34m\u001b[0m\u001b[0;34m\u001b[0m\u001b[0m\n\u001b[1;32m    151\u001b[0m                 \u001b[0mlogger\u001b[0m\u001b[0;34m.\u001b[0m\u001b[0mexception\u001b[0m\u001b[0;34m(\u001b[0m\u001b[0;34m\"probably an unfortunate user input: %s\"\u001b[0m\u001b[0;34m,\u001b[0m \u001b[0me\u001b[0m\u001b[0;34m)\u001b[0m\u001b[0;34m\u001b[0m\u001b[0;34m\u001b[0m\u001b[0m\n",
      "\u001b[0;32m~/Workspace/oda_api/oda_api/api.py\u001b[0m in \u001b[0;36mpoll\u001b[0;34m(self, verbose, silent)\u001b[0m\n\u001b[1;32m    613\u001b[0m \u001b[0;34m\u001b[0m\u001b[0m\n\u001b[1;32m    614\u001b[0m         \u001b[0;31m# >\u001b[0m\u001b[0;34m\u001b[0m\u001b[0;34m\u001b[0m\u001b[0;34m\u001b[0m\u001b[0m\n\u001b[0;32m--> 615\u001b[0;31m         \u001b[0mself\u001b[0m\u001b[0;34m.\u001b[0m\u001b[0mresponse_json\u001b[0m \u001b[0;34m=\u001b[0m \u001b[0mself\u001b[0m\u001b[0;34m.\u001b[0m\u001b[0mrequest_to_json\u001b[0m\u001b[0;34m(\u001b[0m\u001b[0;34m)\u001b[0m\u001b[0;34m\u001b[0m\u001b[0;34m\u001b[0m\u001b[0m\n\u001b[0m\u001b[1;32m    616\u001b[0m         \u001b[0;31m# <\u001b[0m\u001b[0;34m\u001b[0m\u001b[0;34m\u001b[0m\u001b[0;34m\u001b[0m\u001b[0m\n\u001b[1;32m    617\u001b[0m \u001b[0;34m\u001b[0m\u001b[0m\n",
      "\u001b[0;32m~/Workspace/oda_api/oda_api/api.py\u001b[0m in \u001b[0;36mrequest_to_json\u001b[0;34m(self, verbose)\u001b[0m\n\u001b[1;32m    426\u001b[0m \u001b[0;34m\u001b[0m\u001b[0m\n\u001b[1;32m    427\u001b[0m                 \u001b[0;32mtry\u001b[0m\u001b[0;34m:\u001b[0m\u001b[0;34m\u001b[0m\u001b[0;34m\u001b[0m\u001b[0m\n\u001b[0;32m--> 428\u001b[0;31m                     \u001b[0;32mraise\u001b[0m \u001b[0mUnauthorized\u001b[0m\u001b[0;34m(\u001b[0m\u001b[0mresponse_json\u001b[0m\u001b[0;34m[\u001b[0m\u001b[0;34m'exit_status'\u001b[0m\u001b[0;34m]\u001b[0m\u001b[0;34m[\u001b[0m\u001b[0;34m'message'\u001b[0m\u001b[0;34m]\u001b[0m\u001b[0;34m)\u001b[0m\u001b[0;34m\u001b[0m\u001b[0;34m\u001b[0m\u001b[0m\n\u001b[0m\u001b[1;32m    429\u001b[0m                 \u001b[0;32mexcept\u001b[0m \u001b[0mKeyError\u001b[0m\u001b[0;34m:\u001b[0m\u001b[0;34m\u001b[0m\u001b[0;34m\u001b[0m\u001b[0m\n\u001b[1;32m    430\u001b[0m                     \u001b[0;32mraise\u001b[0m \u001b[0mUnauthorized\u001b[0m\u001b[0;34m(\u001b[0m\u001b[0mresponse_json\u001b[0m\u001b[0;34m[\u001b[0m\u001b[0;34m'error'\u001b[0m\u001b[0;34m]\u001b[0m\u001b[0;34m)\u001b[0m\u001b[0;34m\u001b[0m\u001b[0;34m\u001b[0m\u001b[0m\n",
      "\u001b[0;31mUnauthorized\u001b[0m: Unauthorized (line 89): Unfortunately, your priviledges are not sufficient to make the request for this particular product and parameter combination.\n- Your priviledge roles include []\n- You are lacking all of the following roles:\n - integral-private-qla: this role is needed to access private INTEGRAL data requested with integral_data_rights == \"all-private\"\nYou can request support if you think you should be able to make this request."
     ]
    }
   ],
   "source": [
    "data_collection=disp.get_product(instrument='isgri',\n",
    "                                 product='isgri_image',\n",
    "                                 T1='2003-03-15T23:27:40.0',\n",
    "                                 T2='2023-03-16T00:03:12.0',\n",
    "                                 integral_data_rights=\"all-private\",\n",
    "                                 osa_version='OSA10.2',\n",
    "                                 RA=50,\n",
    "                                 DEC=45,\n",
    "                                 max_pointings=1,\n",
    "                                 detection_threshold=5.0,\n",
    "                                 radius=15.,\n",
    "                                 product_type='Dummy',\n",
    "                                 token=discover_token()\n",
    "                                )\n",
    "\n"
   ]
  },
  {
   "cell_type": "markdown",
   "metadata": {},
   "source": [
    "### We upload the dummy product to the gallery applying some changes to some parameters"
   ]
  },
  {
   "cell_type": "code",
   "execution_count": null,
   "metadata": {},
   "outputs": [],
   "source": [
    "image_product = oda_api.plot_tools.OdaImage(data_collection)\n",
    "img_fn = image_product.get_image_for_gallery()\n",
    "\n",
    "# generate two dummy fits files\n",
    "fits_file_fn_1 = image_product.write_fits(file_prefix='first')\n",
    "fits_file_fn_2 = image_product.write_fits(file_prefix='second')\n",
    "\n",
    "    \n",
    "token = discover_token()\n",
    "\n",
    "\n",
    "\n",
    "d = disp.post_data_product_to_gallery(token=token,\n",
    "                                      RA=55, DEC=46, e1_kev=20, e2_kev=40,\n",
    "                                      product_title=\"very nice title\",\n",
    "                                      gallery_image_path=img_fn,\n",
    "                                      fits_file_path=[fits_file_fn_1, fits_file_fn_2]\n",
    "                                     )"
   ]
  },
  {
   "cell_type": "code",
   "execution_count": 9,
   "metadata": {},
   "outputs": [],
   "source": [
    "?disp.post_data_product_to_gallery"
   ]
  }
 ],
 "metadata": {
  "kernel_info": {
   "name": "python2"
  },
  "kernelspec": {
   "display_name": "Python 3",
   "language": "python",
   "name": "python3"
  },
  "language_info": {
   "codemirror_mode": {
    "name": "ipython",
    "version": 3
   },
   "file_extension": ".py",
   "mimetype": "text/x-python",
   "name": "python",
   "nbconvert_exporter": "python",
   "pygments_lexer": "ipython3",
   "version": "3.8.10"
  },
  "nteract": {
   "version": "0.15.0"
  }
 },
 "nbformat": 4,
 "nbformat_minor": 2
}
